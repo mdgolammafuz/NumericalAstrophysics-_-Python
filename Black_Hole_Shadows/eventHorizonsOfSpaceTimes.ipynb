{
 "cells": [
  {
   "cell_type": "code",
   "execution_count": 1,
   "id": "2f9f6c33",
   "metadata": {},
   "outputs": [],
   "source": [
    "import sympy as sym\n",
    "from sympy import I, pi, oo \n",
    "\n",
    "import numpy as np"
   ]
  },
  {
   "cell_type": "code",
   "execution_count": 2,
   "id": "394c3391",
   "metadata": {},
   "outputs": [
    {
     "name": "stdout",
     "output_type": "stream",
     "text": [
      "Type of time :  <class 'sympy.core.symbol.Symbol'>\n",
      "Type of space :  <class 'sympy.core.symbol.Symbol'>\n"
     ]
    }
   ],
   "source": [
    "import sympy as sym\n",
    "from sympy import I, pi, oo \n",
    "\n",
    "time, space = sym.symbols(\"time,space\", real=True, positive=True)\n",
    "\n",
    "print(\"Type of time : \", type(time))\n",
    "print(\"Type of space : \", type(space))\n"
   ]
  }
 ],
 "metadata": {
  "kernelspec": {
   "display_name": "Python 3",
   "language": "python",
   "name": "python3"
  },
  "language_info": {
   "codemirror_mode": {
    "name": "ipython",
    "version": 3
   },
   "file_extension": ".py",
   "mimetype": "text/x-python",
   "name": "python",
   "nbconvert_exporter": "python",
   "pygments_lexer": "ipython3",
   "version": "3.10.7"
  },
  "vscode": {
   "interpreter": {
    "hash": "ba8088891657b5efda0065fd47e9ddf95b93561eda1c2203a8e0bf6b7a7f7133"
   }
  }
 },
 "nbformat": 4,
 "nbformat_minor": 5
}
