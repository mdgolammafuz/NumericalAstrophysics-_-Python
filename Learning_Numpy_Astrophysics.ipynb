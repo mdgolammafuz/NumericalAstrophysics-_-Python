{
 "cells": [
  {
   "cell_type": "code",
   "execution_count": 1,
   "id": "036b2a9a",
   "metadata": {},
   "outputs": [
    {
     "data": {
      "text/plain": [
       "4"
      ]
     },
     "execution_count": 1,
     "metadata": {},
     "output_type": "execute_result"
    }
   ],
   "source": [
    "2*2"
   ]
  },
  {
   "cell_type": "code",
   "execution_count": 5,
   "id": "fd529503",
   "metadata": {},
   "outputs": [
    {
     "data": {
      "text/plain": [
       "'In[1]'"
      ]
     },
     "execution_count": 5,
     "metadata": {},
     "output_type": "execute_result"
    }
   ],
   "source": [
    "In[1]"
   ]
  },
  {
   "cell_type": "code",
   "execution_count": 6,
   "id": "dafcba80",
   "metadata": {},
   "outputs": [
    {
     "data": {
      "text/plain": [
       "'In[1]'"
      ]
     },
     "execution_count": 6,
     "metadata": {},
     "output_type": "execute_result"
    }
   ],
   "source": [
    "Out[1]"
   ]
  },
  {
   "cell_type": "code",
   "execution_count": 7,
   "id": "073305b8",
   "metadata": {},
   "outputs": [
    {
     "data": {
      "text/plain": [
       "['', 'In[1]', 'Out[1]', 'In', 'Out', 'In[1]', 'Out[1]', 'In']"
      ]
     },
     "execution_count": 7,
     "metadata": {},
     "output_type": "execute_result"
    }
   ],
   "source": [
    "In"
   ]
  },
  {
   "cell_type": "code",
   "execution_count": 8,
   "id": "e84b1224",
   "metadata": {},
   "outputs": [
    {
     "data": {
      "text/plain": [
       "{1: 'In[1]',\n",
       " 2: 'In[1]',\n",
       " 3: ['', 'In[1]', 'Out[1]', 'In', 'Out', 'In[1]', 'Out[1]', 'In', 'Out'],\n",
       " 5: 'In[1]',\n",
       " 6: 'In[1]',\n",
       " 7: ['', 'In[1]', 'Out[1]', 'In', 'Out', 'In[1]', 'Out[1]', 'In', 'Out']}"
      ]
     },
     "execution_count": 8,
     "metadata": {},
     "output_type": "execute_result"
    }
   ],
   "source": [
    "Out"
   ]
  },
  {
   "cell_type": "code",
   "execution_count": 7,
   "id": "7f547ce4",
   "metadata": {},
   "outputs": [
    {
     "data": {
      "text/plain": [
       "3"
      ]
     },
     "execution_count": 7,
     "metadata": {},
     "output_type": "execute_result"
    }
   ],
   "source": [
    "1 + 2"
   ]
  },
  {
   "cell_type": "code",
   "execution_count": 8,
   "id": "68ef7d10",
   "metadata": {},
   "outputs": [],
   "source": [
    "x = 1 ; # Output blocked by ;"
   ]
  },
  {
   "cell_type": "code",
   "execution_count": 9,
   "id": "158bd75f",
   "metadata": {},
   "outputs": [
    {
     "data": {
      "text/plain": [
       "2"
      ]
     },
     "execution_count": 9,
     "metadata": {},
     "output_type": "execute_result"
    }
   ],
   "source": [
    "2"
   ]
  },
  {
   "cell_type": "code",
   "execution_count": 10,
   "id": "e81d6e65",
   "metadata": {},
   "outputs": [],
   "source": [
    "# import os : Autocompletion and Object Introspection"
   ]
  },
  {
   "cell_type": "code",
   "execution_count": 9,
   "id": "110a6086",
   "metadata": {},
   "outputs": [
    {
     "name": "stdout",
     "output_type": "stream",
     "text": [
      "\u001b[1;31mSignature:\u001b[0m \u001b[0mmath\u001b[0m\u001b[1;33m.\u001b[0m\u001b[0mcos\u001b[0m\u001b[1;33m(\u001b[0m\u001b[0mx\u001b[0m\u001b[1;33m,\u001b[0m \u001b[1;33m/\u001b[0m\u001b[1;33m)\u001b[0m\u001b[1;33m\u001b[0m\u001b[1;33m\u001b[0m\u001b[0m\n",
      "\u001b[1;31mDocstring:\u001b[0m Return the cosine of x (measured in radians).\n",
      "\u001b[1;31mType:\u001b[0m      builtin_function_or_method\n"
     ]
    }
   ],
   "source": [
    "import math \n",
    "math.cos?"
   ]
  },
  {
   "cell_type": "code",
   "execution_count": 16,
   "id": "0ea9851e",
   "metadata": {},
   "outputs": [],
   "source": [
    "# File navigation \n",
    "# !dir (Windows)\n",
    "# !ls (Unix)"
   ]
  },
  {
   "cell_type": "code",
   "execution_count": 24,
   "id": "07234331",
   "metadata": {},
   "outputs": [
    {
     "name": "stdout",
     "output_type": "stream",
     "text": [
      "[1, 1, 2, 3, 5, 8, 13, 21, 34, 55]\n"
     ]
    }
   ],
   "source": [
    "def fib(n):\n",
    "    \n",
    "     \"\"\"\n",
    "     Return a list of the first n Fibonacci numbers.\n",
    "     \"\"\"\n",
    "        \n",
    "     f0, f1 = 0, 1\n",
    "     f = [1] * n\n",
    "        \n",
    "     for i in range(1, n):\n",
    "         f[i] = f0 + f1\n",
    "         f0, f1 = f1, f[i]\n",
    "        \n",
    "     return f\n",
    "\n",
    "print(fib(10))"
   ]
  },
  {
   "cell_type": "code",
   "execution_count": 8,
   "id": "997e3e39",
   "metadata": {},
   "outputs": [],
   "source": [
    "# Debugger\n",
    "\n",
    "# fib(1.0)"
   ]
  },
  {
   "cell_type": "code",
   "execution_count": null,
   "id": "c878569b",
   "metadata": {},
   "outputs": [
    {
     "name": "stdout",
     "output_type": "stream",
     "text": [
      "> \u001b[1;32m<magic-timeit>\u001b[0m(1)\u001b[0;36minner\u001b[1;34m()\u001b[0m\n",
      "\n"
     ]
    }
   ],
   "source": [
    "%debug"
   ]
  },
  {
   "cell_type": "code",
   "execution_count": null,
   "id": "b1fddd77",
   "metadata": {},
   "outputs": [],
   "source": [
    "# %reset\n",
    "\n",
    "\"\"\"\n",
    "The %reset command provides this \n",
    "functionality (use the flag –f to force the reset). Using this command can often eliminate the need for \n",
    "otherwise common exit–restart cycles of the console. Although it is necessary to reimport modules after \n",
    "the %reset command has been used, it is important to known that even if the modules have changed since \n",
    "the last import, a new import after a %reset will not import the new module but rather reenable a cached \n",
    "version of the module from the previous import. When developing Python modules, this is usually not the \n",
    "desired behavior. In that case, a reimport of a previously imported (and since updated) module, can often be \n",
    "achieved by using the dreload function.\n",
    "\n",
    "\"\"\""
   ]
  },
  {
   "cell_type": "code",
   "execution_count": 3,
   "id": "974c9c76",
   "metadata": {},
   "outputs": [],
   "source": [
    "# %timeit fib(100)"
   ]
  },
  {
   "cell_type": "code",
   "execution_count": 4,
   "id": "018cc458",
   "metadata": {},
   "outputs": [],
   "source": [
    "#  %time result = fib(100)"
   ]
  },
  {
   "cell_type": "code",
   "execution_count": 6,
   "id": "591faed6",
   "metadata": {},
   "outputs": [],
   "source": [
    "import numpy as np\n",
    "def random_walker_max_distance(M, N):\n",
    "    \"\"\"\n",
    "     Simulate N random walkers taking M steps, and return the largest distance\n",
    "     from the starting point achieved by any of the random walkers.\n",
    "     \"\"\"\n",
    "    trajectories = [np.random.randn(M).cumsum() for _ in range(N)]\n",
    "    return np.max(np.abs(trajectories))"
   ]
  },
  {
   "cell_type": "code",
   "execution_count": 7,
   "id": "2fb8801b",
   "metadata": {},
   "outputs": [
    {
     "name": "stdout",
     "output_type": "stream",
     "text": [
      " "
     ]
    }
   ],
   "source": [
    " %prun random_walker_max_distance(400, 10000)"
   ]
  },
  {
   "cell_type": "markdown",
   "id": "40259068",
   "metadata": {},
   "source": [
    "# 1. The Numpy Array Object"
   ]
  },
  {
   "cell_type": "code",
   "execution_count": 13,
   "id": "4d5c2c87",
   "metadata": {},
   "outputs": [
    {
     "data": {
      "text/plain": [
       "numpy.ndarray"
      ]
     },
     "execution_count": 13,
     "metadata": {},
     "output_type": "execute_result"
    }
   ],
   "source": [
    "# The numpy array object\n",
    "\n",
    "import numpy as np\n",
    "data = np.array([[1, 2], [3, 4], [5, 6]])\n",
    "type(data)"
   ]
  },
  {
   "cell_type": "code",
   "execution_count": 3,
   "id": "4d5bf244",
   "metadata": {},
   "outputs": [
    {
     "data": {
      "text/plain": [
       "'\\nshape A tuple that contains the number of elements (i.e., the length) for each dimension (axis) \\nof the array.\\nsize The total number of elements in the array.\\nndim Number of dimensions (axes).\\nnbytes Number of bytes used to store the data.\\ndtype The data type of the elements in the array\\n'"
      ]
     },
     "execution_count": 3,
     "metadata": {},
     "output_type": "execute_result"
    }
   ],
   "source": [
    "\"\"\"\n",
    "shape A tuple that contains the number of elements (i.e., the length) for each dimension (axis) \n",
    "of the array.\n",
    "size The total number of elements in the array.\n",
    "ndim Number of dimensions (axes).\n",
    "nbytes Number of bytes used to store the data.\n",
    "dtype The data type of the elements in the array\n",
    "\"\"\""
   ]
  },
  {
   "cell_type": "code",
   "execution_count": 4,
   "id": "6889a983",
   "metadata": {},
   "outputs": [
    {
     "data": {
      "text/plain": [
       "array([[1, 2],\n",
       "       [3, 4],\n",
       "       [5, 6]])"
      ]
     },
     "execution_count": 4,
     "metadata": {},
     "output_type": "execute_result"
    }
   ],
   "source": [
    "data"
   ]
  },
  {
   "cell_type": "code",
   "execution_count": 6,
   "id": "2fd526f3",
   "metadata": {},
   "outputs": [
    {
     "data": {
      "text/plain": [
       "2"
      ]
     },
     "execution_count": 6,
     "metadata": {},
     "output_type": "execute_result"
    }
   ],
   "source": [
    "data.ndim"
   ]
  },
  {
   "cell_type": "code",
   "execution_count": 7,
   "id": "829d6308",
   "metadata": {},
   "outputs": [
    {
     "data": {
      "text/plain": [
       "(3, 2)"
      ]
     },
     "execution_count": 7,
     "metadata": {},
     "output_type": "execute_result"
    }
   ],
   "source": [
    "data.shape"
   ]
  },
  {
   "cell_type": "code",
   "execution_count": 9,
   "id": "bcd019b7",
   "metadata": {},
   "outputs": [
    {
     "data": {
      "text/plain": [
       "6"
      ]
     },
     "execution_count": 9,
     "metadata": {},
     "output_type": "execute_result"
    }
   ],
   "source": [
    "data.size"
   ]
  },
  {
   "cell_type": "code",
   "execution_count": 10,
   "id": "fc904cee",
   "metadata": {},
   "outputs": [
    {
     "data": {
      "text/plain": [
       "6"
      ]
     },
     "execution_count": 10,
     "metadata": {},
     "output_type": "execute_result"
    }
   ],
   "source": [
    "data.size"
   ]
  },
  {
   "cell_type": "code",
   "execution_count": 11,
   "id": "1ba1c28b",
   "metadata": {},
   "outputs": [
    {
     "data": {
      "text/plain": [
       "24"
      ]
     },
     "execution_count": 11,
     "metadata": {},
     "output_type": "execute_result"
    }
   ],
   "source": [
    "data.nbytes"
   ]
  },
  {
   "cell_type": "code",
   "execution_count": 12,
   "id": "ebe24039",
   "metadata": {},
   "outputs": [
    {
     "data": {
      "text/plain": [
       "'\\nint int8, int16, int32, int64 Integers.\\nuint uint8, uint16, uint32, uint64 Unsigned (non-negative) integers.\\nbool bool Boolean (True or False).\\nfloat float16, float32, float64, float128 Floating-point numbers.\\ncomplex complex64, complex128, complex256 Complex-valued floating-point numbers.\\n'"
      ]
     },
     "execution_count": 12,
     "metadata": {},
     "output_type": "execute_result"
    }
   ],
   "source": [
    "\"\"\"\n",
    "int int8, int16, int32, int64 Integers.\n",
    "uint uint8, uint16, uint32, uint64 Unsigned (non-negative) integers.\n",
    "bool bool Boolean (True or False).\n",
    "float float16, float32, float64, float128 Floating-point numbers.\n",
    "complex complex64, complex128, complex256 Complex-valued floating-point numbers.\n",
    "\"\"\""
   ]
  },
  {
   "cell_type": "code",
   "execution_count": 14,
   "id": "704a8a0a",
   "metadata": {},
   "outputs": [],
   "source": [
    "# Data Types"
   ]
  },
  {
   "cell_type": "code",
   "execution_count": 18,
   "id": "e891cccb",
   "metadata": {},
   "outputs": [
    {
     "data": {
      "text/plain": [
       "array([1., 2., 3.])"
      ]
     },
     "execution_count": 18,
     "metadata": {},
     "output_type": "execute_result"
    }
   ],
   "source": [
    "data = np.array([1, 2, 3], dtype=float)\n",
    "data"
   ]
  },
  {
   "cell_type": "code",
   "execution_count": 19,
   "id": "8ab237ae",
   "metadata": {},
   "outputs": [
    {
     "data": {
      "text/plain": [
       "dtype('float64')"
      ]
     },
     "execution_count": 19,
     "metadata": {},
     "output_type": "execute_result"
    }
   ],
   "source": [
    "data.dtype"
   ]
  },
  {
   "cell_type": "code",
   "execution_count": 20,
   "id": "b3eeb950",
   "metadata": {},
   "outputs": [],
   "source": [
    "# Complex Numbers"
   ]
  },
  {
   "cell_type": "code",
   "execution_count": 26,
   "id": "c7c392a8",
   "metadata": {},
   "outputs": [
    {
     "data": {
      "text/plain": [
       "array([2.+0.j, 4.+0.j, 6.+0.j])"
      ]
     },
     "execution_count": 26,
     "metadata": {},
     "output_type": "execute_result"
    }
   ],
   "source": [
    "d1 = np.array([1, 2, 3], dtype=float)\n",
    "d2 = np.array([1, 2, 3], dtype=complex)\n",
    "d1 + d2"
   ]
  },
  {
   "cell_type": "code",
   "execution_count": 27,
   "id": "e27583bf",
   "metadata": {},
   "outputs": [
    {
     "data": {
      "text/plain": [
       "dtype('complex128')"
      ]
     },
     "execution_count": 27,
     "metadata": {},
     "output_type": "execute_result"
    }
   ],
   "source": [
    "(d1 + d2).dtype"
   ]
  },
  {
   "cell_type": "code",
   "execution_count": 32,
   "id": "c2c41ae2",
   "metadata": {},
   "outputs": [
    {
     "name": "stdout",
     "output_type": "stream",
     "text": [
      "Data :  [1.+0.j 2.+0.j 3.+0.j]\n",
      "Real Part :  [1. 2. 3.]\n",
      "Imaginary Part :  [0. 0. 0.]\n"
     ]
    }
   ],
   "source": [
    "data = np.array([1, 2, 3], dtype=complex)\n",
    "print(\"Data : \",data)\n",
    "print(\"Real Part : \",data.real)\n",
    "print(\"Imaginary Part : \",data.imag)"
   ]
  },
  {
   "cell_type": "markdown",
   "id": "8a892612",
   "metadata": {},
   "source": [
    "# Creating Arrays"
   ]
  },
  {
   "cell_type": "code",
   "execution_count": 34,
   "id": "366498a9",
   "metadata": {},
   "outputs": [
    {
     "data": {
      "text/plain": [
       "1"
      ]
     },
     "execution_count": 34,
     "metadata": {},
     "output_type": "execute_result"
    }
   ],
   "source": [
    "np.array([1, 2, 3, 4])\n",
    "data.ndim"
   ]
  },
  {
   "cell_type": "code",
   "execution_count": 39,
   "id": "a2ec6166",
   "metadata": {},
   "outputs": [],
   "source": [
    "new_array = np.array([[1, 2], [3, 4]])"
   ]
  },
  {
   "cell_type": "code",
   "execution_count": 40,
   "id": "a7bf1b48",
   "metadata": {},
   "outputs": [
    {
     "data": {
      "text/plain": [
       "2"
      ]
     },
     "execution_count": 40,
     "metadata": {},
     "output_type": "execute_result"
    }
   ],
   "source": [
    "new_array.ndim"
   ]
  },
  {
   "cell_type": "code",
   "execution_count": 41,
   "id": "6eb3f65e",
   "metadata": {},
   "outputs": [
    {
     "data": {
      "text/plain": [
       "(2, 2)"
      ]
     },
     "execution_count": 41,
     "metadata": {},
     "output_type": "execute_result"
    }
   ],
   "source": [
    "new_array.shape"
   ]
  },
  {
   "cell_type": "code",
   "execution_count": 42,
   "id": "cc4d0ed7",
   "metadata": {},
   "outputs": [
    {
     "data": {
      "text/plain": [
       "array([0., 1., 2., 3., 4., 5., 6., 7., 8., 9.])"
      ]
     },
     "execution_count": 42,
     "metadata": {},
     "output_type": "execute_result"
    }
   ],
   "source": [
    "np.arange(0.0, 10, 1)"
   ]
  },
  {
   "cell_type": "code",
   "execution_count": 43,
   "id": "5f600a82",
   "metadata": {},
   "outputs": [
    {
     "data": {
      "text/plain": [
       "array([ 0.,  1.,  2.,  3.,  4.,  5.,  6.,  7.,  8.,  9., 10.])"
      ]
     },
     "execution_count": 43,
     "metadata": {},
     "output_type": "execute_result"
    }
   ],
   "source": [
    "np.linspace(0, 10, 11)"
   ]
  },
  {
   "cell_type": "code",
   "execution_count": 44,
   "id": "97911b2a",
   "metadata": {},
   "outputs": [
    {
     "data": {
      "text/plain": [
       "array([  1.        ,   3.16227766,  10.        ,  31.6227766 ,\n",
       "       100.        ])"
      ]
     },
     "execution_count": 44,
     "metadata": {},
     "output_type": "execute_result"
    }
   ],
   "source": [
    "np.logspace(0, 2, 5) "
   ]
  },
  {
   "cell_type": "code",
   "execution_count": 47,
   "id": "5a4b1897",
   "metadata": {},
   "outputs": [],
   "source": [
    "# Meshgrid Arrays\n",
    "x = np.array([-1, 0, 1])\n",
    "y = np.array([-2, 0, 2])\n",
    "X,Y = np.meshgrid(x, y)"
   ]
  },
  {
   "cell_type": "code",
   "execution_count": 48,
   "id": "040ee5db",
   "metadata": {},
   "outputs": [
    {
     "data": {
      "text/plain": [
       "array([[-1,  0,  1],\n",
       "       [-1,  0,  1],\n",
       "       [-1,  0,  1]])"
      ]
     },
     "execution_count": 48,
     "metadata": {},
     "output_type": "execute_result"
    }
   ],
   "source": [
    "X"
   ]
  },
  {
   "cell_type": "code",
   "execution_count": 49,
   "id": "3dd38feb",
   "metadata": {},
   "outputs": [
    {
     "data": {
      "text/plain": [
       "array([[-2, -2, -2],\n",
       "       [ 0,  0,  0],\n",
       "       [ 2,  2,  2]])"
      ]
     },
     "execution_count": 49,
     "metadata": {},
     "output_type": "execute_result"
    }
   ],
   "source": [
    "Y"
   ]
  },
  {
   "cell_type": "code",
   "execution_count": 50,
   "id": "33034a19",
   "metadata": {},
   "outputs": [
    {
     "data": {
      "text/plain": [
       "array([[9, 4, 1],\n",
       "       [1, 0, 1],\n",
       "       [1, 4, 9]], dtype=int32)"
      ]
     },
     "execution_count": 50,
     "metadata": {},
     "output_type": "execute_result"
    }
   ],
   "source": [
    "Z = (X + Y) ** 2\n",
    "Z"
   ]
  },
  {
   "cell_type": "code",
   "execution_count": 51,
   "id": "6a62f6e1",
   "metadata": {},
   "outputs": [
    {
     "name": "stderr",
     "output_type": "stream",
     "text": [
      "C:\\Users\\golam\\AppData\\Local\\Temp\\ipykernel_55996\\3813404062.py:2: DeprecationWarning: `np.float` is a deprecated alias for the builtin `float`. To silence this warning, use `float` by itself. Doing this will not modify any behavior and is safe. If you specifically wanted the numpy scalar type, use `np.float64` here.\n",
      "Deprecated in NumPy 1.20; for more details and guidance: https://numpy.org/devdocs/release/1.20.0-notes.html#deprecations\n",
      "  np.empty(3, dtype=np.float)\n"
     ]
    },
    {
     "data": {
      "text/plain": [
       "array([0., 0., 0.])"
      ]
     },
     "execution_count": 51,
     "metadata": {},
     "output_type": "execute_result"
    }
   ],
   "source": [
    "# Creating Uninitialized Arrays\n",
    "np.empty(3, dtype=np.float)"
   ]
  },
  {
   "cell_type": "code",
   "execution_count": 53,
   "id": "59c033e6",
   "metadata": {},
   "outputs": [
    {
     "data": {
      "text/plain": [
       "'\\nAt the first line of the body of this function, a new array y is created using np.ones_like, which results \\nin an array of the same size and data type as x, and filled with ones.\\n\\n'"
      ]
     },
     "execution_count": 53,
     "metadata": {},
     "output_type": "execute_result"
    }
   ],
   "source": [
    "# Creating Arrays with Properties of Other Arrays\n",
    "\n",
    "def f(x):\n",
    "    \n",
    "     y = np.ones_like(x)\n",
    "     # compute with x and y\n",
    "    \n",
    "     return y\n",
    "    \n",
    "\"\"\"\n",
    "At the first line of the body of this function, a new array y is created using np.ones_like, which results \n",
    "in an array of the same size and data type as x, and filled with ones.\n",
    "\n",
    "\"\"\"\n"
   ]
  },
  {
   "cell_type": "code",
   "execution_count": 54,
   "id": "b7cd960a",
   "metadata": {},
   "outputs": [
    {
     "data": {
      "text/plain": [
       "array([[1., 0., 0., 0.],\n",
       "       [0., 1., 0., 0.],\n",
       "       [0., 0., 1., 0.],\n",
       "       [0., 0., 0., 1.]])"
      ]
     },
     "execution_count": 54,
     "metadata": {},
     "output_type": "execute_result"
    }
   ],
   "source": [
    "np.identity(4)"
   ]
  },
  {
   "cell_type": "code",
   "execution_count": 55,
   "id": "a37f2d0e",
   "metadata": {},
   "outputs": [
    {
     "data": {
      "text/plain": [
       "array([[0., 1., 0.],\n",
       "       [0., 0., 1.],\n",
       "       [0., 0., 0.]])"
      ]
     },
     "execution_count": 55,
     "metadata": {},
     "output_type": "execute_result"
    }
   ],
   "source": [
    " np.eye(3, k=1)\n"
   ]
  },
  {
   "cell_type": "code",
   "execution_count": 56,
   "id": "fd5168f9",
   "metadata": {},
   "outputs": [
    {
     "data": {
      "text/plain": [
       "array([[0., 0., 0.],\n",
       "       [1., 0., 0.],\n",
       "       [0., 1., 0.]])"
      ]
     },
     "execution_count": 56,
     "metadata": {},
     "output_type": "execute_result"
    }
   ],
   "source": [
    " np.eye(3, k=-1)"
   ]
  },
  {
   "cell_type": "code",
   "execution_count": 145,
   "id": "d8069550",
   "metadata": {},
   "outputs": [
    {
     "data": {
      "text/plain": [
       "array([[ 0,  0,  0,  0],\n",
       "       [ 0,  5,  0,  0],\n",
       "       [ 0,  0, 10,  0],\n",
       "       [ 0,  0,  0, 15]])"
      ]
     },
     "execution_count": 145,
     "metadata": {},
     "output_type": "execute_result"
    }
   ],
   "source": [
    " np.diag(np.arange(0, 20, 5))"
   ]
  },
  {
   "cell_type": "markdown",
   "id": "f24f86fb",
   "metadata": {},
   "source": [
    "# 3. Indexing and Slicing"
   ]
  },
  {
   "cell_type": "code",
   "execution_count": 58,
   "id": "883f62e9",
   "metadata": {},
   "outputs": [
    {
     "data": {
      "text/plain": [
       "'\\na[m] Select element at index m, where m is an integer (start counting form 0).\\na[-m] Select the mth element from the end of the list, where m is an integer. The last \\nelement in the list is addressed as -1, the second-to-last element as -2, and so on.\\na[m:n] Select elements with index starting at m and ending at n −1 (m and n are integers).\\na[:] or a[0:-1] Select all elements in the given axis.\\na[:n] Select elements starting with index 0 and going up to index n −1 (integer).\\na[m:] or a[m:-1] Select elements starting with index m (integer) and going up to the last element in \\nthe array.\\na[m:n:p] Select elements with index m through n (exclusive), with increment p.\\na[::-1] Select all the elements, in reverse order\\n\\n'"
      ]
     },
     "execution_count": 58,
     "metadata": {},
     "output_type": "execute_result"
    }
   ],
   "source": [
    "\"\"\"\n",
    "a[m] Select element at index m, where m is an integer (start counting form 0).\n",
    "a[-m] Select the mth element from the end of the list, where m is an integer. The last \n",
    "element in the list is addressed as -1, the second-to-last element as -2, and so on.\n",
    "a[m:n] Select elements with index starting at m and ending at n −1 (m and n are integers).\n",
    "a[:] or a[0:-1] Select all elements in the given axis.\n",
    "a[:n] Select elements starting with index 0 and going up to index n −1 (integer).\n",
    "a[m:] or a[m:-1] Select elements starting with index m (integer) and going up to the last element in \n",
    "the array.\n",
    "a[m:n:p] Select elements with index m through n (exclusive), with increment p.\n",
    "a[::-1] Select all the elements, in reverse order\n",
    "\n",
    "\"\"\""
   ]
  },
  {
   "cell_type": "code",
   "execution_count": 60,
   "id": "d7b5352d",
   "metadata": {},
   "outputs": [
    {
     "data": {
      "text/plain": [
       "array([0, 1, 2, 3, 4, 5, 6, 7, 8, 9])"
      ]
     },
     "execution_count": 60,
     "metadata": {},
     "output_type": "execute_result"
    }
   ],
   "source": [
    "A = np.arange(10)\n",
    "A"
   ]
  },
  {
   "cell_type": "code",
   "execution_count": 62,
   "id": "7c100404",
   "metadata": {},
   "outputs": [
    {
     "data": {
      "text/plain": [
       "array([6, 7, 8, 9])"
      ]
     },
     "execution_count": 62,
     "metadata": {},
     "output_type": "execute_result"
    }
   ],
   "source": [
    "B = A[A > 5]\n",
    "B"
   ]
  },
  {
   "cell_type": "code",
   "execution_count": 63,
   "id": "e7443899",
   "metadata": {},
   "outputs": [
    {
     "data": {
      "text/plain": [
       "array([0, 1, 2, 3, 4, 5, 6, 7, 8, 9])"
      ]
     },
     "execution_count": 63,
     "metadata": {},
     "output_type": "execute_result"
    }
   ],
   "source": [
    "B[0] = -1 # this does not affect A\n",
    "A"
   ]
  },
  {
   "cell_type": "code",
   "execution_count": 64,
   "id": "79dc53a6",
   "metadata": {},
   "outputs": [
    {
     "data": {
      "text/plain": [
       "array([-1,  7,  8,  9])"
      ]
     },
     "execution_count": 64,
     "metadata": {},
     "output_type": "execute_result"
    }
   ],
   "source": [
    "B"
   ]
  },
  {
   "cell_type": "code",
   "execution_count": 66,
   "id": "a0d179aa",
   "metadata": {},
   "outputs": [
    {
     "data": {
      "text/plain": [
       "array([ 0,  1,  2,  3,  4,  5, -1, -1, -1, -1])"
      ]
     },
     "execution_count": 66,
     "metadata": {},
     "output_type": "execute_result"
    }
   ],
   "source": [
    "A[A > 5] = -1\n",
    "A"
   ]
  },
  {
   "cell_type": "code",
   "execution_count": 67,
   "id": "44b45119",
   "metadata": {},
   "outputs": [],
   "source": [
    "# Reshaping and Resizing"
   ]
  },
  {
   "cell_type": "code",
   "execution_count": 68,
   "id": "fd0f92c4",
   "metadata": {},
   "outputs": [],
   "source": [
    "data = np.array([[1, 2], [3, 4]])"
   ]
  },
  {
   "cell_type": "code",
   "execution_count": 69,
   "id": "3ff7f3af",
   "metadata": {},
   "outputs": [
    {
     "data": {
      "text/plain": [
       "array([[1, 2, 3, 4]])"
      ]
     },
     "execution_count": 69,
     "metadata": {},
     "output_type": "execute_result"
    }
   ],
   "source": [
    "np.reshape(data, (1, 4))"
   ]
  },
  {
   "cell_type": "code",
   "execution_count": 71,
   "id": "f5d8e062",
   "metadata": {},
   "outputs": [
    {
     "data": {
      "text/plain": [
       "array([1, 2, 3, 4])"
      ]
     },
     "execution_count": 71,
     "metadata": {},
     "output_type": "execute_result"
    }
   ],
   "source": [
    "data.reshape(4)"
   ]
  },
  {
   "cell_type": "code",
   "execution_count": 72,
   "id": "2611a461",
   "metadata": {},
   "outputs": [],
   "source": [
    "# Multidimensional Arrays"
   ]
  },
  {
   "cell_type": "code",
   "execution_count": 74,
   "id": "1cff0c73",
   "metadata": {},
   "outputs": [
    {
     "data": {
      "text/plain": [
       "array([[ 0,  1,  2,  3,  4,  5],\n",
       "       [10, 11, 12, 13, 14, 15],\n",
       "       [20, 21, 22, 23, 24, 25],\n",
       "       [30, 31, 32, 33, 34, 35],\n",
       "       [40, 41, 42, 43, 44, 45],\n",
       "       [50, 51, 52, 53, 54, 55]])"
      ]
     },
     "execution_count": 74,
     "metadata": {},
     "output_type": "execute_result"
    }
   ],
   "source": [
    "f = lambda m, n: n + 10 * m\n",
    "A = np.fromfunction(f, (6, 6), dtype=int)\n",
    "A"
   ]
  },
  {
   "cell_type": "code",
   "execution_count": 75,
   "id": "a0b043ab",
   "metadata": {},
   "outputs": [
    {
     "data": {
      "text/plain": [
       "(6, 6)"
      ]
     },
     "execution_count": 75,
     "metadata": {},
     "output_type": "execute_result"
    }
   ],
   "source": [
    "A.shape"
   ]
  },
  {
   "cell_type": "code",
   "execution_count": 76,
   "id": "2e8d7df8",
   "metadata": {},
   "outputs": [
    {
     "data": {
      "text/plain": [
       "2"
      ]
     },
     "execution_count": 76,
     "metadata": {},
     "output_type": "execute_result"
    }
   ],
   "source": [
    "A.ndim"
   ]
  },
  {
   "cell_type": "code",
   "execution_count": 77,
   "id": "8127c78b",
   "metadata": {},
   "outputs": [
    {
     "data": {
      "text/plain": [
       "36"
      ]
     },
     "execution_count": 77,
     "metadata": {},
     "output_type": "execute_result"
    }
   ],
   "source": [
    "A.size"
   ]
  },
  {
   "cell_type": "code",
   "execution_count": 78,
   "id": "718ada71",
   "metadata": {},
   "outputs": [
    {
     "data": {
      "text/plain": [
       "array([ 1, 11, 21, 31, 41, 51])"
      ]
     },
     "execution_count": 78,
     "metadata": {},
     "output_type": "execute_result"
    }
   ],
   "source": [
    " A[:, 1] # the second column"
   ]
  },
  {
   "cell_type": "code",
   "execution_count": 79,
   "id": "12f0bc3b",
   "metadata": {},
   "outputs": [
    {
     "data": {
      "text/plain": [
       "array([10, 11, 12, 13, 14, 15])"
      ]
     },
     "execution_count": 79,
     "metadata": {},
     "output_type": "execute_result"
    }
   ],
   "source": [
    " A[1, :] # the second row"
   ]
  },
  {
   "cell_type": "code",
   "execution_count": 80,
   "id": "1551c0aa",
   "metadata": {},
   "outputs": [
    {
     "data": {
      "text/plain": [
       "array([[ 0,  1,  2],\n",
       "       [10, 11, 12],\n",
       "       [20, 21, 22]])"
      ]
     },
     "execution_count": 80,
     "metadata": {},
     "output_type": "execute_result"
    }
   ],
   "source": [
    "A[:3, :3] # upper half diagonal block matrix"
   ]
  },
  {
   "cell_type": "code",
   "execution_count": 81,
   "id": "3a257f03",
   "metadata": {},
   "outputs": [
    {
     "data": {
      "text/plain": [
       "array([[30, 31, 32],\n",
       "       [40, 41, 42],\n",
       "       [50, 51, 52]])"
      ]
     },
     "execution_count": 81,
     "metadata": {},
     "output_type": "execute_result"
    }
   ],
   "source": [
    "A[3:, :3] # lower left off-diagonal block matrix"
   ]
  },
  {
   "cell_type": "code",
   "execution_count": 82,
   "id": "8013c5f9",
   "metadata": {},
   "outputs": [
    {
     "data": {
      "text/plain": [
       "array([[ 0,  2,  4],\n",
       "       [20, 22, 24],\n",
       "       [40, 42, 44]])"
      ]
     },
     "execution_count": 82,
     "metadata": {},
     "output_type": "execute_result"
    }
   ],
   "source": [
    " A[::2, ::2] # every second element starting from 0, 0"
   ]
  },
  {
   "cell_type": "code",
   "execution_count": 83,
   "id": "41bf99ab",
   "metadata": {},
   "outputs": [
    {
     "data": {
      "text/plain": [
       "array([[11, 14],\n",
       "       [31, 34],\n",
       "       [51, 54]])"
      ]
     },
     "execution_count": 83,
     "metadata": {},
     "output_type": "execute_result"
    }
   ],
   "source": [
    "A[1::2, 1::3] # every second and third element starting from 1, 1"
   ]
  },
  {
   "cell_type": "code",
   "execution_count": 109,
   "id": "e3469287",
   "metadata": {},
   "outputs": [],
   "source": [
    "# View and Copy while slicing"
   ]
  },
  {
   "cell_type": "code",
   "execution_count": 110,
   "id": "31598ad5",
   "metadata": {},
   "outputs": [
    {
     "data": {
      "text/plain": [
       "array([[ 0,  1,  2,  3,  4,  5],\n",
       "       [10, 11, 12, 13, 14, 15],\n",
       "       [20, 21, 22, 23, 24, 25],\n",
       "       [30, 31, 32, 33, 34, 35],\n",
       "       [40, 41, 42, 43, 44, 45],\n",
       "       [50, 51, 52, 53, 54, 55]])"
      ]
     },
     "execution_count": 110,
     "metadata": {},
     "output_type": "execute_result"
    }
   ],
   "source": [
    "f = lambda m, n: n + 10 * m\n",
    "A = np.fromfunction(f, (6, 6), dtype=int)\n",
    "A"
   ]
  },
  {
   "cell_type": "code",
   "execution_count": 113,
   "id": "96250adb",
   "metadata": {},
   "outputs": [
    {
     "data": {
      "text/plain": [
       "array([[11, 12, 13, 14],\n",
       "       [21, 22, 23, 24],\n",
       "       [31, 32, 33, 34],\n",
       "       [41, 42, 43, 44]])"
      ]
     },
     "execution_count": 113,
     "metadata": {},
     "output_type": "execute_result"
    }
   ],
   "source": [
    "B = A[1:5, 1:5]\n",
    "B"
   ]
  },
  {
   "cell_type": "code",
   "execution_count": 112,
   "id": "d7f02440",
   "metadata": {},
   "outputs": [
    {
     "data": {
      "text/plain": [
       "array([[ 0,  1,  2,  3,  4,  5],\n",
       "       [10, 11, 12, 13, 14, 15],\n",
       "       [20, 21, 22, 23, 24, 25],\n",
       "       [30, 31, 32, 33, 34, 35],\n",
       "       [40, 41, 42, 43, 44, 45],\n",
       "       [50, 51, 52, 53, 54, 55]])"
      ]
     },
     "execution_count": 112,
     "metadata": {},
     "output_type": "execute_result"
    }
   ],
   "source": [
    "A"
   ]
  },
  {
   "cell_type": "code",
   "execution_count": 14,
   "id": "5b2f653d",
   "metadata": {},
   "outputs": [
    {
     "data": {
      "text/plain": [
       "array([[0, 0, 0, 0],\n",
       "       [0, 0, 0, 0],\n",
       "       [0, 0, 0, 0],\n",
       "       [0, 0, 0, 0]])"
      ]
     },
     "execution_count": 14,
     "metadata": {},
     "output_type": "execute_result"
    }
   ],
   "source": [
    "import numpy as np\n",
    "f = lambda m, n: n + 10 * m\n",
    "A = np.fromfunction(f, (6, 6), dtype=int)\n",
    "B = A[1:5, 1:5]\n",
    "B[:, :] = 0 # Changing B changes A\n",
    "B   "
   ]
  },
  {
   "cell_type": "code",
   "execution_count": 15,
   "id": "c8bea452",
   "metadata": {},
   "outputs": [
    {
     "data": {
      "text/plain": [
       "array([[ 0,  1,  2,  3,  4,  5],\n",
       "       [10,  0,  0,  0,  0, 15],\n",
       "       [20,  0,  0,  0,  0, 25],\n",
       "       [30,  0,  0,  0,  0, 35],\n",
       "       [40,  0,  0,  0,  0, 45],\n",
       "       [50, 51, 52, 53, 54, 55]])"
      ]
     },
     "execution_count": 15,
     "metadata": {},
     "output_type": "execute_result"
    }
   ],
   "source": [
    "\n",
    "\"\"\"\n",
    "Here, assigning new values to the elements in an array B, which is created from the array A, also \n",
    "modifies the values in A (since both arrays refer to the same data in the memory). The fact that extracting \n",
    "subarrays results in views rather than new independent arrays eliminates the need for copying data and \n",
    "improves performance. When a copy rather than a view is needed, the view can be copied explicitly by using \n",
    "the copy method of the ndarray instance\n",
    "\"\"\"\n",
    "A # A is changed as B has been changed"
   ]
  },
  {
   "cell_type": "code",
   "execution_count": 117,
   "id": "75afceec",
   "metadata": {},
   "outputs": [],
   "source": [
    "# copy"
   ]
  },
  {
   "cell_type": "code",
   "execution_count": 118,
   "id": "5b9893d2",
   "metadata": {},
   "outputs": [],
   "source": [
    "C = B[1:3, 1:3].copy()"
   ]
  },
  {
   "cell_type": "code",
   "execution_count": 119,
   "id": "61914fa3",
   "metadata": {},
   "outputs": [
    {
     "data": {
      "text/plain": [
       "array([[0, 0],\n",
       "       [0, 0]])"
      ]
     },
     "execution_count": 119,
     "metadata": {},
     "output_type": "execute_result"
    }
   ],
   "source": [
    "C"
   ]
  },
  {
   "cell_type": "code",
   "execution_count": 120,
   "id": "9e653340",
   "metadata": {},
   "outputs": [],
   "source": [
    "C[:, :] = 1 # this does not affect B since C is a copy of the view B[1:3, 1:3]"
   ]
  },
  {
   "cell_type": "code",
   "execution_count": 121,
   "id": "8701fe12",
   "metadata": {},
   "outputs": [
    {
     "data": {
      "text/plain": [
       "array([[1, 1],\n",
       "       [1, 1]])"
      ]
     },
     "execution_count": 121,
     "metadata": {},
     "output_type": "execute_result"
    }
   ],
   "source": [
    "C"
   ]
  },
  {
   "cell_type": "code",
   "execution_count": 122,
   "id": "3c3f3e9c",
   "metadata": {},
   "outputs": [
    {
     "data": {
      "text/plain": [
       "array([[0, 0, 0, 0],\n",
       "       [0, 0, 0, 0],\n",
       "       [0, 0, 0, 0],\n",
       "       [0, 0, 0, 0]])"
      ]
     },
     "execution_count": 122,
     "metadata": {},
     "output_type": "execute_result"
    }
   ],
   "source": [
    "\"\"\"\n",
    "In addition to the copy attribute of the ndarray class, an array can also be copied using the function \n",
    "np.copy, or, equivalently, using the np.array function with the keyword argument copy=True\n",
    "\"\"\"\n",
    "\n",
    "B"
   ]
  },
  {
   "cell_type": "code",
   "execution_count": 16,
   "id": "c078818e",
   "metadata": {},
   "outputs": [
    {
     "data": {
      "text/plain": [
       "array([0. , 0.2, 0.4])"
      ]
     },
     "execution_count": 16,
     "metadata": {},
     "output_type": "execute_result"
    }
   ],
   "source": [
    "A = np.linspace(0, 1, 11) \n",
    "A[np.array([0, 2, 4])]"
   ]
  },
  {
   "cell_type": "code",
   "execution_count": 17,
   "id": "7560a171",
   "metadata": {},
   "outputs": [
    {
     "data": {
      "text/plain": [
       "array([0. , 0.2, 0.4])"
      ]
     },
     "execution_count": 17,
     "metadata": {},
     "output_type": "execute_result"
    }
   ],
   "source": [
    "A[[0, 2, 4]] # The same thing can be accomplished by indexing with a Python list"
   ]
  },
  {
   "cell_type": "code",
   "execution_count": 18,
   "id": "3ac62ca9",
   "metadata": {},
   "outputs": [
    {
     "data": {
      "text/plain": [
       "array([False, False, False, False, False, False,  True,  True,  True,\n",
       "        True,  True])"
      ]
     },
     "execution_count": 18,
     "metadata": {},
     "output_type": "execute_result"
    }
   ],
   "source": [
    "A > 0.5"
   ]
  },
  {
   "cell_type": "code",
   "execution_count": 19,
   "id": "37d5241b",
   "metadata": {},
   "outputs": [
    {
     "data": {
      "text/plain": [
       "array([0.6, 0.7, 0.8, 0.9, 1. ])"
      ]
     },
     "execution_count": 19,
     "metadata": {},
     "output_type": "execute_result"
    }
   ],
   "source": [
    "A[A > 0.5]"
   ]
  },
  {
   "cell_type": "code",
   "execution_count": 20,
   "id": "0626ad10",
   "metadata": {},
   "outputs": [],
   "source": [
    "# Fancy Indexing and Boolean-valued Indexin"
   ]
  },
  {
   "cell_type": "code",
   "execution_count": 21,
   "id": "b8ced3ed",
   "metadata": {},
   "outputs": [
    {
     "data": {
      "text/plain": [
       "array([0. , 0.1, 0.2, 0.3, 0.4, 0.5, 0.6, 0.7, 0.8, 0.9, 1. ])"
      ]
     },
     "execution_count": 21,
     "metadata": {},
     "output_type": "execute_result"
    }
   ],
   "source": [
    "A = np.linspace(0, 1, 11)\n",
    "A"
   ]
  },
  {
   "cell_type": "code",
   "execution_count": 131,
   "id": "e2c29719",
   "metadata": {},
   "outputs": [
    {
     "data": {
      "text/plain": [
       "array([0. , 0.2, 0.4])"
      ]
     },
     "execution_count": 131,
     "metadata": {},
     "output_type": "execute_result"
    }
   ],
   "source": [
    "A[np.array([0, 2, 4])]"
   ]
  },
  {
   "cell_type": "code",
   "execution_count": 132,
   "id": "36733d40",
   "metadata": {},
   "outputs": [
    {
     "data": {
      "text/plain": [
       "array([0. , 0.2, 0.4])"
      ]
     },
     "execution_count": 132,
     "metadata": {},
     "output_type": "execute_result"
    }
   ],
   "source": [
    "A[[0, 2, 4]] # The same thing can be accomplished by indexing with a Python list"
   ]
  },
  {
   "cell_type": "code",
   "execution_count": 22,
   "id": "8b267fde",
   "metadata": {},
   "outputs": [
    {
     "data": {
      "text/plain": [
       "array([False, False, False, False, False, False,  True,  True,  True,\n",
       "        True,  True])"
      ]
     },
     "execution_count": 22,
     "metadata": {},
     "output_type": "execute_result"
    }
   ],
   "source": [
    "A > 0.5"
   ]
  },
  {
   "cell_type": "code",
   "execution_count": 23,
   "id": "697a362b",
   "metadata": {},
   "outputs": [
    {
     "data": {
      "text/plain": [
       "array([0.6, 0.7, 0.8, 0.9, 1. ])"
      ]
     },
     "execution_count": 23,
     "metadata": {},
     "output_type": "execute_result"
    }
   ],
   "source": [
    "A[A > 0.5]"
   ]
  },
  {
   "cell_type": "code",
   "execution_count": 136,
   "id": "cb76d615",
   "metadata": {},
   "outputs": [
    {
     "data": {
      "text/plain": [
       "array([0, 1, 2, 3, 4, 5, 6, 7, 8, 9])"
      ]
     },
     "execution_count": 136,
     "metadata": {},
     "output_type": "execute_result"
    }
   ],
   "source": [
    "A = np.arange(10)\n",
    "A"
   ]
  },
  {
   "cell_type": "code",
   "execution_count": 24,
   "id": "ea8f05ce",
   "metadata": {},
   "outputs": [
    {
     "name": "stdout",
     "output_type": "stream",
     "text": [
      "Inital value of B [0.2 0.4 0.6]\n",
      "Final value of B :  [-1.   0.4  0.6]\n"
     ]
    },
    {
     "data": {
      "text/plain": [
       "array([0. , 0.1, 0.2, 0.3, 0.4, 0.5, 0.6, 0.7, 0.8, 0.9, 1. ])"
      ]
     },
     "execution_count": 24,
     "metadata": {},
     "output_type": "execute_result"
    }
   ],
   "source": [
    "indices = [2, 4, 6]\n",
    "B = A[indices]\n",
    "print(\"Inital value of B\", B)\n",
    "B[0] = -1 # this does not affect A\n",
    "print(\"Final value of B : \", B)\n",
    "A"
   ]
  },
  {
   "cell_type": "code",
   "execution_count": 25,
   "id": "dddb7ab0",
   "metadata": {},
   "outputs": [
    {
     "data": {
      "text/plain": [
       "array([ 0. ,  0.1, -1. ,  0.3, -1. ,  0.5, -1. ,  0.7,  0.8,  0.9,  1. ])"
      ]
     },
     "execution_count": 25,
     "metadata": {},
     "output_type": "execute_result"
    }
   ],
   "source": [
    "A[indices] = -1\n",
    "A # now A is changed"
   ]
  },
  {
   "cell_type": "code",
   "execution_count": 143,
   "id": "10098e48",
   "metadata": {},
   "outputs": [
    {
     "name": "stdout",
     "output_type": "stream",
     "text": [
      "A: [0 1 2 3 4 5 6 7 8 9]\n"
     ]
    },
    {
     "data": {
      "text/plain": [
       "array([0, 1, 2, 3, 4, 5, 6, 7, 8, 9])"
      ]
     },
     "execution_count": 143,
     "metadata": {},
     "output_type": "execute_result"
    }
   ],
   "source": [
    "A = np.arange(10)\n",
    "print(\"A:\", A)\n",
    "B = A[A > 5]\n",
    "B[0] = -1 # this does not affect A\n",
    "A"
   ]
  },
  {
   "cell_type": "markdown",
   "id": "34ef2349",
   "metadata": {},
   "source": [
    "Reshaping and Resizing"
   ]
  },
  {
   "cell_type": "code",
   "execution_count": 3,
   "id": "61f8f228",
   "metadata": {},
   "outputs": [
    {
     "data": {
      "text/plain": [
       "array([[1, 2],\n",
       "       [3, 4]])"
      ]
     },
     "execution_count": 3,
     "metadata": {},
     "output_type": "execute_result"
    }
   ],
   "source": [
    "import numpy as np\n",
    "\n",
    "data = np.array([[1, 2], [3, 4]])\n",
    "data"
   ]
  },
  {
   "cell_type": "code",
   "execution_count": 4,
   "id": "3c5aeeb0",
   "metadata": {},
   "outputs": [
    {
     "data": {
      "text/plain": [
       "2"
      ]
     },
     "execution_count": 4,
     "metadata": {},
     "output_type": "execute_result"
    }
   ],
   "source": [
    "data.ndim"
   ]
  },
  {
   "cell_type": "code",
   "execution_count": 5,
   "id": "597a8472",
   "metadata": {},
   "outputs": [
    {
     "data": {
      "text/plain": [
       "(2, 2)"
      ]
     },
     "execution_count": 5,
     "metadata": {},
     "output_type": "execute_result"
    }
   ],
   "source": [
    "data.shape"
   ]
  },
  {
   "cell_type": "code",
   "execution_count": 15,
   "id": "c1c657b0",
   "metadata": {},
   "outputs": [
    {
     "data": {
      "text/plain": [
       "array([[1, 2, 3, 4]])"
      ]
     },
     "execution_count": 15,
     "metadata": {},
     "output_type": "execute_result"
    }
   ],
   "source": [
    "a = np.reshape(data, (1, 4)) # reshaping . note that it's view, not copy. changing a will change data\n",
    "a"
   ]
  },
  {
   "cell_type": "code",
   "execution_count": 16,
   "id": "94cf8b83",
   "metadata": {},
   "outputs": [
    {
     "data": {
      "text/plain": [
       "array([1, 2, 3, 4])"
      ]
     },
     "execution_count": 16,
     "metadata": {},
     "output_type": "execute_result"
    }
   ],
   "source": [
    "data.reshape(4) # second reshaping"
   ]
  },
  {
   "cell_type": "code",
   "execution_count": 17,
   "id": "01dc7283",
   "metadata": {},
   "outputs": [
    {
     "data": {
      "text/plain": [
       "array([[1, 2],\n",
       "       [3, 4]])"
      ]
     },
     "execution_count": 17,
     "metadata": {},
     "output_type": "execute_result"
    }
   ],
   "source": [
    "data # original data is same even after reshaping and saving the value inside a"
   ]
  },
  {
   "cell_type": "markdown",
   "id": "46857032",
   "metadata": {},
   "source": [
    "Broadcasting"
   ]
  },
  {
   "cell_type": "code",
   "execution_count": 147,
   "id": "c899c30c",
   "metadata": {},
   "outputs": [
    {
     "name": "stdout",
     "output_type": "stream",
     "text": [
      "Original Array :  [0 1 2 3 4 5 6 7 8 9]\n",
      "After Broadcasting :  [500 500 500 500 500   5   6   7   8   9]\n"
     ]
    }
   ],
   "source": [
    "import numpy as np\n",
    "# Let's create an array using arange()\n",
    "array_1d = np.arange(0, 10)\n",
    "print(\"Original Array : \", array_1d)\n",
    "array_1d[0:5] = 500\n",
    "print(\"After Broadcasting : \", array_1d)"
   ]
  },
  {
   "cell_type": "code",
   "execution_count": 148,
   "id": "ea3cbc73",
   "metadata": {},
   "outputs": [
    {
     "name": "stdout",
     "output_type": "stream",
     "text": [
      "2D Array\n",
      "[[1. 1. 1. 1.]\n",
      " [1. 1. 1. 1.]\n",
      " [1. 1. 1. 1.]\n",
      " [1. 1. 1. 1.]]\n",
      "\n",
      " After Broadcasting\n",
      "[[300. 300. 300. 300.]\n",
      " [  1.   1.   1.   1.]\n",
      " [  1.   1.   1.   1.]\n",
      " [  1.   1.   1.   1.]]\n"
     ]
    }
   ],
   "source": [
    "import numpy as np\n",
    "# Lets create a 2D martix with ones\n",
    "array_2d = np.ones((4, 4))\n",
    "\n",
    "print(\"2D Array\")\n",
    "print(array_2d)\n",
    "\n",
    "# Lets broadcast 300 to the first row of array_2d\n",
    "array_2d[0] = 300\n",
    "print(\"\\n After Broadcasting\")\n",
    "print(array_2d)\n"
   ]
  },
  {
   "cell_type": "markdown",
   "id": "fcb643b4",
   "metadata": {},
   "source": [
    "Ravel and Flatten"
   ]
  },
  {
   "cell_type": "code",
   "execution_count": 19,
   "id": "30030bfd",
   "metadata": {},
   "outputs": [
    {
     "data": {
      "text/plain": [
       "array([[1, 2],\n",
       "       [3, 4]])"
      ]
     },
     "execution_count": 19,
     "metadata": {},
     "output_type": "execute_result"
    }
   ],
   "source": [
    "data = np.array([[1, 2], [3, 4]])\n",
    "data"
   ]
  },
  {
   "cell_type": "code",
   "execution_count": 22,
   "id": "1e96f4fc",
   "metadata": {},
   "outputs": [
    {
     "data": {
      "text/plain": [
       "(2, 2)"
      ]
     },
     "execution_count": 22,
     "metadata": {},
     "output_type": "execute_result"
    }
   ],
   "source": [
    "data.shape"
   ]
  },
  {
   "cell_type": "code",
   "execution_count": 20,
   "id": "93389d0d",
   "metadata": {},
   "outputs": [
    {
     "data": {
      "text/plain": [
       "array([1, 2, 3, 4])"
      ]
     },
     "execution_count": 20,
     "metadata": {},
     "output_type": "execute_result"
    }
   ],
   "source": [
    "data.flatten()"
   ]
  },
  {
   "cell_type": "code",
   "execution_count": 21,
   "id": "5f0657f1",
   "metadata": {},
   "outputs": [
    {
     "data": {
      "text/plain": [
       "(4,)"
      ]
     },
     "execution_count": 21,
     "metadata": {},
     "output_type": "execute_result"
    }
   ],
   "source": [
    "data.flatten().shape"
   ]
  },
  {
   "cell_type": "code",
   "execution_count": 3,
   "id": "b0e981f9",
   "metadata": {},
   "outputs": [
    {
     "data": {
      "text/plain": [
       "array([0, 1, 2, 3, 4])"
      ]
     },
     "execution_count": 3,
     "metadata": {},
     "output_type": "execute_result"
    }
   ],
   "source": [
    "# new axis\n",
    "import numpy as np\n",
    "data = np.arange(0, 5)\n",
    "data"
   ]
  },
  {
   "cell_type": "code",
   "execution_count": 6,
   "id": "5f52e009",
   "metadata": {},
   "outputs": [
    {
     "data": {
      "text/plain": [
       "(5,)"
      ]
     },
     "execution_count": 6,
     "metadata": {},
     "output_type": "execute_result"
    }
   ],
   "source": [
    "data.shape"
   ]
  },
  {
   "cell_type": "code",
   "execution_count": 4,
   "id": "b2911940",
   "metadata": {},
   "outputs": [
    {
     "data": {
      "text/plain": [
       "array([[0],\n",
       "       [1],\n",
       "       [2],\n",
       "       [3],\n",
       "       [4]])"
      ]
     },
     "execution_count": 4,
     "metadata": {},
     "output_type": "execute_result"
    }
   ],
   "source": [
    "column = data[:, np.newaxis]\n",
    "column"
   ]
  },
  {
   "cell_type": "code",
   "execution_count": 5,
   "id": "f43a4454",
   "metadata": {},
   "outputs": [
    {
     "data": {
      "text/plain": [
       "(5, 1)"
      ]
     },
     "execution_count": 5,
     "metadata": {},
     "output_type": "execute_result"
    }
   ],
   "source": [
    "column.shape"
   ]
  },
  {
   "cell_type": "code",
   "execution_count": 8,
   "id": "70dcf757",
   "metadata": {},
   "outputs": [
    {
     "data": {
      "text/plain": [
       "array([[0, 1, 2, 3, 4]])"
      ]
     },
     "execution_count": 8,
     "metadata": {},
     "output_type": "execute_result"
    }
   ],
   "source": [
    "row = data[np.newaxis, :]\n",
    "row"
   ]
  },
  {
   "cell_type": "code",
   "execution_count": 9,
   "id": "faa8dabf",
   "metadata": {},
   "outputs": [
    {
     "data": {
      "text/plain": [
       "(1, 5)"
      ]
     },
     "execution_count": 9,
     "metadata": {},
     "output_type": "execute_result"
    }
   ],
   "source": [
    "row.shape"
   ]
  },
  {
   "cell_type": "code",
   "execution_count": 11,
   "id": "b476880c",
   "metadata": {},
   "outputs": [
    {
     "data": {
      "text/plain": [
       "array([[0, 1, 2, 3, 4],\n",
       "       [0, 1, 2, 3, 4],\n",
       "       [0, 1, 2, 3, 4]])"
      ]
     },
     "execution_count": 11,
     "metadata": {},
     "output_type": "execute_result"
    }
   ],
   "source": [
    "# Stack\n",
    "data = np.arange(5)\n",
    "data\n",
    "np.array([0, 1, 2, 3, 4])\n",
    "np.vstack((data, data, data))"
   ]
  },
  {
   "cell_type": "code",
   "execution_count": 13,
   "id": "a0ad55b4",
   "metadata": {},
   "outputs": [
    {
     "data": {
      "text/plain": [
       "array([0, 1, 2, 3, 4, 0, 1, 2, 3, 4, 0, 1, 2, 3, 4])"
      ]
     },
     "execution_count": 13,
     "metadata": {},
     "output_type": "execute_result"
    }
   ],
   "source": [
    "data = np.arange(5)\n",
    "data\n",
    "np.array([0, 1, 2, 3, 4])\n",
    "np.hstack((data, data, data))"
   ]
  },
  {
   "cell_type": "code",
   "execution_count": 15,
   "id": "48ef454f",
   "metadata": {},
   "outputs": [
    {
     "data": {
      "text/plain": [
       "'\\nThis indeed stacks the arrays horizontally, but not in the way intended here. To make np.hstack treat \\nthe input arrays as columns and stack them accordingly, we need to make the input arrays two-dimensional \\narrays of shape (1, 5) rather than one-dimensional arrays of shape (5,). As discussed earlier, we can insert \\na new axis by indexing with np.newaxis:\\n'"
      ]
     },
     "execution_count": 15,
     "metadata": {},
     "output_type": "execute_result"
    }
   ],
   "source": [
    "\"\"\"\n",
    "This indeed stacks the arrays horizontally, but not in the way intended here. To make np.hstack treat \n",
    "the input arrays as columns and stack them accordingly, we need to make the input arrays two-dimensional \n",
    "arrays of shape (1, 5) rather than one-dimensional arrays of shape (5,). As discussed earlier, we can insert \n",
    "a new axis by indexing with np.newaxis:\n",
    "\"\"\""
   ]
  },
  {
   "cell_type": "code",
   "execution_count": 16,
   "id": "6ef641ef",
   "metadata": {},
   "outputs": [
    {
     "data": {
      "text/plain": [
       "array([[0, 0, 0],\n",
       "       [1, 1, 1],\n",
       "       [2, 2, 2],\n",
       "       [3, 3, 3],\n",
       "       [4, 4, 4]])"
      ]
     },
     "execution_count": 16,
     "metadata": {},
     "output_type": "execute_result"
    }
   ],
   "source": [
    "data = data[:, np.newaxis]\n",
    "np.hstack((data, data, data))"
   ]
  },
  {
   "cell_type": "code",
   "execution_count": 14,
   "id": "680c3897",
   "metadata": {},
   "outputs": [
    {
     "data": {
      "text/plain": [
       "'\\nThe number of elements in a NumPy array cannot be changed once the array has been created. To \\ninsert, append, and remove elements from a NumPy array, for example, using the function np.append, \\nnp.insert, and np.delete, a new array must be created and the data copied to it. It may sometimes be \\ntempting to use these functions to grow or shrink the size of a NumPy array, but due to the overhead of \\ncreating new arrays and copying the data, it is usually a good idea to preallocate arrays with size such that \\nthey do not later need to be resized.\\n'"
      ]
     },
     "execution_count": 14,
     "metadata": {},
     "output_type": "execute_result"
    }
   ],
   "source": [
    "\"\"\"\n",
    "The number of elements in a NumPy array cannot be changed once the array has been created. To \n",
    "insert, append, and remove elements from a NumPy array, for example, using the function np.append, \n",
    "np.insert, and np.delete, a new array must be created and the data copied to it. It may sometimes be \n",
    "tempting to use these functions to grow or shrink the size of a NumPy array, but due to the overhead of \n",
    "creating new arrays and copying the data, it is usually a good idea to preallocate arrays with size such that \n",
    "they do not later need to be resized.\n",
    "\"\"\""
   ]
  },
  {
   "cell_type": "markdown",
   "id": "15eb3d15",
   "metadata": {},
   "source": [
    "# 5. Vectorized Expressions"
   ]
  },
  {
   "cell_type": "code",
   "execution_count": 17,
   "id": "cb94c2bd",
   "metadata": {},
   "outputs": [
    {
     "data": {
      "text/plain": [
       "'\\nNumPy implements functions and vectorized \\noperations corresponding to most fundamental mathematical functions and operators. \\n'"
      ]
     },
     "execution_count": 17,
     "metadata": {},
     "output_type": "execute_result"
    }
   ],
   "source": [
    "\"\"\"\n",
    "NumPy implements functions and vectorized \n",
    "operations corresponding to most fundamental mathematical functions and operators. \n",
    "\"\"\""
   ]
  },
  {
   "cell_type": "code",
   "execution_count": 24,
   "id": "2c1f5c3b",
   "metadata": {},
   "outputs": [
    {
     "data": {
      "text/plain": [
       "array([[1, 2],\n",
       "       [3, 4]])"
      ]
     },
     "execution_count": 24,
     "metadata": {},
     "output_type": "execute_result"
    }
   ],
   "source": [
    "x = np.array([[1, 2], [3, 4]])\n",
    "x"
   ]
  },
  {
   "cell_type": "code",
   "execution_count": 26,
   "id": "5e41ad96",
   "metadata": {},
   "outputs": [
    {
     "data": {
      "text/plain": [
       "array([[5, 6],\n",
       "       [7, 8]])"
      ]
     },
     "execution_count": 26,
     "metadata": {},
     "output_type": "execute_result"
    }
   ],
   "source": [
    "y = np.array([[5, 6], [7, 8]])\n",
    "y"
   ]
  },
  {
   "cell_type": "markdown",
   "id": "85b516bb",
   "metadata": {},
   "source": [
    "Arithmetic Operations"
   ]
  },
  {
   "cell_type": "code",
   "execution_count": 19,
   "id": "7627d11a",
   "metadata": {},
   "outputs": [
    {
     "data": {
      "text/plain": [
       "array([[ 6,  8],\n",
       "       [10, 12]])"
      ]
     },
     "execution_count": 19,
     "metadata": {},
     "output_type": "execute_result"
    }
   ],
   "source": [
    "x + y"
   ]
  },
  {
   "cell_type": "code",
   "execution_count": 21,
   "id": "dbe4f5dc",
   "metadata": {},
   "outputs": [
    {
     "data": {
      "text/plain": [
       "array([[4, 4],\n",
       "       [4, 4]])"
      ]
     },
     "execution_count": 21,
     "metadata": {},
     "output_type": "execute_result"
    }
   ],
   "source": [
    "y - x"
   ]
  },
  {
   "cell_type": "code",
   "execution_count": 22,
   "id": "cfda6e60",
   "metadata": {},
   "outputs": [
    {
     "data": {
      "text/plain": [
       "array([[ 5, 12],\n",
       "       [21, 32]])"
      ]
     },
     "execution_count": 22,
     "metadata": {},
     "output_type": "execute_result"
    }
   ],
   "source": [
    "x*y"
   ]
  },
  {
   "cell_type": "code",
   "execution_count": 27,
   "id": "f12764aa",
   "metadata": {},
   "outputs": [
    {
     "data": {
      "text/plain": [
       "array([[5.        , 3.        ],\n",
       "       [2.33333333, 2.        ]])"
      ]
     },
     "execution_count": 27,
     "metadata": {},
     "output_type": "execute_result"
    }
   ],
   "source": [
    "y/x"
   ]
  },
  {
   "cell_type": "code",
   "execution_count": 28,
   "id": "9655d5fc",
   "metadata": {},
   "outputs": [
    {
     "data": {
      "text/plain": [
       "array([[2, 4],\n",
       "       [6, 8]])"
      ]
     },
     "execution_count": 28,
     "metadata": {},
     "output_type": "execute_result"
    }
   ],
   "source": [
    "2*x"
   ]
  },
  {
   "cell_type": "code",
   "execution_count": 29,
   "id": "4db23ec1",
   "metadata": {},
   "outputs": [
    {
     "data": {
      "text/plain": [
       "array([[ 2,  4],\n",
       "       [ 8, 16]], dtype=int32)"
      ]
     },
     "execution_count": 29,
     "metadata": {},
     "output_type": "execute_result"
    }
   ],
   "source": [
    "2**x"
   ]
  },
  {
   "cell_type": "code",
   "execution_count": 37,
   "id": "df98cc75",
   "metadata": {},
   "outputs": [
    {
     "ename": "ValueError",
     "evalue": "operands could not be broadcast together with shapes (2,2) (4,) ",
     "output_type": "error",
     "traceback": [
      "\u001b[1;31m---------------------------------------------------------------------------\u001b[0m",
      "\u001b[1;31mValueError\u001b[0m                                Traceback (most recent call last)",
      "Cell \u001b[1;32mIn [37], line 5\u001b[0m\n\u001b[0;32m      3\u001b[0m z \u001b[38;5;241m=\u001b[39m np\u001b[38;5;241m.\u001b[39marray([\u001b[38;5;241m1\u001b[39m, \u001b[38;5;241m2\u001b[39m, \u001b[38;5;241m3\u001b[39m, \u001b[38;5;241m4\u001b[39m])\n\u001b[0;32m      4\u001b[0m \u001b[38;5;66;03m# error : problem with shape\u001b[39;00m\n\u001b[1;32m----> 5\u001b[0m \u001b[43mx\u001b[49m\u001b[43m \u001b[49m\u001b[38;5;241;43m/\u001b[39;49m\u001b[43m \u001b[49m\u001b[43mz\u001b[49m\n",
      "\u001b[1;31mValueError\u001b[0m: operands could not be broadcast together with shapes (2,2) (4,) "
     ]
    }
   ],
   "source": [
    "import numpy as np\n",
    "x = np.array([1, 2, 3, 4]).reshape(2, 2)\n",
    "z = np.array([1, 2, 3, 4])\n",
    "# error : problem with shape\n",
    "x / z"
   ]
  },
  {
   "cell_type": "code",
   "execution_count": 42,
   "id": "51c891a7",
   "metadata": {},
   "outputs": [
    {
     "data": {
      "text/plain": [
       "'\\nThe two expressions have the same effect, but in the first case x is reassigned to a new array, while in the \\nsecond case the values of array x are updated in place. Extensive use of in-place operators tends to impair \\ncode readability, and in-place operators should therefore be used only when necessary.\\n'"
      ]
     },
     "execution_count": 42,
     "metadata": {},
     "output_type": "execute_result"
    }
   ],
   "source": [
    "\"\"\"\n",
    "The two expressions have the same effect, but in the first case x is reassigned to a new array, while in the \n",
    "second case the values of array x are updated in place. Extensive use of in-place operators tends to impair \n",
    "code readability, and in-place operators should therefore be used only when necessary.\n",
    "\"\"\"\n"
   ]
  },
  {
   "cell_type": "code",
   "execution_count": 43,
   "id": "e8eded35",
   "metadata": {},
   "outputs": [
    {
     "data": {
      "text/plain": [
       "array([0, 2, 4, 6, 8])"
      ]
     },
     "execution_count": 43,
     "metadata": {},
     "output_type": "execute_result"
    }
   ],
   "source": [
    "x = np.arange(5)\n",
    "y = np.arange(5)\n",
    "\n",
    "x += y\n",
    "x"
   ]
  },
  {
   "cell_type": "code",
   "execution_count": 44,
   "id": "830fc54c",
   "metadata": {},
   "outputs": [
    {
     "data": {
      "text/plain": [
       "array([0, 2, 4, 6, 8])"
      ]
     },
     "execution_count": 44,
     "metadata": {},
     "output_type": "execute_result"
    }
   ],
   "source": [
    "x = np.arange(5)\n",
    "y = np.arange(5)\n",
    "\n",
    "z = x + y\n",
    "z"
   ]
  },
  {
   "cell_type": "markdown",
   "id": "670d3aa7",
   "metadata": {},
   "source": [
    "Elementwise Functions"
   ]
  },
  {
   "cell_type": "code",
   "execution_count": 45,
   "id": "cd5eaca3",
   "metadata": {},
   "outputs": [
    {
     "data": {
      "text/plain": [
       "'\\nnp.cos, np.sin, np.tan Trigonometric functions.\\nnp.arccos, np.arcsin. np.arctan Inverse trigonometric functions.\\nnp.cosh, np.sinh, np.tanh Hyperbolic trigonometric functions.\\nnp.arccosh, np.arcsinh, np.arctanh Inverse hyperbolic trigonometric functions.\\nnp.sqrt Square root.\\nnp.exp Exponential.\\nnp.log, np.log2, np.log10 Logarithms of base e, 2, and 10, respectively.\\n'"
      ]
     },
     "execution_count": 45,
     "metadata": {},
     "output_type": "execute_result"
    }
   ],
   "source": [
    "\"\"\"\n",
    "np.cos, np.sin, np.tan Trigonometric functions.\n",
    "np.arccos, np.arcsin. np.arctan Inverse trigonometric functions.\n",
    "np.cosh, np.sinh, np.tanh Hyperbolic trigonometric functions.\n",
    "np.arccosh, np.arcsinh, np.arctanh Inverse hyperbolic trigonometric functions.\n",
    "np.sqrt Square root.\n",
    "np.exp Exponential.\n",
    "np.log, np.log2, np.log10 Logarithms of base e, 2, and 10, respectively.\n",
    "\"\"\"\n"
   ]
  },
  {
   "cell_type": "code",
   "execution_count": 47,
   "id": "d34e79d0",
   "metadata": {},
   "outputs": [
    {
     "data": {
      "text/plain": [
       "array([-1. , -0.8, -0.6, -0.4, -0.2,  0. ,  0.2,  0.4,  0.6,  0.8,  1. ])"
      ]
     },
     "execution_count": 47,
     "metadata": {},
     "output_type": "execute_result"
    }
   ],
   "source": [
    "x = np.linspace(-1, 1, 11)\n",
    "x"
   ]
  },
  {
   "cell_type": "code",
   "execution_count": 48,
   "id": "308046bb",
   "metadata": {},
   "outputs": [
    {
     "data": {
      "text/plain": [
       "array([-0.    , -0.5878, -0.9511, -0.9511, -0.5878,  0.    ,  0.5878,\n",
       "        0.9511,  0.9511,  0.5878,  0.    ])"
      ]
     },
     "execution_count": 48,
     "metadata": {},
     "output_type": "execute_result"
    }
   ],
   "source": [
    "y = np.sin(np.pi * x)\n",
    "np.round(y, decimals=4)\n"
   ]
  },
  {
   "cell_type": "code",
   "execution_count": 49,
   "id": "5cdb3cc1",
   "metadata": {},
   "outputs": [
    {
     "data": {
      "text/plain": [
       "array([1., 1., 1., 1., 1., 1., 1., 1., 1., 1., 1.])"
      ]
     },
     "execution_count": 49,
     "metadata": {},
     "output_type": "execute_result"
    }
   ],
   "source": [
    "np.add(np.sin(x) ** 2, np.cos(x) ** 2)"
   ]
  },
  {
   "cell_type": "code",
   "execution_count": 50,
   "id": "2fab180a",
   "metadata": {},
   "outputs": [
    {
     "data": {
      "text/plain": [
       "array([1., 1., 1., 1., 1., 1., 1., 1., 1., 1., 1.])"
      ]
     },
     "execution_count": 50,
     "metadata": {},
     "output_type": "execute_result"
    }
   ],
   "source": [
    "np.sin(x) ** 2 + np.cos(x) ** 2"
   ]
  },
  {
   "cell_type": "code",
   "execution_count": 51,
   "id": "a373e311",
   "metadata": {},
   "outputs": [
    {
     "data": {
      "text/plain": [
       "'\\nNumPy function Description\\nnp.cos, np.sin, np.tan Trigonometric functions.\\nnp.arccos, np.arcsin. np.arctan Inverse trigonometric functions.\\nnp.cosh, np.sinh, np.tanh Hyperbolic trigonometric functions.\\nnp.arccosh, np.arcsinh, np.arctanh Inverse hyperbolic trigonometric functions.\\nnp.sqrt Square root.\\nnp.exp Exponential.\\nnp.log, np.log2, np.log10 Logarithms of base e, 2, and 10, respectively.\\n\\n'"
      ]
     },
     "execution_count": 51,
     "metadata": {},
     "output_type": "execute_result"
    }
   ],
   "source": [
    "\"\"\"\n",
    "NumPy function Description\n",
    "np.cos, np.sin, np.tan Trigonometric functions.\n",
    "np.arccos, np.arcsin. np.arctan Inverse trigonometric functions.\n",
    "np.cosh, np.sinh, np.tanh Hyperbolic trigonometric functions.\n",
    "np.arccosh, np.arcsinh, np.arctanh Inverse hyperbolic trigonometric functions.\n",
    "np.sqrt Square root.\n",
    "np.exp Exponential.\n",
    "np.log, np.log2, np.log10 Logarithms of base e, 2, and 10, respectively.\n",
    "\n",
    "\"\"\""
   ]
  },
  {
   "cell_type": "code",
   "execution_count": 52,
   "id": "6c643658",
   "metadata": {},
   "outputs": [
    {
     "data": {
      "text/plain": [
       "'\\nnp.add, np.subtract, \\nnp.multiply, np.divide\\nAddition, subtraction, multiplication and division of two NumPy arrays.\\nnp.power Raise first input argument to the power of the second input argument \\n(applied elementwise).\\nnp.remainder The remainder of division.\\nnp.reciprocal The reciprocal (inverse) of each element.\\nnp.real, np.imag, np.conj The real part, imaginary part, and the complex conjugate of the \\nelements in the input arrays.\\nnp.sign, np.abs The sign and the absolute value.\\nnp.floor, np.ceil, np.rint Convert to integer values.\\nnp.round Round to a given number of decimals.\\n'"
      ]
     },
     "execution_count": 52,
     "metadata": {},
     "output_type": "execute_result"
    }
   ],
   "source": [
    "\"\"\"\n",
    "np.add, np.subtract, \n",
    "np.multiply, np.divide\n",
    "Addition, subtraction, multiplication and division of two NumPy arrays.\n",
    "np.power Raise first input argument to the power of the second input argument \n",
    "(applied elementwise).\n",
    "np.remainder The remainder of division.\n",
    "np.reciprocal The reciprocal (inverse) of each element.\n",
    "np.real, np.imag, np.conj The real part, imaginary part, and the complex conjugate of the \n",
    "elements in the input arrays.\n",
    "np.sign, np.abs The sign and the absolute value.\n",
    "np.floor, np.ceil, np.rint Convert to integer values.\n",
    "np.round Round to a given number of decimals.\n",
    "\"\"\""
   ]
  },
  {
   "cell_type": "markdown",
   "id": "db5317c9",
   "metadata": {},
   "source": [
    "# np.vectorize"
   ]
  },
  {
   "cell_type": "markdown",
   "id": "d3e09aa4",
   "metadata": {},
   "source": [
    "Occasionally it is necessary to define new functions that operate on NumPy arrays on an \n",
    "element-by-element basis. A good way to implement such functions is to express it in terms of already \n",
    "existing NumPy operators and expressions, but in cases when this is not possible, the np.vectorize function \n",
    "can be a convenient tool. This function takes a non-vectorized function and returns a vectorized function. \n",
    "For example, consider the following implementation of the Heaviside step function, which works for \n",
    "scalar input:"
   ]
  },
  {
   "cell_type": "code",
   "execution_count": 53,
   "id": "d19e4538",
   "metadata": {},
   "outputs": [
    {
     "data": {
      "text/plain": [
       "0"
      ]
     },
     "execution_count": 53,
     "metadata": {},
     "output_type": "execute_result"
    }
   ],
   "source": [
    "def heaviside(x):\n",
    "    return 1 if x > 0 else 0\n",
    "\n",
    "heaviside(-1)"
   ]
  },
  {
   "cell_type": "code",
   "execution_count": 54,
   "id": "87a97f95",
   "metadata": {},
   "outputs": [
    {
     "data": {
      "text/plain": [
       "1"
      ]
     },
     "execution_count": 54,
     "metadata": {},
     "output_type": "execute_result"
    }
   ],
   "source": [
    " heaviside(1.5)"
   ]
  },
  {
   "cell_type": "code",
   "execution_count": 56,
   "id": "4c48f596",
   "metadata": {},
   "outputs": [],
   "source": [
    "# The above function works for scalar input, what about an array input ???"
   ]
  },
  {
   "cell_type": "code",
   "execution_count": 62,
   "id": "4c5d0d56",
   "metadata": {},
   "outputs": [],
   "source": [
    "x = np.linspace(-5, 5, 11)\n",
    "\n",
    "# Value Error\n",
    "# heaviside(x)"
   ]
  },
  {
   "cell_type": "code",
   "execution_count": 58,
   "id": "c6b4ab44",
   "metadata": {},
   "outputs": [
    {
     "data": {
      "text/plain": [
       "array([0, 0, 0, 0, 0, 0, 1, 1, 1, 1, 1])"
      ]
     },
     "execution_count": 58,
     "metadata": {},
     "output_type": "execute_result"
    }
   ],
   "source": [
    "heaviside = np.vectorize(heaviside)\n",
    "heaviside(x)"
   ]
  },
  {
   "cell_type": "code",
   "execution_count": 63,
   "id": "202f43f5",
   "metadata": {},
   "outputs": [
    {
     "data": {
      "text/plain": [
       "array([0., 0., 0., 0., 0., 0., 1., 1., 1., 1., 1.])"
      ]
     },
     "execution_count": 63,
     "metadata": {},
     "output_type": "execute_result"
    }
   ],
   "source": [
    "def another_heaviside(x):\n",
    "    return 1.0 * (x > 0)\n",
    "\n",
    "another_heaviside(x)"
   ]
  },
  {
   "cell_type": "markdown",
   "id": "1074f8c6",
   "metadata": {},
   "source": [
    "# Aggregate Functions"
   ]
  },
  {
   "cell_type": "code",
   "execution_count": 64,
   "id": "1140cb55",
   "metadata": {},
   "outputs": [
    {
     "data": {
      "text/plain": [
       "'\\nNumPy provides another set of functions for calculating aggregates for NumPy arrays, which take an array as \\ninput and by default return a scalar as output. For example, statistics such as averages, standard deviations, \\nand variances of the values in the input array, and functions for calculating the sum and the product of \\nelements in an array, are all aggregate functions.\\n\\n\\n'"
      ]
     },
     "execution_count": 64,
     "metadata": {},
     "output_type": "execute_result"
    }
   ],
   "source": [
    "\"\"\"\n",
    "NumPy provides another set of functions for calculating aggregates for NumPy arrays, which take an array as \n",
    "input and by default return a scalar as output. For example, statistics such as averages, standard deviations, \n",
    "and variances of the values in the input array, and functions for calculating the sum and the product of \n",
    "elements in an array, are all aggregate functions.\n",
    "\n",
    "\n",
    "\"\"\""
   ]
  },
  {
   "cell_type": "code",
   "execution_count": 65,
   "id": "5240d30e",
   "metadata": {},
   "outputs": [
    {
     "data": {
      "text/plain": [
       "-0.05268795440367581"
      ]
     },
     "execution_count": 65,
     "metadata": {},
     "output_type": "execute_result"
    }
   ],
   "source": [
    "data = np.random.normal(size=(15, 15))\n",
    "np.mean(data)\n",
    "data.mean()"
   ]
  },
  {
   "cell_type": "code",
   "execution_count": 66,
   "id": "d229bda2",
   "metadata": {},
   "outputs": [
    {
     "data": {
      "text/plain": [
       "'\\nnp.mean The average of all values in the array.\\nnp.std Standard deviation.\\nnp.var Variance.\\nnp.sum Sum of all elements.\\nnp.prod Product of all elements.\\nnp.cumsum Cumulative sum of all elements.\\nnp.cumprod Cumulative product of all elements.\\nnp.min, np.max The minimum / maximum value in an array.\\nnp.argmin, np.argmax The index of the minimum / maximum value in an array.\\nnp.all Return True if all elements in the argument array are nonzero.\\nnp.any Return True if any of the elements in the argument array is nonzero.\\n\\n'"
      ]
     },
     "execution_count": 66,
     "metadata": {},
     "output_type": "execute_result"
    }
   ],
   "source": [
    "\"\"\"\n",
    "np.mean The average of all values in the array.\n",
    "np.std Standard deviation.\n",
    "np.var Variance.\n",
    "np.sum Sum of all elements.\n",
    "np.prod Product of all elements.\n",
    "np.cumsum Cumulative sum of all elements.\n",
    "np.cumprod Cumulative product of all elements.\n",
    "np.min, np.max The minimum / maximum value in an array.\n",
    "np.argmin, np.argmax The index of the minimum / maximum value in an array.\n",
    "np.all Return True if all elements in the argument array are nonzero.\n",
    "np.any Return True if any of the elements in the argument array is nonzero.\n",
    "\n",
    "\"\"\""
   ]
  },
  {
   "cell_type": "code",
   "execution_count": 67,
   "id": "e498b3bc",
   "metadata": {},
   "outputs": [
    {
     "data": {
      "text/plain": [
       "(10, 15)"
      ]
     },
     "execution_count": 67,
     "metadata": {},
     "output_type": "execute_result"
    }
   ],
   "source": [
    "data = np.random.normal(size=(5, 10, 15))\n",
    "data.sum(axis=0).shape"
   ]
  },
  {
   "cell_type": "code",
   "execution_count": 68,
   "id": "33a6818a",
   "metadata": {},
   "outputs": [
    {
     "data": {
      "text/plain": [
       "-48.217029168179174"
      ]
     },
     "execution_count": 68,
     "metadata": {},
     "output_type": "execute_result"
    }
   ],
   "source": [
    "data.sum(axis=(0, 2)).shape\n",
    "\n",
    "data.sum()"
   ]
  },
  {
   "cell_type": "code",
   "execution_count": 69,
   "id": "29b2bb34",
   "metadata": {},
   "outputs": [
    {
     "data": {
      "text/plain": [
       "array([[1, 2, 3],\n",
       "       [4, 5, 6],\n",
       "       [7, 8, 9]])"
      ]
     },
     "execution_count": 69,
     "metadata": {},
     "output_type": "execute_result"
    }
   ],
   "source": [
    "data = np.arange(1,10).reshape(3,3)\n",
    "data"
   ]
  },
  {
   "cell_type": "code",
   "execution_count": 70,
   "id": "222944e1",
   "metadata": {},
   "outputs": [
    {
     "data": {
      "text/plain": [
       "array([ 6, 15, 24])"
      ]
     },
     "execution_count": 70,
     "metadata": {},
     "output_type": "execute_result"
    }
   ],
   "source": [
    "data.sum()\n",
    "\n",
    "data.sum(axis=0)\n",
    "\n",
    "data.sum(axis=1)"
   ]
  },
  {
   "cell_type": "markdown",
   "id": "c8f4d8e9",
   "metadata": {},
   "source": [
    "# Boolean Arrays and Conditional Expressions"
   ]
  },
  {
   "cell_type": "code",
   "execution_count": 71,
   "id": "d881ad90",
   "metadata": {},
   "outputs": [
    {
     "data": {
      "text/plain": [
       "array([ True,  True, False, False])"
      ]
     },
     "execution_count": 71,
     "metadata": {},
     "output_type": "execute_result"
    }
   ],
   "source": [
    "a = np.array([1, 2, 3, 4])\n",
    "b = np.array([4, 3, 2, 1])\n",
    "a < b"
   ]
  },
  {
   "cell_type": "code",
   "execution_count": 72,
   "id": "1ba5819a",
   "metadata": {},
   "outputs": [
    {
     "data": {
      "text/plain": [
       "False"
      ]
     },
     "execution_count": 72,
     "metadata": {},
     "output_type": "execute_result"
    }
   ],
   "source": [
    "np.all(a < b)"
   ]
  },
  {
   "cell_type": "code",
   "execution_count": 73,
   "id": "eb238c1e",
   "metadata": {},
   "outputs": [
    {
     "data": {
      "text/plain": [
       "True"
      ]
     },
     "execution_count": 73,
     "metadata": {},
     "output_type": "execute_result"
    }
   ],
   "source": [
    " np.any(a < b)"
   ]
  },
  {
   "cell_type": "code",
   "execution_count": 75,
   "id": "87f8802e",
   "metadata": {},
   "outputs": [
    {
     "name": "stdout",
     "output_type": "stream",
     "text": [
      "Some elements in a are smaller than their corresponding elemment in b\n"
     ]
    }
   ],
   "source": [
    "if np.all(a < b):\n",
    "    print(\"All elements in a are smaller than their corresponding element in b\")\n",
    "    \n",
    "elif np.any(a < b):\n",
    "    print(\"Some elements in a are smaller than their corresponding elemment in b\")\n",
    "        \n",
    "else:\n",
    "    print(\"All elements in b are smaller than their corresponding element in a\")"
   ]
  },
  {
   "cell_type": "code",
   "execution_count": 76,
   "id": "3ef35cc0",
   "metadata": {},
   "outputs": [
    {
     "data": {
      "text/plain": [
       "array([False, False, False,  True,  True])"
      ]
     },
     "execution_count": 76,
     "metadata": {},
     "output_type": "execute_result"
    }
   ],
   "source": [
    "\"\"\"\n",
    "The advantage of Boolean-valued arrays, however, is that they often make it possible to avoid \n",
    "conditional if statements altogether. By using Boolean-valued arrays in arithmetic expressions, it is possible \n",
    "to write conditional computations in vectorized form. When appearing in an arithmetic expression together \n",
    "with a scalar number, or another NumPy array with a numerical data type, a Boolean array is converted to a \n",
    "numerical-valued array with values 0 and 1 in place of False and True, respectively.\n",
    "\"\"\"\n",
    "\n",
    "x = np.array([-2, -1, 0, 1, 2])\n",
    "x > 0"
   ]
  },
  {
   "cell_type": "code",
   "execution_count": 77,
   "id": "9e45612c",
   "metadata": {},
   "outputs": [
    {
     "data": {
      "text/plain": [
       "array([0, 0, 0, 1, 1])"
      ]
     },
     "execution_count": 77,
     "metadata": {},
     "output_type": "execute_result"
    }
   ],
   "source": [
    "1 * (x > 0)"
   ]
  },
  {
   "cell_type": "code",
   "execution_count": 78,
   "id": "cdef0431",
   "metadata": {},
   "outputs": [
    {
     "data": {
      "text/plain": [
       "array([0, 0, 0, 1, 2])"
      ]
     },
     "execution_count": 78,
     "metadata": {},
     "output_type": "execute_result"
    }
   ],
   "source": [
    " x * (x > 0)"
   ]
  },
  {
   "cell_type": "code",
   "execution_count": null,
   "id": "61aa384e",
   "metadata": {},
   "outputs": [],
   "source": []
  }
 ],
 "metadata": {
  "kernelspec": {
   "display_name": "Python 3 (ipykernel)",
   "language": "python",
   "name": "python3"
  },
  "language_info": {
   "codemirror_mode": {
    "name": "ipython",
    "version": 3
   },
   "file_extension": ".py",
   "mimetype": "text/x-python",
   "name": "python",
   "nbconvert_exporter": "python",
   "pygments_lexer": "ipython3",
   "version": "3.10.7"
  },
  "vscode": {
   "interpreter": {
    "hash": "ba8088891657b5efda0065fd47e9ddf95b93561eda1c2203a8e0bf6b7a7f7133"
   }
  }
 },
 "nbformat": 4,
 "nbformat_minor": 5
}
