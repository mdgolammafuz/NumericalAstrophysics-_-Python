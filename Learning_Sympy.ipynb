{
 "cells": [
  {
   "cell_type": "code",
   "execution_count": 3,
   "id": "a62ed32f",
   "metadata": {
    "vscode": {
     "languageId": "python"
    }
   },
   "outputs": [],
   "source": [
    "import sympy\n",
    "sympy.init_printing()\n"
   ]
  },
  {
   "cell_type": "code",
   "execution_count": 4,
   "id": "f534e91f",
   "metadata": {
    "vscode": {
     "languageId": "python"
    }
   },
   "outputs": [],
   "source": [
    "# from sympy import I, pi, oo"
   ]
  },
  {
   "attachments": {},
   "cell_type": "markdown",
   "id": "6fef2a12",
   "metadata": {},
   "source": [
    "# Caution"
   ]
  },
  {
   "cell_type": "code",
   "execution_count": 5,
   "id": "2bf38de0",
   "metadata": {
    "vscode": {
     "languageId": "python"
    }
   },
   "outputs": [],
   "source": [
    "\"\"\"Note that NumPy and SymPy, as well as many other libraries, provide many functions and \n",
    "variables with the same name. But these symbols are rarely interchangeable. For example, numpy.pi is a \n",
    "numerical approximation of the mathematical symbol p, while sympy.pi is a symbolic representation of p. \n",
    "It is therefore important to not mix them up, and use for instance numpy.pi in place of sympy.pi when doing \n",
    "symbolic computations, or vice versa. The same holds true for many fundamental mathematical functions, such \n",
    "as, for example, numpy.sin versus sympy.sin. Therefore, when using more than one package in computing \n",
    "with Python it is important to consistently use namespaces.\n",
    "\"\"\""
   ]
  },
  {
   "cell_type": "markdown",
   "id": "a09dd15b",
   "metadata": {},
   "source": [
    "# Symbols\n",
    "\n",
    "SymPy represents mathematical symbols as Python objects."
   ]
  },
  {
   "cell_type": "code",
   "execution_count": 6,
   "id": "d654ac43",
   "metadata": {
    "vscode": {
     "languageId": "python"
    }
   },
   "outputs": [],
   "source": [
    "# we can use the constructor of the Symbol class\n",
    "\n",
    "x = sympy.Symbol(\"x\") # or sympy.symbols(\"x\")"
   ]
  },
  {
   "cell_type": "code",
   "execution_count": 7,
   "id": "48dbd51f",
   "metadata": {
    "vscode": {
     "languageId": "python"
    }
   },
   "outputs": [],
   "source": [
    "y = sympy.Symbol(\"y\",real=True)\n",
    "y.is_real"
   ]
  },
  {
   "cell_type": "code",
   "execution_count": 8,
   "id": "30c0779c",
   "metadata": {
    "vscode": {
     "languageId": "python"
    }
   },
   "outputs": [],
   "source": [
    "\n",
    "\"\"\"\n",
    "Note that the is_real returns True if the symbol is known to be real, False if the symbol is known to not \n",
    "be real, and None if it is not known if the symbol is real or not.\n",
    "\n",
    "\"\"\"\n",
    "x.is_real is None"
   ]
  },
  {
   "cell_type": "code",
   "execution_count": 9,
   "id": "8a43d78e",
   "metadata": {
    "vscode": {
     "languageId": "python"
    }
   },
   "outputs": [],
   "source": [
    "sympy.Symbol(\"z\",imaginary=True).is_real"
   ]
  },
  {
   "cell_type": "code",
   "execution_count": 10,
   "id": "c32ffaa8",
   "metadata": {
    "vscode": {
     "languageId": "python"
    }
   },
   "outputs": [],
   "source": [
    "\"\"\"\n",
    "real, imaginary is_real, is_imaginary Specify that a symbol represents a real \n",
    "or imaginary number.\n",
    "\n",
    "positive, negative is_positive, is_negative Specify that a symbol is positive or \n",
    "negative.\n",
    "\n",
    "integer is_integer The symbol represents an integer.\n",
    "odd, even is_odd, is_even The symbol represents an odd or even \n",
    "integer.\n",
    "\n",
    "prime is_prime The symbol is a prime number, and is \n",
    "therefore also an integer.\n",
    "\n",
    "finite, infinite is_finite, is_infinite The symbol represents a quantity that \n",
    "is finite or infinite.\n",
    "\"\"\""
   ]
  },
  {
   "cell_type": "code",
   "execution_count": 11,
   "id": "b8fad6dc",
   "metadata": {
    "vscode": {
     "languageId": "python"
    }
   },
   "outputs": [
    {
     "data": {
      "text/markdown": [
       "sqrt(x**2)\n"
      ]
     },
     "execution_count": 11,
     "metadata": {},
     "output_type": "execute_result"
    }
   ],
   "source": [
    "import sympy\n",
    "x = sympy.Symbol(\"x\")\n",
    "y = sympy.Symbol(\"y\", positive=True)\n",
    "print(sympy.sqrt(x**2))\n",
    "sympy.sqrt(y ** 2)"
   ]
  },
  {
   "cell_type": "code",
   "execution_count": 12,
   "id": "373316de",
   "metadata": {
    "vscode": {
     "languageId": "python"
    }
   },
   "outputs": [],
   "source": [
    "\"\"\"\n",
    "Here we have created two symbols, x and y, and computed the square root of the square of that symbol \n",
    "using the SymPy function sympy.sqrt. If nothing is known about the symbol in the computation, then no \n",
    "simplification can be done. If, on the other hand, the symbol is known to be representing a positive number, \n",
    "then obviously y y 2 = and SymPy correctly recognize this in the latter example.\n",
    "When working with mathematical symbols that represent integers, rather than real numbers, it is also \n",
    "useful to explicitly specify this when creating the corresponding SymPy symbols, using, for example, the \n",
    "integer=True, or even=True or odd=True, if applicable. This may also allow SymPy to analytically simplify \n",
    "certain expressions and function evaluations\n",
    "\"\"\""
   ]
  },
  {
   "cell_type": "code",
   "execution_count": 13,
   "id": "276b2b4c",
   "metadata": {
    "vscode": {
     "languageId": "python"
    }
   },
   "outputs": [],
   "source": [
    "import sympy\n",
    "from sympy import I,pi\n",
    "n1 = sympy.Symbol(\"n\")\n",
    "n2 = sympy.Symbol(\"n\",integer=True)\n",
    "n3 = sympy.Symbol(\"n\",odd=True)\n",
    "sympy.cos(n1 * pi)"
   ]
  },
  {
   "cell_type": "code",
   "execution_count": 14,
   "id": "8181de5a",
   "metadata": {
    "vscode": {
     "languageId": "python"
    }
   },
   "outputs": [],
   "source": [
    "sympy.cos(n2 * pi)"
   ]
  },
  {
   "cell_type": "code",
   "execution_count": 15,
   "id": "dbe0bf7f",
   "metadata": {
    "vscode": {
     "languageId": "python"
    }
   },
   "outputs": [],
   "source": [
    "sympy.cos(n3 * pi)"
   ]
  },
  {
   "cell_type": "code",
   "execution_count": 16,
   "id": "c1b774d6",
   "metadata": {
    "vscode": {
     "languageId": "python"
    }
   },
   "outputs": [],
   "source": [
    "a, b, c = sympy.symbols(\"a, b, c\", negative=True)\n",
    "d, e, f = sympy.symbols(\"d, e, f\", positive=True)"
   ]
  },
  {
   "cell_type": "markdown",
   "id": "6fc7ec25",
   "metadata": {},
   "source": [
    "# Numbers"
   ]
  },
  {
   "cell_type": "code",
   "execution_count": 17,
   "id": "a1dbf8f6",
   "metadata": {
    "vscode": {
     "languageId": "python"
    }
   },
   "outputs": [],
   "source": [
    "i = sympy.Integer(19) # different from Python's built in int objects\n",
    "type(i)"
   ]
  },
  {
   "cell_type": "code",
   "execution_count": 18,
   "id": "5d1b57ed",
   "metadata": {
    "vscode": {
     "languageId": "python"
    }
   },
   "outputs": [],
   "source": [
    "i.is_Integer, i.is_real, i.is_odd # type: ignore"
   ]
  },
  {
   "cell_type": "code",
   "execution_count": 19,
   "id": "d07d68d6",
   "metadata": {
    "vscode": {
     "languageId": "python"
    }
   },
   "outputs": [],
   "source": [
    "f = sympy.Float(2.3)\n",
    "type(f)"
   ]
  },
  {
   "cell_type": "code",
   "execution_count": 20,
   "id": "bee3b5b9",
   "metadata": {
    "vscode": {
     "languageId": "python"
    }
   },
   "outputs": [],
   "source": [
    "sympy.core.numbers.Float\n",
    "f.is_Integer, f.is_real, f.is_odd # type: ignore"
   ]
  },
  {
   "cell_type": "markdown",
   "id": "de6c9c0a",
   "metadata": {},
   "source": [
    "We can cast instances of sympy.Integer and sympy.Float back to Python built-in types using the \n",
    "standard type casting int(i) and float(f)."
   ]
  },
  {
   "cell_type": "code",
   "execution_count": 21,
   "id": "21a50a1d",
   "metadata": {
    "vscode": {
     "languageId": "python"
    }
   },
   "outputs": [],
   "source": [
    "i,f = sympy.sympify(19), sympy.sympify(2.3)\n",
    "type(i), type(f)"
   ]
  },
  {
   "cell_type": "markdown",
   "id": "a22d7e9e",
   "metadata": {},
   "source": []
  },
  {
   "cell_type": "code",
   "execution_count": 30,
   "id": "2a7e2235",
   "metadata": {
    "vscode": {
     "languageId": "python"
    }
   },
   "outputs": [],
   "source": [
    "n = sympy.Symbol(\"n\", integer=True)\n",
    "n.is_integer, n.is_Integer, n.is_positive, n.is_Symbol # type : ignore"
   ]
  },
  {
   "cell_type": "code",
   "execution_count": 28,
   "id": "ba5b4b86",
   "metadata": {
    "vscode": {
     "languageId": "python"
    }
   },
   "outputs": [],
   "source": [
    "i = sympy.Integer(19)\n",
    "i.is_integer, i.is_Integer, i.is_positive, i.is_Symbol # type : ignore"
   ]
  },
  {
   "cell_type": "code",
   "execution_count": 29,
   "id": "fb8778a7",
   "metadata": {
    "vscode": {
     "languageId": "python"
    }
   },
   "outputs": [],
   "source": [
    "i ** 50"
   ]
  },
  {
   "cell_type": "code",
   "execution_count": 31,
   "id": "1d71292f",
   "metadata": {
    "vscode": {
     "languageId": "python"
    }
   },
   "outputs": [],
   "source": [
    "sympy.factorial(100)"
   ]
  },
  {
   "cell_type": "code",
   "execution_count": 32,
   "id": "c194c6a9",
   "metadata": {
    "vscode": {
     "languageId": "python"
    }
   },
   "outputs": [],
   "source": [
    "\"%.25f\" % 0.3 # create a string representation with 25 decimals"
   ]
  },
  {
   "cell_type": "code",
   "execution_count": 34,
   "id": "f52b309e",
   "metadata": {
    "vscode": {
     "languageId": "python"
    }
   },
   "outputs": [],
   "source": [
    "sympy.Float(0.3,25)"
   ]
  },
  {
   "cell_type": "code",
   "execution_count": 35,
   "id": "ea1c3e0d",
   "metadata": {
    "vscode": {
     "languageId": "python"
    }
   },
   "outputs": [],
   "source": [
    "sympy.Float('0.3',25)"
   ]
  },
  {
   "cell_type": "markdown",
   "id": "52f0e43b",
   "metadata": {},
   "source": [
    "# Rational"
   ]
  },
  {
   "cell_type": "code",
   "execution_count": 36,
   "id": "8bae5ab3",
   "metadata": {
    "vscode": {
     "languageId": "python"
    }
   },
   "outputs": [],
   "source": [
    "sympy.Rational(11,14)"
   ]
  },
  {
   "cell_type": "code",
   "execution_count": 37,
   "id": "9ba44ecb",
   "metadata": {
    "vscode": {
     "languageId": "python"
    }
   },
   "outputs": [],
   "source": [
    "r1 = sympy.Rational(2,3)\n",
    "r2 = sympy.Rational(4,5)"
   ]
  },
  {
   "cell_type": "code",
   "execution_count": 38,
   "id": "aad04a40",
   "metadata": {
    "vscode": {
     "languageId": "python"
    }
   },
   "outputs": [],
   "source": [
    "r1 / r2"
   ]
  },
  {
   "cell_type": "markdown",
   "id": "5c07df42",
   "metadata": {},
   "source": [
    "# Constants and Special Symbols"
   ]
  },
  {
   "cell_type": "code",
   "execution_count": 39,
   "id": "76a7bf80",
   "metadata": {
    "vscode": {
     "languageId": "python"
    }
   },
   "outputs": [],
   "source": [
    "\"\"\"\n",
    "p sympy.pi Ratio of the circumference to the diameter of a circle.\n",
    "e sympy.E The base of the natural logarithm e = exp 1( ).\n",
    "g sympy.EulerGamma Euler’s constant.\n",
    "i sympy.I The imaginary unit.\n",
    "∞ sympy.oo Infinity.\n",
    "\"\"\""
   ]
  },
  {
   "cell_type": "markdown",
   "id": "fc9ff6b4",
   "metadata": {},
   "source": [
    "# Functions"
   ]
  },
  {
   "cell_type": "code",
   "execution_count": 42,
   "id": "f334b5a9",
   "metadata": {
    "vscode": {
     "languageId": "python"
    }
   },
   "outputs": [],
   "source": [
    "x, y, z = sympy.symbols(\"x, y, z\")\n",
    "f = sympy.Function(\"f\")\n",
    "type(f)"
   ]
  },
  {
   "cell_type": "code",
   "execution_count": 46,
   "id": "c05ee876",
   "metadata": {
    "vscode": {
     "languageId": "python"
    }
   },
   "outputs": [],
   "source": [
    "f(x) # type: ignore"
   ]
  },
  {
   "cell_type": "code",
   "execution_count": 48,
   "id": "889f7da7",
   "metadata": {
    "vscode": {
     "languageId": "python"
    }
   },
   "outputs": [],
   "source": [
    "g = sympy.Function(\"g\")(x, y, z) # type: ignore\n",
    "g"
   ]
  },
  {
   "cell_type": "code",
   "execution_count": 49,
   "id": "940ad3c1",
   "metadata": {
    "vscode": {
     "languageId": "python"
    }
   },
   "outputs": [],
   "source": [
    "g.free_symbols"
   ]
  },
  {
   "cell_type": "code",
   "execution_count": 50,
   "id": "24450986",
   "metadata": {
    "vscode": {
     "languageId": "python"
    }
   },
   "outputs": [],
   "source": [
    "sympy.sin\n",
    "sympy.sin(x)\n",
    "sympy.sin(pi * 1.5)"
   ]
  },
  {
   "cell_type": "code",
   "execution_count": 51,
   "id": "e47b6f08",
   "metadata": {
    "vscode": {
     "languageId": "python"
    }
   },
   "outputs": [],
   "source": [
    "n = sympy.Symbol(\"n\", integer=True)\n",
    "sympy.sin(pi * n)"
   ]
  },
  {
   "cell_type": "markdown",
   "id": "ed856308",
   "metadata": {},
   "source": [
    "# Lambda Function"
   ]
  },
  {
   "cell_type": "code",
   "execution_count": 52,
   "id": "d31948dc",
   "metadata": {
    "vscode": {
     "languageId": "python"
    }
   },
   "outputs": [],
   "source": [
    "h = sympy.Lambda(x,x**2)\n",
    "h"
   ]
  },
  {
   "cell_type": "code",
   "execution_count": 53,
   "id": "59262d2a",
   "metadata": {
    "vscode": {
     "languageId": "python"
    }
   },
   "outputs": [],
   "source": [
    "h(5)"
   ]
  },
  {
   "cell_type": "code",
   "execution_count": 55,
   "id": "63175f32",
   "metadata": {
    "vscode": {
     "languageId": "python"
    }
   },
   "outputs": [],
   "source": [
    "h(1+x)\n",
    "h"
   ]
  },
  {
   "cell_type": "markdown",
   "id": "e5341404",
   "metadata": {},
   "source": [
    "# Expressions"
   ]
  },
  {
   "cell_type": "code",
   "execution_count": 57,
   "id": "4df1500d",
   "metadata": {
    "vscode": {
     "languageId": "python"
    }
   },
   "outputs": [],
   "source": [
    "x = sympy.Symbol(\"x\")\n",
    "expr = 1 + 2 * x**2 + 3 * x**3 # type : ignore"
   ]
  },
  {
   "cell_type": "code",
   "execution_count": 58,
   "id": "066709a9",
   "metadata": {
    "vscode": {
     "languageId": "python"
    }
   },
   "outputs": [],
   "source": [
    "expr.args"
   ]
  },
  {
   "cell_type": "code",
   "execution_count": 59,
   "id": "9a320c06",
   "metadata": {
    "vscode": {
     "languageId": "python"
    }
   },
   "outputs": [],
   "source": [
    "expr.args[1]"
   ]
  },
  {
   "cell_type": "code",
   "execution_count": 60,
   "id": "d9bb6cd4",
   "metadata": {
    "vscode": {
     "languageId": "python"
    }
   },
   "outputs": [],
   "source": [
    "expr.args[1].args[1]"
   ]
  },
  {
   "cell_type": "code",
   "execution_count": 61,
   "id": "32195027",
   "metadata": {
    "vscode": {
     "languageId": "python"
    }
   },
   "outputs": [],
   "source": [
    "expr.args[1].args[1].args[0]"
   ]
  },
  {
   "cell_type": "code",
   "execution_count": 62,
   "id": "3bcd421f",
   "metadata": {
    "vscode": {
     "languageId": "python"
    }
   },
   "outputs": [],
   "source": [
    "expr.args[1].args[1].args[0].args"
   ]
  },
  {
   "cell_type": "markdown",
   "id": "3efa6e7b",
   "metadata": {},
   "source": [
    "# Manipulating Expressions"
   ]
  },
  {
   "cell_type": "markdown",
   "id": "f29b98b7",
   "metadata": {},
   "source": [
    "Simplification"
   ]
  },
  {
   "cell_type": "code",
   "execution_count": 64,
   "id": "ef3d3ad1",
   "metadata": {
    "vscode": {
     "languageId": "python"
    }
   },
   "outputs": [],
   "source": [
    "expr = 2 * (x**2 - x) - x * (x + 1) # type: ignore\n",
    "expr"
   ]
  },
  {
   "cell_type": "code",
   "execution_count": 65,
   "id": "2c6cbe7c",
   "metadata": {
    "vscode": {
     "languageId": "python"
    }
   },
   "outputs": [],
   "source": [
    "sympy.simplify(expr)\n",
    "expr.simplify()"
   ]
  },
  {
   "cell_type": "code",
   "execution_count": 66,
   "id": "95d02015",
   "metadata": {
    "vscode": {
     "languageId": "python"
    }
   },
   "outputs": [],
   "source": [
    "expr"
   ]
  },
  {
   "cell_type": "code",
   "execution_count": 67,
   "id": "7e036caf",
   "metadata": {
    "vscode": {
     "languageId": "python"
    }
   },
   "outputs": [],
   "source": [
    "expr = 2 * sympy.cos(x) * sympy.sin(x)  # type: ignore\n",
    "expr"
   ]
  },
  {
   "cell_type": "code",
   "execution_count": 68,
   "id": "26e3a028",
   "metadata": {
    "vscode": {
     "languageId": "python"
    }
   },
   "outputs": [],
   "source": [
    "sympy.simplify(expr)"
   ]
  },
  {
   "cell_type": "code",
   "execution_count": 69,
   "id": "eb325844",
   "metadata": {
    "vscode": {
     "languageId": "python"
    }
   },
   "outputs": [],
   "source": [
    "expr = sympy.exp(x) * sympy.exp(y) # type: ignore\n",
    "expr"
   ]
  },
  {
   "cell_type": "code",
   "execution_count": 70,
   "id": "844deb4d",
   "metadata": {
    "vscode": {
     "languageId": "python"
    }
   },
   "outputs": [],
   "source": [
    "sympy.simplify(expr)"
   ]
  },
  {
   "cell_type": "code",
   "execution_count": 71,
   "id": "b13d2a54",
   "metadata": {
    "vscode": {
     "languageId": "python"
    }
   },
   "outputs": [],
   "source": [
    "\"\"\"\n",
    "sympy.simplify Attempt various methods and approaches to obtain a simpler form of a given \n",
    "expression.\n",
    "sympy.trigsimp Attempt to simplify an expression using trigonometric identities.\n",
    "sympy.p≥owsimp Attempt to simplify an expression using laws of powers.\n",
    "sympy.5\n",
    " Simplify combinatorial expressions.\n",
    "sympy.ratsimp Simplify an expression by writing on a common denominator.\n",
    "\"\"\""
   ]
  },
  {
   "cell_type": "markdown",
   "id": "b7b97ea2",
   "metadata": {},
   "source": [
    "Expand"
   ]
  },
  {
   "cell_type": "code",
   "execution_count": 73,
   "id": "53a28643",
   "metadata": {
    "vscode": {
     "languageId": "python"
    }
   },
   "outputs": [],
   "source": [
    "expr = (x + 1) * (x + 2) # type: ignore\n",
    "sympy.expand(expr)"
   ]
  },
  {
   "cell_type": "code",
   "execution_count": 74,
   "id": "18a701b8",
   "metadata": {
    "vscode": {
     "languageId": "python"
    }
   },
   "outputs": [],
   "source": [
    "sympy.sin(x + y).expand(trig=True)"
   ]
  },
  {
   "cell_type": "code",
   "execution_count": 75,
   "id": "9464f009",
   "metadata": {
    "vscode": {
     "languageId": "python"
    }
   },
   "outputs": [],
   "source": [
    "a, b = sympy.symbols(\"a, b\", positive=True)\n",
    "sympy.log(a * b).expand(log=True)"
   ]
  },
  {
   "cell_type": "code",
   "execution_count": 76,
   "id": "440aea2c",
   "metadata": {
    "vscode": {
     "languageId": "python"
    }
   },
   "outputs": [],
   "source": [
    "sympy.exp(I*a + b).expand(complex=True)"
   ]
  },
  {
   "cell_type": "code",
   "execution_count": 77,
   "id": "51add6d6",
   "metadata": {
    "vscode": {
     "languageId": "python"
    }
   },
   "outputs": [],
   "source": [
    "sympy.expand((a * b)**x, power_base=True)"
   ]
  },
  {
   "cell_type": "code",
   "execution_count": 78,
   "id": "cf73f3b4",
   "metadata": {
    "vscode": {
     "languageId": "python"
    }
   },
   "outputs": [],
   "source": [
    "sympy.exp((a-b)*x).expand(power_exp=True)"
   ]
  },
  {
   "cell_type": "markdown",
   "id": "28e16704",
   "metadata": {},
   "source": [
    "Factor, Collect, and Combine"
   ]
  },
  {
   "cell_type": "code",
   "execution_count": 80,
   "id": "52ee9a52",
   "metadata": {
    "vscode": {
     "languageId": "python"
    }
   },
   "outputs": [],
   "source": [
    "sympy.factor(x * sympy.cos(y) + sympy.sin(z) * x) # type: ignore"
   ]
  },
  {
   "cell_type": "code",
   "execution_count": 82,
   "id": "9205ffaf",
   "metadata": {
    "vscode": {
     "languageId": "python"
    }
   },
   "outputs": [],
   "source": [
    "sympy.factor(x**2 - 1) # type: ignore"
   ]
  },
  {
   "cell_type": "code",
   "execution_count": 84,
   "id": "5d1b1dcd",
   "metadata": {
    "vscode": {
     "languageId": "python"
    }
   },
   "outputs": [],
   "source": [
    "sympy.logcombine(sympy.log(a) - sympy.log(b)) # type: ignore"
   ]
  },
  {
   "cell_type": "code",
   "execution_count": 85,
   "id": "0c723466",
   "metadata": {
    "vscode": {
     "languageId": "python"
    }
   },
   "outputs": [],
   "source": [
    "expr = x + y + x * y * z\n",
    "expr.collect(x)"
   ]
  },
  {
   "cell_type": "code",
   "execution_count": 86,
   "id": "50245066",
   "metadata": {
    "vscode": {
     "languageId": "python"
    }
   },
   "outputs": [],
   "source": [
    "expr.collect(y)"
   ]
  },
  {
   "cell_type": "code",
   "execution_count": 88,
   "id": "1af2983a",
   "metadata": {
    "vscode": {
     "languageId": "python"
    }
   },
   "outputs": [],
   "source": [
    "expr = sympy.cos(x + y) + sympy.sin(x - y) # type: ignore\n",
    "expr.expand(trig=True).collect([sympy.cos(x),\n",
    " sympy.sin(x)]).collect(sympy.cos(y) - sympy.sin(y)) # type: ignore"
   ]
  },
  {
   "cell_type": "markdown",
   "id": "8c0c60ac",
   "metadata": {},
   "source": [
    "Apart, Together, and Cancel"
   ]
  },
  {
   "cell_type": "code",
   "execution_count": 90,
   "id": "db51572e",
   "metadata": {
    "vscode": {
     "languageId": "python"
    }
   },
   "outputs": [],
   "source": [
    "import sympy\n",
    "sympy.apart(1/(x**2 + 3*x + 2), x) # type: ignore"
   ]
  },
  {
   "cell_type": "code",
   "execution_count": 91,
   "id": "50a41252",
   "metadata": {
    "vscode": {
     "languageId": "python"
    }
   },
   "outputs": [],
   "source": [
    "import sympy\n",
    "sympy.factor(1/(x**2 + 3*x + 2), x) # type: ignore\n"
   ]
  },
  {
   "cell_type": "code",
   "execution_count": 92,
   "id": "16f2581d",
   "metadata": {
    "vscode": {
     "languageId": "python"
    }
   },
   "outputs": [],
   "source": [
    "sympy.together(1 / (y * x + y) + 1 / (1+x)) # type: ignore"
   ]
  },
  {
   "cell_type": "code",
   "execution_count": 93,
   "id": "46f8e307",
   "metadata": {
    "vscode": {
     "languageId": "python"
    }
   },
   "outputs": [],
   "source": [
    "sympy.cancel(y / (y * x + y))"
   ]
  },
  {
   "cell_type": "markdown",
   "id": "637b386c",
   "metadata": {},
   "source": [
    "Substitutions"
   ]
  },
  {
   "cell_type": "code",
   "execution_count": 94,
   "id": "10aaf48a",
   "metadata": {
    "vscode": {
     "languageId": "python"
    }
   },
   "outputs": [],
   "source": [
    "import sympy\n",
    "x,y,z = sympy.symbols(\"x,y,z\")\n",
    "(x+y).subs(x,y)"
   ]
  },
  {
   "cell_type": "code",
   "execution_count": 95,
   "id": "655ddef1",
   "metadata": {
    "vscode": {
     "languageId": "python"
    }
   },
   "outputs": [],
   "source": [
    "sympy.sin(x * sympy.exp(x)).subs(x,y)"
   ]
  },
  {
   "cell_type": "code",
   "execution_count": 96,
   "id": "f8d5abbf",
   "metadata": {
    "vscode": {
     "languageId": "python"
    }
   },
   "outputs": [],
   "source": [
    "sympy.sin(x * z).subs({z: sympy.exp(y), x: y, sympy.sin: sympy.cos})"
   ]
  },
  {
   "cell_type": "code",
   "execution_count": 97,
   "id": "499dbfd4",
   "metadata": {
    "vscode": {
     "languageId": "python"
    }
   },
   "outputs": [],
   "source": [
    "expr = x * y + z**2 *x\n",
    "values = {x: 1.25, y: 0.4, z: 3.2}\n",
    "expr.subs(values)"
   ]
  },
  {
   "cell_type": "markdown",
   "id": "07f2b095",
   "metadata": {},
   "source": [
    "Numerical Evaluation : \n",
    "Even when working with symbolic mathematics, it is almost invariably sooner or later required to evaluate \n",
    "the symbolic expressions numerically, for example, when producing plots or concrete numerical results. \n",
    "A SymPy expression can be evaluated using either the sympy.N function, or the evalf method of SymPy \n",
    "expression instances"
   ]
  },
  {
   "cell_type": "code",
   "execution_count": 98,
   "id": "17f29d8a",
   "metadata": {
    "vscode": {
     "languageId": "python"
    }
   },
   "outputs": [],
   "source": [
    "sympy.N(1 + pi)\n",
    "sympy.N(pi, 50)"
   ]
  },
  {
   "cell_type": "code",
   "execution_count": 99,
   "id": "c7a9bbf4",
   "metadata": {
    "vscode": {
     "languageId": "python"
    }
   },
   "outputs": [],
   "source": [
    "(x + 1/pi).evalf(10)"
   ]
  },
  {
   "cell_type": "code",
   "execution_count": 101,
   "id": "1a7b9dfe",
   "metadata": {
    "vscode": {
     "languageId": "python"
    }
   },
   "outputs": [],
   "source": [
    "expr = sympy.sin(pi * x * sympy.exp(x))\n",
    "[expr.subs(x, xx).evalf(3) for xx in range(0,10)] # type: ignore"
   ]
  },
  {
   "cell_type": "code",
   "execution_count": 102,
   "id": "6a9334e4",
   "metadata": {
    "vscode": {
     "languageId": "python"
    }
   },
   "outputs": [],
   "source": [
    "expr_func = sympy.lambdify(x,expr)\n",
    "expr_func(1.0)"
   ]
  },
  {
   "cell_type": "code",
   "execution_count": 103,
   "id": "1a9cf9e6",
   "metadata": {
    "vscode": {
     "languageId": "python"
    }
   },
   "outputs": [],
   "source": [
    "\"\"\"\n",
    "The following \n",
    "code exemplifies how the SymPy expression expr is converted into a NumPy-array aware vectorized \n",
    "function that can be efficiently evaluated\n",
    "\"\"\""
   ]
  },
  {
   "cell_type": "code",
   "execution_count": 104,
   "id": "04be1476",
   "metadata": {
    "vscode": {
     "languageId": "python"
    }
   },
   "outputs": [],
   "source": [
    "expr_func = sympy.lambdify(x,expr,'numpy')\n",
    "import numpy as np\n",
    "x_values = np.arange(0,10)\n",
    "expr_func(x_values)"
   ]
  }
 ],
 "metadata": {
  "kernelspec": {
   "display_name": "Cadabra",
   "language": "python",
   "name": "cadabra"
  },
  "language_info": {
   "file_extension": ".cdb",
   "mimetype": "text/cadabra",
   "name": "cadabra",
   "version": "2.0.0"
  }
 },
 "nbformat": 4,
 "nbformat_minor": 5
}
