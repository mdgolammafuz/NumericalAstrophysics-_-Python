{
 "cells": [
  {
   "cell_type": "code",
   "execution_count": 123,
   "id": "92a007e6",
   "metadata": {},
   "outputs": [
    {
     "data": {
      "text/plain": [
       "'This notebook introduces computer-assisted symbolic computing using Python and the SymPy library. \\nAlthough analytical and numerical techniques are often considered separately, it is a fact that analytical \\nmethods underpin everything in computing, and are essential in developing algorithms and numerical \\nmethods. Whether analytical mathematics is carried by hand, or using a computer algebra system such as \\nSymPy, it is an essential tool for computational work. The view and approach that I would like to encourage \\nis therefore the following: analytical and numerical methods are closely intertwined, and it is often \\nworthwhile to start analyzing a computational problem with analytical and symbolic methods. When such \\nmethods turn out to be unfeasible, it is time to resort to numerical methods. However, by directly applying \\nnumerical methods to a problem, before analyzing it analytically, it is likely that one ends up solving a more \\ndifficult computational problem than is really necessary.'"
      ]
     },
     "execution_count": 123,
     "metadata": {},
     "output_type": "execute_result"
    }
   ],
   "source": [
    "\"\"\"This notebook introduces computer-assisted symbolic computing using Python and the SymPy library. \n",
    "Although analytical and numerical techniques are often considered separately, it is a fact that analytical \n",
    "methods underpin everything in computing, and are essential in developing algorithms and numerical \n",
    "methods. Whether analytical mathematics is carried by hand, or using a computer algebra system such as \n",
    "SymPy, it is an essential tool for computational work. The view and approach that I would like to encourage \n",
    "is therefore the following: analytical and numerical methods are closely intertwined, and it is often \n",
    "worthwhile to start analyzing a computational problem with analytical and symbolic methods. When such \n",
    "methods turn out to be unfeasible, it is time to resort to numerical methods. However, by directly applying \n",
    "numerical methods to a problem, before analyzing it analytically, it is likely that one ends up solving a more \n",
    "difficult computational problem than is really necessary.\"\"\""
   ]
  },
  {
   "cell_type": "markdown",
   "id": "4bb49641",
   "metadata": {},
   "source": [
    "Importing SymPy"
   ]
  },
  {
   "cell_type": "code",
   "execution_count": 124,
   "id": "a62ed32f",
   "metadata": {},
   "outputs": [],
   "source": [
    "import sympy\n",
    "sympy.init_printing()"
   ]
  },
  {
   "cell_type": "code",
   "execution_count": 125,
   "id": "f534e91f",
   "metadata": {},
   "outputs": [],
   "source": [
    "from sympy import I, pi, oo"
   ]
  },
  {
   "cell_type": "markdown",
   "id": "6fef2a12",
   "metadata": {},
   "source": [
    "Caution"
   ]
  },
  {
   "cell_type": "code",
   "execution_count": 126,
   "id": "2bf38de0",
   "metadata": {},
   "outputs": [
    {
     "data": {
      "text/plain": [
       "'Note that NumPy and SymPy, as well as many other libraries, provide many functions and \\nvariables with the same name. But these symbols are rarely interchangeable. For example, numpy.pi is a \\nnumerical approximation of the mathematical symbol p, while sympy.pi is a symbolic representation of p. \\nIt is therefore important to not mix them up, and use for instance numpy.pi in place of sympy.pi when doing \\nsymbolic computations, or vice versa. The same holds true for many fundamental mathematical functions, such \\nas, for example, numpy.sin versus sympy.sin. Therefore, when using more than one package in computing \\nwith Python it is important to consistently use namespaces.\\n'"
      ]
     },
     "execution_count": 126,
     "metadata": {},
     "output_type": "execute_result"
    }
   ],
   "source": [
    "\"\"\"Note that NumPy and SymPy, as well as many other libraries, provide many functions and \n",
    "variables with the same name. But these symbols are rarely interchangeable. For example, numpy.pi is a \n",
    "numerical approximation of the mathematical symbol p, while sympy.pi is a symbolic representation of p. \n",
    "It is therefore important to not mix them up, and use for instance numpy.pi in place of sympy.pi when doing \n",
    "symbolic computations, or vice versa. The same holds true for many fundamental mathematical functions, such \n",
    "as, for example, numpy.sin versus sympy.sin. Therefore, when using more than one package in computing \n",
    "with Python it is important to consistently use namespaces.\n",
    "\"\"\""
   ]
  },
  {
   "cell_type": "markdown",
   "id": "a09dd15b",
   "metadata": {},
   "source": [
    "# Symbols\n",
    "\n",
    "SymPy represents mathematical symbols as Python objects."
   ]
  },
  {
   "cell_type": "code",
   "execution_count": 127,
   "id": "d654ac43",
   "metadata": {},
   "outputs": [],
   "source": [
    "# we can use the constructor of the Symbol class\n",
    "\n",
    "x = sympy.Symbol(\"x\") # or sympy.symbols(\"x\")"
   ]
  },
  {
   "cell_type": "code",
   "execution_count": 128,
   "id": "48dbd51f",
   "metadata": {},
   "outputs": [
    {
     "data": {
      "text/plain": [
       "True"
      ]
     },
     "execution_count": 128,
     "metadata": {},
     "output_type": "execute_result"
    }
   ],
   "source": [
    "y = sympy.Symbol(\"y\", real=True)\n",
    "y.is_real"
   ]
  },
  {
   "cell_type": "code",
   "execution_count": 129,
   "id": "30c0779c",
   "metadata": {},
   "outputs": [
    {
     "data": {
      "text/plain": [
       "True"
      ]
     },
     "execution_count": 129,
     "metadata": {},
     "output_type": "execute_result"
    }
   ],
   "source": [
    "\n",
    "\"\"\"\n",
    "Note that the is_real returns True if the symbol is known to be real, False if the symbol is known to not \n",
    "be real, and None if it is not known if the symbol is real or not.\n",
    "\n",
    "\"\"\"\n",
    "x.is_real is None"
   ]
  },
  {
   "cell_type": "code",
   "execution_count": 130,
   "id": "8a43d78e",
   "metadata": {},
   "outputs": [
    {
     "data": {
      "text/plain": [
       "False"
      ]
     },
     "execution_count": 130,
     "metadata": {},
     "output_type": "execute_result"
    }
   ],
   "source": [
    " sympy.Symbol(\"z\", imaginary=True).is_real"
   ]
  },
  {
   "cell_type": "code",
   "execution_count": 131,
   "id": "c32ffaa8",
   "metadata": {},
   "outputs": [
    {
     "data": {
      "text/plain": [
       "'\\nreal, imaginary is_real, is_imaginary Specify that a symbol represents a real \\nor imaginary number.\\n\\npositive, negative is_positive, is_negative Specify that a symbol is positive or \\nnegative.\\n\\ninteger is_integer The symbol represents an integer.\\nodd, even is_odd, is_even The symbol represents an odd or even \\ninteger.\\n\\nprime is_prime The symbol is a prime number, and is \\ntherefore also an integer.\\n\\nfinite, infinite is_finite, is_infinite The symbol represents a quantity that \\nis finite or infinite.\\n'"
      ]
     },
     "execution_count": 131,
     "metadata": {},
     "output_type": "execute_result"
    }
   ],
   "source": [
    "\"\"\"\n",
    "real, imaginary is_real, is_imaginary Specify that a symbol represents a real \n",
    "or imaginary number.\n",
    "\n",
    "positive, negative is_positive, is_negative Specify that a symbol is positive or \n",
    "negative.\n",
    "\n",
    "integer is_integer The symbol represents an integer.\n",
    "odd, even is_odd, is_even The symbol represents an odd or even \n",
    "integer.\n",
    "\n",
    "prime is_prime The symbol is a prime number, and is \n",
    "therefore also an integer.\n",
    "\n",
    "finite, infinite is_finite, is_infinite The symbol represents a quantity that \n",
    "is finite or infinite.\n",
    "\"\"\""
   ]
  },
  {
   "cell_type": "code",
   "execution_count": 132,
   "id": "b8fad6dc",
   "metadata": {},
   "outputs": [
    {
     "name": "stdout",
     "output_type": "stream",
     "text": [
      "sqrt(x**2)\n"
     ]
    },
    {
     "data": {
      "image/png": "[encoded data removed]",
      "text/latex": [
       "$\\displaystyle y$"
      ],
      "text/plain": [
       "y"
      ]
     },
     "execution_count": 132,
     "metadata": {},
     "output_type": "execute_result"
    }
   ],
   "source": [
    "import sympy\n",
    "x = sympy.Symbol(\"x\")\n",
    "y = sympy.Symbol(\"y\", positive=True)\n",
    "print(sympy.sqrt(x**2))\n",
    "sympy.sqrt(y ** 2)"
   ]
  },
  {
   "cell_type": "code",
   "execution_count": 133,
   "id": "373316de",
   "metadata": {},
   "outputs": [
    {
     "data": {
      "text/plain": [
       "'\\nHere we have created two symbols, x and y, and computed the square root of the square of that symbol \\nusing the SymPy function sympy.sqrt. If nothing is known about the symbol in the computation, then no \\nsimplification can be done. If, on the other hand, the symbol is known to be representing a positive number, \\nthen obviously y y 2 = and SymPy correctly recognize this in the latter example.\\nWhen working with mathematical symbols that represent integers, rather than real numbers, it is also \\nuseful to explicitly specify this when creating the corresponding SymPy symbols, using, for example, the \\ninteger=True, or even=True or odd=True, if applicable. This may also allow SymPy to analytically simplify \\ncertain expressions and function evaluations\\n'"
      ]
     },
     "execution_count": 133,
     "metadata": {},
     "output_type": "execute_result"
    }
   ],
   "source": [
    "\"\"\"\n",
    "Here we have created two symbols, x and y, and computed the square root of the square of that symbol \n",
    "using the SymPy function sympy.sqrt. If nothing is known about the symbol in the computation, then no \n",
    "simplification can be done. If, on the other hand, the symbol is known to be representing a positive number, \n",
    "then obviously y y 2 = and SymPy correctly recognize this in the latter example.\n",
    "When working with mathematical symbols that represent integers, rather than real numbers, it is also \n",
    "useful to explicitly specify this when creating the corresponding SymPy symbols, using, for example, the \n",
    "integer=True, or even=True or odd=True, if applicable. This may also allow SymPy to analytically simplify \n",
    "certain expressions and function evaluations\n",
    "\"\"\""
   ]
  },
  {
   "cell_type": "code",
   "execution_count": 134,
   "id": "276b2b4c",
   "metadata": {},
   "outputs": [
    {
     "data": {
      "image/png": "[encoded data removed]",
      "text/latex": [
       "$\\displaystyle \\cos{\\left(\\pi n \\right)}$"
      ],
      "text/plain": [
       "cos(π⋅n)"
      ]
     },
     "execution_count": 134,
     "metadata": {},
     "output_type": "execute_result"
    }
   ],
   "source": [
    "import sympy\n",
    "from sympy import I, pi, oo\n",
    "n1 = sympy.Symbol(\"n\")\n",
    "n2 = sympy.Symbol(\"n\", integer=True)\n",
    "n3 = sympy.Symbol(\"n\", odd=True)\n",
    "sympy.cos(n1 * pi)"
   ]
  },
  {
   "cell_type": "code",
   "execution_count": 135,
   "id": "8181de5a",
   "metadata": {},
   "outputs": [
    {
     "data": {
      "image/png": "[encoded data removed]",
      "text/latex": [
       "$\\displaystyle \\left(-1\\right)^{n}$"
      ],
      "text/plain": [
       "    n\n",
       "(-1) "
      ]
     },
     "execution_count": 135,
     "metadata": {},
     "output_type": "execute_result"
    }
   ],
   "source": [
    "sympy.cos(n2 * pi)"
   ]
  },
  {
   "cell_type": "code",
   "execution_count": 136,
   "id": "dbe0bf7f",
   "metadata": {},
   "outputs": [
    {
     "data": {
      "image/png": "[encoded data removed]",
      "text/latex": [
       "$\\displaystyle -1$"
      ],
      "text/plain": [
       "-1"
      ]
     },
     "execution_count": 136,
     "metadata": {},
     "output_type": "execute_result"
    }
   ],
   "source": [
    "sympy.cos(n3 * pi)"
   ]
  },
  {
   "cell_type": "code",
   "execution_count": 137,
   "id": "c1b774d6",
   "metadata": {},
   "outputs": [],
   "source": [
    "a, b, c = sympy.symbols(\"a, b, c\", negative=True)\n",
    "d, e, f = sympy.symbols(\"d, e, f\", positive=True)"
   ]
  },
  {
   "cell_type": "markdown",
   "id": "6fc7ec25",
   "metadata": {},
   "source": [
    "# Numbers"
   ]
  },
  {
   "cell_type": "code",
   "execution_count": 138,
   "id": "a1dbf8f6",
   "metadata": {},
   "outputs": [
    {
     "data": {
      "text/plain": [
       "sympy.core.numbers.Integer"
      ]
     },
     "execution_count": 138,
     "metadata": {},
     "output_type": "execute_result"
    }
   ],
   "source": [
    "i = sympy.Integer(19) # different from Python's built in int objects\n",
    "type(i)"
   ]
  },
  {
   "cell_type": "code",
   "execution_count": 139,
   "id": "5d1b57ed",
   "metadata": {},
   "outputs": [
    {
     "data": {
      "text/plain": [
       "(True, True, True)"
      ]
     },
     "execution_count": 139,
     "metadata": {},
     "output_type": "execute_result"
    }
   ],
   "source": [
    " i.is_Integer, i.is_real, i.is_odd"
   ]
  },
  {
   "cell_type": "code",
   "execution_count": 140,
   "id": "d07d68d6",
   "metadata": {},
   "outputs": [
    {
     "data": {
      "text/plain": [
       "sympy.core.numbers.Float"
      ]
     },
     "execution_count": 140,
     "metadata": {},
     "output_type": "execute_result"
    }
   ],
   "source": [
    "f = sympy.Float(2.3)\n",
    "type(f)"
   ]
  },
  {
   "cell_type": "code",
   "execution_count": 141,
   "id": "bee3b5b9",
   "metadata": {},
   "outputs": [
    {
     "data": {
      "text/plain": [
       "(False, True, False)"
      ]
     },
     "execution_count": 141,
     "metadata": {},
     "output_type": "execute_result"
    }
   ],
   "source": [
    "sympy.core.numbers.Float\n",
    "f.is_Integer, f.is_real, f.is_odd"
   ]
  },
  {
   "cell_type": "markdown",
   "id": "de6c9c0a",
   "metadata": {},
   "source": [
    "We can cast instances of sympy.Integer and sympy.Float back to Python built-in types using the \n",
    "standard type casting int(i) and float(f)."
   ]
  },
  {
   "cell_type": "code",
   "execution_count": 142,
   "id": "21a50a1d",
   "metadata": {},
   "outputs": [
    {
     "data": {
      "text/plain": [
       "(sympy.core.numbers.Integer, sympy.core.numbers.Float)"
      ]
     },
     "execution_count": 142,
     "metadata": {},
     "output_type": "execute_result"
    }
   ],
   "source": [
    "i, f = sympy.sympify(19), sympy.sympify(2.3)\n",
    "type(i), type(f)"
   ]
  },
  {
   "cell_type": "code",
   "execution_count": 143,
   "id": "2a7e2235",
   "metadata": {},
   "outputs": [
    {
     "data": {
      "text/plain": [
       "(True, False, None, True)"
      ]
     },
     "execution_count": 143,
     "metadata": {},
     "output_type": "execute_result"
    }
   ],
   "source": [
    "n = sympy.Symbol(\"n\", integer=True)\n",
    "n.is_integer, n.is_Integer, n.is_positive, n.is_Symbol"
   ]
  },
  {
   "cell_type": "code",
   "execution_count": 144,
   "id": "ba5b4b86",
   "metadata": {},
   "outputs": [
    {
     "data": {
      "text/plain": [
       "(True, True, True, False)"
      ]
     },
     "execution_count": 144,
     "metadata": {},
     "output_type": "execute_result"
    }
   ],
   "source": [
    "i = sympy.Integer(19)\n",
    "i.is_integer, i.is_Integer, i.is_positive, i.is_Symbol"
   ]
  },
  {
   "cell_type": "code",
   "execution_count": 145,
   "id": "fb8778a7",
   "metadata": {},
   "outputs": [
    {
     "data": {
      "image/png": "[encoded data removed]",
      "text/latex": [
       "$\\displaystyle 8663234049605954426644038200675212212900743262211018069459689001$"
      ],
      "text/plain": [
       "8663234049605954426644038200675212212900743262211018069459689001"
      ]
     },
     "execution_count": 145,
     "metadata": {},
     "output_type": "execute_result"
    }
   ],
   "source": [
    "i ** 50"
   ]
  },
  {
   "cell_type": "code",
   "execution_count": 146,
   "id": "1d71292f",
   "metadata": {},
   "outputs": [
    {
     "data": {
      "image/png": "[encoded data removed]",
      "text/latex": [
       "$\\displaystyle 93326215443944152681699238856266700490715968264381621468592963895217599993229915608941463976156518286253697920827223758251185210916864000000000000000000000000$"
      ],
      "text/plain": [
       "933262154439441526816992388562667004907159682643816214685929638952175999932299\n",
       "156089414639761565182862536979208272237582511852109168640000000000000000000000\n",
       "00"
      ]
     },
     "execution_count": 146,
     "metadata": {},
     "output_type": "execute_result"
    }
   ],
   "source": [
    "sympy.factorial(100)"
   ]
  },
  {
   "cell_type": "code",
   "execution_count": 147,
   "id": "c194c6a9",
   "metadata": {},
   "outputs": [
    {
     "data": {
      "text/plain": [
       "'0.2999999999999999888977698'"
      ]
     },
     "execution_count": 147,
     "metadata": {},
     "output_type": "execute_result"
    }
   ],
   "source": [
    "\"%.25f\" % 0.3 # create a string represention with 25 decimals"
   ]
  },
  {
   "cell_type": "code",
   "execution_count": 148,
   "id": "f52b309e",
   "metadata": {},
   "outputs": [
    {
     "data": {
      "image/png": "[encoded data removed]",
      "text/latex": [
       "$\\displaystyle 0.2999999999999999888977698$"
      ],
      "text/plain": [
       "0.2999999999999999888977698"
      ]
     },
     "execution_count": 148,
     "metadata": {},
     "output_type": "execute_result"
    }
   ],
   "source": [
    "sympy.Float(0.3, 25)"
   ]
  },
  {
   "cell_type": "code",
   "execution_count": 149,
   "id": "ea1c3e0d",
   "metadata": {},
   "outputs": [
    {
     "data": {
      "image/png": "[encoded data removed]",
      "text/latex": [
       "$\\displaystyle 0.3$"
      ],
      "text/plain": [
       "0.3000000000000000000000000"
      ]
     },
     "execution_count": 149,
     "metadata": {},
     "output_type": "execute_result"
    }
   ],
   "source": [
    "sympy.Float('0.3', 25)"
   ]
  },
  {
   "cell_type": "markdown",
   "id": "52f0e43b",
   "metadata": {},
   "source": [
    "Rational"
   ]
  },
  {
   "cell_type": "code",
   "execution_count": 150,
   "id": "8bae5ab3",
   "metadata": {},
   "outputs": [
    {
     "data": {
      "image/png": "[encoded data removed]",
      "text/latex": [
       "$\\displaystyle \\frac{11}{14}$"
      ],
      "text/plain": [
       "11\n",
       "──\n",
       "14"
      ]
     },
     "execution_count": 150,
     "metadata": {},
     "output_type": "execute_result"
    }
   ],
   "source": [
    "sympy.Rational(11, 14)"
   ]
  },
  {
   "cell_type": "code",
   "execution_count": 151,
   "id": "9ba44ecb",
   "metadata": {},
   "outputs": [],
   "source": [
    "r1 = sympy.Rational(2, 3)\n",
    "r2 = sympy.Rational(4, 5)"
   ]
  },
  {
   "cell_type": "code",
   "execution_count": 152,
   "id": "aad04a40",
   "metadata": {},
   "outputs": [
    {
     "data": {
      "image/png": "[encoded data removed]",
      "text/latex": [
       "$\\displaystyle \\frac{5}{6}$"
      ],
      "text/plain": [
       "5/6"
      ]
     },
     "execution_count": 152,
     "metadata": {},
     "output_type": "execute_result"
    }
   ],
   "source": [
    "r1 / r2"
   ]
  },
  {
   "cell_type": "markdown",
   "id": "5c07df42",
   "metadata": {},
   "source": [
    "Constants and Special Symbols"
   ]
  },
  {
   "cell_type": "code",
   "execution_count": 153,
   "id": "76a7bf80",
   "metadata": {},
   "outputs": [
    {
     "data": {
      "text/plain": [
       "'\\np sympy.pi Ratio of the circumference to the diameter of a circle.\\ne sympy.E The base of the natural logarithm e = exp 1( ).\\ng sympy.EulerGamma Euler’s constant.\\ni sympy.I The imaginary unit.\\n∞ sympy.oo Infinity.\\n'"
      ]
     },
     "execution_count": 153,
     "metadata": {},
     "output_type": "execute_result"
    }
   ],
   "source": [
    "\"\"\"\n",
    "p sympy.pi Ratio of the circumference to the diameter of a circle.\n",
    "e sympy.E The base of the natural logarithm e = exp 1( ).\n",
    "g sympy.EulerGamma Euler’s constant.\n",
    "i sympy.I The imaginary unit.\n",
    "∞ sympy.oo Infinity.\n",
    "\"\"\""
   ]
  },
  {
   "cell_type": "markdown",
   "id": "fc9ff6b4",
   "metadata": {},
   "source": [
    "Functions"
   ]
  },
  {
   "cell_type": "code",
   "execution_count": 154,
   "id": "f334b5a9",
   "metadata": {},
   "outputs": [
    {
     "data": {
      "text/plain": [
       "sympy.core.function.UndefinedFunction"
      ]
     },
     "execution_count": 154,
     "metadata": {},
     "output_type": "execute_result"
    }
   ],
   "source": [
    "x, y, z = sympy.symbols(\"x, y, z\")\n",
    "f = sympy.Function(\"f\")\n",
    "type(f)"
   ]
  },
  {
   "cell_type": "code",
   "execution_count": 155,
   "id": "c05ee876",
   "metadata": {},
   "outputs": [
    {
     "data": {
      "image/png": "[encoded data removed]",
      "text/latex": [
       "$\\displaystyle f{\\left(x \\right)}$"
      ],
      "text/plain": [
       "f(x)"
      ]
     },
     "execution_count": 155,
     "metadata": {},
     "output_type": "execute_result"
    }
   ],
   "source": [
    "f(x)"
   ]
  },
  {
   "cell_type": "code",
   "execution_count": 156,
   "id": "889f7da7",
   "metadata": {},
   "outputs": [
    {
     "data": {
      "image/png": "[encoded data removed]",
      "text/latex": [
       "$\\displaystyle g{\\left(x,y,z \\right)}$"
      ],
      "text/plain": [
       "g(x, y, z)"
      ]
     },
     "execution_count": 156,
     "metadata": {},
     "output_type": "execute_result"
    }
   ],
   "source": [
    "g = sympy.Function(\"g\")(x, y, z)\n",
    "g"
   ]
  },
  {
   "cell_type": "code",
   "execution_count": 157,
   "id": "940ad3c1",
   "metadata": {},
   "outputs": [
    {
     "data": {
      "image/png": "[encoded data removed]",
      "text/latex": [
       "$\\displaystyle \\left\\{x, y, z\\right\\}$"
      ],
      "text/plain": [
       "{x, y, z}"
      ]
     },
     "execution_count": 157,
     "metadata": {},
     "output_type": "execute_result"
    }
   ],
   "source": [
    "g.free_symbols"
   ]
  },
  {
   "cell_type": "code",
   "execution_count": 158,
   "id": "24450986",
   "metadata": {},
   "outputs": [
    {
     "data": {
      "image/png": "[encoded data removed]",
      "text/latex": [
       "$\\displaystyle -1$"
      ],
      "text/plain": [
       "-1"
      ]
     },
     "execution_count": 158,
     "metadata": {},
     "output_type": "execute_result"
    }
   ],
   "source": [
    "sympy.sin\n",
    "sympy.sin(x)\n",
    "sympy.sin(pi * 1.5)"
   ]
  },
  {
   "cell_type": "code",
   "execution_count": 159,
   "id": "e47b6f08",
   "metadata": {},
   "outputs": [
    {
     "data": {
      "image/png": "[encoded data removed]",
      "text/latex": [
       "$\\displaystyle 0$"
      ],
      "text/plain": [
       "0"
      ]
     },
     "execution_count": 159,
     "metadata": {},
     "output_type": "execute_result"
    }
   ],
   "source": [
    "n = sympy.Symbol(\"n\", integer=True)\n",
    "sympy.sin(pi * n)"
   ]
  },
  {
   "cell_type": "markdown",
   "id": "ed856308",
   "metadata": {},
   "source": [
    "Lambda Function"
   ]
  },
  {
   "cell_type": "code",
   "execution_count": 160,
   "id": "d31948dc",
   "metadata": {},
   "outputs": [
    {
     "data": {
      "image/png": "[encoded data removed]",
      "text/latex": [
       "$\\displaystyle \\left( x \\mapsto x^{2} \\right)$"
      ],
      "text/plain": [
       "     2\n",
       "x ↦ x "
      ]
     },
     "execution_count": 160,
     "metadata": {},
     "output_type": "execute_result"
    }
   ],
   "source": [
    "h = sympy.Lambda(x, x**2)\n",
    "h"
   ]
  },
  {
   "cell_type": "code",
   "execution_count": 161,
   "id": "59262d2a",
   "metadata": {},
   "outputs": [
    {
     "data": {
      "image/png": "[encoded data removed]",
      "text/latex": [
       "$\\displaystyle 25$"
      ],
      "text/plain": [
       "25"
      ]
     },
     "execution_count": 161,
     "metadata": {},
     "output_type": "execute_result"
    }
   ],
   "source": [
    "h(5)"
   ]
  },
  {
   "cell_type": "code",
   "execution_count": 162,
   "id": "63175f32",
   "metadata": {},
   "outputs": [
    {
     "data": {
      "image/png": "[encoded data removed]",
      "text/latex": [
       "$\\displaystyle \\left(x + 1\\right)^{2}$"
      ],
      "text/plain": [
       "       2\n",
       "(x + 1) "
      ]
     },
     "execution_count": 162,
     "metadata": {},
     "output_type": "execute_result"
    }
   ],
   "source": [
    "h(1 + x)"
   ]
  },
  {
   "cell_type": "markdown",
   "id": "e5341404",
   "metadata": {},
   "source": [
    "# Manipulating Expressions"
   ]
  },
  {
   "cell_type": "markdown",
   "id": "f22aea16",
   "metadata": {},
   "source": [
    "Expressions"
   ]
  },
  {
   "cell_type": "code",
   "execution_count": 163,
   "id": "4df1500d",
   "metadata": {},
   "outputs": [],
   "source": [
    "x = sympy.Symbol(\"x\")\n",
    "expr = 1 + 2 * x**2 + 3 * x**3"
   ]
  },
  {
   "cell_type": "code",
   "execution_count": 164,
   "id": "066709a9",
   "metadata": {},
   "outputs": [
    {
     "data": {
      "image/png": "[encoded data removed]",
      "text/latex": [
       "$\\displaystyle \\left( 1, \\  2 x^{2}, \\  3 x^{3}\\right)$"
      ],
      "text/plain": [
       "⎛      2     3⎞\n",
       "⎝1, 2⋅x , 3⋅x ⎠"
      ]
     },
     "execution_count": 164,
     "metadata": {},
     "output_type": "execute_result"
    }
   ],
   "source": [
    "expr.args"
   ]
  },
  {
   "cell_type": "code",
   "execution_count": 165,
   "id": "9a320c06",
   "metadata": {},
   "outputs": [
    {
     "data": {
      "image/png": "[encoded data removed]",
      "text/latex": [
       "$\\displaystyle 2 x^{2}$"
      ],
      "text/plain": [
       "   2\n",
       "2⋅x "
      ]
     },
     "execution_count": 165,
     "metadata": {},
     "output_type": "execute_result"
    }
   ],
   "source": [
    "expr.args[1]"
   ]
  },
  {
   "cell_type": "code",
   "execution_count": 166,
   "id": "d9bb6cd4",
   "metadata": {},
   "outputs": [
    {
     "data": {
      "image/png": "[encoded data removed]",
      "text/latex": [
       "$\\displaystyle x^{2}$"
      ],
      "text/plain": [
       " 2\n",
       "x "
      ]
     },
     "execution_count": 166,
     "metadata": {},
     "output_type": "execute_result"
    }
   ],
   "source": [
    "expr.args[1].args[1]"
   ]
  },
  {
   "cell_type": "code",
   "execution_count": 167,
   "id": "32195027",
   "metadata": {},
   "outputs": [
    {
     "data": {
      "image/png": "[encoded data removed]",
      "text/latex": [
       "$\\displaystyle x$"
      ],
      "text/plain": [
       "x"
      ]
     },
     "execution_count": 167,
     "metadata": {},
     "output_type": "execute_result"
    }
   ],
   "source": [
    "expr.args[1].args[1].args[0]"
   ]
  },
  {
   "cell_type": "code",
   "execution_count": 168,
   "id": "3bcd421f",
   "metadata": {},
   "outputs": [
    {
     "data": {
      "image/png": "[encoded data removed]",
      "text/latex": [
       "$\\displaystyle \\left( \\right)$"
      ],
      "text/plain": [
       "()"
      ]
     },
     "execution_count": 168,
     "metadata": {},
     "output_type": "execute_result"
    }
   ],
   "source": [
    "expr.args[1].args[1].args[0].args"
   ]
  },
  {
   "cell_type": "markdown",
   "id": "f29b98b7",
   "metadata": {},
   "source": [
    "Simplification"
   ]
  },
  {
   "cell_type": "code",
   "execution_count": null,
   "id": "ef3d3ad1",
   "metadata": {},
   "outputs": [],
   "source": [
    "expr = 2 * (x**2 - x) - x * (x + 1)\n",
    "expr"
   ]
  },
  {
   "cell_type": "code",
   "execution_count": null,
   "id": "2c6cbe7c",
   "metadata": {},
   "outputs": [],
   "source": [
    "sympy.simplify(expr)\n",
    "expr.simplify()"
   ]
  },
  {
   "cell_type": "code",
   "execution_count": null,
   "id": "95d02015",
   "metadata": {},
   "outputs": [],
   "source": [
    " expr"
   ]
  },
  {
   "cell_type": "code",
   "execution_count": null,
   "id": "7e036caf",
   "metadata": {},
   "outputs": [],
   "source": [
    "expr = 2 * sympy.cos(x) * sympy.sin(x)\n",
    "expr"
   ]
  },
  {
   "cell_type": "code",
   "execution_count": null,
   "id": "26e3a028",
   "metadata": {},
   "outputs": [],
   "source": [
    "sympy.simplify(expr)"
   ]
  },
  {
   "cell_type": "code",
   "execution_count": null,
   "id": "eb325844",
   "metadata": {},
   "outputs": [],
   "source": [
    "expr = sympy.exp(x) * sympy.exp(y)\n",
    "expr"
   ]
  },
  {
   "cell_type": "code",
   "execution_count": null,
   "id": "844deb4d",
   "metadata": {},
   "outputs": [],
   "source": [
    "sympy.simplify(expr)"
   ]
  },
  {
   "cell_type": "code",
   "execution_count": null,
   "id": "b13d2a54",
   "metadata": {},
   "outputs": [],
   "source": [
    "\"\"\"\n",
    "sympy.simplify Attempt various methods and approaches to obtain a simpler form of a given \n",
    "expression.\n",
    "sympy.trigsimp Attempt to simplify an expression using trigonometric identities.\n",
    "sympy.powsimp Attempt to simplify an expression using laws of powers.\n",
    "sympy.compsimp Simplify combinatorial expressions.\n",
    "sympy.ratsimp Simplify an expression by writing on a common denominator.\n",
    "\"\"\""
   ]
  },
  {
   "cell_type": "markdown",
   "id": "b7b97ea2",
   "metadata": {},
   "source": [
    "Expand"
   ]
  },
  {
   "cell_type": "code",
   "execution_count": null,
   "id": "53a28643",
   "metadata": {},
   "outputs": [],
   "source": [
    "expr = (x + 1) * (x + 2)\n",
    "sympy.expand(expr)"
   ]
  },
  {
   "cell_type": "code",
   "execution_count": null,
   "id": "18a701b8",
   "metadata": {},
   "outputs": [],
   "source": [
    "sympy.sin(x + y).expand(trig=True)"
   ]
  },
  {
   "cell_type": "code",
   "execution_count": null,
   "id": "9464f009",
   "metadata": {},
   "outputs": [],
   "source": [
    "a, b = sympy.symbols(\"a, b\", positive=True)\n",
    "sympy.log(a * b).expand(log=True)"
   ]
  },
  {
   "cell_type": "code",
   "execution_count": null,
   "id": "440aea2c",
   "metadata": {},
   "outputs": [],
   "source": [
    "sympy.exp(I*a + b).expand(complex=True)"
   ]
  },
  {
   "cell_type": "code",
   "execution_count": null,
   "id": "51add6d6",
   "metadata": {},
   "outputs": [],
   "source": [
    "sympy.expand((a * b)**x, power_base=True)"
   ]
  },
  {
   "cell_type": "code",
   "execution_count": null,
   "id": "cf73f3b4",
   "metadata": {},
   "outputs": [],
   "source": [
    "sympy.exp((a-b)*x).expand(power_exp=True)"
   ]
  },
  {
   "cell_type": "markdown",
   "id": "28e16704",
   "metadata": {},
   "source": [
    "Factor, Collect, and Combine"
   ]
  },
  {
   "cell_type": "code",
   "execution_count": null,
   "id": "52ee9a52",
   "metadata": {},
   "outputs": [],
   "source": [
    "sympy.factor(x * sympy.cos(y) + sympy.sin(z) * x)"
   ]
  },
  {
   "cell_type": "code",
   "execution_count": null,
   "id": "9205ffaf",
   "metadata": {},
   "outputs": [],
   "source": [
    "sympy.factor(x**2 - 1)"
   ]
  },
  {
   "cell_type": "code",
   "execution_count": null,
   "id": "5d1b1dcd",
   "metadata": {},
   "outputs": [],
   "source": [
    "sympy.logcombine(sympy.log(a) - sympy.log(b))"
   ]
  },
  {
   "cell_type": "code",
   "execution_count": null,
   "id": "0c723466",
   "metadata": {},
   "outputs": [],
   "source": [
    "expr = x + y + x * y * z\n",
    "expr.collect(x)"
   ]
  },
  {
   "cell_type": "code",
   "execution_count": null,
   "id": "50245066",
   "metadata": {},
   "outputs": [],
   "source": [
    "expr.collect(y)"
   ]
  },
  {
   "cell_type": "code",
   "execution_count": null,
   "id": "1af2983a",
   "metadata": {},
   "outputs": [],
   "source": [
    "expr = sympy.cos(x + y) + sympy.sin(x - y)\n",
    "expr.expand(trig=True).collect([sympy.cos(x),\n",
    " sympy.sin(x)]).collect(sympy.cos(y) - sympy.sin(y))"
   ]
  },
  {
   "cell_type": "markdown",
   "id": "8c0c60ac",
   "metadata": {},
   "source": [
    "Apart, Together, and Cancel"
   ]
  },
  {
   "cell_type": "code",
   "execution_count": null,
   "id": "db51572e",
   "metadata": {},
   "outputs": [],
   "source": [
    " sympy.apart(1/(x**2 + 3*x + 2), x)"
   ]
  },
  {
   "cell_type": "code",
   "execution_count": null,
   "id": "50a41252",
   "metadata": {},
   "outputs": [],
   "source": [
    " sympy.factor(1/(x**2 + 3*x + 2), x)\n"
   ]
  },
  {
   "cell_type": "code",
   "execution_count": null,
   "id": "16f2581d",
   "metadata": {},
   "outputs": [],
   "source": [
    " sympy.together(1 / (y * x + y) + 1 / (1+x))"
   ]
  },
  {
   "cell_type": "code",
   "execution_count": null,
   "id": "46f8e307",
   "metadata": {},
   "outputs": [],
   "source": [
    "sympy.cancel(y / (y * x + y))"
   ]
  },
  {
   "cell_type": "markdown",
   "id": "aaa0bf43",
   "metadata": {},
   "source": [
    "Substitutions"
   ]
  },
  {
   "cell_type": "code",
   "execution_count": null,
   "id": "10aaf48a",
   "metadata": {},
   "outputs": [],
   "source": [
    "import sympy\n",
    "x,y,z = sympy.symbols(\"x,y,z\")\n",
    "(x + y).subs(x, y)"
   ]
  },
  {
   "cell_type": "code",
   "execution_count": null,
   "id": "32076ebb",
   "metadata": {},
   "outputs": [],
   "source": [
    " sympy.sin(x * sympy.exp(x)).subs(x, y)"
   ]
  },
  {
   "cell_type": "code",
   "execution_count": null,
   "id": "57299452",
   "metadata": {},
   "outputs": [],
   "source": [
    "sympy.sin(x * z).subs({z: sympy.exp(y), x: y, sympy.sin: sympy.cos})"
   ]
  },
  {
   "cell_type": "code",
   "execution_count": null,
   "id": "8096ff8a",
   "metadata": {},
   "outputs": [],
   "source": [
    "expr = x * y + z**2 *x\n",
    "values = {x: 1.25, y: 0.4, z: 3.2}\n",
    "expr.subs(values)"
   ]
  },
  {
   "cell_type": "markdown",
   "id": "554f3e8c",
   "metadata": {},
   "source": [
    "Numerical Evaluation : \n",
    "Even when working with symbolic mathematics, it is almost invariably sooner or later required to evaluate \n",
    "the symbolic expressions numerically, for example, when producing plots or concrete numerical results. \n",
    "A SymPy expression can be evaluated using either the sympy.N function, or the evalf method of SymPy \n",
    "expression instances"
   ]
  },
  {
   "cell_type": "code",
   "execution_count": null,
   "id": "3fe7c674",
   "metadata": {},
   "outputs": [],
   "source": [
    "sympy.N(1 + pi)\n",
    "sympy.N(pi, 50)"
   ]
  },
  {
   "cell_type": "code",
   "execution_count": null,
   "id": "fc504437",
   "metadata": {},
   "outputs": [],
   "source": [
    " (x + 1/pi).evalf(10)"
   ]
  },
  {
   "cell_type": "code",
   "execution_count": null,
   "id": "726b6c5f",
   "metadata": {},
   "outputs": [],
   "source": [
    "expr = sympy.sin(pi * x * sympy.exp(x))\n",
    "[expr.subs(x, xx).evalf(3) for xx in range(0, 10)]"
   ]
  },
  {
   "cell_type": "code",
   "execution_count": null,
   "id": "b4f1037e",
   "metadata": {},
   "outputs": [],
   "source": [
    "expr_func = sympy.lambdify(x, expr)\n",
    "expr_func(1.0)"
   ]
  },
  {
   "cell_type": "code",
   "execution_count": null,
   "id": "5090e413",
   "metadata": {},
   "outputs": [],
   "source": [
    "\"\"\"\n",
    "The following \n",
    "code exemplifies how the SymPy expression expr is converted into a NumPy-array aware vectorized \n",
    "function that can be efficiently evaluated\n",
    "\"\"\""
   ]
  },
  {
   "cell_type": "code",
   "execution_count": null,
   "id": "e385b751",
   "metadata": {},
   "outputs": [],
   "source": [
    "expr_func = sympy.lambdify(x, expr, 'numpy')\n",
    "import numpy as np\n",
    "xvalues = np.arange(0, 10)\n",
    "expr_func(xvalues)"
   ]
  },
  {
   "cell_type": "markdown",
   "id": "eb97b01b",
   "metadata": {},
   "source": [
    "# Calculus"
   ]
  },
  {
   "cell_type": "markdown",
   "id": "99cb633f",
   "metadata": {},
   "source": [
    "Derivatives"
   ]
  },
  {
   "cell_type": "code",
   "execution_count": null,
   "id": "cf56facb",
   "metadata": {},
   "outputs": [],
   "source": [
    "f = sympy.Function('f')(x)\n",
    "sympy.diff(f, x)"
   ]
  },
  {
   "cell_type": "code",
   "execution_count": null,
   "id": "8fc7acc4",
   "metadata": {},
   "outputs": [],
   "source": [
    "sympy.diff(f, x, x)"
   ]
  },
  {
   "cell_type": "code",
   "execution_count": null,
   "id": "acc9dbd5",
   "metadata": {},
   "outputs": [],
   "source": [
    "sympy.diff(f, x, x,x) "
   ]
  },
  {
   "cell_type": "code",
   "execution_count": null,
   "id": "c08d545e",
   "metadata": {},
   "outputs": [],
   "source": [
    "sympy.diff(f, x, 3) "
   ]
  },
  {
   "cell_type": "markdown",
   "id": "2b479461",
   "metadata": {},
   "source": [
    "This method is readily extended to multivariate functions:"
   ]
  },
  {
   "cell_type": "code",
   "execution_count": null,
   "id": "81d1617d",
   "metadata": {},
   "outputs": [],
   "source": [
    "g = sympy.Function('g')(x, y)\n",
    "g.diff(x, y) "
   ]
  },
  {
   "cell_type": "code",
   "execution_count": null,
   "id": "999d5b62",
   "metadata": {},
   "outputs": [],
   "source": [
    "sympy.diff(g, x, y)"
   ]
  },
  {
   "cell_type": "code",
   "execution_count": null,
   "id": "152104bb",
   "metadata": {},
   "outputs": [],
   "source": [
    "g.diff(x, 3, y, 2) "
   ]
  },
  {
   "cell_type": "code",
   "execution_count": null,
   "id": "c2b8e72b",
   "metadata": {},
   "outputs": [],
   "source": [
    "expr = x**4 + x**3 + x**2 + x + 1\n",
    "expr.diff(x)"
   ]
  },
  {
   "cell_type": "code",
   "execution_count": null,
   "id": "6ab3e467",
   "metadata": {},
   "outputs": [],
   "source": [
    "expr.diff(x, x)"
   ]
  },
  {
   "cell_type": "code",
   "execution_count": null,
   "id": "dd6474be",
   "metadata": {},
   "outputs": [],
   "source": [
    "expr = (x + 1)**3 * y ** 2 * (z - 1)\n",
    "expr.diff(x, y, z)"
   ]
  },
  {
   "cell_type": "code",
   "execution_count": null,
   "id": "03b40684",
   "metadata": {},
   "outputs": [],
   "source": [
    "expr = sympy.sin(x * y) * sympy.cos(x / 2)\n",
    "expr.diff(x)"
   ]
  },
  {
   "cell_type": "code",
   "execution_count": null,
   "id": "82d1bbd6",
   "metadata": {},
   "outputs": [],
   "source": [
    "expr = sympy.hermite(x, 0)\n",
    "expr.diff(x).doit()"
   ]
  },
  {
   "cell_type": "code",
   "execution_count": null,
   "id": "475b7621",
   "metadata": {},
   "outputs": [],
   "source": [
    "d = sympy.Derivative(sympy.exp(sympy.cos(x)), x)\n",
    "d"
   ]
  },
  {
   "cell_type": "code",
   "execution_count": null,
   "id": "f3055038",
   "metadata": {},
   "outputs": [],
   "source": [
    "\"\"\"This formal representation of a derivative can then be evaluated by calling the doit method on the \n",
    "sympy.Derivative instance\n",
    "\"\"\"\n",
    "d.doit()"
   ]
  },
  {
   "cell_type": "markdown",
   "id": "f3131eb3",
   "metadata": {},
   "source": [
    "Integration"
   ]
  },
  {
   "cell_type": "code",
   "execution_count": null,
   "id": "57fdedd0",
   "metadata": {},
   "outputs": [],
   "source": [
    "a, b, x, y = sympy.symbols(\"a, b, x, y\")\n",
    "f = sympy.Function(\"f\")(x)\n",
    "f"
   ]
  },
  {
   "cell_type": "code",
   "execution_count": null,
   "id": "0f8cbf1b",
   "metadata": {},
   "outputs": [],
   "source": [
    " sympy.integrate(f)"
   ]
  },
  {
   "cell_type": "code",
   "execution_count": null,
   "id": "aa90bad8",
   "metadata": {},
   "outputs": [],
   "source": [
    " sympy.integrate(f, (x, a, b))"
   ]
  },
  {
   "cell_type": "code",
   "execution_count": null,
   "id": "13a17ce3",
   "metadata": {},
   "outputs": [],
   "source": [
    "sympy.integrate(sympy.sin(x))"
   ]
  },
  {
   "cell_type": "code",
   "execution_count": null,
   "id": "25cde0ff",
   "metadata": {},
   "outputs": [],
   "source": [
    " sympy.integrate(sympy.sin(x), (x, a, b))"
   ]
  },
  {
   "cell_type": "code",
   "execution_count": null,
   "id": "4497ded7",
   "metadata": {},
   "outputs": [],
   "source": [
    "sympy.integrate(sympy.exp(-x**2), (x, 0, oo))"
   ]
  },
  {
   "cell_type": "code",
   "execution_count": null,
   "id": "3f07e8c5",
   "metadata": {},
   "outputs": [],
   "source": [
    "\"\"\"sympy.Integral (which, as the case with sympy.Derviative, can be explicitly evaluated \n",
    "by calling the doit method).\n",
    "\"\"\"\n",
    "d = sympy.Integral(sympy.exp(-x**2), (x, 0, oo))\n",
    "d"
   ]
  },
  {
   "cell_type": "code",
   "execution_count": null,
   "id": "3740b598",
   "metadata": {},
   "outputs": [],
   "source": [
    "d.doit()"
   ]
  },
  {
   "cell_type": "code",
   "execution_count": null,
   "id": "0fa5916a",
   "metadata": {},
   "outputs": [],
   "source": [
    " sympy.integrate(sympy.sin(x * sympy.cos(x)))"
   ]
  },
  {
   "cell_type": "code",
   "execution_count": null,
   "id": "a636f2fb",
   "metadata": {},
   "outputs": [],
   "source": [
    "expr = sympy.sin(x*sympy.exp(y))\n",
    "sympy.integrate(expr, x)"
   ]
  },
  {
   "cell_type": "code",
   "execution_count": null,
   "id": "7675386d",
   "metadata": {},
   "outputs": [],
   "source": [
    "expr = (x + y)**2\n",
    "sympy.integrate(expr, x)"
   ]
  },
  {
   "cell_type": "markdown",
   "id": "aa4d7b61",
   "metadata": {},
   "source": [
    "Multiple Integration"
   ]
  },
  {
   "cell_type": "code",
   "execution_count": null,
   "id": "294b2025",
   "metadata": {},
   "outputs": [],
   "source": [
    "sympy.integrate(expr, x, y)"
   ]
  },
  {
   "cell_type": "code",
   "execution_count": null,
   "id": "79d46afb",
   "metadata": {},
   "outputs": [],
   "source": [
    " sympy.integrate(expr, (x, 0, 1), (y, 0, 1))"
   ]
  },
  {
   "cell_type": "markdown",
   "id": "2941002f",
   "metadata": {},
   "source": [
    "Series"
   ]
  },
  {
   "cell_type": "code",
   "execution_count": null,
   "id": "e07bf495",
   "metadata": {},
   "outputs": [],
   "source": [
    "x = sympy.Symbol(\"x\")\n",
    "f = sympy.Function(\"f\")(x)\n",
    "sympy.series(f, x)"
   ]
  },
  {
   "cell_type": "code",
   "execution_count": null,
   "id": "cfd20526",
   "metadata": {},
   "outputs": [],
   "source": [
    "x0 = sympy.Symbol(\"{x_0}\")\n",
    "f.series(x, x0, n = 2)"
   ]
  },
  {
   "cell_type": "code",
   "execution_count": null,
   "id": "86a42ef8",
   "metadata": {},
   "outputs": [],
   "source": [
    "f.series(x, x0, n = 2).removeO()"
   ]
  },
  {
   "cell_type": "code",
   "execution_count": null,
   "id": "f672ab29",
   "metadata": {},
   "outputs": [],
   "source": [
    "sympy.cos(x).series()\n"
   ]
  },
  {
   "cell_type": "code",
   "execution_count": null,
   "id": "4e572176",
   "metadata": {},
   "outputs": [],
   "source": [
    "sympy.sin(x).series()"
   ]
  },
  {
   "cell_type": "code",
   "execution_count": null,
   "id": "427eb82c",
   "metadata": {},
   "outputs": [],
   "source": [
    " sympy.exp(x).series()"
   ]
  },
  {
   "cell_type": "code",
   "execution_count": null,
   "id": "cbf12207",
   "metadata": {},
   "outputs": [],
   "source": [
    " (1/(1+x)).series()"
   ]
  },
  {
   "cell_type": "code",
   "execution_count": null,
   "id": "9ee99867",
   "metadata": {},
   "outputs": [],
   "source": [
    "expr = sympy.cos(x) / (1 + sympy.sin(x * y))"
   ]
  },
  {
   "cell_type": "code",
   "execution_count": null,
   "id": "fb9726ab",
   "metadata": {},
   "outputs": [],
   "source": [
    "expr.series(x, n = 4)"
   ]
  },
  {
   "cell_type": "code",
   "execution_count": null,
   "id": "29afc141",
   "metadata": {},
   "outputs": [],
   "source": [
    "expr.series(y, n = 4)"
   ]
  },
  {
   "cell_type": "markdown",
   "id": "b6931e98",
   "metadata": {},
   "source": [
    "Limits"
   ]
  },
  {
   "cell_type": "code",
   "execution_count": null,
   "id": "769833b7",
   "metadata": {},
   "outputs": [],
   "source": [
    "sympy.limit(sympy.sin(x) / x, x, 0)"
   ]
  },
  {
   "cell_type": "code",
   "execution_count": null,
   "id": "ae932aba",
   "metadata": {},
   "outputs": [],
   "source": [
    "f = sympy.Function('f')\n",
    "x, h = sympy.symbols(\"x, h\")\n",
    "diff_limit = (f(x + h) - f(x))/h"
   ]
  },
  {
   "cell_type": "code",
   "execution_count": null,
   "id": "6b081c8f",
   "metadata": {},
   "outputs": [],
   "source": [
    "sympy.limit(diff_limit.subs(f, sympy.cos), h, 0)"
   ]
  },
  {
   "cell_type": "code",
   "execution_count": null,
   "id": "6a308f6c",
   "metadata": {},
   "outputs": [],
   "source": [
    "sympy.limit(diff_limit.subs(f, sympy.sin), h, 0)"
   ]
  },
  {
   "cell_type": "code",
   "execution_count": null,
   "id": "031604b5",
   "metadata": {},
   "outputs": [],
   "source": [
    "expr = (x**2 - 3*x) / (2*x - 2)\n",
    "p = sympy.limit(expr/x, x, sympy.oo)\n",
    "q = sympy.limit(expr - p*x, x, sympy.oo)\n",
    "p, q"
   ]
  },
  {
   "cell_type": "markdown",
   "id": "c9523a37",
   "metadata": {},
   "source": [
    "Sums and Products"
   ]
  },
  {
   "cell_type": "code",
   "execution_count": null,
   "id": "c7976b39",
   "metadata": {},
   "outputs": [],
   "source": [
    "\"\"\"Sums and products can be symbolically represented using the SymPy classes sympy.Sum and sympy.Product. \n",
    "They both take an expression as their first argument, and as a second argument they take a tuple of the form \n",
    "(n, n1, n2), where n is a symbol and n1 and n2 are the lower and upper limits for the symbol n, in the sum\n",
    "or product, respectively. After sympy.Sum or sympy.Product objects have been created, they can be evaluated \n",
    "using the doit method\n",
    "\"\"\""
   ]
  },
  {
   "cell_type": "code",
   "execution_count": null,
   "id": "ebb9936e",
   "metadata": {},
   "outputs": [],
   "source": [
    "n = sympy.symbols(\"n\", integer=True)\n",
    "x = sympy.Sum(1/(n**2), (n, 1, oo))\n",
    "x"
   ]
  },
  {
   "cell_type": "code",
   "execution_count": null,
   "id": "2e946786",
   "metadata": {},
   "outputs": [],
   "source": [
    "x.doit()"
   ]
  },
  {
   "cell_type": "code",
   "execution_count": null,
   "id": "9262193c",
   "metadata": {},
   "outputs": [],
   "source": [
    "x = sympy.Product(n, (n, 1, 7))\n",
    "x"
   ]
  },
  {
   "cell_type": "code",
   "execution_count": null,
   "id": "13e9fd58",
   "metadata": {},
   "outputs": [],
   "source": [
    "x.doit()"
   ]
  },
  {
   "cell_type": "code",
   "execution_count": null,
   "id": "b57c6c9f",
   "metadata": {},
   "outputs": [],
   "source": [
    "import sympy\n",
    "from sympy import oo\n",
    "x = sympy.Symbol(\"x\")\n",
    "d = sympy.Sum((x)**n/(sympy.factorial(n)), (n, 1, oo))\n",
    "d"
   ]
  },
  {
   "cell_type": "code",
   "execution_count": null,
   "id": "159f361f",
   "metadata": {},
   "outputs": [],
   "source": [
    "d.doit().simplify()"
   ]
  },
  {
   "cell_type": "code",
   "execution_count": null,
   "id": "46909e9b",
   "metadata": {},
   "outputs": [],
   "source": [
    "sympy.Sum((x)**n/(sympy.factorial(n)), (n, 1, oo)).doit().simplify()"
   ]
  },
  {
   "cell_type": "markdown",
   "id": "c20a9896",
   "metadata": {},
   "source": [
    "# Solving Equations"
   ]
  },
  {
   "cell_type": "code",
   "execution_count": null,
   "id": "e7a83784",
   "metadata": {},
   "outputs": [],
   "source": [
    "x = sympy.Symbol(\"x\")\n",
    "sympy.solve(x**2 + 2*x - 3)"
   ]
  },
  {
   "cell_type": "code",
   "execution_count": null,
   "id": "03b78f39",
   "metadata": {},
   "outputs": [],
   "source": [
    "a, b, c = sympy.symbols(\"a, b, c\")\n",
    "sympy.solve(a * x**2 + b * x + c, x)"
   ]
  },
  {
   "cell_type": "code",
   "execution_count": null,
   "id": "aa413ffb",
   "metadata": {},
   "outputs": [],
   "source": [
    "sympy.solve(sympy.sin(x) - sympy.cos(x), x)"
   ]
  },
  {
   "cell_type": "code",
   "execution_count": null,
   "id": "c8fe6ac6",
   "metadata": {},
   "outputs": [],
   "source": [
    "sympy.solve(x**5 - x**2 + 1, x)"
   ]
  },
  {
   "cell_type": "code",
   "execution_count": null,
   "id": "e844b1d5",
   "metadata": {},
   "outputs": [],
   "source": [
    "sympy.solve(sympy.tan(x) + x, x)\n",
    "# will give error!!!"
   ]
  },
  {
   "cell_type": "code",
   "execution_count": null,
   "id": "bbf0737f",
   "metadata": {},
   "outputs": [],
   "source": [
    "eq1 = x + 2 * y - 1\n",
    "eq2 = x - y + 1\n",
    "sympy.solve([eq1, eq2], [x, y], dict=True)"
   ]
  },
  {
   "cell_type": "code",
   "execution_count": null,
   "id": "2f365f25",
   "metadata": {},
   "outputs": [],
   "source": [
    "eq1 = x**2 - y\n",
    "eq2 = y**2 - x\n",
    "sols = sympy.solve([eq1, eq2], [x, y], dict=True)\n",
    "sols"
   ]
  },
  {
   "cell_type": "code",
   "execution_count": null,
   "id": "025c2b8e",
   "metadata": {},
   "outputs": [],
   "source": [
    "[eq1.subs(sol).simplify() == 0 and eq2.subs(sol).simplify() == 0 for sol in sols]"
   ]
  },
  {
   "cell_type": "code",
   "execution_count": null,
   "id": "da2be291",
   "metadata": {},
   "outputs": [],
   "source": [
    "sympy.Matrix([1,2])"
   ]
  },
  {
   "cell_type": "markdown",
   "id": "d4d3d62f",
   "metadata": {},
   "source": [
    "# Linear ALgebra"
   ]
  },
  {
   "cell_type": "code",
   "execution_count": null,
   "id": "df2243b3",
   "metadata": {},
   "outputs": [],
   "source": [
    "\"\"\"Linear algebra is another fundamental branch of mathematics with important applications throughout \n",
    "scientific and technical computing. It concerns vectors, vector spaces, and linear mappings between vector \n",
    "spaces, which can be represented as matrices. In SymPy we can represent vectors and matrices symbolically \n",
    "using the sympy.Matrix class, whose elements can in turn be represented by numbers, symbols, or even \n",
    "arbitrary symbolic expressions. To create a matrix with numerical entries we can, as in the case of NumPy \n",
    "arrays, pass a Python list to sympy.Matrix\n",
    "sympy.Matrix object in SymPy is only for two-dimensional arrays, that is, matrices.\n",
    "\"\"\""
   ]
  },
  {
   "cell_type": "code",
   "execution_count": null,
   "id": "6d3a995a",
   "metadata": {},
   "outputs": [],
   "source": [
    "sympy.Matrix([[1,2]])"
   ]
  },
  {
   "cell_type": "code",
   "execution_count": null,
   "id": "0a9388e3",
   "metadata": {},
   "outputs": [],
   "source": [
    "sympy.Matrix([[1,2]])"
   ]
  },
  {
   "cell_type": "code",
   "execution_count": null,
   "id": "28599944",
   "metadata": {},
   "outputs": [],
   "source": [
    " sympy.Matrix([[1, 2], [3, 4]])"
   ]
  },
  {
   "cell_type": "code",
   "execution_count": null,
   "id": "e35003ea",
   "metadata": {},
   "outputs": [],
   "source": [
    "sympy.Matrix(3, 4, lambda m, n: 10 * m + n)"
   ]
  },
  {
   "cell_type": "code",
   "execution_count": null,
   "id": "830ed8ad",
   "metadata": {},
   "outputs": [],
   "source": [
    "\"\"\"\n",
    "The most powerful features of SymPy’s matrix objects, which distinguish it from for example NumPy \n",
    "arrays, are of course that its elements themselves can be symbolic expressions. For example, an arbitrary \n",
    "2x2 matrix can be represented with a symbolic variable for each of its elements:\n",
    "\"\"\""
   ]
  },
  {
   "cell_type": "code",
   "execution_count": null,
   "id": "51d2092a",
   "metadata": {},
   "outputs": [],
   "source": [
    "a, b, c, d = sympy.symbols(\"a, b, c, d\")\n",
    "M = sympy.Matrix([[a, b], [c, d]])\n",
    "M"
   ]
  },
  {
   "cell_type": "code",
   "execution_count": null,
   "id": "3b268f46",
   "metadata": {},
   "outputs": [],
   "source": [
    "M * M"
   ]
  },
  {
   "cell_type": "code",
   "execution_count": null,
   "id": "d92c1cf7",
   "metadata": {},
   "outputs": [],
   "source": [
    "x = sympy.Matrix(sympy.symbols(\"x_1, x_2\"))\n",
    "M * x"
   ]
  },
  {
   "cell_type": "code",
   "execution_count": null,
   "id": "558d7dd5",
   "metadata": {},
   "outputs": [],
   "source": [
    "\"\"\"\n",
    "transpose / T Compute the transpose of a matrix.\n",
    "adjoint / H Compute the adjoint of a matrix.\n",
    "trace Compute the trace (sum of diagonal elements) of a matrix.\n",
    "det Compute the determinant of a matrix.\n",
    "inv Compute the inverse of a matrix.\n",
    "LUdecomposition Compute the LU decomposition of a matrix.\n",
    "LUsolve Solve a linear system of equations on the form Mx = b, for the unknown vector x, \n",
    "using LU factorization.\n",
    "QRdecomposition Compute the QR decomposition of a matrix.\n",
    "QRsolve Solve a linear system of equations on the form Mx = b, for the unknown vector x, \n",
    "using QR factorization.\n",
    "diagonalize Diagonalize a matrix M, such that it can be written on the form D = P MP -1 , where \n",
    "D is diagonal.\n",
    "norm Compute the norm of a matrix.\n",
    "nullspace Compute a set of vectors that spans the null space of a matrix.\n",
    "rank Compute the rank of a matrix.\n",
    "singular_values Compute the singular values of a matrix.\n",
    "solve Solve a linear system of equations on the form Mx = b.\n",
    "\n",
    "\"\"\""
   ]
  },
  {
   "cell_type": "code",
   "execution_count": null,
   "id": "896d6c5b",
   "metadata": {},
   "outputs": [],
   "source": [
    "p, q = sympy.symbols(\"p, q\")\n",
    "M = sympy.Matrix([[1, p], [q, 1]])\n",
    "M"
   ]
  },
  {
   "cell_type": "code",
   "execution_count": null,
   "id": "8062dca7",
   "metadata": {},
   "outputs": [],
   "source": [
    "b = sympy.Matrix(sympy.symbols(\"b_1, b_2\"))\n",
    "b"
   ]
  },
  {
   "cell_type": "code",
   "execution_count": null,
   "id": "99676043",
   "metadata": {},
   "outputs": [],
   "source": [
    "x = M.LUsolve(b)\n",
    "x"
   ]
  },
  {
   "cell_type": "code",
   "execution_count": null,
   "id": "e78f210d",
   "metadata": {},
   "outputs": [],
   "source": [
    "# ALternatively\n",
    "x = M.inv() * b\n",
    "x"
   ]
  },
  {
   "cell_type": "code",
   "execution_count": null,
   "id": "f5dd70ac",
   "metadata": {},
   "outputs": [],
   "source": [
    "\"\"\"\n",
    "However, computing the inverse of a matrix is more difficult than performing the LU factorization, so if \n",
    "solving the equation Mx = b is the objective, as it was here, then using LU factorization is more efficient. This \n",
    "becomes particularly noticeable for larger equation systems. With both methods considered here, we obtain \n",
    "a symbolic expression for the solution that is trivial to evaluate for any parameter values, without having to\n",
    "recompute the solution. This is the strength of symbolic computing, and an example of how it sometimes \n",
    "can excel over direct numerical computing. The example considered here could of course also be solved \n",
    "easily by hand, but as the number of equations and unspecified parameters grow, analytical treatment by \n",
    "hand quickly becomes prohibitively lengthy and tedious. With the help of a computer algebra system such as \n",
    "SymPy, we can push the limits of which problems can be treated analytically.\n",
    "\"\"\""
   ]
  },
  {
   "cell_type": "code",
   "execution_count": null,
   "id": "f73e9a2b",
   "metadata": {},
   "outputs": [],
   "source": []
  }
 ],
 "metadata": {
  "kernelspec": {
   "display_name": "Python 3 (ipykernel)",
   "language": "python",
   "name": "python3"
  },
  "language_info": {
   "codemirror_mode": {
    "name": "ipython",
    "version": 3
   },
   "file_extension": ".py",
   "mimetype": "text/x-python",
   "name": "python",
   "nbconvert_exporter": "python",
   "pygments_lexer": "ipython3",
   "version": "3.10.7"
  }
 },
 "nbformat": 4,
 "nbformat_minor": 5
}
