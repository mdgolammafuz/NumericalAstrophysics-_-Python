{
 "cells": [
  {
   "cell_type": "code",
   "execution_count": 1,
   "id": "97c5f10a",
   "metadata": {},
   "outputs": [
    {
     "name": "stdout",
     "output_type": "stream",
     "text": [
      "List of Numbers : [4, 5, 6]\n",
      "List of Strings : ['d', 'e', 'f']\n",
      "List : ['d', 'e', 'f']\n",
      "List after appending : ['d', 'e', 'f', 'g']\n",
      "Item by pop method : g\n",
      "First element in the List : d\n",
      "Everything after first element : ['e', 'f']\n",
      "A slice from index location 1 to 2: ['e', 'f']\n",
      "List : ['hi', 'e', 'f']\n"
     ]
    }
   ],
   "source": [
    "# A list of numbers\n",
    "list_of_numbers = [4, 5, 6]\n",
    "# We can have a list of stings 'd', 'e', 'f' -- Note strings are in quotes\n",
    "list_of_string = ['d', 'e', 'f']\n",
    "\n",
    "print(\"List of Numbers : {}\".format(list_of_numbers))\n",
    "print(\"List of Strings : {}\".format(list_of_string))\n",
    "\n",
    "# We can assign a list to a variable \"my_list\".\n",
    "my_list = ['d', 'e', 'f']\n",
    "print(\"List : {}\".format(my_list))\n",
    "\n",
    "# appending a value to list\n",
    "my_list.append('g')\n",
    "print(\"List after appending : {}\".format(my_list))\n",
    "\n",
    "# pop method\n",
    "print(\"Item by pop method : {}\".format(my_list.pop()))\n",
    "\n",
    "\n",
    "my_list = ['d', 'e', 'f']\n",
    "\n",
    "# grab the first item in the list\n",
    "print(\"First element in the List : {}\".format(my_list[0]))\n",
    "\n",
    "# grab everything after first element\n",
    "print(\"Everything after first element : {}\".format(my_list[1:]))\n",
    "\n",
    "# grab a slice from index location 1 to 2, but not including the element at index 3\n",
    "print(\"A slice from index location 1 to 2: {}\".format(my_list[1:3]))\n",
    "\n",
    "# Lists are mutable\n",
    "\n",
    "my_list = ['d', 'e', 'f']\n",
    "# pass in the element 'hi' to the index 0\n",
    "my_list[0] = 'hi'\n",
    "print(\"List : {}\".format(my_list))\n"
   ]
  },
  {
   "cell_type": "code",
   "execution_count": 2,
   "id": "15c68046",
   "metadata": {},
   "outputs": [
    {
     "name": "stdout",
     "output_type": "stream",
     "text": [
      "List : [1, 2, 3, [4, 5, 6]]\n",
      "Nested List : [4, 5, 6]\n",
      "Element from nested list : 4\n"
     ]
    }
   ],
   "source": [
    " # nested list: nesting a list with in a list\n",
    "nested_1 = [1,2,3,[4,5,6]]\n",
    "print(\"List : {}\".format(nested_1))\n",
    "\n",
    "# grabbing the nested list - count the index location of nested list starting with 0\n",
    "print(\"Nested List : {}\".format(nested_1[3]))\n",
    "\n",
    "# grabbing element from the nested list\n",
    "print(\"Element from nested list : {}\".format(nested_1[3][0]))"
   ]
  },
  {
   "cell_type": "code",
   "execution_count": 3,
   "id": "2a06c73a",
   "metadata": {},
   "outputs": [
    {
     "name": "stdout",
     "output_type": "stream",
     "text": [
      "List : [1, 2, [3, 4, ['a', 'b']]]\n",
      "Nested List : [3, 4, ['a', 'b']]\n",
      "Element from nested list : a\n"
     ]
    }
   ],
   "source": [
    " # another example of nested list\n",
    "nested_2 = [1,2,[3,4,['a','b']]]\n",
    "print(\"List : {}\".format(nested_2))\n",
    "\n",
    "# grabbing the nested list - count the index location of nested list starting with 0\n",
    "print(\"Nested List : {}\".format(nested_2[2]))\n",
    "\n",
    "# grabbing 'a' from nested_2\n",
    "print(\"Element from nested list : {}\".format(nested_2[2][2][0]))"
   ]
  },
  {
   "cell_type": "code",
   "execution_count": 12,
   "id": "a93a05b2",
   "metadata": {},
   "outputs": [
    {
     "name": "stdout",
     "output_type": "stream",
     "text": [
      "Dictionary : {'key1': 1, 'key2': True, 'key3': 'value3'}\n",
      "Dictionary: {'key1': 1, 'key2': True, 'key3': 'value3'}\n"
     ]
    }
   ],
   "source": [
    "# Let's create a simple dictionary, d1.\n",
    "dictionary = {'key1': 1,'key2': True, 'key3': 'value3'}\n",
    "\n",
    "print(\"Dictionary : {}\".format(dictionary))\n",
    "print(\"Dictionary:\", dictionary)"
   ]
  },
  {
   "cell_type": "code",
   "execution_count": 16,
   "id": "367f07b8",
   "metadata": {},
   "outputs": [
    {
     "name": "stdout",
     "output_type": "stream",
     "text": [
      "Value with Key : {} value1\n",
      "Value with Key : value1\n"
     ]
    }
   ],
   "source": [
    "dictionary = {'key1':'value1','key2':'value2', 'key3':'value3'}\n",
    "print(\"Value with Key : {}\", dictionary['key1'])\n",
    "\n",
    "print(\"Value with Key : {}\".format(dictionary['key1']))"
   ]
  },
  {
   "cell_type": "code",
   "execution_count": 18,
   "id": "c3acdfca",
   "metadata": {},
   "outputs": [
    {
     "name": "stdout",
     "output_type": "stream",
     "text": [
      "list as Value : [1, 2, 3]\n",
      "Indexed value from List : 1\n"
     ]
    }
   ],
   "source": [
    " # both keys, k1 and k2 have lists as their values in d2.\n",
    "d2 = {'k1':[1,2,3],'k2':['a','b']}\n",
    "print(\"list as Value : {}\".format(d2['k1']))\n",
    "\n",
    "# Indexing the list\n",
    "print(\"Indexed value from List : {}\".format(d2['k1'][0]))"
   ]
  },
  {
   "cell_type": "code",
   "execution_count": 17,
   "id": "c4467d1c",
   "metadata": {},
   "outputs": [
    {
     "name": "stdout",
     "output_type": "stream",
     "text": [
      "Dictionary : {'k1': {'k_in': [1, 2, 3]}}\n",
      "Nested dictionary : {'k_in': [1, 2, 3]}\n",
      "Value from nested dictionary : [1, 2, 3]\n"
     ]
    }
   ],
   "source": [
    "nested_d = {'k1':{'k_in':[1,2,3]}}\n",
    "# Printing dictionary\n",
    "print(\"Dictionary : {}\".format(nested_d))\n",
    "\n",
    "# Printing the nested dictionary\n",
    "print(\"Nested dictionary : {}\".format(nested_d['k1']))\n",
    "\n",
    "# Printing value from nested dictionary\n",
    "print(\"Value from nested dictionary : {}\".format(nested_d['k1']['k_in']))"
   ]
  },
  {
   "cell_type": "code",
   "execution_count": 23,
   "id": "21aff12f",
   "metadata": {},
   "outputs": [
    {
     "name": "stdout",
     "output_type": "stream",
     "text": [
      "Keys of dictionary : dict_keys(['key1', 'key2', 'key3'])\n",
      "Keys of dictionary : ['key1', 'key2', 'key3']\n",
      "Values of dictionary : dict_values(['value1', 'value2', 'value3'])\n",
      "Values of dictionary : ['value1', 'value2', 'value3']\n",
      "Key-Value pairs of dictionary : dict_items([('key1', 'value1'), ('key2', 'value2'), ('key3', 'value3')])\n",
      "Key-Value pairs of dictionary : [('key1', 'value1'), ('key2', 'value2'), ('key3', 'value3')]\n"
     ]
    }
   ],
   "source": [
    " # We have a dictionary\n",
    "d1 = {'key1':'value1','key2':'value2', 'key3':'value3'}\n",
    "\n",
    "# Grabbing all the keys. \n",
    "print(\"Keys of dictionary : {}\".format(d1.keys())) #try \"list(d1.keys())\"\n",
    "print(\"Keys of dictionary :\", list(d1.keys()))\n",
    "\n",
    "# Grabbing all the values\n",
    "print(\"Values of dictionary : {}\".format(d1.values()))\n",
    "print(\"Values of dictionary :\", list(d1.values()))\n",
    "\n",
    "# Grabbing all key-value pairs\n",
    "print(\"Key-Value pairs of dictionary : {}\".format(d1.items()))\n",
    "print(\"Key-Value pairs of dictionary :\", list(d1.items()))"
   ]
  },
  {
   "cell_type": "code",
   "execution_count": 26,
   "id": "d692ff0a",
   "metadata": {},
   "outputs": [
    {
     "name": "stdout",
     "output_type": "stream",
     "text": [
      "Element from tuple : 3\n",
      "Element from tuple : 3\n"
     ]
    }
   ],
   "source": [
    "# Creating a tuple \"t\"\n",
    "t = (3,4,5)\n",
    " # we can grab any element using index\n",
    "print(\"Element from tuple : {}\".format(t[0]))\n",
    "print(\"Element from tuple :\",t[0])"
   ]
  },
  {
   "cell_type": "code",
   "execution_count": 28,
   "id": "b2e89d83",
   "metadata": {},
   "outputs": [],
   "source": [
    " # Creating a tuple \"t\"\n",
    "t = (3,4,5)\n",
    "\n",
    "# t[0] = 'New'\n",
    "# TypeError: 'tuple' object does not support item assignment"
   ]
  },
  {
   "cell_type": "code",
   "execution_count": 30,
   "id": "66c32ba6",
   "metadata": {},
   "outputs": [
    {
     "name": "stdout",
     "output_type": "stream",
     "text": [
      "Sample set-1 : {2, 3, 4}\n",
      "Sample set-2 : {2, 3, 4}\n",
      "{2, 3, 4}\n"
     ]
    }
   ],
   "source": [
    "# sample set\n",
    "set1 = {2,3,4}\n",
    "print(\"Sample set-1 : {}\".format(set1))\n",
    "\n",
    "#Another sample set\n",
    "set2 = {2,2,2,3,3,3,4,4,4,4}\n",
    "print(\"Sample set-2 : {}\".format(set2))\n",
    "print(set2)\n"
   ]
  },
  {
   "cell_type": "code",
   "execution_count": 31,
   "id": "a12b3c36",
   "metadata": {},
   "outputs": [
    {
     "name": "stdout",
     "output_type": "stream",
     "text": [
      "Sample set-1 : {2, 3, 4}\n",
      "Sample set-2 : {2, 3, 4}\n"
     ]
    }
   ],
   "source": [
    "# sample set\n",
    "set1 = {2,3,4}\n",
    "print(\"Sample set-1 : {}\".format(set1))\n",
    "\n",
    "#Another sample set\n",
    "set2 = {2,2,2,3,3,3,4,4,4,4}\n",
    "print(\"Sample set-2 : {}\".format(set2))\n"
   ]
  },
  {
   "cell_type": "code",
   "execution_count": 32,
   "id": "4067b444",
   "metadata": {},
   "outputs": [
    {
     "name": "stdout",
     "output_type": "stream",
     "text": [
      "True\n",
      "False\n",
      "True\n",
      "False\n"
     ]
    }
   ],
   "source": [
    "# Printing True\n",
    "print(True)\n",
    "\n",
    "# Printing False\n",
    "print(False)\n",
    "\n",
    "\n",
    "x = [1,2,3]\n",
    "# Printing True\n",
    "print(1 in x)\n",
    "\n",
    "# Printing False\n",
    "print(5 in x)"
   ]
  },
  {
   "cell_type": "code",
   "execution_count": null,
   "id": "f6cfc2d1",
   "metadata": {},
   "outputs": [],
   "source": []
  }
 ],
 "metadata": {
  "kernelspec": {
   "display_name": "Python 3 (ipykernel)",
   "language": "python",
   "name": "python3"
  },
  "language_info": {
   "codemirror_mode": {
    "name": "ipython",
    "version": 3
   },
   "file_extension": ".py",
   "mimetype": "text/x-python",
   "name": "python",
   "nbconvert_exporter": "python",
   "pygments_lexer": "ipython3",
   "version": "3.10.7"
  },
  "vscode": {
   "interpreter": {
    "hash": "ba8088891657b5efda0065fd47e9ddf95b93561eda1c2203a8e0bf6b7a7f7133"
   }
  }
 },
 "nbformat": 4,
 "nbformat_minor": 5
}
