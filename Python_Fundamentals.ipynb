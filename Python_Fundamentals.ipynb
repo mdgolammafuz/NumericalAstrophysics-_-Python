{
 "cells": [
  {
   "cell_type": "markdown",
   "id": "33ce4623",
   "metadata": {},
   "source": [
    "# Control Flow"
   ]
  },
  {
   "cell_type": "markdown",
   "id": "7a70908f",
   "metadata": {},
   "source": [
    "1. Conditional Execution\n",
    "2. Loops,\n",
    "3. Functions\n",
    "4. Exceptions"
   ]
  },
  {
   "cell_type": "markdown",
   "id": "b4d8b1b0",
   "metadata": {},
   "source": [
    "1. Conditional Execution\n",
    "\n",
    "Like most languages, Python uses if / else constructs for conditional branching. Here, we branch using the Python boolean type, which can have values True or False."
   ]
  },
  {
   "cell_type": "code",
   "execution_count": 1,
   "id": "5b9e03c9",
   "metadata": {},
   "outputs": [
    {
     "name": "stdout",
     "output_type": "stream",
     "text": [
      "Here\n",
      "Here\n"
     ]
    }
   ],
   "source": [
    "if True:               # valid code block, code indented by 4 spaces\n",
    "    print('Here')\n",
    "else:\n",
    "    pass               # pass statement does nothing\n",
    "if True:\n",
    "   print('Here')\n",
    "# pass                 # error: inconsistent indentation in block (remove # to see the error !!! )"
   ]
  },
  {
   "cell_type": "markdown",
   "id": "9f629118",
   "metadata": {},
   "source": [
    "2. Loops"
   ]
  },
  {
   "cell_type": "markdown",
   "id": "f68cf73b",
   "metadata": {},
   "source": [
    "// following idiom is not supported in Python\n",
    "\n",
    "for (int i = 0; i < 10; ++i) {\n",
    "    // do something \n",
    "}"
   ]
  },
  {
   "cell_type": "code",
   "execution_count": 2,
   "id": "05abf2b5",
   "metadata": {},
   "outputs": [
    {
     "name": "stdout",
     "output_type": "stream",
     "text": [
      "0\n",
      "1\n",
      "2\n",
      "3\n",
      "4\n",
      "5\n",
      "6\n",
      "7\n",
      "8\n",
      "9\n"
     ]
    }
   ],
   "source": [
    "for i in range(10):\n",
    "    print(i)"
   ]
  },
  {
   "cell_type": "markdown",
   "id": "88429d5a",
   "metadata": {},
   "source": [
    "If we want to iterate over the elements of a sequence,\n",
    "whilst also maintaining an index count, we can use the\n",
    "enumerate() function:"
   ]
  },
  {
   "cell_type": "code",
   "execution_count": 3,
   "id": "d52e1d11",
   "metadata": {},
   "outputs": [
    {
     "name": "stdout",
     "output_type": "stream",
     "text": [
      "0 1\n",
      "1 2\n",
      "2 3\n",
      "3 4\n",
      "4 5\n"
     ]
    }
   ],
   "source": [
    "for i,v in enumerate((1,2,3,4,5)): # enumerate elements in tuple\n",
    "   print(i, v)                     # otherwise print the value"
   ]
  },
  {
   "cell_type": "markdown",
   "id": "c8d58eee",
   "metadata": {},
   "source": [
    "In Python, if a type (e.g. a range) can be iterated over, it is called an iterable.\n",
    "\n",
    "A very common idiom in Python is to create a list by iterating over a sequence. This is called a list comprehension, and has the following syntax:"
   ]
  },
  {
   "cell_type": "code",
   "execution_count": 4,
   "id": "e675ed20",
   "metadata": {},
   "outputs": [
    {
     "data": {
      "text/plain": [
       "'\\nnew_list = [expression for <item> in <sequence>]\\nWhere the output of expression becomes an element in new_list.\\n'"
      ]
     },
     "execution_count": 4,
     "metadata": {},
     "output_type": "execute_result"
    }
   ],
   "source": [
    "\"\"\"\n",
    "new_list = [expression for <item> in <sequence>]\n",
    "Where the output of expression becomes an element in new_list.\n",
    "\"\"\""
   ]
  },
  {
   "cell_type": "code",
   "execution_count": 5,
   "id": "26eae721",
   "metadata": {},
   "outputs": [
    {
     "name": "stdout",
     "output_type": "stream",
     "text": [
      "[0, 2, 4, 6]\n",
      "['H', 'E', 'L', 'L', 'O']\n"
     ]
    }
   ],
   "source": [
    "# list comprehension\n",
    "\n",
    "doubles = [x * 2 for x in range(4)]\n",
    "print(doubles)                       # prints [0, 2, 4, 6]\n",
    "\n",
    "upper = [c.upper() for c in 'Hello']\n",
    "print(upper)                         # prints ['H', 'E', 'L', 'L', 'O']"
   ]
  },
  {
   "cell_type": "markdown",
   "id": "45b5ea6e",
   "metadata": {},
   "source": [
    "3. Functions"
   ]
  },
  {
   "cell_type": "markdown",
   "id": "beb76c26",
   "metadata": {},
   "source": [
    "The def keyword is used in Python to begin a function definition.\n",
    "It must then be followed by a function name and zero or more argument names in parentheses.\n",
    "Unlike C-style languages, we do not need to declare the types of the function arguments,\n",
    "nor do we declare the return type."
   ]
  },
  {
   "cell_type": "code",
   "execution_count": 6,
   "id": "96a82994",
   "metadata": {},
   "outputs": [
    {
     "name": "stdout",
     "output_type": "stream",
     "text": [
      "9\n",
      "HelloWorld\n",
      "[1, 2, 3, 4]\n",
      "3\n"
     ]
    }
   ],
   "source": [
    "def add(x, y):         # define a function that takes two arguments\n",
    "    return x + y\n",
    "\n",
    "add('Hello', 'World')  # returns 'HelloWorld'\n",
    "add([1, 2], [3, 4])    # returns [1, 2, 3, 4]\n",
    "add(1, 2)              # returns 3\n",
    "\n",
    "print(add(4,5))\n",
    "print(add('Hello', 'World'))\n",
    "print(add([1, 2], [3, 4]))\n",
    "print(add(1, 2))"
   ]
  },
  {
   "cell_type": "code",
   "execution_count": 7,
   "id": "b7a63eed",
   "metadata": {},
   "outputs": [
    {
     "name": "stdout",
     "output_type": "stream",
     "text": [
      "olleH\n"
     ]
    }
   ],
   "source": [
    "# A program that outputs a reversed copy of the string ‘Hello’\n",
    "\n",
    "def reverse(input): \n",
    "    output = \"\"\n",
    "    for index in range(len(input), 0, -1):  \n",
    "        output += input[index-1] \n",
    "    return output\n",
    "\n",
    "\n",
    "print(reverse(\"Hello\"))"
   ]
  },
  {
   "cell_type": "markdown",
   "id": "ab5e2ed3",
   "metadata": {},
   "source": [
    "4. Exceptions"
   ]
  },
  {
   "cell_type": "markdown",
   "id": "f7721d84",
   "metadata": {},
   "source": [
    "Like many modern languages, Python supports exceptions.\n",
    "To raise an exception, we can write:"
   ]
  },
  {
   "cell_type": "code",
   "execution_count": 8,
   "id": "960b6eba",
   "metadata": {},
   "outputs": [
    {
     "ename": "Exception",
     "evalue": "Error message",
     "output_type": "error",
     "traceback": [
      "\u001b[1;31m---------------------------------------------------------------\u001b[0m",
      "\u001b[1;31mException\u001b[0m                     Traceback (most recent call last)",
      "Cell \u001b[1;32mIn [8], line 1\u001b[0m\n\u001b[1;32m----> 1\u001b[0m \u001b[38;5;28;01mraise\u001b[39;00m \u001b[38;5;167;01mException\u001b[39;00m(\u001b[38;5;124m\"\u001b[39m\u001b[38;5;124mError message\u001b[39m\u001b[38;5;124m\"\u001b[39m)\n",
      "\u001b[1;31mException\u001b[0m: Error message"
     ]
    }
   ],
   "source": [
    "raise Exception(\"Error message\")"
   ]
  },
  {
   "cell_type": "markdown",
   "id": "cdf31501",
   "metadata": {},
   "source": [
    "This will cause the following to be printed to the console:"
   ]
  },
  {
   "cell_type": "code",
   "execution_count": null,
   "id": "ea47f179",
   "metadata": {},
   "outputs": [],
   "source": [
    "\"\"\"\n",
    "Traceback (most recent call last):\n",
    "File \"<stdin>\", line 1, in <module>\n",
    "Exception: Error message\n",
    "\"\"\""
   ]
  },
  {
   "cell_type": "markdown",
   "id": "f3ec646c",
   "metadata": {},
   "source": [
    "To handle exceptions, we use a try / except combination:"
   ]
  },
  {
   "cell_type": "code",
   "execution_count": null,
   "id": "f258fc12",
   "metadata": {},
   "outputs": [],
   "source": [
    "try:                                      # try block\n",
    "    raise Exception(\"Error message\")      # raise an exception\n",
    "except Exception as e:                    # catch the exception\n",
    "    print(e)                              # print the exception"
   ]
  },
  {
   "cell_type": "markdown",
   "id": "fd0dd77c",
   "metadata": {},
   "source": [
    "The Python Exception class is for generic exceptions. Normally,\n",
    "it is good practice to use more specific exceptions that better\n",
    "communicate intent, such as NameError or TypeError."
   ]
  }
 ],
 "metadata": {
  "kernelspec": {
   "display_name": "Python 3 (ipykernel)",
   "language": "python",
   "name": "python3"
  },
  "language_info": {
   "codemirror_mode": {
    "name": "ipython",
    "version": 3
   },
   "file_extension": ".py",
   "mimetype": "text/x-python",
   "name": "python",
   "nbconvert_exporter": "python",
   "pygments_lexer": "ipython3",
   "version": "3.10.7 (tags/v3.10.7:6cc6b13, Sep  5 2022, 14:08:36) [MSC v.1933 64 bit (AMD64)]"
  },
  "vscode": {
   "interpreter": {
    "hash": "ba8088891657b5efda0065fd47e9ddf95b93561eda1c2203a8e0bf6b7a7f7133"
   }
  }
 },
 "nbformat": 4,
 "nbformat_minor": 5
}
