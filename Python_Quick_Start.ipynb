{
 "cells": [
  {
   "cell_type": "code",
   "execution_count": 1,
   "id": "31e9aeef",
   "metadata": {},
   "outputs": [],
   "source": [
    "# Datatype and variables"
   ]
  },
  {
   "cell_type": "code",
   "execution_count": 2,
   "id": "f9af872e",
   "metadata": {},
   "outputs": [
    {
     "name": "stdout",
     "output_type": "stream",
     "text": [
      "2780\n",
      "-1625\n"
     ]
    }
   ],
   "source": [
    "num = 2780 # Assigning an integer to a variable\n",
    "print (num)\n",
    "num = -1625 # Assigning a new integer\n",
    "print (num)"
   ]
  },
  {
   "cell_type": "code",
   "execution_count": 3,
   "id": "d2bb1853",
   "metadata": {},
   "outputs": [
    {
     "name": "stdout",
     "output_type": "stream",
     "text": [
      "2.02975745\n",
      "-5.7289201\n",
      "0.758391739\n"
     ]
    }
   ],
   "source": [
    "print (2.02975745) # A positive float\n",
    "print (-5.7289201) # A negative float\n",
    "\n",
    "flt_pt = 0.758391739\n",
    "print (flt_pt)"
   ]
  },
  {
   "cell_type": "code",
   "execution_count": 4,
   "id": "379e11da",
   "metadata": {},
   "outputs": [
    {
     "name": "stdout",
     "output_type": "stream",
     "text": [
      "(10+20j)\n",
      "2j\n",
      "(2+3j)\n"
     ]
    }
   ],
   "source": [
    "print(complex(10, 20))\n",
    "\n",
    "complex_1 = complex(0, 2)\n",
    "complex_2 = 2 + 3j\n",
    "print(complex_1)\n",
    "print(complex_2)"
   ]
  },
  {
   "cell_type": "code",
   "execution_count": 5,
   "id": "0ceea211",
   "metadata": {},
   "outputs": [
    {
     "name": "stdout",
     "output_type": "stream",
     "text": [
      "z = (12+5j)\n",
      "Real part of z is 12.0\n",
      "Imaginary part of z is 5.0\n"
     ]
    }
   ],
   "source": [
    "z  = complex(12, 5)\n",
    "print('z =', z)\n",
    "\n",
    "print(\"Real part of z is\", z.real)\n",
    "print(\"Imaginary part of z is\", z.imag)"
   ]
  },
  {
   "cell_type": "code",
   "execution_count": 6,
   "id": "e2e2eb67",
   "metadata": {},
   "outputs": [
    {
     "name": "stdout",
     "output_type": "stream",
     "text": [
      "True\n",
      "False\n"
     ]
    }
   ],
   "source": [
    "print (True)\n",
    "\n",
    "f_bool = False\n",
    "print (f_bool)"
   ]
  },
  {
   "cell_type": "code",
   "execution_count": 7,
   "id": "a38a1cbe",
   "metadata": {},
   "outputs": [
    {
     "name": "stdout",
     "output_type": "stream",
     "text": [
      "Edpresso\n",
      "Educative\n",
      "\n"
     ]
    }
   ],
   "source": [
    "print (\"Edpresso\") # String with double quotation marks\n",
    "\n",
    "edu = 'Educative' # String with single quotation marks\n",
    "print (edu) \n",
    "\n",
    "empty = \"\"  # Empty string\n",
    "print(empty)"
   ]
  },
  {
   "cell_type": "code",
   "execution_count": 8,
   "id": "3ffb47ad",
   "metadata": {},
   "outputs": [
    {
     "name": "stdout",
     "output_type": "stream",
     "text": [
      "C\n",
      " \n",
      "t\n"
     ]
    }
   ],
   "source": [
    "superman = \"Clark Kent\"\n",
    "\n",
    "first = superman[0] # Accessing the first character\n",
    "print (first) \n",
    "\n",
    "space = superman[5] # Accessing the empty space in the string\n",
    "print (space) \n",
    "\n",
    "last = superman[len(superman) - 1]\n",
    "print (last)\n",
    "\n",
    "# err = superman[len(superman)] This will produce an error since the index is out of bounds"
   ]
  },
  {
   "cell_type": "code",
   "execution_count": 9,
   "id": "4466da73",
   "metadata": {},
   "outputs": [],
   "source": [
    "# Operators"
   ]
  },
  {
   "cell_type": "code",
   "execution_count": 10,
   "id": "808916e8",
   "metadata": {},
   "outputs": [
    {
     "name": "stdout",
     "output_type": "stream",
     "text": [
      "10 - 3 * 2 = 4\n",
      "3 * 20 / 5 = 12.0\n",
      "(10 - 3) * 2 = 14\n"
     ]
    }
   ],
   "source": [
    "# Different precendence\n",
    "print (\"10 - 3 * 2 =\", 10 - 3 * 2) # Multiplication computed first, followed by subtraction\n",
    "\n",
    "# Same precedence\n",
    "print (\"3 * 20 / 5 =\", 3 * 20 / 5) # Multiplication computed first, followed by division\n",
    "\n",
    "# Using Parenthesis\n",
    "print (\"(10 - 3) * 2 =\", (10 - 3)  * 2) # subtraction computed first, followed by multiplication"
   ]
  },
  {
   "cell_type": "code",
   "execution_count": 11,
   "id": "bfa26c21",
   "metadata": {},
   "outputs": [
    {
     "name": "stdout",
     "output_type": "stream",
     "text": [
      "y > x = True\n",
      "x > y = False\n",
      "y is z = True\n",
      "y is not x = True\n",
      "False\n",
      "False\n"
     ]
    }
   ],
   "source": [
    "x = 5\n",
    "y = 10\n",
    "z = 10\n",
    "print(\"y > x =\",y > x) # 10 is greater than 5\n",
    "print(\"x > y =\", x > y) # 5 is not greater than 10\n",
    "\n",
    "print(\"y is z =\", y is z) # Both have the same value\n",
    "print(\"y is not x =\", y is not x) # Both have different values\n",
    "\n",
    "print (3 + 10 == 5 + 5) # Both are not equal\n",
    "print (3 <= 2) # 3 is not less than or equal to 2"
   ]
  },
  {
   "cell_type": "code",
   "execution_count": 12,
   "id": "9fd7fb58",
   "metadata": {},
   "outputs": [
    {
     "name": "stdout",
     "output_type": "stream",
     "text": [
      "True\n",
      "False\n",
      "True\n"
     ]
    }
   ],
   "source": [
    "# logical operators\n",
    "\n",
    "# OR Expression\n",
    "my_bool = True or False\n",
    "print (my_bool)\n",
    "\n",
    "# AND Expression\n",
    "my_bool = True and False\n",
    "print (my_bool) \n",
    "\n",
    "# NOT expression\n",
    "my_bool = False\n",
    "print (not my_bool)"
   ]
  },
  {
   "cell_type": "code",
   "execution_count": 13,
   "id": "beebdc13",
   "metadata": {},
   "outputs": [],
   "source": [
    "# Conditional Statements"
   ]
  },
  {
   "cell_type": "code",
   "execution_count": 14,
   "id": "94741df6",
   "metadata": {},
   "outputs": [
    {
     "name": "stdout",
     "output_type": "stream",
     "text": [
      "The number is equal to 10\n"
     ]
    }
   ],
   "source": [
    "num = 10\n",
    "\n",
    "if num == 10: # The condition is true\n",
    "  print (\"The number is equal to 10\") # The code is executed\n",
    "\n",
    "if num > 10: # The condtion is false\n",
    "  print (\"The number is greater than 10\") # The code is not executed"
   ]
  },
  {
   "cell_type": "code",
   "execution_count": 15,
   "id": "566bdee4",
   "metadata": {},
   "outputs": [
    {
     "name": "stdout",
     "output_type": "stream",
     "text": [
      "The number is a multiple of 2, 3, and 4\n",
      "The number is also a multiple of 6\n"
     ]
    }
   ],
   "source": [
    "num = 72\n",
    "\n",
    "if num % 2 == 0 and num % 3 == 0 and num % 4 == 0 :\n",
    "    # Only works when num is a multiple of 2, 3, and 4\n",
    "    print (\"The number is a multiple of 2, 3, and 4\")\n",
    "    \n",
    "    # This nested if only works when num is a multiple of 2, 3, 4 and 6\n",
    "    if num % 6 == 0:\n",
    "        print (\"The number is also a multiple of 6\")"
   ]
  },
  {
   "cell_type": "code",
   "execution_count": 16,
   "id": "3bc78483",
   "metadata": {},
   "outputs": [
    {
     "name": "stdout",
     "output_type": "stream",
     "text": [
      "The number is not equal to 10\n"
     ]
    }
   ],
   "source": [
    "num = 12\n",
    "\n",
    "if (num == 10): # The condition is not true\n",
    "  print (\"The number is equal to 10\") # The code is not executed\n",
    "\n",
    "else:   # This will be automatically executed \n",
    "  print (\"The number is not equal to 10\") # The code is executed"
   ]
  },
  {
   "cell_type": "code",
   "execution_count": 17,
   "id": "5195df8f",
   "metadata": {},
   "outputs": [],
   "source": [
    "# Loops"
   ]
  },
  {
   "cell_type": "code",
   "execution_count": 18,
   "id": "8f915008",
   "metadata": {},
   "outputs": [
    {
     "name": "stdout",
     "output_type": "stream",
     "text": [
      "1  is odd\n",
      "2  is even\n",
      "3  is odd\n",
      "4  is even\n",
      "5  is odd\n",
      "6  is even\n",
      "7  is odd\n",
      "8  is even\n",
      "9  is odd\n",
      "10  is even\n"
     ]
    }
   ],
   "source": [
    "for i in range(1, 11): # A sequence from 1 to 10\n",
    "  if i % 2 == 0:\n",
    "    print (i, \" is even\")\n",
    "  else:\n",
    "    print (i, \" is odd\")"
   ]
  },
  {
   "cell_type": "code",
   "execution_count": 19,
   "id": "3caf9701",
   "metadata": {},
   "outputs": [
    {
     "name": "stdout",
     "output_type": "stream",
     "text": [
      "[2, 4, 6, 8, 10]\n",
      "[4, 16, 36, 64, 100]\n"
     ]
    }
   ],
   "source": [
    "# looping throuh lists\n",
    "\n",
    "int_list = [2, 4, 6, 8, 10]\n",
    "print (int_list)\n",
    "\n",
    "for i in range(len(int_list)): # Iterator goes traverses to the last index of the list\n",
    "  int_list[i] = int_list[i] ** 2\n",
    "\n",
    "print(int_list)"
   ]
  },
  {
   "cell_type": "code",
   "execution_count": 20,
   "id": "903c54bc",
   "metadata": {},
   "outputs": [
    {
     "name": "stdout",
     "output_type": "stream",
     "text": [
      "3\n"
     ]
    }
   ],
   "source": [
    "int_list = [22, 4, 64, 8, 100]\n",
    "count_greater = 0\n",
    "\n",
    "for num in int_list: # Iterator goes traverses to the last index of the list\n",
    "  if num > 10:\n",
    "    count_greater += 1\n",
    "\n",
    "print (count_greater)"
   ]
  },
  {
   "cell_type": "code",
   "execution_count": 21,
   "id": "f979a365",
   "metadata": {},
   "outputs": [
    {
     "name": "stdout",
     "output_type": "stream",
     "text": [
      "4 8\n",
      "9 18\n"
     ]
    }
   ],
   "source": [
    "num_list = [10, 4, 8, 6, 18, 27, 9]\n",
    "\n",
    "for n1 in num_list:\n",
    "  for n2 in num_list: # Now we have two iterators\n",
    "    if(n1 * 2 == n2):\n",
    "      print(n1, n2)"
   ]
  },
  {
   "cell_type": "code",
   "execution_count": 22,
   "id": "edbae6ab",
   "metadata": {},
   "outputs": [
    {
     "name": "stdout",
     "output_type": "stream",
     "text": [
      "6\n"
     ]
    }
   ],
   "source": [
    "# While Loops\n",
    "\n",
    "n = 3 # Could be any number\n",
    "power = 0\n",
    "val = n\n",
    "while val < 1000:\n",
    "  power += 1\n",
    "  val *= n\n",
    "print (power)"
   ]
  },
  {
   "cell_type": "code",
   "execution_count": 23,
   "id": "2f8c6a8a",
   "metadata": {},
   "outputs": [],
   "source": [
    "# Functions "
   ]
  },
  {
   "cell_type": "code",
   "execution_count": null,
   "id": "a68dd76a",
   "metadata": {},
   "outputs": [],
   "source": []
  },
  {
   "cell_type": "code",
   "execution_count": 24,
   "id": "dcac3f25",
   "metadata": {},
   "outputs": [
    {
     "name": "stdout",
     "output_type": "stream",
     "text": [
      "10\n"
     ]
    }
   ],
   "source": [
    "# Function Declaration\n",
    "\n",
    "def minimum (first, second):     # first and second are parameters\n",
    "  if (first < second):   \n",
    "    print (first)\n",
    "  else:\n",
    "    print (second)\n",
    "\n",
    "num1 = 10\n",
    "num2 = 20\n",
    "\n",
    "minimum (num1, num2)    # num1 and num2 are arguments"
   ]
  },
  {
   "cell_type": "code",
   "execution_count": 25,
   "id": "cde382ad",
   "metadata": {},
   "outputs": [
    {
     "name": "stdout",
     "output_type": "stream",
     "text": [
      "15\n",
      "7\n",
      "-3\n"
     ]
    }
   ],
   "source": [
    "# Using default value for the parameter\n",
    "\n",
    "def add(num1, num2, num3, num4=4, num5=5):   # num4 and num5 are optional\n",
    "  return num1 + num2 + num3 + num4 + num5\n",
    "\n",
    "print(add(1, 2, 3))   # specifying values of num1, num2 and num3\n",
    "print(add(1, 2, 3, -4))   # specifying values of num1, num2, num3 and num4\n",
    "print(add(1, 2, 3, -4, -5))   # specifying values of num1, num2, num3, num4 and num5"
   ]
  },
  {
   "cell_type": "code",
   "execution_count": 26,
   "id": "13e76eef",
   "metadata": {},
   "outputs": [
    {
     "name": "stdout",
     "output_type": "stream",
     "text": [
      "10\n"
     ]
    }
   ],
   "source": [
    "# Returning from Functions\n",
    "\n",
    "def minimum (first, second):\n",
    "  if (first < second):\n",
    "    return first\n",
    "  else:\n",
    "    return second\n",
    "\n",
    "num1 = 10\n",
    "num2 = 20\n",
    "\n",
    "result = minimum (num1, num2) # Storing the value returned by the function\n",
    "print (result)"
   ]
  },
  {
   "cell_type": "code",
   "execution_count": 27,
   "id": "9681d439",
   "metadata": {},
   "outputs": [
    {
     "data": {
      "text/plain": [
       "'\\ndef func():\\n    name = \"Educative\"\\n\\nfunc()\\nprint (name) # Accessing \\'name\\' outside the function \\n'"
      ]
     },
     "execution_count": 27,
     "metadata": {},
     "output_type": "execute_result"
    }
   ],
   "source": [
    "# Scope\n",
    "\n",
    "# !!! this code will not work \n",
    "\"\"\"\n",
    "def func():\n",
    "    name = \"Educative\"\n",
    "\n",
    "func()\n",
    "print (name) # Accessing 'name' outside the function \n",
    "\"\"\""
   ]
  },
  {
   "cell_type": "code",
   "execution_count": 28,
   "id": "4216c88e",
   "metadata": {},
   "outputs": [
    {
     "name": "stdout",
     "output_type": "stream",
     "text": [
      "[10, 20, 30, 40]\n",
      "[100, 200, 300, 400]\n"
     ]
    }
   ],
   "source": [
    "# Changing parameter values\n",
    "\n",
    "num_list = [10, 20, 30, 40]\n",
    "print (num_list)\n",
    "\n",
    "def multiply_by_10(myList):\n",
    "    for i in range(len(myList)):\n",
    "        num_list[i] *= 10\n",
    "\n",
    "multiply_by_10(num_list)\n",
    "print (num_list) # The contents of the list have been changed"
   ]
  },
  {
   "cell_type": "code",
   "execution_count": 29,
   "id": "10ff4804",
   "metadata": {},
   "outputs": [],
   "source": [
    "# Lamdas - Syntax : lambda parameters: expression "
   ]
  },
  {
   "cell_type": "code",
   "execution_count": 30,
   "id": "a9eb7b78",
   "metadata": {},
   "outputs": [
    {
     "name": "stdout",
     "output_type": "stream",
     "text": [
      "100\n"
     ]
    }
   ],
   "source": [
    "square = lambda num: num ** 2 # Assigning the lambda to a variable\n",
    "print (square(10)) # Calling the lambda and giving it a parameter"
   ]
  },
  {
   "cell_type": "code",
   "execution_count": 31,
   "id": "8cd33017",
   "metadata": {},
   "outputs": [
    {
     "name": "stdout",
     "output_type": "stream",
     "text": [
      "QIS\n"
     ]
    }
   ],
   "source": [
    "concat_strings = lambda a, b, c: a[0] + b[0] + c[0]\n",
    "\n",
    "print (concat_strings(\"Quantum\", \"Information\", \"Science\"))"
   ]
  },
  {
   "cell_type": "code",
   "execution_count": 32,
   "id": "3e85c910",
   "metadata": {},
   "outputs": [
    {
     "name": "stdout",
     "output_type": "stream",
     "text": [
      "200\n",
      "30\n",
      "1000\n"
     ]
    }
   ],
   "source": [
    "def calculator (operation, n1, n2):\n",
    "  return operation(n1, n2) # Using the 'operation' argument as a function\n",
    "\n",
    "# 10 and 20 are the arguments.\n",
    "# The lambda multiplies them.\n",
    "result = calculator(lambda n1, n2: n1 * n2, 10, 20) \n",
    "\n",
    "print (result)\n",
    "\n",
    "# 10 and 20 are the arguments.\n",
    "# The lambda adds them.\n",
    "print (calculator(lambda n1, n2: n1 + n2, 10, 20))\n",
    "\n",
    "# 10 and 3 are the arguments.\n",
    "# The lambda computes 10^3\n",
    "print (calculator(lambda n1, n2: n1 ** n2, 10, 3))"
   ]
  },
  {
   "cell_type": "code",
   "execution_count": 33,
   "id": "f510d4a7",
   "metadata": {},
   "outputs": [],
   "source": [
    "# Lists"
   ]
  },
  {
   "cell_type": "code",
   "execution_count": 34,
   "id": "3a0ea899",
   "metadata": {},
   "outputs": [
    {
     "name": "stdout",
     "output_type": "stream",
     "text": [
      "['Physics', 'Chemistry', 30]\n",
      "Physics\n",
      "3\n"
     ]
    }
   ],
   "source": [
    "science = [\"Physics\", \"Chemistry\", 30]\n",
    "print (science)\n",
    "\n",
    "# Indexing is done using square brackets\n",
    "print (science[0])\n",
    "\n",
    "# Length\n",
    "print (len(science))"
   ]
  },
  {
   "cell_type": "code",
   "execution_count": 35,
   "id": "0b25bc5f",
   "metadata": {},
   "outputs": [
    {
     "name": "stdout",
     "output_type": "stream",
     "text": [
      "[[2006, 'Italy'], [2010, 'Spain'], [2014, 'Germany'], [2018, 'France']]\n",
      "[2010, 'Spain']\n",
      "2010\n"
     ]
    }
   ],
   "source": [
    "world_cup_winners = [[2006, \"Italy\"], [2010, \"Spain\"], [2014, \"Germany\"], [2018, \"France\"]]\n",
    "print (world_cup_winners)\n",
    "print (world_cup_winners[1])\n",
    "print (world_cup_winners[1][0])"
   ]
  },
  {
   "cell_type": "code",
   "execution_count": 36,
   "id": "ff7b8d45",
   "metadata": {},
   "outputs": [
    {
     "name": "stdout",
     "output_type": "stream",
     "text": [
      "[1, 2, 3, 4, 5, 6, 7, 8, 9, 10]\n"
     ]
    }
   ],
   "source": [
    "part_A = [1, 2, 3, 4, 5]\n",
    "part_B = [6, 7, 8, 9, 10]\n",
    "merged_list = part_A + part_B\n",
    "print (merged_list)"
   ]
  },
  {
   "cell_type": "code",
   "execution_count": 37,
   "id": "923cce86",
   "metadata": {},
   "outputs": [
    {
     "name": "stdout",
     "output_type": "stream",
     "text": [
      "[1, 3, 5]\n",
      "List after append:\n",
      "[1, 3, 5, 7]\n"
     ]
    }
   ],
   "source": [
    "lst = [1, 3, 5]\n",
    "print(lst)\n",
    "\n",
    "# print after append\n",
    "print(\"List after append:\")\n",
    "lst.append(7)\n",
    "print(lst)"
   ]
  },
  {
   "cell_type": "code",
   "execution_count": 38,
   "id": "53b27e5d",
   "metadata": {},
   "outputs": [],
   "source": [
    "# List comprehension"
   ]
  },
  {
   "cell_type": "code",
   "execution_count": 39,
   "id": "1bb088df",
   "metadata": {},
   "outputs": [
    {
     "name": "stdout",
     "output_type": "stream",
     "text": [
      "[1, 2, 3, 4, 5]\n",
      "[1, 4, 9, 16, 25]\n"
     ]
    }
   ],
   "source": [
    "nums = [1, 2, 3, 4, 5]\n",
    "nums_square = []\n",
    "\n",
    "for n in nums:\n",
    "  nums_square.append(n ** 2)\n",
    "\n",
    "print (nums)\n",
    "print (nums_square)"
   ]
  },
  {
   "cell_type": "code",
   "execution_count": 40,
   "id": "989fabc1",
   "metadata": {},
   "outputs": [
    {
     "name": "stdout",
     "output_type": "stream",
     "text": [
      "[[0, 1, 2, 3, 4], [20, 21, 22, 23, 24], [40, 41, 42, 43, 44], [60, 61, 62, 63, 64], [80, 81, 82, 83, 84]]\n"
     ]
    }
   ],
   "source": [
    "M = [[], [], [], [], []]\n",
    "\n",
    "for m in range(5):\n",
    "  for n in range(5): \n",
    "    M[m].append(n + m * 20)\n",
    "   \n",
    "print(M)"
   ]
  },
  {
   "cell_type": "code",
   "execution_count": 41,
   "id": "9c1242e4",
   "metadata": {},
   "outputs": [
    {
     "name": "stdout",
     "output_type": "stream",
     "text": [
      "[[0, 1, 2, 3, 4], [20, 21, 22, 23, 24], [40, 41, 42, 43, 44], [60, 61, 62, 63, 64], [80, 81, 82, 83, 84]]\n"
     ]
    }
   ],
   "source": [
    "M = [[(n + m * 20) for n in range(5)] for m in range(5)]\n",
    "\n",
    "print(M)"
   ]
  },
  {
   "cell_type": "code",
   "execution_count": 42,
   "id": "b9b2d642",
   "metadata": {},
   "outputs": [
    {
     "name": "stdout",
     "output_type": "stream",
     "text": [
      "('Ford', 'Raptor', 2019, 'Red')\n",
      "4\n",
      "Raptor\n"
     ]
    }
   ],
   "source": [
    "# Immutable Tuples\n",
    "car = (\"Ford\", \"Raptor\", 2019, \"Red\")\n",
    "print (car)\n",
    "\n",
    "# Length\n",
    "print (len(car))\n",
    "\n",
    "# Indexing is done using square brakcers\n",
    "print (car[1])"
   ]
  },
  {
   "cell_type": "code",
   "execution_count": 43,
   "id": "bf1aa16e",
   "metadata": {},
   "outputs": [
    {
     "name": "stdout",
     "output_type": "stream",
     "text": [
      "(('Superman', 'Clark Kent'), ('Aquaman', 'Arthur Curry'))\n"
     ]
    }
   ],
   "source": [
    "hero1 = (\"Superman\", \"Clark Kent\")\n",
    "hero2 = (\"Aquaman\", \"Arthur Curry\")\n",
    "awesome_team = (hero1, hero2)\n",
    "print (awesome_team)"
   ]
  },
  {
   "cell_type": "code",
   "execution_count": 44,
   "id": "1020b3a2",
   "metadata": {},
   "outputs": [
    {
     "name": "stdout",
     "output_type": "stream",
     "text": [
      "('Superman', 'Clark Kent', 'Aquaman', 'Arthur Curry')\n"
     ]
    }
   ],
   "source": [
    "hero1 = (\"Superman\", \"Clark Kent\")\n",
    "hero2 = (\"Aquaman\", \"Arthur Curry\")\n",
    "awesome_team = hero1 + hero2\n",
    "print (awesome_team)"
   ]
  },
  {
   "cell_type": "code",
   "execution_count": 45,
   "id": "5aa5b9d7",
   "metadata": {},
   "outputs": [],
   "source": [
    "# Dictionary"
   ]
  },
  {
   "cell_type": "code",
   "execution_count": 46,
   "id": "a6afbf95",
   "metadata": {},
   "outputs": [
    {
     "name": "stdout",
     "output_type": "stream",
     "text": [
      "{}\n",
      "{'Batman': 428426, 'Superman': 28918398, 'Flash': 8198318}\n"
     ]
    }
   ],
   "source": [
    "empty_dict = {} # Empty dictionary\n",
    "print (empty_dict)\n",
    "\n",
    "phone_book = {\"Batman\": 428426, \n",
    "              \"Superman\": 28918398, \n",
    "              \"Flash\": 8198318}\n",
    "print (phone_book)"
   ]
  },
  {
   "cell_type": "code",
   "execution_count": 47,
   "id": "f71cde43",
   "metadata": {},
   "outputs": [
    {
     "name": "stdout",
     "output_type": "stream",
     "text": [
      "428426\n",
      "8198318\n"
     ]
    }
   ],
   "source": [
    "phone_book = {\"Batman\": 428426, \n",
    "              \"Superman\": 28918398, \n",
    "              \"Flash\": 8198318}\n",
    "            \n",
    "print (phone_book[\"Batman\"])\n",
    "print (phone_book.get(\"Flash\"))"
   ]
  },
  {
   "cell_type": "code",
   "execution_count": 48,
   "id": "9d312103",
   "metadata": {},
   "outputs": [
    {
     "name": "stdout",
     "output_type": "stream",
     "text": [
      "{'Batman': 428426, 'Superman': 28918398, 'Flash': 8198318}\n",
      "{'Batman': 428426, 'Superman': 28918398, 'Flash': 8198318, 'Aquaman': 4209211}\n"
     ]
    }
   ],
   "source": [
    "phone_book = {\"Batman\": 428426, \n",
    "              \"Superman\": 28918398, \n",
    "              \"Flash\": 8198318}\n",
    "            \n",
    "print (phone_book)\n",
    "phone_book[\"Aquaman\"] = 4209211 \n",
    "print (phone_book)"
   ]
  },
  {
   "cell_type": "code",
   "execution_count": 49,
   "id": "7b502fe1",
   "metadata": {},
   "outputs": [
    {
     "name": "stdout",
     "output_type": "stream",
     "text": [
      "{'Batman': 428426, 'Superman': 28918398, 'Flash': 8198318}\n",
      "{'Batman': 4209211, 'Superman': 28918398, 'Flash': 8198318}\n"
     ]
    }
   ],
   "source": [
    "phone_book = {\"Batman\": 428426, \n",
    "              \"Superman\": 28918398, \n",
    "              \"Flash\": 8198318}\n",
    "            \n",
    "print (phone_book)\n",
    "phone_book[\"Batman\"] = 4209211 \n",
    "print (phone_book)"
   ]
  },
  {
   "cell_type": "code",
   "execution_count": 50,
   "id": "a3a33ce7",
   "metadata": {},
   "outputs": [
    {
     "name": "stdout",
     "output_type": "stream",
     "text": [
      "Gotham is saved.\n",
      "Atlantis is in danger.\n"
     ]
    }
   ],
   "source": [
    "phone_book = {\"Batman\": 428426, \n",
    "              \"Superman\": 28918398, \n",
    "              \"Flash\": 8198318}\n",
    "            \n",
    "if \"Batman\" in phone_book:\n",
    "  print (\"Gotham is saved.\")\n",
    "else:\n",
    "  print (\"Gotham is in danger.\")\n",
    "\n",
    "if \"Aquaman\" in phone_book:\n",
    "  print (\"Atlantis is saved.\")\n",
    "else:\n",
    "  print (\"Atlantis is in danger.\")   "
   ]
  },
  {
   "cell_type": "code",
   "execution_count": 51,
   "id": "a328dfeb",
   "metadata": {},
   "outputs": [
    {
     "name": "stdout",
     "output_type": "stream",
     "text": [
      "True\n"
     ]
    }
   ],
   "source": [
    "# Check Sum Excercise\n",
    "\n",
    "def check_sum(num_list, num):\n",
    "  for first_num in range(len(num_list)):\n",
    "    for second_num in range(first_num + 1, len(num_list)):\n",
    "      if num_list[first_num] + num_list[second_num] == num:\n",
    "        return True\n",
    "  return False\n",
    "\n",
    "num_list = [10, -14, 26, 5, -3, 13, -5]\n",
    "print (check_sum(num_list, -8))\n",
    "\n",
    "# The function checks if num is equal to sum of any two numbers in the list "
   ]
  }
 ],
 "metadata": {
  "kernelspec": {
   "display_name": "Python 3.10.7 64-bit",
   "language": "python",
   "name": "python3"
  },
  "language_info": {
   "codemirror_mode": {
    "name": "ipython",
    "version": 3
   },
   "file_extension": ".py",
   "mimetype": "text/x-python",
   "name": "python",
   "nbconvert_exporter": "python",
   "pygments_lexer": "ipython3",
   "version": "3.10.7 (tags/v3.10.7:6cc6b13, Sep  5 2022, 14:08:36) [MSC v.1933 64 bit (AMD64)]"
  },
  "vscode": {
   "interpreter": {
    "hash": "ba8088891657b5efda0065fd47e9ddf95b93561eda1c2203a8e0bf6b7a7f7133"
   }
  }
 },
 "nbformat": 4,
 "nbformat_minor": 5
}
