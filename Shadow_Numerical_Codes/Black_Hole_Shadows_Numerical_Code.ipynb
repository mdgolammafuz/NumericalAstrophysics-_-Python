{
 "cells": [
  {
   "cell_type": "code",
   "execution_count": 2,
   "id": "ee9efed8",
   "metadata": {},
   "outputs": [
    {
     "name": "stdout",
     "output_type": "stream",
     "text": [
      "1.06984029099805\n",
      "1.38386927570773\n",
      "2.34671790606773\n"
     ]
    }
   ],
   "source": [
    "from sympy import*\n",
    "import math\n",
    "q,s,t,z = symbols(\"q,s,t,z\")\n",
    "a,b,c,r = symbols(\"a,b,c,r\")\n",
    "\n",
    "def horizon(q,s,t):\n",
    "    \n",
    "    equation_for_horizon = z**4 + (q-3/2)*(z**2) +(q+s-1)*z \\\n",
    "    + ((q/4) + (s/2) + t - (3/16))\n",
    "    \n",
    "    horizon_at_qst = equation_for_horizon.subs({q:q,s:s,t:t})\n",
    "    horizons = solve(horizon_at_qst)\n",
    "    list_of_horizons = []\n",
    "    for horizon in horizons:\n",
    "        if horizon.is_positive and horizon.is_real:\n",
    "            list_of_horizons.append(horizon)\n",
    "            if len(list_of_horizons)>0:       \n",
    "                return (max(list_of_horizons) + 1/2)\n",
    "\n",
    "def photon_sphere(q,s,t):\n",
    "    \n",
    "    equation_for_photonsphere = z**4 + (2*q-(27/8))*(z**2)\\\n",
    "    + (3*q + (5/2)*s - (27/8))*z + ((9/8)*q + (15/8)*s + 3*t- (243/256))\n",
    "    \n",
    "    photon_sphere_at_qst = equation_for_photonsphere.subs({q:q,s:s,t:t})\n",
    "    photon_spheres = solve(photon_sphere_at_qst)\n",
    "    list_of_photon_spheres = []\n",
    "    for photon_sphere in photon_spheres:\n",
    "        if photon_sphere.is_positive and photon_sphere.is_real:\n",
    "            list_of_photon_spheres.append(photon_sphere)\n",
    "            if len(list_of_photon_spheres)>0:       \n",
    "                return (max(list_of_photon_spheres) + 3/4)\n",
    "                \n",
    "\n",
    "def shadow_radius(q,s,t):\n",
    "    g_tt = 1 - 2/r + q/r**2 + s/r**3+ t/r**4\n",
    "    photonsphere = photon_sphere(q,s,t)\n",
    "    shadow_radius = photonsphere/math.sqrt(g_tt.subs({r:photonsphere}))\n",
    "    return shadow_radius\n",
    "    \n",
    "test_hr_2 = horizon(5/2,-1/2,-19/16)\n",
    "test_ps_2 = photon_sphere(5/2,-1/2,-19/16)\n",
    "test_sr_2 = shadow_radius(5/2,-1/2,-19/16)\n",
    "\n",
    "print(test_hr_2)\n",
    "print(test_ps_2)\n",
    "print(test_sr_2)"
   ]
  },
  {
   "cell_type": "code",
   "execution_count": 2,
   "id": "b95bbb79",
   "metadata": {},
   "outputs": [],
   "source": [
    "# figure out the issue : ad_sgr = angular_diameter_SGR_Schz()"
   ]
  },
  {
   "cell_type": "code",
   "execution_count": 3,
   "id": "221a7e53",
   "metadata": {},
   "outputs": [
    {
     "name": "stdout",
     "output_type": "stream",
     "text": [
      "39.60172332839777\n",
      "51.17761168592942\n"
     ]
    }
   ],
   "source": [
    "import math\n",
    "gravitational_constant = 6.67*math.pow(10,-11)\n",
    "mass_of_SgrA = 4*math.pow(10,6)*(1.99)*math.pow(10,30)\n",
    "distance_to_SgrA = 8.00*(3.09)*math.pow(10,19)\n",
    "mass_of_M87 = (6.50)*(10**9)*(1.99)*math.pow(10,30)\n",
    "distance_to_M87 = (16.80)*(3.09)*math.pow(10,22)\n",
    "speed_of_light = 3*(math.pow(10,8))\n",
    "radian_to_microarcsecond = 19.8/(0.9595*math.pow(10,-10))\n",
    "\n",
    "def angular_diameter_M87_assuming_Schwz():\n",
    "\n",
    "    angular_diameter_of_M87 = 2*3*math.sqrt(3)*gravitational_constant* \\\n",
    "        (mass_of_M87)*(1/distance_to_M87)*(1/speed_of_light**2)*radian_to_microarcsecond\n",
    "    \n",
    "    return angular_diameter_of_M87\n",
    "\n",
    "def angular_diameter_SgrA_assuming_Schwz():\n",
    "\n",
    "    angular_diameter_of_SgrA = 2*3*math.sqrt(3)*gravitational_constant* \\\n",
    "        (mass_of_SgrA)*(1/speed_of_light**2)*(1/distance_to_SgrA)*radian_to_microarcsecond\n",
    "    \n",
    "    return angular_diameter_of_SgrA\n",
    "\n",
    "ad_M87 = angular_diameter_M87_assuming_Schwz()\n",
    "print(ad_M87)\n",
    "\n",
    "ad_SgrA = angular_diameter_SgrA_assuming_Schwz()\n",
    "print(ad_SgrA)"
   ]
  },
  {
   "cell_type": "code",
   "execution_count": 4,
   "id": "89605c0a",
   "metadata": {},
   "outputs": [],
   "source": [
    "from sympy import*\n",
    "q,s,t,r = symbols(\"q,s,t,r\")\n",
    "g_tt = 1 + (2/r) + (q/r**2) + (s/r**3) + (t/r**4)\n",
    "Horizon_Equation = g_tt.subs({q:3/2,s:1/2,t:9/16})\n",
    "horizons = solve(Horizon_Equation)\n",
    "h1 = []\n",
    "for horizon in horizons:\n",
    "    hr = horizon\n",
    "    if hr.is_positive and hr.is_real:\n",
    "        print(hr)\n",
    "        h1.append(hr)\n",
    "        if len(h1)>0:       \n",
    "            z = max(h1)\n",
    "            print(z)"
   ]
  },
  {
   "cell_type": "code",
   "execution_count": 5,
   "id": "8a132053",
   "metadata": {},
   "outputs": [],
   "source": [
    "def frange(start,final,interval):\n",
    "    \n",
    "    numbers = []\n",
    "    \n",
    "    while start < final:\n",
    "        numbers.append(start)\n",
    "        start = start + interval\n",
    "    return numbers"
   ]
  },
  {
   "cell_type": "code",
   "execution_count": 6,
   "id": "bc44c19f",
   "metadata": {},
   "outputs": [
    {
     "name": "stdout",
     "output_type": "stream",
     "text": [
      "16*a**4*c - 4*a**3*b**2 - 128*a**2*c**2 + 144*a*b**2*c - 27*b**4 + 256*c**3\n",
      "-2*a**3 + 8*a*c - 9*b**2\n"
     ]
    }
   ],
   "source": [
    "a,b,c = symbols(\"a,b,c\")\n",
    "\n",
    "Delta = - 4*(a**3)*(b**2) + 16*(a**4)*(c) - 27*(b**4) + 144*(a)*(b**2)*(c) \\\n",
    "      - 128*(a**2)*(c**2) + 256*(c**3)\n",
    "\n",
    "Lambda = - 2*(a**3) - 9*(b**2) + 8*(a)*(c) \n",
    "\n",
    "print(Delta)\n",
    "print(Lambda)"
   ]
  },
  {
   "cell_type": "code",
   "execution_count": 12,
   "id": "fbcf6398",
   "metadata": {},
   "outputs": [
    {
     "name": "stdout",
     "output_type": "stream",
     "text": [
      "a: 2*q - 3.375 b: 3*q + 5*s/2 - 3.375 c: 1.125*q + 1.875*s + 3*t - 0.94921875\n",
      "a: q - 1.5 b: q + s - 1 c: q/4 + s/2 - 0.1875\n"
     ]
    }
   ],
   "source": [
    "from sympy import*\n",
    "\n",
    "q,s,t,z = symbols(\"q,s,t,z\")\n",
    "a,b,c = symbols(\"a,b,c\")\n",
    "\n",
    "Delta = - 4*(a**3)*(b**2) + 16*(a**4)*(c) - 27*(b**4) + \\\n",
    "    144*(a)*(b**2)*(c) - 128*(a**2)*(c**2) + 256*(c**3)\n",
    "\n",
    "Lambda = - 2*(a**3) - 9*(b**2) + 8*(a)*(c)\n",
    "\n",
    "def Delta_at_photonsphere(q,s,t):\n",
    "    delta_ps = Delta.subs({a:(2*q)-(27/8), b:5*(s/2)+(3*q)-(27/8), c:(15/8)*s+(9/8)*q+(3*t)-(243/256)})\n",
    "    return delta_ps.subs({q:q,s:s,t:t})\n",
    "    \n",
    "\n",
    "def Delta_at_horizon(q,s,t):\n",
    "    delta_hr = Delta.subs({a:q-(3/2),b:(q+s-1),c:((s/2)+(q/4)+(t)-(3/16))})\n",
    "    return delta_hr.subs({q:q,s:s,t:t})\n",
    "    \n",
    "\n",
    "def Lambda__at_horizon(q,s,t):\n",
    "    Lambda_horizon = Lambda.subs({a:q-(3/2),b:(q+s-1),c:((s/2)+(q/4)+(t)-(3/16))})\n",
    "    return Lambda_horizon.subs({q:q,s:s,t:t})\n",
    "    \n",
    "\n",
    "def Lambda_at_photonsphere(q,st):\n",
    "    Lambda_photonsphere = Lambda.subs({a:(2*q)-(27/8),b:5*(s/2)+(3*q)-(27/8),c:(15/8)*s+(9/8)*q+(3*t)-(243/256)})\n",
    "    return Lambda_photonsphere.subs({q:q,s:s,t:t})\n",
    "    \n",
    "\n",
    "equation_for_horizon = z**4 + (q-3/2)*(z**2) +(q+s-1)*z + ((q/4) + (s/2) + t - (3/16))\n",
    "\n",
    "equation_for_photonsphere = z**4 + (2*q-(27/8))*(z**2) + (3*q + (5/2)*s - (27/8))*z + \\\n",
    "    ((9/8)*q + (15/8)*s + 3*t- (243/256))\n",
    "\n",
    "print(\"a:\", (2*q)-(27/8), \"b:\", 5*(s/2)+(3*q)-(27/8), \"c:\", (15/8)*s+(9/8)*q+(3*t)-(243/256))\n",
    "\n",
    "print(\"a:\",q-(3/2),\"b:\",(q+s-1),\"c:\",((s/2)+(q/4)-(3/16)))"
   ]
  },
  {
   "cell_type": "code",
   "execution_count": 6,
   "id": "71001d26",
   "metadata": {},
   "outputs": [
    {
     "name": "stdout",
     "output_type": "stream",
     "text": [
      "x :  1\n",
      "x squared :  1\n",
      "x :  2\n",
      "x squared :  4\n",
      "x :  3\n",
      "x squared :  9\n",
      "x :  4\n",
      "x squared :  16\n",
      "x :  5\n",
      "x squared :  25\n",
      "x :  6\n",
      "x squared :  36\n"
     ]
    }
   ],
   "source": [
    "list =[1,2,3,4,5,6]\n",
    "\n",
    "for x in list:\n",
    "    print(\"x : \", x)\n",
    "    print(\"x squared : \", x**2)"
   ]
  },
  {
   "cell_type": "code",
   "execution_count": 7,
   "id": "9489a2fc",
   "metadata": {},
   "outputs": [
    {
     "name": "stdout",
     "output_type": "stream",
     "text": [
      "54.598150033144236\n",
      "0.049787068367863944\n",
      "1.0\n"
     ]
    }
   ],
   "source": [
    "# Python3 code to demonstrate\n",
    "# the working of exp()\n",
    "import math\n",
    " \n",
    "# initializing the value\n",
    "test_int = 4\n",
    "test_neg_int = -3\n",
    "test_float = 0.00\n",
    " \n",
    "# checking exp() values\n",
    "# with different numbers\n",
    "print (math.exp(test_int))\n",
    "print (math.exp(test_neg_int))\n",
    "print (math.exp(test_float))"
   ]
  },
  {
   "cell_type": "code",
   "execution_count": 8,
   "id": "fadd35a6",
   "metadata": {},
   "outputs": [
    {
     "name": "stdout",
     "output_type": "stream",
     "text": [
      "The value of 3**4 is : 81\n"
     ]
    }
   ],
   "source": [
    "# Python code to demonstrate pow()\n",
    "# version 1\n",
    "print (\"The value of 3**4 is : \",end=\"\")\n",
    " # Returns 81\n",
    "print(pow(3,4))"
   ]
  },
  {
   "cell_type": "code",
   "execution_count": 9,
   "id": "ffc58a59",
   "metadata": {},
   "outputs": [
    {
     "data": {
      "text/plain": [
       "10000000000.0"
      ]
     },
     "execution_count": 9,
     "metadata": {},
     "output_type": "execute_result"
    }
   ],
   "source": [
    "import math\n",
    "math.pow(10,10)"
   ]
  },
  {
   "cell_type": "code",
   "execution_count": 10,
   "id": "54c12477",
   "metadata": {},
   "outputs": [
    {
     "name": "stdout",
     "output_type": "stream",
     "text": [
      "9e+16\n"
     ]
    }
   ],
   "source": [
    "c = 3*(math.pow(10,8))\n",
    "c_squared = c**2\n",
    "print(c_squared)"
   ]
  },
  {
   "cell_type": "code",
   "execution_count": 11,
   "id": "12de80c2",
   "metadata": {},
   "outputs": [
    {
     "name": "stdout",
     "output_type": "stream",
     "text": [
      "206357477853.04846\n"
     ]
    }
   ],
   "source": [
    "# 0.9595*10**-(10) rad = 19.8 microsecond\n",
    "Radian_Microarcsecond = 19.8/(0.9595*math.pow(10,-10))\n",
    "print(Radian_Microarcsecond)"
   ]
  },
  {
   "cell_type": "code",
   "execution_count": null,
   "id": "703301f2",
   "metadata": {},
   "outputs": [],
   "source": []
  }
 ],
 "metadata": {
  "kernelspec": {
   "display_name": "Python 3 (ipykernel)",
   "language": "python",
   "name": "python3"
  },
  "language_info": {
   "codemirror_mode": {
    "name": "ipython",
    "version": 3
   },
   "file_extension": ".py",
   "mimetype": "text/x-python",
   "name": "python",
   "nbconvert_exporter": "python",
   "pygments_lexer": "ipython3",
   "version": "3.10.10"
  }
 },
 "nbformat": 4,
 "nbformat_minor": 5
}
