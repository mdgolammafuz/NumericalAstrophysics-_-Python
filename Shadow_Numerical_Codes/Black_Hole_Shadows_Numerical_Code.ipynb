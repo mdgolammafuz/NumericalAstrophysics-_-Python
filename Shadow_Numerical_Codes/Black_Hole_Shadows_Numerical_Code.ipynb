{
 "cells": [
  {
   "cell_type": "code",
   "execution_count": 1,
   "id": "8dd61f92",
   "metadata": {},
   "outputs": [
    {
     "ename": "ModuleNotFoundError",
     "evalue": "No module named 'syms'",
     "output_type": "error",
     "traceback": [
      "\u001b[0;31m---------------------------------------------------------------------------\u001b[0m",
      "\u001b[0;31mModuleNotFoundError\u001b[0m                       Traceback (most recent call last)",
      "Cell \u001b[0;32mIn[1], line 1\u001b[0m\n\u001b[0;32m----> 1\u001b[0m \u001b[39mfrom\u001b[39;00m \u001b[39msyms\u001b[39;00m \u001b[39mimport\u001b[39;00m symbols,Symbol,solve\n\u001b[1;32m      3\u001b[0m \u001b[39mimport\u001b[39;00m \u001b[39mmath\u001b[39;00m\n\u001b[1;32m      4\u001b[0m G \u001b[39m=\u001b[39m \u001b[39m6.67\u001b[39m\u001b[39m*\u001b[39mmath\u001b[39m.\u001b[39mpow(\u001b[39m10\u001b[39m,\u001b[39m-\u001b[39m\u001b[39m11\u001b[39m)\n",
      "\u001b[0;31mModuleNotFoundError\u001b[0m: No module named 'syms'"
     ]
    }
   ],
   "source": [
    "Turn on the light findfrom syms import symbols,Symbol,solve\n",
    "\n",
    "import math\n",
    "G = 6.67*math.pow(10,-11)\n",
    "M_SGR = 4*math.pow(10,6)*(1.99)*math.pow(10,30)\n",
    "D_SGR = 8.00*(3.09)*math.pow(10,19)\n",
    "M_M87 = (6.50)*(10**9)*(1.99)*math.pow(10,30)\n",
    "D_M87 = (16.80)*(3.09)*math.pow(10,22)\n",
    "c = 3*(math.pow(10,8))\n",
    "c_squared = c**2\n",
    "Radian_Microarcsecond = (19.8)/(0.9595*math.pow(10,-10))\n",
    "\n",
    "q,s,t,z = symbols(\"q,s,t,z\")\n",
    "a,b,c,r = symbols(\"a,b,c,r\")\n",
    "\n",
    "Delta = - 4*(a**3)*(b**2) + 16*(a**4)*(c) - 27*(b**4) + 144*(a)*(b**2)*(c)\\\n",
    "- 128*(a**2)*(c**2) + 256*(c**3)\n",
    "\n",
    "Lambda = - 2*(a**3) - 9*(b**2) + 8*(a)*(c)\n",
    "\n",
    "def Delta_PS(q,s,t):\n",
    "    Delta_PS1 = Delta.subs({a:(2*q)-(27/8),b:5*(s/2)+(3*q)-(27/8),\\\n",
    "                            c:(15/8)*s+(9/8)*q+(3*t)-(243/256)})\n",
    "    DP = Delta_PS1.subs({q:q,s:s,t:t})\n",
    "    return DP\n",
    "\n",
    "def Delta_HR(q,s,t):\n",
    "    Delta_HR1 = Delta.subs({a:q-(3/2),b:(q+s-1),\\\n",
    "                            c:((s/2)+(q/4)+(t)-(3/16))})\n",
    "    DR = Delta_HR1.subs({q:q,s:s,t:t})\n",
    "    return DR\n",
    "\n",
    "def Lambda_HR(q,s,t):\n",
    "    Lambda_HR1 = Lambda.subs({a:q-(3/2),b:(q+s-1),\\\n",
    "                              c:((s/2)+(q/4)+(t)-(3/16))})\n",
    "    LH = Lambda_HR1.subs({q:q,s:s,t:t})\n",
    "    return LH\n",
    "\n",
    "def Lambda_PS(q,s,t):\n",
    "    Lambda_PS1 = Lambda.subs({a:(2*q)-(27/8),b:5*(s/2)+(3*q)-(27/8),\\\n",
    "                              c:(15/8)*s+(9/8)*q+(3*t)-(243/256)})\n",
    "    LP = Lambda_PS1.subs({q:q,s:s,t:t})\n",
    "    return LP\n",
    "\n",
    "\n",
    "def frange(start,final,interval):\n",
    "    \n",
    "    numbers = []\n",
    "    \n",
    "    while start < final:\n",
    "        numbers.append(start)\n",
    "        start = start + interval\n",
    "    return numbers\n",
    "\n",
    "q_list = frange(-20,20,0.1)\n",
    "s_list = frange(-20,20,0.1)\n",
    "t_list = frange(-20,20,0.1)\n",
    "\n",
    "def horizon(q,s,t):\n",
    "    \n",
    "    equation_of_horizon = z**4 + (q-3/2)*(z**2) +(q+s-1)*z\\\n",
    "    + ((q/4) + (s/2) + t - (3/16))\n",
    "    \n",
    "    horizon_qst_substituted = equation_of_horizon.subs({q:q,s:s,t:t})\n",
    "    horizons = solve(horizon_qst_substituted)\n",
    "    horizon_list = []\n",
    "    for horizon in horizons:\n",
    "        hr = horizon\n",
    "        if hr.is_positive and hr.is_real:\n",
    "            horizon_list.append(hr)\n",
    "            if len(horizon_list)>0:       \n",
    "                m = max(horizon_list) + 1/2\n",
    "                return (m)\n",
    "\n",
    "def photon_sphere(q,s,t):\n",
    "    \n",
    "    equation_of_photonsphere = z**4 + (2*q-(27/8))*(z**2)\\\n",
    "    + (3*q + (5/2)*s - (27/8))*z + ((9/8)*q + (15/8)*s + 3*t- (243/256))\n",
    "    \n",
    "    ps_qst_substituted = equation_of_photonsphere.subs({q:q,s:s,t:t})\n",
    "    photonspheres = solve(ps_qst_substituted)\n",
    "    photonsphere_list = []\n",
    "    for photonsphere in photonspheres:\n",
    "        ps = photonsphere\n",
    "        if ps.is_positive and ps.is_real:\n",
    "            photonsphere_list.append(ps)\n",
    "            if len(photonsphere_list)>0:       \n",
    "                m = max(photonsphere_list) + 3/4\n",
    "                return(m)\n",
    "\n",
    "\n",
    "def angular_diameter_M87_theoretical(q,s,t):\n",
    "    sr = shadow_radius(q,s,t)\n",
    "    ad_M87 = (2*sr)/D_M87\n",
    "    return ad_M87\n",
    "\n",
    "def angular_diameter_SGRA_theoretical(q,s,t):    \n",
    "    sr = shadow_radius(q,s,t)\n",
    "    ad_SGR = (2*sr)/D_SGR\n",
    "    return ad_SGR\n",
    "\n",
    "\n",
    "def angular_diameter_M87_Schz():\n",
    "    ad_M87 = 2*3*math.sqrt(3)*G*(M_M87)*(1/D_M87)*(1/c_squared)*Radian_Microarcsecond\n",
    "    return ad_M87\n",
    "\n",
    "def angular_diameter_SGR_Schz():\n",
    "    ad_SGR = 2*3*math.sqrt(3)*G*(M_SGR)*(1/c_squared)*(1/D_SGR)*Radian_Microarcsecond\n",
    "    return ad_SGR\n",
    "\n",
    "\n",
    "test_hr = horizon(5/2,-1/2,-19/16)\n",
    "test_ps = photon_sphere(5/2,-1/2,-19/16)\n",
    "\n",
    "test_schz = angular_diameter_M87_Schz()\n",
    "\n",
    "print(test_schz)\n",
    "print(test_hr)\n",
    "print(test_ps)"
   ]
  },
  {
   "cell_type": "code",
   "execution_count": null,
   "id": "fc4c113a",
   "metadata": {},
   "outputs": [],
   "source": []
  },
  {
   "cell_type": "code",
   "execution_count": 159,
   "id": "ee9efed8",
   "metadata": {},
   "outputs": [
    {
     "name": "stdout",
     "output_type": "stream",
     "text": [
      "1.06984029099805\n",
      "1.38386927570773\n",
      "2.34671790606773\n"
     ]
    }
   ],
   "source": [
    "from sympy import symbols,Symbol,solve\n",
    "import math\n",
    "q,s,t,z = symbols(\"q,s,t,z\")\n",
    "a,b,c,r = symbols(\"a,b,c,r\")\n",
    "\n",
    "def horizon(q,s,t):\n",
    "    \n",
    "    equation_of_horizon = z**4 + (q-3/2)*(z**2) +(q+s-1)*z\\\n",
    "    + ((q/4) + (s/2) + t - (3/16))\n",
    "    \n",
    "    horizon_qst_substituted = equation_of_horizon.subs({q:q,s:s,t:t})\n",
    "    horizons = solve(horizon_qst_substituted)\n",
    "    horizon_list = []\n",
    "    for horizon in horizons:\n",
    "        hr = horizon\n",
    "        if hr.is_positive and hr.is_real:\n",
    "            horizon_list.append(hr)\n",
    "            if len(horizon_list)>0:       \n",
    "                m = max(horizon_list) + 1/2\n",
    "                return (m)\n",
    "\n",
    "def photon_sphere(q,s,t):\n",
    "    \n",
    "    equation_of_photonsphere = z**4 + (2*q-(27/8))*(z**2)\\\n",
    "    + (3*q + (5/2)*s - (27/8))*z + ((9/8)*q + (15/8)*s + 3*t- (243/256))\n",
    "    \n",
    "    ps_qst_substituted = equation_of_photonsphere.subs({q:q,s:s,t:t})\n",
    "    photonspheres = solve(ps_qst_substituted)\n",
    "    photonsphere_list = []\n",
    "    for photonsphere in photonspheres:\n",
    "        ps = photonsphere\n",
    "        if ps.is_positive and ps.is_real:\n",
    "            photonsphere_list.append(ps)\n",
    "            if len(photonsphere_list)>0:       \n",
    "                m = max(photonsphere_list) + 3/4\n",
    "                return(m)\n",
    "\n",
    "def shadow_radius(q,s,t):\n",
    "    g_tt = 1 - 2/r + q/r**2 + s/r**3+ t/r**4\n",
    "    PS = photon_sphere(q,s,t)\n",
    "    sr = PS/math.sqrt(g_tt.subs({r:PS}))\n",
    "    return sr\n",
    "    \n",
    "test_hr_2 = horizon(5/2,-1/2,-19/16)\n",
    "test_ps_2 = photon_sphere(5/2,-1/2,-19/16)\n",
    "test_sr_2 = shadow_radius(5/2,-1/2,-19/16)\n",
    "print(test_hr_2)\n",
    "print(test_ps_2)\n",
    "print(test_sr_2)"
   ]
  },
  {
   "cell_type": "code",
   "execution_count": 160,
   "id": "b95bbb79",
   "metadata": {},
   "outputs": [
    {
     "data": {
      "text/plain": [
       "51.17761168592942"
      ]
     },
     "execution_count": 160,
     "metadata": {},
     "output_type": "execute_result"
    }
   ],
   "source": [
    "ad_sgr = angular_diameter_SGR_Schz()\n",
    "ad_sgr"
   ]
  },
  {
   "cell_type": "code",
   "execution_count": 161,
   "id": "221a7e53",
   "metadata": {},
   "outputs": [
    {
     "name": "stdout",
     "output_type": "stream",
     "text": [
      "39.60172332839777\n",
      "51.17761168592942\n"
     ]
    }
   ],
   "source": [
    "import math\n",
    "G = 6.67*math.pow(10,-11)\n",
    "M_SGR = 4*math.pow(10,6)*(1.99)*math.pow(10,30)\n",
    "D_SGR = 8.00*(3.09)*math.pow(10,19)\n",
    "M_M87 = (6.50)*(10**9)*(1.99)*math.pow(10,30)\n",
    "D_M87 = (16.80)*(3.09)*math.pow(10,22)\n",
    "c = 3*(math.pow(10,8))\n",
    "c_squared = c**2\n",
    "Radian_Microarcsecond = 19.8/(0.9595*math.pow(10,-10))\n",
    "\n",
    "def angular_diameter_M87_Schz():\n",
    "    ad_M87 = 2*3*math.sqrt(3)*G*(M_M87)*(1/D_M87)*(1/c_squared)*Radian_Microarcsecond\n",
    "    return ad_M87\n",
    "\n",
    "def angular_diameter_SGR_Schz():\n",
    "    ad_SGR = 2*3*math.sqrt(3)*G*(M_SGR)*(1/c_squared)*(1/D_SGR)*Radian_Microarcsecond\n",
    "    return ad_SGR\n",
    "\n",
    "ad_m87 = angular_diameter_M87_Schz()\n",
    "print(ad_m87)\n",
    "ad_sgr = angular_diameter_SGR_Schz()\n",
    "print(ad_sgr)"
   ]
  },
  {
   "cell_type": "code",
   "execution_count": 162,
   "id": "89605c0a",
   "metadata": {},
   "outputs": [],
   "source": [
    "from sympy import symbols,Symbol,solve\n",
    "q,s,t,r = symbols(\"q,s,t,r\")\n",
    "g_tt = 1 + (2/r) + (q/r**2) + (s/r**3) + (t/r**4)\n",
    "Horizon_Equation = g_tt.subs({q:3/2,s:1/2,t:9/16})\n",
    "horizons = solve(Horizon_Equation)\n",
    "h1 = []\n",
    "for horizon in horizons:\n",
    "    hr = horizon\n",
    "    if hr.is_positive and hr.is_real:\n",
    "        print(hr)\n",
    "        h1.append(hr)\n",
    "        if len(h1)>0:       \n",
    "            z = max(h1)\n",
    "            print(z)"
   ]
  },
  {
   "cell_type": "code",
   "execution_count": null,
   "id": "010abab8",
   "metadata": {},
   "outputs": [],
   "source": []
  },
  {
   "cell_type": "code",
   "execution_count": 126,
   "id": "8a132053",
   "metadata": {},
   "outputs": [],
   "source": [
    "def frange(start,final,interval):\n",
    "    \n",
    "    numbers = []\n",
    "    \n",
    "    while start < final:\n",
    "        numbers.append(start)\n",
    "        start = start + interval\n",
    "    return numbers"
   ]
  },
  {
   "cell_type": "code",
   "execution_count": 127,
   "id": "bc44c19f",
   "metadata": {},
   "outputs": [
    {
     "name": "stdout",
     "output_type": "stream",
     "text": [
      "16*a**4*c - 4*a**3*b**2 - 128*a**2*c**2 + 144*a*b**2*c - 27*b**4 + 256*c**3\n",
      "-2*a**3 + 8*a*c - 9*b**2\n"
     ]
    }
   ],
   "source": [
    "a,b,c = symbols(\"a,b,c\")\n",
    "Delta = - 4*(a**3)*(b**2) + 16*(a**4)*(c) - 27*(b**4) + 144*(a)*(b**2)*(c) - 128*(a**2)*(c**2) + 256*(c**3)\n",
    "Lambda = - 2*(a**3) - 9*(b**2) + 8*(a)*(c) \n",
    "print(Delta)\n",
    "print(Lambda)"
   ]
  },
  {
   "cell_type": "code",
   "execution_count": 128,
   "id": "fbcf6398",
   "metadata": {},
   "outputs": [
    {
     "name": "stdout",
     "output_type": "stream",
     "text": [
      "a: 2*q - 3.375 b: 3*q + 5*s/2 - 3.375 c: 1.125*q + 1.875*s + 3*t - 0.94921875\n",
      "a: q - 1.5 b: q + s - 1 c: q/4 + s/2 - 0.1875\n"
     ]
    }
   ],
   "source": [
    "from sympy import symbols,Symbol,solve\n",
    "q,s,t,z = symbols(\"q,s,t,z\")\n",
    "a,b,c = symbols(\"a,b,c\")\n",
    "Delta = - 4*(a**3)*(b**2) + 16*(a**4)*(c) - 27*(b**4) + 144*(a)*(b**2)*(c) - 128*(a**2)*(c**2) + 256*(c**3)\n",
    "Lambda = - 2*(a**3) - 9*(b**2) + 8*(a)*(c)\n",
    "\n",
    "def Delta_PS(q,s,t):\n",
    "    Delta_PS1 = Delta.subs({a:(2*q)-(27/8),b:5*(s/2)+(3*q)-(27/8),c:(15/8)*s+(9/8)*q+(3*t)-(243/256)})\n",
    "    DP = Delta_PS1.subs({q:q,s:s,t:t})\n",
    "    return DP\n",
    "\n",
    "def Delta_HR(q,s,t):\n",
    "    Delta_HR1 = Delta.subs({a:q-(3/2),b:(q+s-1),c:((s/2)+(q/4)+(t)-(3/16))})\n",
    "    DR = Delta_HR1.subs({q:q,s:s,t:t})\n",
    "    return DR\n",
    "\n",
    "def Lambda_HR(q,s,t):\n",
    "    Lambda_HR1 = Lambda.subs({a:q-(3/2),b:(q+s-1),c:((s/2)+(q/4)+(t)-(3/16))})\n",
    "    LH = Lambda_HR1.subs({q:q,s:s,t:t})\n",
    "    return LH\n",
    "\n",
    "def Lambda_PS(q,st):\n",
    "    Lambda_PS1 = Lambda.subs({a:(2*q)-(27/8),b:5*(s/2)+(3*q)-(27/8),c:(15/8)*s+(9/8)*q+(3*t)-(243/256)})\n",
    "    LP = Lambda_PS1.subs({q:q,s:s,t:t})\n",
    "    return LP\n",
    "\n",
    "equation_of_horizon = z**4 + (q-3/2)*(z**2) +(q+s-1)*z + ((q/4) + (s/2) + t - (3/16))\n",
    "\n",
    "equation_of_photonsphere = z**4 + (2*q-(27/8))*(z**2) + (3*q + (5/2)*s - (27/8))*z + ((9/8)*q + (15/8)*s + 3*t- (243/256))\n",
    "\n",
    "print(\"a:\",(2*q)-(27/8),\"b:\",5*(s/2)+(3*q)-(27/8),\"c:\",(15/8)*s+(9/8)*q+(3*t)-(243/256))\n",
    "\n",
    "print(\"a:\",q-(3/2),\"b:\",(q+s-1),\"c:\",((s/2)+(q/4)-(3/16)))"
   ]
  },
  {
   "cell_type": "code",
   "execution_count": 76,
   "id": "71001d26",
   "metadata": {},
   "outputs": [
    {
     "name": "stdout",
     "output_type": "stream",
     "text": [
      "x :  1\n",
      "x squared :  1\n",
      "x :  2\n",
      "x squared :  4\n",
      "x :  3\n",
      "x squared :  9\n",
      "x :  4\n",
      "x squared :  16\n",
      "x :  5\n",
      "x squared :  25\n",
      "x :  6\n",
      "x squared :  36\n"
     ]
    }
   ],
   "source": [
    "list =[1,2,3,4,5,6]\n",
    "\n",
    "for x in list:\n",
    "    print(\"x : \",x)\n",
    "    print(\"x squared : \", x**2)"
   ]
  },
  {
   "cell_type": "code",
   "execution_count": 129,
   "id": "9489a2fc",
   "metadata": {},
   "outputs": [
    {
     "name": "stdout",
     "output_type": "stream",
     "text": [
      "54.598150033144236\n",
      "0.049787068367863944\n",
      "1.0\n"
     ]
    }
   ],
   "source": [
    "# Python3 code to demonstrate\n",
    "# the working of exp()\n",
    "import math\n",
    " \n",
    "# initializing the value\n",
    "test_int = 4\n",
    "test_neg_int = -3\n",
    "test_float = 0.00\n",
    " \n",
    "# checking exp() values\n",
    "# with different numbers\n",
    "print (math.exp(test_int))\n",
    "print (math.exp(test_neg_int))\n",
    "print (math.exp(test_float))"
   ]
  },
  {
   "cell_type": "code",
   "execution_count": 130,
   "id": "fadd35a6",
   "metadata": {},
   "outputs": [
    {
     "name": "stdout",
     "output_type": "stream",
     "text": [
      "The value of 3**4 is : 81\n"
     ]
    }
   ],
   "source": [
    "# Python code to demonstrate pow()\n",
    "# version 1\n",
    " \n",
    "print (\"The value of 3**4 is : \",end=\"\")\n",
    " \n",
    "# Returns 81\n",
    "print (pow(3,4))"
   ]
  },
  {
   "cell_type": "code",
   "execution_count": 131,
   "id": "ffc58a59",
   "metadata": {},
   "outputs": [
    {
     "data": {
      "text/plain": [
       "10000000000.0"
      ]
     },
     "execution_count": 131,
     "metadata": {},
     "output_type": "execute_result"
    }
   ],
   "source": [
    "import math\n",
    "math.pow(10,10)"
   ]
  },
  {
   "cell_type": "code",
   "execution_count": 75,
   "id": "2ec3dc9e",
   "metadata": {},
   "outputs": [
    {
     "data": {
      "text/plain": [
       "22026.465794806718"
      ]
     },
     "execution_count": 75,
     "metadata": {},
     "output_type": "execute_result"
    }
   ],
   "source": [
    "import math\n",
    "math.exp(10)"
   ]
  },
  {
   "cell_type": "code",
   "execution_count": 132,
   "id": "c09d354a",
   "metadata": {},
   "outputs": [
    {
     "data": {
      "text/plain": [
       "10000000000"
      ]
     },
     "execution_count": 132,
     "metadata": {},
     "output_type": "execute_result"
    }
   ],
   "source": [
    "10**10"
   ]
  },
  {
   "cell_type": "code",
   "execution_count": 133,
   "id": "54c12477",
   "metadata": {},
   "outputs": [
    {
     "name": "stdout",
     "output_type": "stream",
     "text": [
      "9e+16\n"
     ]
    }
   ],
   "source": [
    "c = 3*(math.pow(10,8))\n",
    "c_squared = c**2\n",
    "print(c_squared)"
   ]
  },
  {
   "cell_type": "code",
   "execution_count": 134,
   "id": "12de80c2",
   "metadata": {},
   "outputs": [
    {
     "name": "stdout",
     "output_type": "stream",
     "text": [
      "206357477853.04846\n"
     ]
    }
   ],
   "source": [
    "# 0.9595*10**-(10) rad = 19.8 microsecond\n",
    "Radian_Microarcsecond = 19.8/(0.9595*math.pow(10,-10))\n",
    "print(Radian_Microarcsecond)"
   ]
  },
  {
   "cell_type": "code",
   "execution_count": 1,
   "id": "fe05446c",
   "metadata": {},
   "outputs": [
    {
     "data": {
      "text/plain": [
       "2"
      ]
     },
     "execution_count": 1,
     "metadata": {},
     "output_type": "execute_result"
    }
   ],
   "source": [
    "1+1"
   ]
  },
  {
   "cell_type": "code",
   "execution_count": null,
   "id": "293f4e73",
   "metadata": {},
   "outputs": [],
   "source": []
  }
 ],
 "metadata": {
  "kernelspec": {
   "display_name": "Python 3 (ipykernel)",
   "language": "python",
   "name": "python3"
  },
  "language_info": {
   "codemirror_mode": {
    "name": "ipython",
    "version": 3
   },
   "file_extension": ".py",
   "mimetype": "text/x-python",
   "name": "python",
   "nbconvert_exporter": "python",
   "pygments_lexer": "ipython3",
   "version": "3.10.10"
  }
 },
 "nbformat": 4,
 "nbformat_minor": 5
}
