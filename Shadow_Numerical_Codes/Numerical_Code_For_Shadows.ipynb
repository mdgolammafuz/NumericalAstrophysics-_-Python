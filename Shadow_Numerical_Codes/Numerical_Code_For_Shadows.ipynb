{
 "cells": [
  {
   "cell_type": "code",
   "execution_count": 1,
   "id": "ee9efed8",
   "metadata": {},
   "outputs": [
    {
     "ename": "TypeError",
     "evalue": "Cannot convert expression to float",
     "output_type": "error",
     "traceback": [
      "\u001b[0;31m---------------------------------------------------------------------------\u001b[0m",
      "\u001b[0;31mTypeError\u001b[0m                                 Traceback (most recent call last)",
      "Cell \u001b[0;32mIn[1], line 43\u001b[0m\n\u001b[1;32m     41\u001b[0m test_hr_2 \u001b[39m=\u001b[39m horizon(\u001b[39m5\u001b[39m\u001b[39m/\u001b[39m\u001b[39m2\u001b[39m,\u001b[39m-\u001b[39m\u001b[39m1\u001b[39m\u001b[39m/\u001b[39m\u001b[39m2\u001b[39m,\u001b[39m-\u001b[39m\u001b[39m19\u001b[39m\u001b[39m/\u001b[39m\u001b[39m16\u001b[39m)\n\u001b[1;32m     42\u001b[0m test_ps_2 \u001b[39m=\u001b[39m photon_sphere(\u001b[39m5\u001b[39m\u001b[39m/\u001b[39m\u001b[39m2\u001b[39m,\u001b[39m-\u001b[39m\u001b[39m1\u001b[39m\u001b[39m/\u001b[39m\u001b[39m2\u001b[39m,\u001b[39m-\u001b[39m\u001b[39m19\u001b[39m\u001b[39m/\u001b[39m\u001b[39m16\u001b[39m)\n\u001b[0;32m---> 43\u001b[0m test_sr_2 \u001b[39m=\u001b[39m shadow_radius(\u001b[39m5\u001b[39;49m\u001b[39m/\u001b[39;49m\u001b[39m2\u001b[39;49m,\u001b[39m-\u001b[39;49m\u001b[39m1\u001b[39;49m\u001b[39m/\u001b[39;49m\u001b[39m2\u001b[39;49m,\u001b[39m-\u001b[39;49m\u001b[39m19\u001b[39;49m\u001b[39m/\u001b[39;49m\u001b[39m16\u001b[39;49m)\n\u001b[1;32m     45\u001b[0m \u001b[39mprint\u001b[39m(test_hr_2)\n\u001b[1;32m     46\u001b[0m \u001b[39mprint\u001b[39m(test_ps_2)\n",
      "Cell \u001b[0;32mIn[1], line 38\u001b[0m, in \u001b[0;36mshadow_radius\u001b[0;34m(q, s, t)\u001b[0m\n\u001b[1;32m     35\u001b[0m \u001b[39mdef\u001b[39;00m \u001b[39mshadow_radius\u001b[39m(q,s,t):\n\u001b[1;32m     37\u001b[0m     g_tt \u001b[39m=\u001b[39m \u001b[39m1\u001b[39m \u001b[39m-\u001b[39m (\u001b[39m2\u001b[39m\u001b[39m/\u001b[39mr) \u001b[39m+\u001b[39m (q)\u001b[39m/\u001b[39m(r\u001b[39m*\u001b[39m\u001b[39m*\u001b[39m\u001b[39m2\u001b[39m) \u001b[39m+\u001b[39m (s)\u001b[39m/\u001b[39m(r\u001b[39m*\u001b[39m\u001b[39m*\u001b[39m\u001b[39m3\u001b[39m)\u001b[39m+\u001b[39m (t)\u001b[39m/\u001b[39m(r\u001b[39m*\u001b[39m\u001b[39m*\u001b[39m\u001b[39m4\u001b[39m)\n\u001b[0;32m---> 38\u001b[0m     \u001b[39mreturn\u001b[39;00m (photon_sphere)\u001b[39m/\u001b[39mmath\u001b[39m.\u001b[39;49msqrt(g_tt\u001b[39m.\u001b[39;49msubs({r:photon_sphere}))\u001b[39m.\u001b[39mevalf()\n",
      "File \u001b[0;32m/Library/Frameworks/Python.framework/Versions/3.10/lib/python3.10/site-packages/sympy/core/expr.py:351\u001b[0m, in \u001b[0;36mExpr.__float__\u001b[0;34m(self)\u001b[0m\n\u001b[1;32m    349\u001b[0m \u001b[39mif\u001b[39;00m result\u001b[39m.\u001b[39mis_number \u001b[39mand\u001b[39;00m result\u001b[39m.\u001b[39mas_real_imag()[\u001b[39m1\u001b[39m]:\n\u001b[1;32m    350\u001b[0m     \u001b[39mraise\u001b[39;00m \u001b[39mTypeError\u001b[39;00m(\u001b[39m\"\u001b[39m\u001b[39mCannot convert complex to float\u001b[39m\u001b[39m\"\u001b[39m)\n\u001b[0;32m--> 351\u001b[0m \u001b[39mraise\u001b[39;00m \u001b[39mTypeError\u001b[39;00m(\u001b[39m\"\u001b[39m\u001b[39mCannot convert expression to float\u001b[39m\u001b[39m\"\u001b[39m)\n",
      "\u001b[0;31mTypeError\u001b[0m: Cannot convert expression to float"
     ]
    }
   ],
   "source": [
    "from sympy import*\n",
    "import math\n",
    "q,s,t,z = symbols(\"q,s,t,z\",type=RealNumber)\n",
    "a,b,c,r = symbols(\"a,b,c,r\",type=RealNumber)\n",
    "\n",
    "def horizon(q,s,t):\n",
    "    \n",
    "    equation_for_horizon = z**4 + (q-3/2)*(z**2) +(q+s-1)*z \\\n",
    "    + ((q/4) + (s/2) + t - (3/16))\n",
    "    \n",
    "    horizon_at_qst = equation_for_horizon.subs({q:q,s:s,t:t})\n",
    "    horizons = solve(horizon_at_qst)\n",
    "    list_of_horizons = []\n",
    "    for horizon in horizons:\n",
    "        if horizon.is_positive and horizon.is_real:\n",
    "            list_of_horizons.append(horizon)\n",
    "            if len(list_of_horizons)>0:       \n",
    "                return (max(list_of_horizons) + (1/2)) # type: ignore\n",
    "\n",
    "def photon_sphere(q,s,t):\n",
    "    \n",
    "    equation_for_photonsphere = (z**4) + ((2*q)-(27/8))*(z**2)\\\n",
    "    + ((3*q) + (5/2)*(s) - (27/8))*(z) + ((9/8)*(q) + (15/8)*(s) + (3*t)- (243/256))\n",
    "    \n",
    "    photon_sphere_at_qst = equation_for_photonsphere.subs({q:q,s:s,t:t})\n",
    "    photon_spheres = solve(photon_sphere_at_qst)\n",
    "    list_of_photon_spheres = []\n",
    "    for photon_sphere in photon_spheres:\n",
    "        if photon_sphere.is_positive and photon_sphere.is_real:\n",
    "            list_of_photon_spheres.append(photon_sphere)\n",
    "            if len(list_of_photon_spheres)>0:       \n",
    "                return (max(list_of_photon_spheres) + (3/4)) # type: ignore\n",
    "                \n",
    "\n",
    "def shadow_radius(q,s,t):\n",
    "\n",
    "    g_tt = 1 - (2/r) + (q)/(r**2) + (s)/(r**3)+ (t)/(r**4)\n",
    "    return (photon_sphere)/math.sqrt(g_tt.subs({r:photon_sphere})).evalf() # type: ignore\n",
    "  \n",
    "    \n",
    "test_hr_2 = horizon(5/2,-1/2,-19/16)\n",
    "test_ps_2 = photon_sphere(5/2,-1/2,-19/16)\n",
    "test_sr_2 = shadow_radius(5/2,-1/2,-19/16)\n",
    "\n",
    "print(test_hr_2)\n",
    "print(test_ps_2)\n",
    "print(test_sr_2)"
   ]
  },
  {
   "cell_type": "code",
   "execution_count": 2,
   "id": "b95bbb79",
   "metadata": {},
   "outputs": [],
   "source": [
    "# figure out the issue : ad_sgr = angular_diameter_SGR_Schz()"
   ]
  },
  {
   "cell_type": "code",
   "execution_count": 2,
   "id": "221a7e53",
   "metadata": {},
   "outputs": [
    {
     "name": "stdout",
     "output_type": "stream",
     "text": [
      "39.60172332839777\n",
      "51.17761168592942\n"
     ]
    }
   ],
   "source": [
    "import math\n",
    "gravitational_constant = 6.67*math.pow(10,-11)\n",
    "mass_of_SgrA = 4*math.pow(10,6)*(1.99)*math.pow(10,30)\n",
    "distance_to_SgrA = 8.00*(3.09)*math.pow(10,19)\n",
    "mass_of_M87 = (6.50)*(10**9)*(1.99)*math.pow(10,30)\n",
    "distance_to_M87 = (16.80)*(3.09)*math.pow(10,22)\n",
    "speed_of_light = 3*(math.pow(10,8))\n",
    "radian_to_microarcsecond = 19.8/(0.9595*math.pow(10,-10))\n",
    "\n",
    "def angular_diameter_M87_assuming_Schwz():\n",
    "\n",
    "    angular_diameter_of_M87 = 2*3*math.sqrt(3)*gravitational_constant* \\\n",
    "        (mass_of_M87)*(1/distance_to_M87)*(1/speed_of_light**2)*radian_to_microarcsecond\n",
    "    \n",
    "    return angular_diameter_of_M87\n",
    "\n",
    "def angular_diameter_SgrA_assuming_Schwz():\n",
    "\n",
    "    angular_diameter_of_SgrA = 2*3*math.sqrt(3)*gravitational_constant* \\\n",
    "        (mass_of_SgrA)*(1/speed_of_light**2)*(1/distance_to_SgrA)*radian_to_microarcsecond\n",
    "    \n",
    "    return angular_diameter_of_SgrA\n",
    "\n",
    "ad_M87 = angular_diameter_M87_assuming_Schwz()\n",
    "print(ad_M87)\n",
    "\n",
    "ad_SgrA = angular_diameter_SgrA_assuming_Schwz()\n",
    "print(ad_SgrA)"
   ]
  },
  {
   "cell_type": "code",
   "execution_count": 3,
   "id": "89605c0a",
   "metadata": {},
   "outputs": [],
   "source": [
    "from sympy import*\n",
    "q,s,t,r = symbols(\"q,s,t,r\")\n",
    "g_tt = 1 + (2/r) + (q/r**2) + (s/r**3) + (t/r**4)\n",
    "Horizon_Equation = g_tt.subs({q:3/2,s:1/2,t:9/16})\n",
    "horizons = solve(Horizon_Equation)\n",
    "h1 = []\n",
    "for horizon in horizons:\n",
    "    hr = horizon\n",
    "    if hr.is_positive and hr.is_real:\n",
    "        print(hr)\n",
    "        h1.append(hr)\n",
    "        if len(h1)>0:       \n",
    "            z = max(h1)\n",
    "            print(z)"
   ]
  },
  {
   "cell_type": "code",
   "execution_count": 4,
   "id": "8a132053",
   "metadata": {},
   "outputs": [],
   "source": [
    "def frange(start,final,interval):\n",
    "    \n",
    "    numbers = []\n",
    "    \n",
    "    while start < final:\n",
    "        numbers.append(start)\n",
    "        start = start + interval\n",
    "    return numbers"
   ]
  },
  {
   "cell_type": "code",
   "execution_count": 5,
   "id": "bc44c19f",
   "metadata": {},
   "outputs": [
    {
     "name": "stdout",
     "output_type": "stream",
     "text": [
      "16*a**4*c - 4*a**3*b**2 - 128*a**2*c**2 + 144*a*b**2*c - 27*b**4 + 256*c**3\n",
      "-2*a**3 + 8*a*c - 9*b**2\n"
     ]
    }
   ],
   "source": [
    "a,b,c = symbols(\"a,b,c\")\n",
    "\n",
    "Delta = - 4*(a**3)*(b**2) + 16*(a**4)*(c) - 27*(b**4) + 144*(a)*(b**2)*(c) \\\n",
    "      - 128*(a**2)*(c**2) + 256*(c**3)\n",
    "\n",
    "Lambda = - 2*(a**3) - 9*(b**2) + 8*(a)*(c) \n",
    "\n",
    "print(Delta)\n",
    "print(Lambda)"
   ]
  },
  {
   "cell_type": "code",
   "execution_count": 2,
   "id": "fbcf6398",
   "metadata": {},
   "outputs": [
    {
     "name": "stdout",
     "output_type": "stream",
     "text": [
      "a: 2*q - 3.375 b: 3*q + 5*s/2 - 3.375 c: 1.125*q + 1.875*s + 3*t - 0.94921875\n",
      "a: q - 1.5 b: q + s - 1 c: q/4 + s/2 - 0.1875\n"
     ]
    }
   ],
   "source": [
    "from sympy import*\n",
    "\n",
    "q,s,t,z = symbols(\"q,s,t,z\")\n",
    "a,b,c = symbols(\"a,b,c\")\n",
    "\n",
    "Delta = - 4*(a**3)*(b**2) + 16*(a**4)*(c) - 27*(b**4) + \\\n",
    "    144*(a)*(b**2)*(c) - 128*(a**2)*(c**2) + 256*(c**3)\n",
    "\n",
    "Lambda = - 2*(a**3) - 9*(b**2) + 8*(a)*(c)\n",
    "\n",
    "def Delta_at_photonsphere(q,s,t):\n",
    "    delta_ps = Delta.subs({a:(2*q)-(27/8), b:5*(s/2)+(3*q)-(27/8), c:(15/8)*s+(9/8)*q+(3*t)-(243/256)})\n",
    "    return delta_ps.subs({q:q,s:s,t:t})\n",
    "    \n",
    "\n",
    "def Delta_at_horizon(q,s,t):\n",
    "    delta_hr = Delta.subs({a:q-(3/2),b:(q+s-1),c:((s/2)+(q/4)+(t)-(3/16))})\n",
    "    return delta_hr.subs({q:q,s:s,t:t})\n",
    "    \n",
    "\n",
    "def Lambda__at_horizon(q,s,t):\n",
    "    Lambda_horizon = Lambda.subs({a:q-(3/2),b:(q+s-1),c:((s/2)+(q/4)+(t)-(3/16))})\n",
    "    return Lambda_horizon.subs({q:q,s:s,t:t})\n",
    "    \n",
    "\n",
    "def Lambda_at_photonsphere(q,st):\n",
    "    Lambda_photonsphere = Lambda.subs({a:(2*q)-(27/8),b:5*(s/2)+(3*q)-(27/8),c:(15/8)*s+(9/8)*q+(3*t)-(243/256)})\n",
    "    return Lambda_photonsphere.subs({q:q,s:s,t:t})\n",
    "    \n",
    "\n",
    "equation_for_horizon = z**4 + (q-3/2)*(z**2) +(q+s-1)*z + ((q/4) + (s/2) + t - (3/16))\n",
    "\n",
    "equation_for_photonsphere = z**4 + (2*q-(27/8))*(z**2) + (3*q + (5/2)*s - (27/8))*z + \\\n",
    "    ((9/8)*q + (15/8)*s + 3*t- (243/256))\n",
    "\n",
    "print(\"a:\", (2*q)-(27/8), \"b:\", 5*(s/2)+(3*q)-(27/8), \"c:\", (15/8)*s+(9/8)*q+(3*t)-(243/256))\n",
    "\n",
    "print(\"a:\",q-(3/2),\"b:\",(q+s-1),\"c:\",((s/2)+(q/4)-(3/16)))"
   ]
  },
  {
   "cell_type": "code",
   "execution_count": 3,
   "id": "12de80c2",
   "metadata": {},
   "outputs": [
    {
     "name": "stdout",
     "output_type": "stream",
     "text": [
      "206357477853.04846\n"
     ]
    }
   ],
   "source": [
    "# 0.9595*10**-(10) rad = 19.8 microsecond\n",
    "Radian_Microarcsecond = 19.8/(0.9595*math.pow(10,-10))\n",
    "print(Radian_Microarcsecond)"
   ]
  }
 ],
 "metadata": {
  "kernelspec": {
   "display_name": "Python 3 (ipykernel)",
   "language": "python",
   "name": "python3"
  },
  "language_info": {
   "codemirror_mode": {
    "name": "ipython",
    "version": 3
   },
   "file_extension": ".py",
   "mimetype": "text/x-python",
   "name": "python",
   "nbconvert_exporter": "python",
   "pygments_lexer": "ipython3",
   "version": "3.10.10"
  }
 },
 "nbformat": 4,
 "nbformat_minor": 5
}
