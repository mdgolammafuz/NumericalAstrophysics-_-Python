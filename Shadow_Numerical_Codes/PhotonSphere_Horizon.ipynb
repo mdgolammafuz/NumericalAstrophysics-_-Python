{
 "cells": [
  {
   "cell_type": "code",
   "execution_count": 177,
   "id": "0d8e076e",
   "metadata": {},
   "outputs": [
    {
     "name": "stdout",
     "output_type": "stream",
     "text": [
      "Hi! Try me!\n"
     ]
    }
   ],
   "source": [
    "print(\"Hi! Try me!\")"
   ]
  },
  {
   "cell_type": "markdown",
   "id": "4b56e868",
   "metadata": {},
   "source": []
  },
  {
   "cell_type": "code",
   "execution_count": 178,
   "id": "474f477a",
   "metadata": {},
   "outputs": [
    {
     "name": "stdout",
     "output_type": "stream",
     "text": [
      "{r: -1}\n",
      "{r: -1/3 - 1/(3*(-1/2 - sqrt(3)*I/2)*(3*sqrt(93)/2 + 29/2)**(1/3)) - (-1/2 - sqrt(3)*I/2)*(3*sqrt(93)/2 + 29/2)**(1/3)/3}\n",
      "{r: -1/3 - (-1/2 + sqrt(3)*I/2)*(3*sqrt(93)/2 + 29/2)**(1/3)/3 - 1/(3*(-1/2 + sqrt(3)*I/2)*(3*sqrt(93)/2 + 29/2)**(1/3))}\n",
      "{r: -(3*sqrt(93)/2 + 29/2)**(1/3)/3 - 1/3 - 1/(3*(3*sqrt(93)/2 + 29/2)**(1/3))}\n"
     ]
    }
   ],
   "source": [
    "from sympy import *\n",
    "q,s,t,r = symbols(\"q,s,t,r\")\n",
    "g_tt = 1 + (2/r) + (q/r**2) + (s/r**3) + (t/r**4)\n",
    "Horizon_Equation = g_tt.subs({q:1,s:1,t:1})\n",
    "horizons = solve(Horizon_Equation,dict=True)\n",
    "for horizon in horizons:\n",
    "   print(horizon)"
   ]
  },
  {
   "cell_type": "code",
   "execution_count": 179,
   "id": "d1d709b3",
   "metadata": {},
   "outputs": [],
   "source": [
    "# Expression for Delta in terms of a,b,c:\n",
    "a,b,c = symbols(\"a,b,c\")\n",
    "Delta = - 4*(a**3)*(b**2) + 16*(a**4)*(c) - 27*(b**4) + 144*(a)*(b**2)*(c) - 128*(a**2)*(c**2) + 256*(c**3)\n",
    "Lambda = - 2*(a**3) - 9*(b**2) + 8*(a)*(c) "
   ]
  },
  {
   "cell_type": "code",
   "execution_count": 180,
   "id": "e378a090",
   "metadata": {},
   "outputs": [],
   "source": [
    "z=symbols(\"z\")\n",
    "\n",
    "# Horizon equation\n",
    "z1 = z**4 + (2*q-3)*(z**2) +(q+s-1)*z + (q/4) + (s/2) + t - (3/16)\n",
    "\n",
    "#Photon Sphere Equation\n",
    "z2 = z**4 + (16*q-27)*(z**2) + (24*q + 20*s -27)*z + 9*q + 15*s + 3*t- (243/256)"
   ]
  },
  {
   "cell_type": "code",
   "execution_count": 181,
   "id": "de9711e4",
   "metadata": {},
   "outputs": [],
   "source": [
    "x = Symbol('x')\n",
    "a = Symbol('a')\n",
    "b = Symbol('b')\n",
    "c = Symbol('c')"
   ]
  },
  {
   "cell_type": "code",
   "execution_count": 182,
   "id": "789d9b1b",
   "metadata": {},
   "outputs": [
    {
     "data": {
      "image/png": "[encoded data removed]",
      "text/latex": [
       "$\\displaystyle \\left[ \\frac{- b - \\sqrt{- 4 a c + b^{2}}}{2 a}, \\  \\frac{- b + \\sqrt{- 4 a c + b^{2}}}{2 a}\\right]$"
      ],
      "text/plain": [
       "⎡        _____________          _____________⎤\n",
       "⎢       ╱           2          ╱           2 ⎥\n",
       "⎢-b - ╲╱  -4⋅a⋅c + b    -b + ╲╱  -4⋅a⋅c + b  ⎥\n",
       "⎢─────────────────────, ─────────────────────⎥\n",
       "⎣         2⋅a                    2⋅a         ⎦"
      ]
     },
     "execution_count": 182,
     "metadata": {},
     "output_type": "execute_result"
    }
   ],
   "source": [
    "expr = a*x*x + b*x + c\n",
    "solve(expr, x)"
   ]
  },
  {
   "cell_type": "code",
   "execution_count": 183,
   "id": "a871bb24",
   "metadata": {},
   "outputs": [
    {
     "data": {
      "image/png": "[encoded data removed]",
      "text/latex": [
       "$\\displaystyle \\left[ \\frac{- u - 1.4142135623731 \\sqrt{a s + 0.5 u^{2}}}{a}, \\  \\frac{- u + 1.4142135623731 \\sqrt{a s + 0.5 u^{2}}}{a}\\right]$"
      ],
      "text/plain": [
       "⎡                        ______________                          _____________\n",
       "⎢                       ╱            2                          ╱            2\n",
       "⎢-u - 1.4142135623731⋅╲╱  a⋅s + 0.5⋅u    -u + 1.4142135623731⋅╲╱  a⋅s + 0.5⋅u \n",
       "⎢──────────────────────────────────────, ─────────────────────────────────────\n",
       "⎣                  a                                       a                  \n",
       "\n",
       "_⎤\n",
       " ⎥\n",
       " ⎥\n",
       "─⎥\n",
       " ⎦"
      ]
     },
     "execution_count": 183,
     "metadata": {},
     "output_type": "execute_result"
    }
   ],
   "source": [
    "from sympy import Symbol, solve, pprint\n",
    "s = Symbol('s')\n",
    "u = Symbol('u')\n",
    "t = Symbol('t')\n",
    "a = Symbol('a')\n",
    "expr = u*t + (1/2)*a*t*t - s\n",
    "t_expr = solve(expr,t)\n",
    "t_expr"
   ]
  },
  {
   "cell_type": "code",
   "execution_count": 184,
   "id": "5777743e",
   "metadata": {},
   "outputs": [
    {
     "data": {
      "image/png": "[encoded data removed]",
      "text/latex": [
       "$\\displaystyle \\left[ \\frac{- R - \\sqrt{- 3 Q T + R^{2}}}{Q}, \\  \\frac{- R + \\sqrt{- 3 Q T + R^{2}}}{Q}\\right]$"
      ],
      "text/plain": [
       "⎡        _____________          _____________⎤\n",
       "⎢       ╱           2          ╱           2 ⎥\n",
       "⎢-R - ╲╱  -3⋅Q⋅T + R    -R + ╲╱  -3⋅Q⋅T + R  ⎥\n",
       "⎢─────────────────────, ─────────────────────⎥\n",
       "⎣          Q                      Q          ⎦"
      ]
     },
     "execution_count": 184,
     "metadata": {},
     "output_type": "execute_result"
    }
   ],
   "source": [
    "from sympy import*\n",
    "r,Q,R,T=symbols('r,Q,R,T')\n",
    "First_Energy_Condition = Q*(r**2) + 2*r*R + 3*T\n",
    "\n",
    "First_Energy_Condition = solve(First_Energy_Condition,r)\n",
    "First_Energy_Condition"
   ]
  },
  {
   "cell_type": "code",
   "execution_count": 185,
   "id": "8292f1f4",
   "metadata": {},
   "outputs": [],
   "source": [
    "# Third_Energy_Condition = 2*Q*r**2 + 5*r*R + 9*T\n",
    "\n",
    "# Roots_Third_Energy_Condition = solveset (Eq(Third_Energy_Condition,0),r)\n",
    "\n",
    "# simplify(Roots_Third_Energy_Condition)"
   ]
  },
  {
   "cell_type": "code",
   "execution_count": 186,
   "id": "79b00230",
   "metadata": {},
   "outputs": [],
   "source": [
    "#######Horizon = x**4 - 2*x**3 + q*x**2 + s*x + t \n",
    "\n",
    "#Horizon_Substituted = expand(Horizon.subs(x,z1+(1/2))) \n",
    "\n",
    "#collect(Horizon_Substituted, z1)"
   ]
  },
  {
   "cell_type": "code",
   "execution_count": 187,
   "id": "9ee0edc3",
   "metadata": {},
   "outputs": [],
   "source": [
    "from sympy import*\n",
    "y=Symbol(\"y\")\n",
    "Photon_Sphere = 2*y**4 - 6*y**3 + 4*q*y**2 + 5*s*y + 6*t \n",
    "Photon_Sphere_Substituted = expand(Photon_Sphere.subs(y,z2+(3/4)))\n",
    "# collect(Photon_Sphere_Substituted, z2)"
   ]
  },
  {
   "cell_type": "code",
   "execution_count": 188,
   "id": "4ee113db",
   "metadata": {},
   "outputs": [],
   "source": [
    "eq1 = x**2*(q-(3/2)) + x*(q+s-1) + (s*(1/2) + q*(1/4) + t - (3/16))"
   ]
  },
  {
   "cell_type": "code",
   "execution_count": 189,
   "id": "8da77bcf",
   "metadata": {},
   "outputs": [],
   "source": [
    "from sympy import*\n",
    "q,s,t,r = symbols(\"q,s,t,r\")\n",
    "g_tt = 1 + (2/r) + (q/r**2) + (s/r**3) + (t/r**4)\n",
    "Horizon_Equation = g_tt.subs({q:3/2,s:1/2,t:9/16})\n",
    "horizons = solve(Horizon_Equation)\n",
    "h1 = []\n",
    "for horizon in horizons:\n",
    "    hr = horizon\n",
    "    if hr.is_positive and hr.is_real:\n",
    "        print(hr)\n",
    "        h1.append(hr)\n",
    "        \n",
    "if len(h1)>0:       \n",
    "    z = max(h1)\n",
    "    print(z)"
   ]
  },
  {
   "cell_type": "code",
   "execution_count": 190,
   "id": "28cbb70c",
   "metadata": {},
   "outputs": [
    {
     "name": "stdout",
     "output_type": "stream",
     "text": [
      "q   s        4    2                                   \n",
      "─ + ─ + t + z  + z ⋅(q - 1.5) + z⋅(q + s - 1) - 0.1875\n",
      "4   2                                                 \n",
      "                           4    2                                             \n",
      "1.125⋅q + 1.875⋅s + 3⋅t + z  + z ⋅(2⋅q - 3.375) + z⋅(3⋅q + 2.5⋅s - 3.375) - 0.\n",
      "\n",
      "        \n",
      "94921875\n"
     ]
    }
   ],
   "source": [
    "z=symbols(\"z\")\n",
    "\n",
    "# Horizon equation\n",
    "z1 = z**4 + (q-3/2)*(z**2) +(q+s-1)*z \\\n",
    "    + ((q/4) + (s/2) + t - (3/16))\n",
    "\n",
    "#Photon Sphere Equation\n",
    "z2 = z**4 + (2*q-(27/8))*(z**2) + (3*q + (5/2)*s \\\n",
    "    - (27/8))*z + ((9/8)*q + (15/8)*s + 3*t- (243/256))\n",
    "pprint(z1)\n",
    "pprint(z2)"
   ]
  },
  {
   "cell_type": "code",
   "execution_count": 191,
   "id": "d5d4b533",
   "metadata": {},
   "outputs": [
    {
     "data": {
      "image/png": "[encoded data removed]",
      "text/latex": [
       "$\\displaystyle \\left[ - \\sqrt{3} \\sqrt{- \\frac{T}{Q + 2}}, \\  \\sqrt{3} \\sqrt{- \\frac{T}{Q + 2}}\\right]$"
      ],
      "text/plain": [
       "⎡        _______         _______⎤\n",
       "⎢       ╱  -T           ╱  -T   ⎥\n",
       "⎢-√3⋅  ╱  ───── , √3⋅  ╱  ───── ⎥\n",
       "⎣    ╲╱   Q + 2      ╲╱   Q + 2 ⎦"
      ]
     },
     "execution_count": 191,
     "metadata": {},
     "output_type": "execute_result"
    }
   ],
   "source": [
    "from sympy import*\n",
    "Q,R,T,r = symbols(\"Q,R,T,R\")\n",
    "First_Energy_Condition = Q*(r**2) + 2*r*R + 3*T\n",
    "First_Energy_Condition = solve (First_Energy_Condition,r)\n",
    "First_Energy_Condition"
   ]
  },
  {
   "cell_type": "code",
   "execution_count": 192,
   "id": "d9fa8d2a",
   "metadata": {},
   "outputs": [
    {
     "data": {
      "image/png": "[encoded data removed]",
      "text/latex": [
       "$\\displaystyle \\left\\{- \\frac{5 R}{4 Q} - \\frac{\\sqrt{- 72 Q T + 25 R^{2}}}{4 Q}, - \\frac{5 R}{4 Q} + \\frac{\\sqrt{- 72 Q T + 25 R^{2}}}{4 Q}\\right\\}$"
      ],
      "text/plain": [
       "⎧           _________________             _________________⎫\n",
       "⎪          ╱               2             ╱               2 ⎪\n",
       "⎨  5⋅R   ╲╱  -72⋅Q⋅T + 25⋅R      5⋅R   ╲╱  -72⋅Q⋅T + 25⋅R  ⎬\n",
       "⎪- ─── - ────────────────────, - ─── + ────────────────────⎪\n",
       "⎩  4⋅Q           4⋅Q             4⋅Q           4⋅Q         ⎭"
      ]
     },
     "execution_count": 192,
     "metadata": {},
     "output_type": "execute_result"
    }
   ],
   "source": [
    "from sympy import*\n",
    "r,Q,R,T = symbols('r Q R T')\n",
    "Third_Energy_Condition = 2*Q*r**2 + 5*r*R + 9*T\n",
    "Third_Energy_Condition = solveset (Eq(Third_Energy_Condition,0),r)\n",
    "Third_Energy_Condition"
   ]
  },
  {
   "cell_type": "code",
   "execution_count": 193,
   "id": "db08bb2a",
   "metadata": {},
   "outputs": [],
   "source": [
    "Horizon = x**4 - 2*x**3 + q*x**2 + s*x + t \n",
    "Horizon_Substituted = expand(Horizon.subs(x,z1+(1/2))) \n",
    "# collect(Horizon_Substituted,z1)"
   ]
  },
  {
   "cell_type": "code",
   "execution_count": 194,
   "id": "6d8896a8",
   "metadata": {},
   "outputs": [
    {
     "data": {
      "image/png": "[encoded data removed]",
      "text/latex": [
       "$\\displaystyle \\left( \\left\\{ q : 1, \\  s : 1, \\  t : 1\\right\\}, \\  \\left\\{ q : 1, \\  s : -1, \\  t : 1\\right\\}, \\  \\left\\{ q : 1, \\  s : 2, \\  t : 3\\right\\}, \\  \\left\\{ q : 1, \\  s : -2, \\  t : 3\\right\\}, \\  \\left\\{ q : 2, \\  s : 1, \\  t : 3\\right\\}, \\  \\left\\{ q : 2, \\  s : -1, \\  t : 3\\right\\}\\right)$"
      ],
      "text/plain": [
       "({q: 1, s: 1, t: 1}, {q: 1, s: -1, t: 1}, {q: 1, s: 2, t: 3}, {q: 1, s: -2, t:\n",
       " 3}, {q: 2, s: 1, t: 3}, {q: 2, s: -1, t: 3})"
      ]
     },
     "execution_count": 194,
     "metadata": {},
     "output_type": "execute_result"
    }
   ],
   "source": [
    "qst_tuple = ( {q:1, s:1, t:1}, {q:1, s:-1, t:1},\\\n",
    "            {q:1, s:2, t:3}, {q:1, s:-2, t:3}, \\\n",
    "            {q:2, s:1, t:3}, {q:2, s:-1, t:3} ) # set of q,s,t\n",
    "qst_tuple"
   ]
  },
  {
   "cell_type": "code",
   "execution_count": 195,
   "id": "23326b0c",
   "metadata": {},
   "outputs": [
    {
     "data": {
      "image/png": "[encoded data removed]",
      "text/latex": [
       "$\\displaystyle \\frac{M^{4} t}{r^{4}} + \\frac{M^{3} s}{r^{3}} + \\frac{M^{2} q}{r^{2}} - \\frac{2 M}{r} + 1 = 0$"
      ],
      "text/plain": [
       " 4      3      2                \n",
       "M ⋅t   M ⋅s   M ⋅q   2⋅M        \n",
       "──── + ──── + ──── - ─── + 1 = 0\n",
       "  4      3      2     r         \n",
       " r      r      r                "
      ]
     },
     "execution_count": 195,
     "metadata": {},
     "output_type": "execute_result"
    }
   ],
   "source": [
    "from sympy import*\n",
    "A,M,r,t = symbols('A,M,r,t')\n",
    "A = 1 - (2*M/r) + (q*M**2/r**2) + (s*M**3/r**3) + (t*M**4/r**4) # g_{tt}\n",
    "Eq(A,0) "
   ]
  },
  {
   "cell_type": "code",
   "execution_count": 196,
   "id": "4af0c060",
   "metadata": {},
   "outputs": [
    {
     "data": {
      "image/png": "[encoded data removed]",
      "text/latex": [
       "$\\displaystyle M \\left(\\sqrt{\\frac{\\sqrt{25 - 192 t}}{8} - \\frac{1}{16}} + 0.75\\right) = 0$"
      ],
      "text/plain": [
       "  ⎛     _____________________       ⎞    \n",
       "  ⎜    ╱   ____________             ⎟    \n",
       "  ⎜   ╱  ╲╱ 25 - 192⋅t    1         ⎟    \n",
       "M⋅⎜  ╱   ────────────── - ──  + 0.75⎟ = 0\n",
       "  ⎝╲╱          8          16        ⎠    "
      ]
     },
     "execution_count": 196,
     "metadata": {},
     "output_type": "execute_result"
    }
   ],
   "source": [
    "photon_sphere_radius = ( (3/4) + sqrt( ( 2*sqrt( 25 - 192*t ) - 1 ) / (16) ) )*M\n",
    "\n",
    "Eq(photon_sphere_radius,0) #Just to show the expression, it's not an equation"
   ]
  },
  {
   "cell_type": "code",
   "execution_count": 197,
   "id": "26a81645",
   "metadata": {},
   "outputs": [
    {
     "data": {
      "image/png": "[encoded data removed]",
      "text/latex": [
       "$\\displaystyle \\frac{q}{\\frac{\\sqrt{25 - 192 t}}{8} + 1.5 \\sqrt{\\frac{\\sqrt{25 - 192 t}}{8} - \\frac{1}{16}} + 0.5} + \\frac{s}{\\frac{\\sqrt{25 - 192 t} \\sqrt{\\frac{\\sqrt{25 - 192 t}}{8} - \\frac{1}{16}}}{8} + 0.28125 \\sqrt{25 - 192 t} + 1.625 \\sqrt{\\frac{\\sqrt{25 - 192 t}}{8} - \\frac{1}{16}} + 0.28125} + \\frac{t}{- 3 t + 0.375 \\sqrt{25 - 192 t} \\sqrt{\\frac{\\sqrt{25 - 192 t}}{8} - \\frac{1}{16}} + 0.40625 \\sqrt{25 - 192 t} + 1.5 \\sqrt{\\frac{\\sqrt{25 - 192 t}}{8} - \\frac{1}{16}} + 0.5} + 1 - \\frac{2}{\\sqrt{\\frac{\\sqrt{25 - 192 t}}{8} - \\frac{1}{16}} + 0.75} = 0$"
      ],
      "text/plain": [
       "                          q                                                   \n",
       "───────────────────────────────────────────────────── + ──────────────────────\n",
       "                          _____________________                             __\n",
       "  ____________           ╱   ____________                                  ╱  \n",
       "╲╱ 25 - 192⋅t           ╱  ╲╱ 25 - 192⋅t    1             ____________    ╱  ╲\n",
       "────────────── + 1.5⋅  ╱   ────────────── - ──  + 0.5   ╲╱ 25 - 192⋅t ⋅  ╱   ─\n",
       "      8              ╲╱          8          16                         ╲╱     \n",
       "                                                        ──────────────────────\n",
       "                                                                            8 \n",
       "\n",
       "                                 s                                            \n",
       "──────────────────────────────────────────────────────────────────────────────\n",
       "___________________                                                           \n",
       " ____________                                                                 \n",
       "╱ 25 - 192⋅t    1                                         ____________________\n",
       "───────────── - ──                                       ╱   ____________     \n",
       "     8          16              ____________            ╱  ╲╱ 25 - 192⋅t    1 \n",
       "─────────────────── + 0.28125⋅╲╱ 25 - 192⋅t  + 1.625⋅  ╱   ────────────── - ──\n",
       "                                                     ╲╱          8          16\n",
       "\n",
       "                                                                        t     \n",
       "─────────── + ────────────────────────────────────────────────────────────────\n",
       "                                               _____________________          \n",
       "                                              ╱   ____________                \n",
       "_                            ____________    ╱  ╲╱ 25 - 192⋅t    1            \n",
       "              -3⋅t + 0.375⋅╲╱ 25 - 192⋅t ⋅  ╱   ────────────── - ──  + 0.40625\n",
       "                                          ╲╱          8          16           \n",
       "  + 0.28125                                                                   \n",
       "                                                                              \n",
       "\n",
       "                                                                             2\n",
       "────────────────────────────────────────────────────── + 1 - ─────────────────\n",
       "                           _____________________                  ____________\n",
       "                          ╱   ____________                       ╱   _________\n",
       "   ____________          ╱  ╲╱ 25 - 192⋅t    1                  ╱  ╲╱ 25 - 192\n",
       "⋅╲╱ 25 - 192⋅t  + 1.5⋅  ╱   ────────────── - ──  + 0.5         ╱   ───────────\n",
       "                      ╲╱          8          16              ╲╱          8    \n",
       "                                                                              \n",
       "                                                                              \n",
       "\n",
       "                    \n",
       "──────────────── = 0\n",
       "_________           \n",
       "___                 \n",
       "⋅t    1             \n",
       "─── - ──  + 0.75    \n",
       "      16            \n",
       "                    \n",
       "                    "
      ]
     },
     "execution_count": 197,
     "metadata": {},
     "output_type": "execute_result"
    }
   ],
   "source": [
    "A_Photon_Sphere = expand(A.subs(r,(photon_sphere_radius))) # g_{tt} at the photon sphere\n",
    "simplify(A_Photon_Sphere)\n",
    "Eq(A_Photon_Sphere,0)"
   ]
  },
  {
   "cell_type": "code",
   "execution_count": 198,
   "id": "572ad6dc",
   "metadata": {},
   "outputs": [
    {
     "data": {
      "image/png": "[encoded data removed]",
      "text/latex": [
       "$\\displaystyle 1 + \\frac{1}{0.5 + 1.5 \\sqrt{- \\frac{1}{16} + \\frac{\\sqrt{167} i}{8}} + \\frac{\\sqrt{167} i}{8}} + \\frac{1}{0.28125 + \\frac{\\sqrt{167} i \\sqrt{- \\frac{1}{16} + \\frac{\\sqrt{167} i}{8}}}{8} + 1.625 \\sqrt{- \\frac{1}{16} + \\frac{\\sqrt{167} i}{8}} + 0.28125 \\sqrt{167} i} + \\frac{1}{-2.5 + 1.5 \\sqrt{- \\frac{1}{16} + \\frac{\\sqrt{167} i}{8}} + 0.375 \\sqrt{167} i \\sqrt{- \\frac{1}{16} + \\frac{\\sqrt{167} i}{8}} + 0.40625 \\sqrt{167} i} - \\frac{2}{0.75 + \\sqrt{- \\frac{1}{16} + \\frac{\\sqrt{167} i}{8}}} = 0$"
      ],
      "text/plain": [
       "                      1                                                       \n",
       "1 + ────────────────────────────────────── + ─────────────────────────────────\n",
       "                  _______________                                 ____________\n",
       "                 ╱   1    √167⋅ⅈ    √167⋅ⅈ                       ╱   1    √167\n",
       "    0.5 + 1.5⋅  ╱  - ── + ──────  + ──────             √167⋅ⅈ⋅  ╱  - ── + ────\n",
       "              ╲╱     16     8         8                       ╲╱     16     8 \n",
       "                                             0.28125 + ───────────────────────\n",
       "                                                                   8          \n",
       "\n",
       "       1                                                                      \n",
       "──────────────────────────────────────────────── + ───────────────────────────\n",
       "___                                                               ____________\n",
       "⋅ⅈ                                                               ╱   1    √167\n",
       "──              _______________                    -2.5 + 1.5⋅  ╱  - ── + ────\n",
       "               ╱   1    √167⋅ⅈ                                ╲╱     16     8 \n",
       "─── + 1.625⋅  ╱  - ── + ──────  + 0.28125⋅√167⋅ⅈ                              \n",
       "            ╲╱     16     8                                                   \n",
       "\n",
       "             1                                                        2       \n",
       "─────────────────────────────────────────────────────── - ────────────────────\n",
       "___                    _______________                               _________\n",
       "⋅ⅈ                    ╱   1    √167⋅ⅈ                               ╱   1    √\n",
       "──  + 0.375⋅√167⋅ⅈ⋅  ╱  - ── + ──────  + 0.40625⋅√167⋅ⅈ   0.75 +   ╱  - ── + ─\n",
       "                   ╲╱     16     8                               ╲╱     16    \n",
       "                                                                              \n",
       "                                                                              \n",
       "\n",
       "          \n",
       "────── = 0\n",
       "______    \n",
       "167⋅ⅈ     \n",
       "─────     \n",
       " 8        \n",
       "          \n",
       "          "
      ]
     },
     "execution_count": 198,
     "metadata": {},
     "output_type": "execute_result"
    }
   ],
   "source": [
    "A_Photon_Sphere_Substituted = A_Photon_Sphere.subs({q:1, s:1, t:1}) # g_{tt} at photon sphere for (q,s,t) = (1,1,1)\n",
    "\n",
    "Eq(A_Photon_Sphere_Substituted,0)"
   ]
  },
  {
   "cell_type": "code",
   "execution_count": 199,
   "id": "a3e2f2e4",
   "metadata": {},
   "outputs": [
    {
     "name": "stdout",
     "output_type": "stream",
     "text": [
      "0.569840290998053\n",
      "0.633869275707726\n"
     ]
    }
   ],
   "source": [
    "from sympy import*\n",
    "q,s,t,z = symbols(\"q,s,t,z\")\n",
    "\n",
    "def horizon(q,s,t):\n",
    "    \n",
    "    equation_of_horizon = z**4 + (q-3/2)*(z**2) +(q+s-1)*z + ((q/4) + (s/2) + t - (3/16))\n",
    "    horizon_qst_substituted = equation_of_horizon.subs({q:q,s:s,t:t})\n",
    "    horizons = solve(horizon_qst_substituted)\n",
    "    horizon_list = []\n",
    "    for horizon in horizons:\n",
    "        hr = horizon\n",
    "        if hr.is_positive and hr.is_real:\n",
    "            horizon_list.append(hr)\n",
    "            if len(horizon_list)>0:       \n",
    "                m = max(horizon_list)\n",
    "    return (m)\n",
    "\n",
    "def photon_sphere(q,s,t):\n",
    "    \n",
    "    equation_of_photonsphere = z**4 + (2*q-(27/8))*(z**2) + (3*q + (5/2)*s - (27/8))*z + ((9/8)*q + (15/8)*s + 3*t- (243/256))\n",
    "    ps_qst_substituted = equation_of_photonsphere.subs({q:q,s:s,t:t})\n",
    "    photonspheres = solve(ps_qst_substituted)\n",
    "    photonsphere_list = []\n",
    "    for photonsphere in photonspheres:\n",
    "        ps = photonsphere\n",
    "        if ps.is_positive and ps.is_real:\n",
    "            photonsphere_list.append(ps)\n",
    "            if len(photonsphere_list)>0:       \n",
    "                m = max(photonsphere_list)\n",
    "    return(m)\n",
    "  \n",
    "    \n",
    "test_hr = horizon(5/2,-1/2,-19/16)\n",
    "test_ps = photon_sphere(5/2,-1/2,-19/16)\n",
    "print(test_hr)\n",
    "print(test_ps)"
   ]
  },
  {
   "cell_type": "code",
   "execution_count": 200,
   "id": "48bba7a3",
   "metadata": {},
   "outputs": [
    {
     "name": "stdout",
     "output_type": "stream",
     "text": [
      "0.569840290998053\n"
     ]
    },
    {
     "name": "stderr",
     "output_type": "stream",
     "text": [
      "<>:29: SyntaxWarning: 'int' object is not callable; perhaps you missed a comma?\n",
      "<>:29: SyntaxWarning: 'int' object is not callable; perhaps you missed a comma?\n",
      "/var/folders/5v/jgblmv2j1px1sz8pnpx8jqxh0000gn/T/ipykernel_3742/2619929350.py:29: SyntaxWarning: 'int' object is not callable; perhaps you missed a comma?\n",
      "  z**4(2*q-(27/8))*(z**2) \\\n"
     ]
    }
   ],
   "source": [
    "from sympy import*\n",
    "\n",
    "q,s,t,z = symbols(\"q,s,t,z\")\n",
    "\n",
    "def horizon(q,s,t):\n",
    "    \n",
    "    equation_for_horizon = z**4 + (q-3/2)*(z**2) \\\n",
    "        + (q+s-1)*z + ((q/4) + (s/2) + t - (3/16))\n",
    "    \n",
    "    horizon_at_qst = \\\n",
    "        equation_for_horizon.subs({q:q,s:s,t:t})\n",
    "    \n",
    "    horizons = solve(horizon_at_qst)\n",
    "\n",
    "    list_of_horizons = []\n",
    "\n",
    "    for horizon in horizons:\n",
    "        if horizon.is_positive and horizon.is_real:\n",
    "            list_of_horizons.append(horizon)\n",
    "            if len(list_of_horizons)>0:       \n",
    "                maximum_of_horizons = \\\n",
    "                max(list_of_horizons)\n",
    "\n",
    "    return (maximum_of_horizons)\n",
    "\n",
    "def photon_sphere(q,s,t):\n",
    "    \n",
    "    equation_for_photonsphere = \\\n",
    "        z**4(2*q-(27/8))*(z**2) \\\n",
    "        + (3*q + (5/2)*s(27/8))*z \\\n",
    "        + ((9/8)*q + (15/8)*s + 3*t - (243/256))\n",
    "    \n",
    "    photon_sphere_at_qst = \\\n",
    "        equation_for_photonsphere.subs({q:q,s:s,t:t})\n",
    "    \n",
    "    photonspheres = solve(photon_sphere_at_qst)\n",
    "    \n",
    "    list_of_photon_spheres = []\n",
    "\n",
    "    for photon_sphere in photonspheres:\n",
    "\n",
    "        if photon_sphere.is_positive and photon_sphere.is_real:\n",
    "\n",
    "            list_of_photon_spheres.append(photon_sphere)\n",
    "\n",
    "            if len(list_of_photon_spheres)>0:  \n",
    "\n",
    "                return max(list_of_photon_spheres)\n",
    "  \n",
    "    \n",
    "hr = horizon(5/2,-1/2,-19/16)\n",
    "#ps = photon_sphere(5/2,-1/2,-19/16)\n",
    "print(hr)"
   ]
  },
  {
   "cell_type": "code",
   "execution_count": 201,
   "id": "36f81ec0",
   "metadata": {},
   "outputs": [],
   "source": [
    "from sympy import symbols,solve\n",
    "q,s,t,r = symbols(\"q,s,t,r\")\n",
    "g_tt = 1 + (2/r) + (q/r**2) + (s/r**3) + (t/r**4)\n",
    "Horizon_Equation = g_tt.subs({q:3/2,s:1/2,t:9/16})\n",
    "horizons = solve(Horizon_Equation)\n",
    "h1 = []\n",
    "for horizon in horizons:\n",
    "    hr = horizon\n",
    "    if hr.is_positive and hr.is_real:\n",
    "        print(hr)\n",
    "        h1.append(hr)\n",
    "        \n",
    "if len(h1)>0:       \n",
    "    z = max(h1)\n",
    "    print(z)"
   ]
  },
  {
   "cell_type": "code",
   "execution_count": 202,
   "id": "612fb7b0",
   "metadata": {},
   "outputs": [],
   "source": [
    "def photon_sphere(q,s,t):\n",
    "    equation_of_photonsphere = z**4 + (2*q-(27/8))*(z**2) + (3*q + (5/2)*s - (27/8))*z + ((9/8)*q + (15/8)*s + 3*t- (243/256))\n",
    "    equation_of_photonsphere_qst_substituted = equation_of_photonsphere.subs(({q:q,s:s,t:t}))\n",
    "    print(equation_of_photonsphere_qst_substituted)\n",
    "    photon_spheres = solve(equation_of_photonsphere_qst_substituted,z)\n",
    "    return photon_spheres\n"
   ]
  },
  {
   "cell_type": "code",
   "execution_count": 203,
   "id": "4f31dde3",
   "metadata": {},
   "outputs": [
    {
     "data": {
      "text/plain": [
       "'print(\"a:\",(2*q)-(27/8),\"b:\",5*(s/2)+(3*q)-(27/8),\"c:\",(15/8)*s+(9/8)*q+(3*t)-(243/256))\\nprint(\"a:\",q-(3/2),\"b:\",(q+s-1),c:((s/2)+(q/4)-(3/16))})\\nprint(\"Horizon Equation : \",equation_of_horizon)\\nprint(\"Equation of Photon Sphere : \",equation_of_photonsphere)\\nprint(\"Delta for Photon Sphere : \",Delta_PS)\\nprint(\"Delta for Horizon : \",Delta_HR)\\nprint(\"Lambda for Horizon : \",Lambda_HR)\\nprint(\"Lambda for Photon Sphere : \", Lambda_PS)\\n'"
      ]
     },
     "execution_count": 203,
     "metadata": {},
     "output_type": "execute_result"
    }
   ],
   "source": [
    "from sympy import*\n",
    "q,s,t,z = symbols(\"q,s,t,z\")\n",
    "a,b,c = symbols(\"a,b,c\")\n",
    "\n",
    "Delta = - 4*(a**3)*(b**2) + 16*(a**4)*(c) - 27*(b**4) + 144*(a)*(b**2)*(c) - 128*(a**2)*(c**2) + 256*(c**3)\n",
    "\n",
    "Lambda = - 2*(a**3) - 9*(b**2) + 8*(a)*(c)\n",
    "\n",
    "Delta_HR = Delta.subs({a:q-(3/2),b:(q+s-1),c:((s/2)+(q/4)-(3/16))})\n",
    "\n",
    "Lambda_HR = Lambda.subs({a:q-(3/2),b:(q+s-1),c:((s/2)+(q/4)-(3/16))})\n",
    "\n",
    "Delta_PS = Delta.subs({a:(2*q)-(27/8),b:5*(s/2)+(3*q)-(27/8),c:(15/8)*s+(9/8)*q+(3*t)-(243/256)})\n",
    "\n",
    "Lambda_PS = Lambda.subs({a:(2*q)-(27/8),b:5*(s/2)+(3*q)-(27/8),c:(15/8)*s+(9/8)*q+(3*t)-(243/256)})\n",
    "\n",
    "equation_of_horizon = z**4 + (q-3/2)*(z**2) +(q+s-1)*z + ((q/4) + (s/2) + t - (3/16))\n",
    "\n",
    "equation_of_photonsphere = z**4 + (2*q-(27/8))*(z**2) + (3*q + (5/2)*s - (27/8))*z + ((9/8)*q + (15/8)*s + 3*t- (243/256))\n",
    "\n",
    "\"\"\"print(\"a:\",(2*q)-(27/8),\"b:\",5*(s/2)+(3*q)-(27/8),\"c:\",(15/8)*s+(9/8)*q+(3*t)-(243/256))\n",
    "print(\"a:\",q-(3/2),\"b:\",(q+s-1),c:((s/2)+(q/4)-(3/16))})\n",
    "print(\"Horizon Equation : \",equation_of_horizon)\n",
    "print(\"Equation of Photon Sphere : \",equation_of_photonsphere)\n",
    "print(\"Delta for Photon Sphere : \",Delta_PS)\n",
    "print(\"Delta for Horizon : \",Delta_HR)\n",
    "print(\"Lambda for Horizon : \",Lambda_HR)\n",
    "print(\"Lambda for Photon Sphere : \", Lambda_PS)\n",
    "\"\"\""
   ]
  },
  {
   "cell_type": "code",
   "execution_count": 204,
   "id": "405d5ab1",
   "metadata": {},
   "outputs": [
    {
     "data": {
      "image/png": "[encoded data removed]",
      "text/latex": [
       "$\\displaystyle \\left[ 0.0, \\  0.1, \\  0.2, \\  0.3, \\  0.4, \\  0.5, \\  0.6, \\  0.7, \\  0.8, \\  0.9, \\  1.0\\right]$"
      ],
      "text/plain": [
       "[0.0, 0.1, 0.2, 0.30000000000000004, 0.4, 0.5, 0.6, 0.7, 0.7999999999999999, 0\n",
       ".8999999999999999, 0.9999999999999999]"
      ]
     },
     "execution_count": 204,
     "metadata": {},
     "output_type": "execute_result"
    }
   ],
   "source": [
    "def frange(start,final,interval):\n",
    "    \n",
    "    numbers = []\n",
    "    \n",
    "    while start < final:\n",
    "        numbers.append(start)\n",
    "        start = start + interval\n",
    "    return numbers\n",
    "\n",
    "\n",
    "frange(0.0,1.0,0.1)"
   ]
  },
  {
   "cell_type": "code",
   "execution_count": 205,
   "id": "11e13c8b",
   "metadata": {},
   "outputs": [
    {
     "name": "stdout",
     "output_type": "stream",
     "text": [
      "    4        3  2        2  2          2         4        3\n",
      "16⋅a ⋅c - 4⋅a ⋅b  - 128⋅a ⋅c  + 144⋅a⋅b ⋅c - 27⋅b  + 256⋅c \n"
     ]
    },
    {
     "data": {
      "image/png": "[encoded data removed]",
      "text/latex": [
       "$\\displaystyle - 2 a^{3} + 8 a c - 9 b^{2}$"
      ],
      "text/plain": [
       "     3              2\n",
       "- 2⋅a  + 8⋅a⋅c - 9⋅b "
      ]
     },
     "execution_count": 205,
     "metadata": {},
     "output_type": "execute_result"
    }
   ],
   "source": [
    "from sympy import*\n",
    "a,b,c = symbols(\"a,b,c\")\n",
    "\n",
    "Delta = - 4*(a**3)*(b**2) + 16*(a**4)*(c) - 27*(b**4) \\\n",
    "    + 144*(a)*(b**2)*(c) - 128*(a**2)*(c**2) + 256*(c**3)\n",
    "\n",
    "Lambda = - 2*(a**3) - 9*(b**2) + 8*(a)*(c) \n",
    "pprint(Delta)\n",
    "Lambda"
   ]
  },
  {
   "cell_type": "code",
   "execution_count": 206,
   "id": "26a35938",
   "metadata": {},
   "outputs": [
    {
     "name": "stdout",
     "output_type": "stream",
     "text": [
      "a: 2*q - 3.375 b: 3*q + 5*s/2 - 3.375 c: 1.125*q + 1.875*s + 3*t - 0.94921875\n",
      "a: q - 1.5 b: q + s - 1 c: q/4 + s/2 - 0.1875\n",
      "Horizon Equation :  q/4 + s/2 + t + z**4 + z**2*(q - 1.5) + z*(q + s - 1) - 0.1875\n",
      "Equation of Photon Sphere :  1.125*q + 1.875*s + 3*t + z**4 + z**2*(2*q - 3.375) + z*(3*q + 2.5*s - 3.375) - 0.94921875\n",
      "Delta for Photon Sphere :  2075.94140625*(0.592592592592593*q - 1)**4*(1.125*q + 1.875*s + 3*t - 0.94921875) - 1751.57556152344*(0.592592592592593*q - 1)**3*(0.888888888888889*q + 0.740740740740741*s - 1)**2 - 13122.0*(0.592592592592593*q - 1)**2*(0.375*q + 0.625*s + t - 0.31640625)**2 + 1640.25*(2*q - 3.375)*(0.888888888888889*q + 0.740740740740741*s - 1)**2*(1.125*q + 1.875*s + 3*t - 0.94921875) - 3503.15112304688*(0.888888888888889*q + 0.740740740740741*s - 1)**4 + 6912*(0.375*q + 0.625*s + t - 0.31640625)**3\n",
      "Delta for Horizon :  81.0*(0.666666666666667*q - 1)**4*(q/4 + s/2 - 0.1875) - 13.5*(0.666666666666667*q - 1)**3*(q + s - 1)**2 - 72.0*(0.666666666666667*q - 1)**2*(q/2 + s - 0.375)**2 + 144*(q - 1.5)*(q/4 + s/2 - 0.1875)*(q + s - 1)**2 + 32*(q/2 + s - 0.375)**3 - 27*(q + s - 1)**4\n",
      "Lambda for Horizon :  -6.75*(0.666666666666667*q - 1)**3 + 8*(q - 1.5)*(q/4 + s/2 - 0.1875) - 9*(q + s - 1)**2\n",
      "Lambda for Photon Sphere :  -76.88671875*(0.592592592592593*q - 1)**3 + 8*(2*q - 3.375)*(1.125*q + 1.875*s + 3*t - 0.94921875) - 102.515625*(0.888888888888889*q + 0.740740740740741*s - 1)**2\n"
     ]
    }
   ],
   "source": [
    "from sympy import*\n",
    "q,s,t,z = symbols(\"q,s,t,z\")\n",
    "a,b,c = symbols(\"a,b,c\")\n",
    "\n",
    "Delta = - 4*(a**3)*(b**2) + 16*(a**4)*(c) - 27*(b**4) + 144*(a)*(b**2)*(c) - 128*(a**2)*(c**2) + 256*(c**3)\n",
    "\n",
    "Lambda = - 2*(a**3) - 9*(b**2) + 8*(a)*(c)\n",
    "\n",
    "Delta_HR = Delta.subs({a:q-(3/2),b:(q+s-1),c:((s/2)+(q/4)-(3/16))})\n",
    "\n",
    "Lambda_HR = Lambda.subs({a:q-(3/2),b:(q+s-1),c:((s/2)+(q/4)-(3/16))})\n",
    "\n",
    "Delta_PS = Delta.subs({a:(2*q)-(27/8),b:5*(s/2)+(3*q)-(27/8),c:(15/8)*s+(9/8)*q+(3*t)-(243/256)})\n",
    "\n",
    "Lambda_PS = Lambda.subs({a:(2*q)-(27/8),b:5*(s/2)+(3*q)-(27/8),c:(15/8)*s+(9/8)*q+(3*t)-(243/256)})\n",
    "\n",
    "equation_of_horizon = z**4 + (q-3/2)*(z**2) +(q+s-1)*z + ((q/4) + (s/2) + t - (3/16))\n",
    "\n",
    "equation_of_photonsphere = z**4 + (2*q-(27/8))*(z**2) + (3*q + (5/2)*s - (27/8))*z + ((9/8)*q + (15/8)*s + 3*t- (243/256))\n",
    "\n",
    "print(\"a:\",(2*q)-(27/8),\"b:\",5*(s/2)+(3*q)-(27/8),\"c:\",(15/8)*s+(9/8)*q+(3*t)-(243/256))\n",
    "\n",
    "print(\"a:\",q-(3/2),\"b:\",(q+s-1),\"c:\",((s/2)+(q/4)-(3/16)))\n",
    "print(\"Horizon Equation : \",equation_of_horizon)\n",
    "print(\"Equation of Photon Sphere : \",equation_of_photonsphere)\n",
    "print(\"Delta for Photon Sphere : \",Delta_PS)\n",
    "print(\"Delta for Horizon : \",Delta_HR)\n",
    "print(\"Lambda for Horizon : \",Lambda_HR)\n",
    "print(\"Lambda for Photon Sphere : \", Lambda_PS)"
   ]
  },
  {
   "cell_type": "code",
   "execution_count": 207,
   "id": "5df4efa4",
   "metadata": {},
   "outputs": [
    {
     "name": "stdout",
     "output_type": "stream",
     "text": [
      "1.06984029099805\n",
      "1.38386927570773\n",
      "2.34671790606773\n"
     ]
    }
   ],
   "source": [
    "from sympy import*\n",
    "import math\n",
    "q,s,t,z = symbols(\"q,s,t,z\")\n",
    "a,b,c,r = symbols(\"a,b,c,r\")\n",
    "\n",
    "def horizon(q,s,t):\n",
    "    \n",
    "    equation_for_horizon = z**4 + (q-3/2)*(z**2) +(q+s-1)*z \\\n",
    "    + ((q/4) + (s/2) + t - (3/16))\n",
    "    \n",
    "    horizon_at_qst = equation_for_horizon.subs({q:q,s:s,t:t})\n",
    "    horizons = solve(horizon_at_qst)\n",
    "    list_of_horizons = []\n",
    "    for horizon in horizons:\n",
    "        if horizon.is_positive and horizon.is_real:\n",
    "            list_of_horizons.append(horizon)\n",
    "            if len(list_of_horizons)>0:       \n",
    "                return (max(list_of_horizons) + 1/2)\n",
    "\n",
    "def photon_sphere(q,s,t):\n",
    "    \n",
    "    equation_for_photonsphere = z**4 + (2*q-(27/8))*(z**2)\\\n",
    "    + (3*q + (5/2)*s - (27/8))*z + ((9/8)*q + (15/8)*s + 3*t- (243/256))\n",
    "    \n",
    "    photon_sphere_at_qst = equation_for_photonsphere.subs({q:q,s:s,t:t})\n",
    "    photon_spheres = solve(photon_sphere_at_qst)\n",
    "    list_of_photon_spheres = []\n",
    "    for photon_sphere in photon_spheres:\n",
    "        if photon_sphere.is_positive and photon_sphere.is_real:\n",
    "            list_of_photon_spheres.append(photon_sphere)\n",
    "            if len(list_of_photon_spheres)>0:       \n",
    "                return (max(list_of_photon_spheres) + 3/4)\n",
    "                \n",
    "\n",
    "def shadow_radius(q,s,t):\n",
    "    g_tt = 1 - 2/r + q/r**2 + s/r**3+ t/r**4\n",
    "    photonsphere = photon_sphere(q,s,t)\n",
    "    shadow_radius = photonsphere/math.sqrt(g_tt.subs({r:photonsphere}))\n",
    "    return shadow_radius\n",
    "    \n",
    "test_hr_2 = horizon(5/2,-1/2,-19/16)\n",
    "test_ps_2 = photon_sphere(5/2,-1/2,-19/16)\n",
    "test_sr_2 = shadow_radius(5/2,-1/2,-19/16)\n",
    "\n",
    "print(test_hr_2)\n",
    "print(test_ps_2)\n",
    "print(test_sr_2)"
   ]
  },
  {
   "cell_type": "code",
   "execution_count": 208,
   "id": "0136a13a",
   "metadata": {},
   "outputs": [
    {
     "name": "stdout",
     "output_type": "stream",
     "text": [
      "39.60172332839777\n",
      "51.17761168592942\n"
     ]
    }
   ],
   "source": [
    "import math\n",
    "gravitational_constant = 6.67*math.pow(10,-11)\n",
    "mass_of_SgrA = 4*math.pow(10,6)*(1.99)*math.pow(10,30)\n",
    "distance_to_SgrA = 8.00*(3.09)*math.pow(10,19)\n",
    "mass_of_M87 = (6.50)*(10**9)*(1.99)*math.pow(10,30)\n",
    "distance_to_M87 = (16.80)*(3.09)*math.pow(10,22)\n",
    "speed_of_light = 3*(math.pow(10,8))\n",
    "radian_to_microarcsecond = 19.8/(0.9595*math.pow(10,-10))\n",
    "\n",
    "def angular_diameter_M87_assuming_Schwz():\n",
    "\n",
    "    angular_diameter_of_M87 = 2*3*math.sqrt(3)*gravitational_constant* \\\n",
    "        (mass_of_M87)*(1/distance_to_M87)*(1/speed_of_light**2)*radian_to_microarcsecond\n",
    "    \n",
    "    return angular_diameter_of_M87\n",
    "\n",
    "def angular_diameter_SgrA_assuming_Schwz():\n",
    "\n",
    "    angular_diameter_of_SgrA = 2*3*math.sqrt(3)*gravitational_constant* \\\n",
    "        (mass_of_SgrA)*(1/speed_of_light**2)*(1/distance_to_SgrA)*radian_to_microarcsecond\n",
    "    \n",
    "    return angular_diameter_of_SgrA\n",
    "\n",
    "ad_M87 = angular_diameter_M87_assuming_Schwz()\n",
    "print(ad_M87)\n",
    "\n",
    "ad_SgrA = angular_diameter_SgrA_assuming_Schwz()\n",
    "print(ad_SgrA)"
   ]
  },
  {
   "cell_type": "code",
   "execution_count": 209,
   "id": "2b89377a",
   "metadata": {},
   "outputs": [
    {
     "name": "stdout",
     "output_type": "stream",
     "text": [
      "16*a**4*c - 4*a**3*b**2 - 128*a**2*c**2 + 144*a*b**2*c - 27*b**4 + 256*c**3\n",
      "-2*a**3 + 8*a*c - 9*b**2\n"
     ]
    }
   ],
   "source": [
    "a,b,c = symbols(\"a,b,c\")\n",
    "\n",
    "Delta = - 4*(a**3)*(b**2) + 16*(a**4)*(c) - 27*(b**4) + 144*(a)*(b**2)*(c) \\\n",
    "      - 128*(a**2)*(c**2) + 256*(c**3)\n",
    "\n",
    "Lambda = - 2*(a**3) - 9*(b**2) + 8*(a)*(c) \n",
    "\n",
    "print(Delta)\n",
    "print(Lambda)"
   ]
  },
  {
   "cell_type": "code",
   "execution_count": 210,
   "id": "7088a818",
   "metadata": {},
   "outputs": [
    {
     "name": "stdout",
     "output_type": "stream",
     "text": [
      "a: 2*q - 3.375 b: 3*q + 5*s/2 - 3.375 c: 1.125*q + 1.875*s + 3*t - 0.94921875\n",
      "a: q - 1.5 b: q + s - 1 c: q/4 + s/2 - 0.1875\n"
     ]
    }
   ],
   "source": [
    "from sympy import*\n",
    "\n",
    "q,s,t,z = symbols(\"q,s,t,z\")\n",
    "a,b,c = symbols(\"a,b,c\")\n",
    "\n",
    "Delta = - 4*(a**3)*(b**2) + 16*(a**4)*(c) - 27*(b**4) + \\\n",
    "    144*(a)*(b**2)*(c) - 128*(a**2)*(c**2) + 256*(c**3)\n",
    "\n",
    "Lambda = - 2*(a**3) - 9*(b**2) + 8*(a)*(c)\n",
    "\n",
    "def Delta_at_photonsphere(q,s,t):\n",
    "    delta_ps = Delta.subs({a:(2*q)-(27/8), b:5*(s/2)+(3*q)-(27/8), c:(15/8)*s+(9/8)*q+(3*t)-(243/256)})\n",
    "    return delta_ps.subs({q:q,s:s,t:t})\n",
    "    \n",
    "\n",
    "def Delta_at_horizon(q,s,t):\n",
    "    delta_hr = Delta.subs({a:q-(3/2),b:(q+s-1),c:((s/2)+(q/4)+(t)-(3/16))})\n",
    "    return delta_hr.subs({q:q,s:s,t:t})\n",
    "    \n",
    "\n",
    "def Lambda__at_horizon(q,s,t):\n",
    "    Lambda_horizon = Lambda.subs({a:q-(3/2),b:(q+s-1),c:((s/2)+(q/4)+(t)-(3/16))})\n",
    "    return Lambda_horizon.subs({q:q,s:s,t:t})\n",
    "    \n",
    "\n",
    "def Lambda_at_photonsphere(q,st):\n",
    "    Lambda_photonsphere = Lambda.subs({a:(2*q)-(27/8),b:5*(s/2)+(3*q)-(27/8),c:(15/8)*s+(9/8)*q+(3*t)-(243/256)})\n",
    "    return Lambda_photonsphere.subs({q:q,s:s,t:t})\n",
    "    \n",
    "\n",
    "equation_for_horizon = z**4 + (q-3/2)*(z**2) +(q+s-1)*z + ((q/4) + (s/2) + t - (3/16))\n",
    "\n",
    "equation_for_photonsphere = z**4 + (2*q-(27/8))*(z**2) + (3*q + (5/2)*s - (27/8))*z + \\\n",
    "    ((9/8)*q + (15/8)*s + 3*t- (243/256))\n",
    "\n",
    "print(\"a:\", (2*q)-(27/8), \"b:\", 5*(s/2)+(3*q)-(27/8), \"c:\", (15/8)*s+(9/8)*q+(3*t)-(243/256))\n",
    "\n",
    "print(\"a:\",q-(3/2),\"b:\",(q+s-1),\"c:\",((s/2)+(q/4)-(3/16)))"
   ]
  },
  {
   "cell_type": "code",
   "execution_count": 211,
   "id": "a590d35c",
   "metadata": {},
   "outputs": [
    {
     "data": {
      "image/png": "[encoded data removed]",
      "text/latex": [
       "$\\displaystyle {A}_{i}$"
      ],
      "text/plain": [
       "A[i]"
      ]
     },
     "execution_count": 211,
     "metadata": {},
     "output_type": "execute_result"
    }
   ],
   "source": [
    "A = IndexedBase(\"A\")\n",
    "i = Idx('i')\n",
    "A[i]"
   ]
  },
  {
   "cell_type": "code",
   "execution_count": 212,
   "id": "e73fab97",
   "metadata": {},
   "outputs": [
    {
     "data": {
      "image/png": "[encoded data removed]",
      "text/latex": [
       "$\\displaystyle \\frac{\\partial}{\\partial x} f{\\left(x,y \\right)}$"
      ],
      "text/plain": [
       "∂          \n",
       "──(f(x, y))\n",
       "∂x         "
      ]
     },
     "execution_count": 212,
     "metadata": {},
     "output_type": "execute_result"
    }
   ],
   "source": [
    "\"\"\"Derivatives :\n",
    "Derivatives are computed with the diff() function,\n",
    "using the syntax diff(expr, var1, var2, ...).\n",
    "\"\"\"\n",
    "\n",
    "\"\"\"\n",
    "Undefined functions :\n",
    "\n",
    "Undefined functions are created with Function().\n",
    "Undefined are useful to state that one variable\n",
    "depends on another (for the purposes of differentiation).\n",
    "\"\"\"\n",
    "from sympy import*\n",
    "f = Function('f')\n",
    "diff(f(x,y)+1,x) "
   ]
  },
  {
   "cell_type": "code",
   "execution_count": 213,
   "id": "f08a1c55",
   "metadata": {},
   "outputs": [
    {
     "data": {
      "image/png": "[encoded data removed]",
      "text/latex": [
       "$\\displaystyle \\frac{d}{d x} f{\\left(x \\right)}$"
      ],
      "text/plain": [
       "d       \n",
       "──(f(x))\n",
       "dx      "
      ]
     },
     "execution_count": 213,
     "metadata": {},
     "output_type": "execute_result"
    }
   ],
   "source": [
    "from sympy import*\n",
    "f = Function('f')\n",
    "diff(f(x)+1,x)"
   ]
  },
  {
   "cell_type": "code",
   "execution_count": 214,
   "id": "d2be5aca",
   "metadata": {},
   "outputs": [
    {
     "data": {
      "image/png": "[encoded data removed]",
      "text/latex": [
       "$\\displaystyle \\left( \\alpha_{1}, \\  \\omega^{2}, \\  \\gamma^{0}_{1 2}\\right)$"
      ],
      "text/plain": [
       "(α₁, ω², γ⁰₁ ₂)"
      ]
     },
     "execution_count": 214,
     "metadata": {},
     "output_type": "execute_result"
    }
   ],
   "source": [
    "\"\"\"SymPy automatically pretty prints symbols\n",
    "with greek letters and subscripts\"\"\"\n",
    "\n",
    "from sympy import *\n",
    "init_printing()\n",
    "\n",
    "alpha1,omega2,gamma = symbols('alpha1 omega^2 gamma^0_1_2') # automatic subscript for Alpha 1\n",
    "alpha1,omega2,gamma"
   ]
  },
  {
   "cell_type": "code",
   "execution_count": 215,
   "id": "f7ff662a",
   "metadata": {},
   "outputs": [
    {
     "data": {
      "image/png": "[encoded data removed]",
      "text/latex": [
       "$\\displaystyle \\left( \\mu, \\  \\sigma\\right)$"
      ],
      "text/plain": [
       "(μ, σ)"
      ]
     },
     "execution_count": 215,
     "metadata": {},
     "output_type": "execute_result"
    }
   ],
   "source": [
    "from sympy import *\n",
    "init_printing()\n",
    "mu,sigma = symbols('mu sigma')\n",
    "mu,sigma"
   ]
  },
  {
   "cell_type": "code",
   "execution_count": 216,
   "id": "e8d6edbc",
   "metadata": {},
   "outputs": [
    {
     "data": {
      "image/png": "[encoded data removed]",
      "text/latex": [
       "$\\displaystyle \\frac{\\sqrt{2} e^{- \\frac{\\left(\\mu - x\\right)^{2}}{2 \\sigma^{2}}}}{2 \\sqrt{\\pi} \\sqrt{\\sigma^{2}}}$"
      ],
      "text/plain": [
       "            2 \n",
       "    -(μ - x)  \n",
       "    ──────────\n",
       "          2   \n",
       "       2⋅σ    \n",
       "√2⋅ℯ          \n",
       "──────────────\n",
       "         ____ \n",
       "        ╱  2  \n",
       " 2⋅√π⋅╲╱  σ   "
      ]
     },
     "execution_count": 216,
     "metadata": {},
     "output_type": "execute_result"
    }
   ],
   "source": [
    "from fractions import Fraction\n",
    "from sympy import *\n",
    "init_printing()\n",
    "\n",
    "mu,sigma = symbols('mu sigma')\n",
    "gaussian = 1/sqrt(2*pi*sigma**2) * exp(-(-mu+x)**2/(2*sigma**2))\n",
    "simplify(gaussian)"
   ]
  },
  {
   "cell_type": "code",
   "execution_count": 217,
   "id": "d43a47b5",
   "metadata": {},
   "outputs": [
    {
     "data": {
      "image/png": "[encoded data removed]",
      "text/latex": [
       "$\\displaystyle e^{x}$"
      ],
      "text/plain": [
       " x\n",
       "ℯ "
      ]
     },
     "execution_count": 217,
     "metadata": {},
     "output_type": "execute_result"
    }
   ],
   "source": [
    "exp(x)"
   ]
  },
  {
   "cell_type": "code",
   "execution_count": null,
   "id": "cc1eeba0",
   "metadata": {},
   "outputs": [],
   "source": []
  }
 ],
 "metadata": {
  "kernelspec": {
   "display_name": "Python 3 (ipykernel)",
   "language": "python",
   "name": "python3"
  },
  "language_info": {
   "codemirror_mode": {
    "name": "ipython",
    "version": 3
   },
   "file_extension": ".py",
   "mimetype": "text/x-python",
   "name": "python",
   "nbconvert_exporter": "python",
   "pygments_lexer": "ipython3",
   "version": "3.10.10"
  },
  "vscode": {
   "interpreter": {
    "hash": "ba8088891657b5efda0065fd47e9ddf95b93561eda1c2203a8e0bf6b7a7f7133"
   }
  }
 },
 "nbformat": 4,
 "nbformat_minor": 5
}
