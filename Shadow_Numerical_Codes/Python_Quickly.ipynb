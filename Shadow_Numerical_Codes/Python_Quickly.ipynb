{
 "cells": [
  {
   "cell_type": "markdown",
   "id": "5ef3111e",
   "metadata": {},
   "source": [
    "# YouTube"
   ]
  },
  {
   "cell_type": "code",
   "execution_count": 1,
   "id": "10609af9",
   "metadata": {},
   "outputs": [
    {
     "name": "stdout",
     "output_type": "stream",
     "text": [
      "Hello, world!\n"
     ]
    }
   ],
   "source": [
    "print(\"Hello, world!\")"
   ]
  },
  {
   "cell_type": "markdown",
   "id": "2bd2b94a",
   "metadata": {},
   "source": [
    "### Variables :"
   ]
  },
  {
   "cell_type": "code",
   "execution_count": 2,
   "id": "2ed649a0",
   "metadata": {},
   "outputs": [
    {
     "name": "stdout",
     "output_type": "stream",
     "text": [
      "34\n"
     ]
    }
   ],
   "source": [
    "age = 32\n",
    "age = 34\n",
    "print(age)"
   ]
  },
  {
   "cell_type": "code",
   "execution_count": 3,
   "id": "4200ab41",
   "metadata": {},
   "outputs": [],
   "source": [
    "age = 32\n",
    "price = 19.5\n",
    "last_name = 'Mafuz'\n",
    "is_learning = True"
   ]
  },
  {
   "cell_type": "markdown",
   "id": "e6ddf525",
   "metadata": {},
   "source": [
    "### Receiving user input :"
   ]
  },
  {
   "cell_type": "code",
   "execution_count": 24,
   "id": "dda23ede",
   "metadata": {},
   "outputs": [
    {
     "name": "stdout",
     "output_type": "stream",
     "text": [
      "What is your name? M\n",
      "Hello M\n"
     ]
    }
   ],
   "source": [
    "name = input(\"What is your name? \")\n",
    "print(\"Hello \" + name)"
   ]
  },
  {
   "cell_type": "markdown",
   "id": "83b68c07",
   "metadata": {},
   "source": [
    "### Type Conversion ( int(), float(), bool(), str() ) :"
   ]
  },
  {
   "cell_type": "code",
   "execution_count": 25,
   "id": "b1af6906",
   "metadata": {},
   "outputs": [
    {
     "name": "stdout",
     "output_type": "stream",
     "text": [
      "What is your year of birth? 1989\n",
      "34\n"
     ]
    }
   ],
   "source": [
    "year_of_birth = input(\"What is your year of birth? \")\n",
    "my_age  = 2023 - int(year_of_birth)\n",
    "print(my_age)"
   ]
  },
  {
   "cell_type": "code",
   "execution_count": 4,
   "id": "0f3030e3",
   "metadata": {},
   "outputs": [
    {
     "name": "stdout",
     "output_type": "stream",
     "text": [
      "Enter first number: 1\n",
      "Enter second number: 1\n",
      "Sum:  2.0\n"
     ]
    }
   ],
   "source": [
    "first = input(\"Enter first number: \")\n",
    "second = input(\"Enter second number: \")\n",
    "sum = float(first) + float(second)\n",
    "print(\"Sum: \", str(sum))"
   ]
  },
  {
   "cell_type": "code",
   "execution_count": 31,
   "id": "3bee1f81",
   "metadata": {},
   "outputs": [
    {
     "name": "stdout",
     "output_type": "stream",
     "text": [
      "PYTHON FOR BEGINNERS\n",
      "Python for beginners\n",
      "7\n",
      "0\n",
      "True\n"
     ]
    }
   ],
   "source": [
    "learning_stage = 'Python for beginners'\n",
    "upper = learning_stage.upper()\n",
    "print(upper)\n",
    "print(learning_stage)\n",
    "print(learning_stage.find('for'))\n",
    "print(learning_stage.find('Python'))\n",
    "print('Python' in learning_stage)"
   ]
  },
  {
   "cell_type": "markdown",
   "id": "2f204ceb",
   "metadata": {},
   "source": [
    "### Arithmetic operations :"
   ]
  },
  {
   "cell_type": "code",
   "execution_count": 5,
   "id": "a61701cf",
   "metadata": {},
   "outputs": [
    {
     "name": "stdout",
     "output_type": "stream",
     "text": [
      "9.0\n",
      "0\n"
     ]
    }
   ],
   "source": [
    "x = 3\n",
    "y = x**2.\n",
    "print(y)\n",
    "x -= 3\n",
    "print(x)"
   ]
  },
  {
   "cell_type": "code",
   "execution_count": 6,
   "id": "aab90f85",
   "metadata": {},
   "outputs": [
    {
     "name": "stdout",
     "output_type": "stream",
     "text": [
      "16\n",
      "36\n"
     ]
    }
   ],
   "source": [
    "z = 10 + 2 * 3\n",
    "print(z)\n",
    "new = (10 + 2) * 3\n",
    "print(new)"
   ]
  },
  {
   "cell_type": "markdown",
   "id": "12ef3507",
   "metadata": {},
   "source": [
    "### Operators : >, >=, <, <=, !=, =="
   ]
  },
  {
   "cell_type": "code",
   "execution_count": 7,
   "id": "3f65ded3",
   "metadata": {},
   "outputs": [
    {
     "name": "stdout",
     "output_type": "stream",
     "text": [
      "True\n"
     ]
    }
   ],
   "source": [
    "x = 3 == 3\n",
    "print(x)"
   ]
  },
  {
   "cell_type": "markdown",
   "id": "7009db9a",
   "metadata": {},
   "source": [
    "### Logical operators : and, or and not"
   ]
  },
  {
   "cell_type": "code",
   "execution_count": 8,
   "id": "c32bdfe4",
   "metadata": {},
   "outputs": [
    {
     "name": "stdout",
     "output_type": "stream",
     "text": [
      "It's nice weather. Cheers!\n",
      "Done.\n"
     ]
    }
   ],
   "source": [
    "temperature = 25\n",
    "\n",
    "if temperature >= 30:\n",
    "    print(\"It's hot.\")\n",
    "    print(\"Drink water!\")\n",
    "    \n",
    "elif 15 <= temperature < 30:\n",
    "    print(\"It's nice weather. Cheers!\")\n",
    "    \n",
    "else:\n",
    "    print(\"It's cold!!!\")\n",
    "    \n",
    "print(\"Done.\")"
   ]
  },
  {
   "cell_type": "markdown",
   "id": "2ba0ae0f",
   "metadata": {},
   "source": [
    "x = 6\n",
    "print( not x > 7 )"
   ]
  },
  {
   "cell_type": "code",
   "execution_count": 26,
   "id": "063a4d9c",
   "metadata": {},
   "outputs": [
    {
     "name": "stdout",
     "output_type": "stream",
     "text": [
      "Weight: 70\n",
      "(K)gs or (L)bs: k\n",
      "Weight in Lbs: 155.55555555555554\n"
     ]
    }
   ],
   "source": [
    "weight = int(input(\"Weight: \"))\n",
    "units = input(\"(K)gs or (L)bs: \")\n",
    "if units.upper() == 'K':\n",
    "    converted = weight/0.45\n",
    "    print(\"Weight in Lbs: \" + str(converted))\n",
    "else:\n",
    "    converted = weight*0.45\n",
    "    print(\"Weight in Kgs: \" + str(converted))"
   ]
  },
  {
   "cell_type": "markdown",
   "id": "315683e3",
   "metadata": {},
   "source": [
    "### While loop :"
   ]
  },
  {
   "cell_type": "code",
   "execution_count": 11,
   "id": "f9ce2962",
   "metadata": {},
   "outputs": [
    {
     "name": "stdout",
     "output_type": "stream",
     "text": [
      "\n",
      "*\n",
      "**\n",
      "***\n",
      "****\n",
      "*****\n"
     ]
    }
   ],
   "source": [
    "i = 0\n",
    "while i <= 5:\n",
    "    print(i*'*')\n",
    "    i = i+1"
   ]
  },
  {
   "cell_type": "code",
   "execution_count": 39,
   "id": "47272d74",
   "metadata": {},
   "outputs": [
    {
     "name": "stdout",
     "output_type": "stream",
     "text": [
      "Bob\n",
      "Mafuz John\n",
      "['Mehfuz', 'John', 'Harry', 'Alice', 'Bob']\n",
      "['Mehfuz', 'John', 'Harry']\n"
     ]
    }
   ],
   "source": [
    "list = ['Mafuz', 'John', 'Harry', \"Alice\", \"Bob\" ]\n",
    "print(list[-1])\n",
    "print(list[0], list[1])\n",
    "list[0] = 'Mehfuz'\n",
    "print(list)\n",
    "print(list[0:3])"
   ]
  },
  {
   "cell_type": "markdown",
   "id": "f7f3514c",
   "metadata": {},
   "source": [
    "### List Methods :"
   ]
  },
  {
   "cell_type": "code",
   "execution_count": 12,
   "id": "0a5b5c9e",
   "metadata": {},
   "outputs": [
    {
     "name": "stdout",
     "output_type": "stream",
     "text": [
      "[1, 2, 3, 4, 5, 6, 9]\n",
      "[1, 2, 3, 4, 5, 6, 9, 10]\n",
      "[1, 2, 4, 3, 4, 5, 6, 9, 10]\n"
     ]
    }
   ],
   "source": [
    "numbers = [1,2,3,4,5,6,9]\n",
    "print(numbers)\n",
    "numbers.append(10)\n",
    "print(numbers)\n",
    "numbers.insert(2,4)\n",
    "print(numbers)"
   ]
  },
  {
   "cell_type": "code",
   "execution_count": 13,
   "id": "ae5a797d",
   "metadata": {},
   "outputs": [
    {
     "name": "stdout",
     "output_type": "stream",
     "text": [
      "[1, 2, 4, 3, 4, 5, 6, 9]\n"
     ]
    }
   ],
   "source": [
    "numbers.remove(10)\n",
    "print(numbers)"
   ]
  },
  {
   "cell_type": "code",
   "execution_count": 14,
   "id": "c8e1e0d4",
   "metadata": {},
   "outputs": [
    {
     "name": "stdout",
     "output_type": "stream",
     "text": [
      "False\n",
      "8\n"
     ]
    }
   ],
   "source": [
    "print(10 in numbers)\n",
    "print(len(numbers))"
   ]
  },
  {
   "cell_type": "code",
   "execution_count": 15,
   "id": "f6e2d408",
   "metadata": {},
   "outputs": [
    {
     "name": "stdout",
     "output_type": "stream",
     "text": [
      "[]\n"
     ]
    }
   ],
   "source": [
    "numbers.clear()\n",
    "print(numbers)"
   ]
  },
  {
   "cell_type": "markdown",
   "id": "c34f6742",
   "metadata": {},
   "source": [
    "### For Loop :"
   ]
  },
  {
   "cell_type": "code",
   "execution_count": 18,
   "id": "088b69e3",
   "metadata": {},
   "outputs": [
    {
     "name": "stdout",
     "output_type": "stream",
     "text": [
      "1\n",
      "2\n",
      "3\n",
      "4\n",
      "5\n",
      "6\n",
      "7\n",
      "8\n",
      "9\n"
     ]
    }
   ],
   "source": [
    "numbers = [1,2,3,4,5,6,7,8,9]\n",
    "\n",
    "for item in numbers:\n",
    "    print(item)"
   ]
  },
  {
   "cell_type": "code",
   "execution_count": 19,
   "id": "8bed0262",
   "metadata": {},
   "outputs": [
    {
     "name": "stdout",
     "output_type": "stream",
     "text": [
      "1\n",
      "2\n",
      "3\n",
      "4\n",
      "5\n",
      "6\n",
      "7\n",
      "8\n",
      "9\n"
     ]
    }
   ],
   "source": [
    "i = 1\n",
    "while i <= len(numbers):\n",
    "    print(i)\n",
    "    i = i+1"
   ]
  },
  {
   "cell_type": "markdown",
   "id": "4d4e215e",
   "metadata": {},
   "source": [
    "### Range Function :"
   ]
  },
  {
   "cell_type": "code",
   "execution_count": 20,
   "id": "98df6351",
   "metadata": {},
   "outputs": [
    {
     "name": "stdout",
     "output_type": "stream",
     "text": [
      "0\n",
      "1\n",
      "2\n",
      "3\n",
      "4\n",
      "5\n",
      "6\n",
      "7\n",
      "8\n",
      "9\n",
      "10\n",
      "11\n"
     ]
    }
   ],
   "source": [
    "for number in range(12):\n",
    "    print(number)"
   ]
  },
  {
   "cell_type": "markdown",
   "id": "4ea4496b",
   "metadata": {},
   "source": [
    "### Tuples :"
   ]
  },
  {
   "cell_type": "code",
   "execution_count": 21,
   "id": "1fa5def7",
   "metadata": {},
   "outputs": [
    {
     "name": "stdout",
     "output_type": "stream",
     "text": [
      "2\n",
      "1\n"
     ]
    }
   ],
   "source": [
    "numbers = (1,2,3,3) # Tuples are immutable\n",
    "print(numbers.count(3))\n",
    "print(numbers.index(2))"
   ]
  },
  {
   "cell_type": "markdown",
   "id": "89225247",
   "metadata": {},
   "source": [
    "# CS 50 Python 2023"
   ]
  },
  {
   "cell_type": "code",
   "execution_count": 5,
   "id": "37705769",
   "metadata": {},
   "outputs": [
    {
     "name": "stdout",
     "output_type": "stream",
     "text": [
      "hello, world\n"
     ]
    }
   ],
   "source": [
    "print(\"hello, world\")"
   ]
  },
  {
   "cell_type": "code",
   "execution_count": 22,
   "id": "8e50e2e1",
   "metadata": {},
   "outputs": [
    {
     "name": "stdout",
     "output_type": "stream",
     "text": [
      "What's your name? You\n",
      "hello, You\n"
     ]
    }
   ],
   "source": [
    "# get_string and print, with concatenation\n",
    "\n",
    "# from cs50 import get_string\n",
    "\n",
    "answer = input(\"What's your name? \")\n",
    "print(\"hello, \" + answer)"
   ]
  },
  {
   "cell_type": "code",
   "execution_count": 12,
   "id": "b7b990fd",
   "metadata": {},
   "outputs": [
    {
     "name": "stdout",
     "output_type": "stream",
     "text": [
      "What's your name? M\n",
      "hello, M\n"
     ]
    }
   ],
   "source": [
    "# get_string and print, with format strings\n",
    "\n",
    "# from cs50 import get_string\n",
    "\n",
    "answer = input(\"What's your name? \")\n",
    "print(f\"hello, {answer}\")"
   ]
  },
  {
   "cell_type": "markdown",
   "id": "998a2284",
   "metadata": {},
   "source": [
    "Types: bool, float, int, str, range, list, tuple, dict, set"
   ]
  },
  {
   "cell_type": "markdown",
   "id": "86b01eba",
   "metadata": {},
   "source": [
    "### Speller"
   ]
  },
  {
   "cell_type": "code",
   "execution_count": 13,
   "id": "4cb672d9",
   "metadata": {},
   "outputs": [],
   "source": [
    "# Words in dictionary\n",
    "words = set()\n",
    "\n",
    "def check(word):\n",
    "    \"\"\"Return true if word is in dictionary else false\"\"\"\n",
    "    if word.lower() in words:\n",
    "        return True\n",
    "    else:\n",
    "        return False\n",
    "\n",
    "\n",
    "def load(dictionary):\n",
    "    \"\"\"Load dictionary into memory, returning true if successful else false\"\"\"\n",
    "    file = open(dictionary, \"r\")\n",
    "    for line in file:\n",
    "        word = line.rstrip()\n",
    "        words.add(word)\n",
    "    file.close()\n",
    "    return True\n",
    "\n",
    "\n",
    "def size():\n",
    "    \"\"\"Returns number of words in dictionary if loaded else 0 if not yet loaded\"\"\"\n",
    "    return len(words)\n",
    "\n",
    "\n",
    "def unload():\n",
    "    \"\"\"Unloads dictionary from memory, returning true if successful else false\"\"\"\n",
    "    return True"
   ]
  },
  {
   "cell_type": "markdown",
   "id": "5b9b5265",
   "metadata": {},
   "source": [
    "### Conditionals, Boolean expressions, relational operators"
   ]
  },
  {
   "cell_type": "code",
   "execution_count": 14,
   "id": "b1fc998f",
   "metadata": {},
   "outputs": [
    {
     "name": "stdout",
     "output_type": "stream",
     "text": [
      "What's x? 4\n",
      "What's y? 2\n",
      "x is greater than y\n"
     ]
    }
   ],
   "source": [
    "# from cs50 import get_int\n",
    "# Prompt user for integers\n",
    "\n",
    "x = input(\"What's x? \")\n",
    "y = input(\"What's y? \")\n",
    "\n",
    "# Compare integers\n",
    "if x < y:\n",
    "    print(\"x is less than y\")\n",
    "elif x > y:\n",
    "    print(\"x is greater than y\")\n",
    "else:\n",
    "    print(\"x is equal to y\")\n"
   ]
  },
  {
   "cell_type": "markdown",
   "id": "39b8fc0a",
   "metadata": {},
   "source": [
    "### Variables"
   ]
  },
  {
   "cell_type": "code",
   "execution_count": 23,
   "id": "b8fdba5d",
   "metadata": {},
   "outputs": [
    {
     "name": "stdout",
     "output_type": "stream",
     "text": [
      "2\n"
     ]
    }
   ],
   "source": [
    "# Python favors counter += 1 to increment by one,\n",
    "# losing the ability found in C to type counter++.\n",
    "\n",
    "counter = 1\n",
    "counter += 1\n",
    "print(counter)"
   ]
  },
  {
   "cell_type": "markdown",
   "id": "16b62e93",
   "metadata": {},
   "source": [
    "### Loops"
   ]
  },
  {
   "cell_type": "code",
   "execution_count": 22,
   "id": "7035bcc1",
   "metadata": {},
   "outputs": [
    {
     "name": "stdout",
     "output_type": "stream",
     "text": [
      "meow\n",
      "meow\n",
      "meow\n"
     ]
    }
   ],
   "source": [
    "# Demonstrates while loop\n",
    "\n",
    "i = 0\n",
    "while i < 3:\n",
    "    print(\"meow\")\n",
    "    i += 1"
   ]
  },
  {
   "cell_type": "code",
   "execution_count": 21,
   "id": "2c324ed9",
   "metadata": {},
   "outputs": [
    {
     "name": "stdout",
     "output_type": "stream",
     "text": [
      "meow\n",
      "meow\n",
      "meow\n"
     ]
    }
   ],
   "source": [
    "# Better design\n",
    "\n",
    "for i in range(3):\n",
    "    print(\"meow\")"
   ]
  },
  {
   "cell_type": "code",
   "execution_count": 20,
   "id": "7c69b806",
   "metadata": {},
   "outputs": [
    {
     "name": "stdout",
     "output_type": "stream",
     "text": [
      "meow\n",
      "meow\n",
      "meow\n"
     ]
    }
   ],
   "source": [
    "# Abstraction with parameterization\n",
    "# Notice that a function is utilized\n",
    "# to abstract away the meowing.\n",
    "\n",
    "def main():\n",
    "    meow(3)\n",
    "\n",
    "# Meow some number of times\n",
    "def meow(n):\n",
    "    for i in range(n):\n",
    "        print(\"meow\")\n",
    "\n",
    "main()"
   ]
  },
  {
   "cell_type": "markdown",
   "id": "393d0b68",
   "metadata": {},
   "source": [
    "### Calculator"
   ]
  },
  {
   "cell_type": "code",
   "execution_count": 25,
   "id": "6c88b46d",
   "metadata": {},
   "outputs": [
    {
     "name": "stdout",
     "output_type": "stream",
     "text": [
      "x: 2\n",
      "y: 3\n",
      "23\n"
     ]
    }
   ],
   "source": [
    "# Addition with int [using input]\n",
    "\n",
    "# Prompt user for x\n",
    "x = input(\"x: \")\n",
    "\n",
    "# Prompt user for y\n",
    "y = input(\"y: \")\n",
    "\n",
    "# Perform addition\n",
    "print(x + y)"
   ]
  },
  {
   "cell_type": "code",
   "execution_count": 26,
   "id": "763644f1",
   "metadata": {},
   "outputs": [
    {
     "name": "stdout",
     "output_type": "stream",
     "text": [
      "x: 2\n",
      "y: 3\n",
      "5\n"
     ]
    }
   ],
   "source": [
    "# Addition with int [using input]\n",
    "\n",
    "# Prompt user for x\n",
    "x = int(input(\"x: \"))\n",
    "\n",
    "# Prompt user for y\n",
    "y = int(input(\"y: \"))\n",
    "\n",
    "# Perform addition\n",
    "print(x + y)"
   ]
  },
  {
   "cell_type": "code",
   "execution_count": 24,
   "id": "483a89a5",
   "metadata": {},
   "outputs": [
    {
     "name": "stdout",
     "output_type": "stream",
     "text": [
      "x: 1\n",
      "y: 2\n",
      "0.5\n"
     ]
    }
   ],
   "source": [
    "# Division with integers, demonstration lack of truncation\n",
    "\n",
    "# Prompt user for x\n",
    "x = int(input(\"x: \"))\n",
    "\n",
    "# Prompt user for y\n",
    "y = int(input(\"y: \"))\n",
    "\n",
    "# Divide x by y\n",
    "z = x / y\n",
    "print(z)"
   ]
  },
  {
   "cell_type": "code",
   "execution_count": 25,
   "id": "2343df5b",
   "metadata": {},
   "outputs": [
    {
     "name": "stdout",
     "output_type": "stream",
     "text": [
      "x: 1\n",
      "y: 3\n",
      "0.33333333333333331482961625624739099293947219848633\n"
     ]
    }
   ],
   "source": [
    "# Floating-point imprecision\n",
    "\n",
    "# Prompt user for x\n",
    "x = int(input(\"x: \"))\n",
    "\n",
    "# Prompt user for y\n",
    "y = int(input(\"y: \"))\n",
    "\n",
    "# Divide x by y\n",
    "z = x / y\n",
    "print(f\"{z:.50f}\")"
   ]
  },
  {
   "cell_type": "markdown",
   "id": "90e7d9dd",
   "metadata": {},
   "source": [
    "### Compare"
   ]
  },
  {
   "cell_type": "code",
   "execution_count": 29,
   "id": "0d472ffe",
   "metadata": {},
   "outputs": [
    {
     "name": "stdout",
     "output_type": "stream",
     "text": [
      "Do you agree? y\n",
      "Agreed.\n"
     ]
    }
   ],
   "source": [
    "# Logical operators\n",
    "\n",
    "# from cs50 import get_string\n",
    "\n",
    "# Prompt user to agree\n",
    "s = input(\"Do you agree? \")\n",
    "\n",
    "# Check whether agreed\n",
    "if s == \"Y\" or s == \"y\":\n",
    "    print(\"Agreed.\")\n",
    "elif s == \"N\" or s == \"n\":\n",
    "    print(\"Not agreed.\")"
   ]
  },
  {
   "cell_type": "markdown",
   "id": "7812c15c",
   "metadata": {},
   "source": [
    "### OOP:"
   ]
  },
  {
   "cell_type": "markdown",
   "id": "dfe92c2f",
   "metadata": {},
   "source": [
    "It’s possible to have certain types of values\n",
    "not only have properties or attributes inside\n",
    "of them but have functions as well. In Python,\n",
    "these values are known as objects. In C, we\n",
    "could create a struct where you could associate\n",
    "multiple variables inside a single self-created\n",
    "data type. In Python, we can do this and also\n",
    "include functions in a self-created data type.\n",
    "When a function belongs to a specific object,\n",
    "It is known as a method."
   ]
  },
  {
   "cell_type": "code",
   "execution_count": null,
   "id": "f2443372",
   "metadata": {},
   "outputs": [],
   "source": [
    "# Logical operators, using lists\n",
    "\n",
    "# from cs50 import get_string\n",
    "\n",
    "# Prompt user to agree\n",
    "s = input(\"Do you agree? \")\n",
    "\n",
    "s = s.lower()\n",
    "\n",
    "# Check whether agreed\n",
    "if s in [\"y\", \"yes\"]:\n",
    "    print(\"Agreed.\")\n",
    "elif s in [\"n\", \"no\"]:\n",
    "    print(\"Not agreed.\")\n",
    "\n"
   ]
  },
  {
   "cell_type": "code",
   "execution_count": 38,
   "id": "fb728048",
   "metadata": {},
   "outputs": [
    {
     "name": "stdout",
     "output_type": "stream",
     "text": [
      "meow\n",
      "meow\n",
      "meow\n"
     ]
    }
   ],
   "source": [
    "# Demonstrates while loop\n",
    "\n",
    "i = 0\n",
    "while i < 3:\n",
    "    print(\"meow\")\n",
    "    i += 1"
   ]
  },
  {
   "cell_type": "code",
   "execution_count": 37,
   "id": "24a03206",
   "metadata": {},
   "outputs": [
    {
     "name": "stdout",
     "output_type": "stream",
     "text": [
      "meow\n",
      "meow\n",
      "meow\n"
     ]
    }
   ],
   "source": [
    "# Better design\n",
    "\n",
    "for i in range(3):\n",
    "    print(\"meow\")"
   ]
  },
  {
   "cell_type": "code",
   "execution_count": null,
   "id": "00bef850",
   "metadata": {},
   "outputs": [],
   "source": [
    "# Abstraction\n",
    "\n",
    "def main():\n",
    "    for i in range(3):\n",
    "        meow()\n",
    "\n",
    "# Meow once\n",
    "def meow():\n",
    "    print(\"meow\")\n",
    "\n",
    "\n",
    "main()"
   ]
  },
  {
   "cell_type": "code",
   "execution_count": 33,
   "id": "0349c2fc",
   "metadata": {},
   "outputs": [
    {
     "name": "stdout",
     "output_type": "stream",
     "text": [
      "meow\n",
      "meow\n",
      "meow\n"
     ]
    }
   ],
   "source": [
    "# Abstraction with parameterization\n",
    "\n",
    "def main():\n",
    "    meow(3)\n",
    "\n",
    "\n",
    "# Meow some number of times\n",
    "def meow(n):\n",
    "    for i in range(n):\n",
    "        print(\"meow\")\n",
    "\n",
    "\n",
    "main()"
   ]
  },
  {
   "cell_type": "markdown",
   "id": "e9a75a31",
   "metadata": {},
   "source": [
    "### Mario"
   ]
  },
  {
   "cell_type": "code",
   "execution_count": 40,
   "id": "003a46e2",
   "metadata": {},
   "outputs": [
    {
     "name": "stdout",
     "output_type": "stream",
     "text": [
      "#\n",
      "#\n",
      "#\n"
     ]
    }
   ],
   "source": [
    "# Prints a column of 3 bricks with a loop\n",
    "\n",
    "for i in range(3):\n",
    "    print(\"#\")"
   ]
  },
  {
   "cell_type": "code",
   "execution_count": 180,
   "id": "1ee4cfb2",
   "metadata": {},
   "outputs": [
    {
     "name": "stdout",
     "output_type": "stream",
     "text": [
      "Height: 4\n",
      "#\n",
      "#\n",
      "#\n",
      "#\n"
     ]
    }
   ],
   "source": [
    "# Prints a column of bricks, using a helper function to get input\n",
    "# from cs50 import get_int\n",
    "def get_height():\n",
    "    while True:\n",
    "        try:\n",
    "            n = int(input(\"Height: \"))\n",
    "            if n > 0:\n",
    "                return n\n",
    "        except ValueError:\n",
    "            print(\"Not an integer\")\n",
    "\n",
    "\n",
    "height = get_height()\n",
    "for i in range(height):\n",
    "        print(\"#\")"
   ]
  },
  {
   "cell_type": "code",
   "execution_count": 1,
   "id": "7cc6f3cf",
   "metadata": {},
   "outputs": [
    {
     "name": "stdout",
     "output_type": "stream",
     "text": [
      "????\n"
     ]
    }
   ],
   "source": [
    "# Prints a row of 4 question marks with a loop\n",
    "\n",
    "for i in range(4):\n",
    "    print(\"?\",end=\"\")\n",
    "    \n",
    "print()"
   ]
  },
  {
   "cell_type": "code",
   "execution_count": null,
   "id": "19214be1",
   "metadata": {},
   "outputs": [],
   "source": [
    "# Prints a row of 4 question marks without a loop\n",
    "\n",
    "print(\"?\" * 4)"
   ]
  },
  {
   "cell_type": "code",
   "execution_count": 56,
   "id": "16cb00c7",
   "metadata": {},
   "outputs": [
    {
     "name": "stdout",
     "output_type": "stream",
     "text": [
      "###\n",
      "###\n",
      "###\n"
     ]
    }
   ],
   "source": [
    "# Prints a 3-by-3 grid of bricks with loops\n",
    "\n",
    "for i in range(3):\n",
    "    for j in range(3):\n",
    "        print(\"#\", end=\"\")\n",
    "    print()"
   ]
  },
  {
   "cell_type": "markdown",
   "id": "f295b334",
   "metadata": {},
   "source": [
    "Notice how one for loop exists inside another. The print statement adds a new line at the end of each row of bricks."
   ]
  },
  {
   "cell_type": "markdown",
   "id": "32148c6a",
   "metadata": {},
   "source": [
    "### Scores"
   ]
  },
  {
   "cell_type": "code",
   "execution_count": 57,
   "id": "ab600aa3",
   "metadata": {},
   "outputs": [
    {
     "name": "stdout",
     "output_type": "stream",
     "text": [
      "Score: 1\n",
      "Score: 2\n",
      "Score: 3\n",
      "Average: 2.0\n"
     ]
    }
   ],
   "source": [
    "# Averages three numbers using a list and a loop\n",
    "\n",
    "# from cs50 import get_int\n",
    "\n",
    "# Get scores\n",
    "scores = []\n",
    "for i in range(3):\n",
    "    score = int(input(\"Score: \"))\n",
    "    scores.append(score)\n",
    "\n",
    "# Print average\n",
    "average = sum(scores) / len(scores)\n",
    "print(f\"Average: {average}\")"
   ]
  },
  {
   "cell_type": "code",
   "execution_count": 1,
   "id": "117c7bde",
   "metadata": {},
   "outputs": [
    {
     "name": "stdout",
     "output_type": "stream",
     "text": [
      "Score: 1\n",
      "Score: 2\n",
      "Score: 3\n",
      "Average: 2.0\n"
     ]
    }
   ],
   "source": [
    "# Averages three numbers using a list and a loop with + operator\n",
    "\n",
    "# from cs50 import get_int\n",
    "\n",
    "# Get scores\n",
    "\n",
    "scores = []\n",
    "\n",
    "for i in range(3):\n",
    "    score = int(input(\"Score: \"))\n",
    "    scores += [score]\n",
    "\n",
    "# Print average\n",
    "average = sum(scores) / len(scores)\n",
    "print(f\"Average: {average}\")"
   ]
  },
  {
   "cell_type": "markdown",
   "id": "39afb5c3",
   "metadata": {},
   "source": [
    "### Uppercase"
   ]
  },
  {
   "cell_type": "code",
   "execution_count": 59,
   "id": "2accda47",
   "metadata": {},
   "outputs": [
    {
     "name": "stdout",
     "output_type": "stream",
     "text": [
      "Before: mafuz\n",
      "After:  MAFUZ\n"
     ]
    }
   ],
   "source": [
    "# Uppercases string one character at a time\n",
    "\n",
    "before = input(\"Before: \")\n",
    "print(\"After:  \", end=\"\")\n",
    "for c in before:\n",
    "    print(c.upper(), end=\"\")\n",
    "print()"
   ]
  },
  {
   "cell_type": "code",
   "execution_count": 3,
   "id": "c06536b1",
   "metadata": {},
   "outputs": [
    {
     "name": "stdout",
     "output_type": "stream",
     "text": [
      "Before: maf\n",
      "After: MAF\n"
     ]
    }
   ],
   "source": [
    "# Uppercases string all at once\n",
    "\n",
    "before = input(\"Before: \")\n",
    "after = before.upper()\n",
    "print(f\"After: {after}\")"
   ]
  },
  {
   "cell_type": "markdown",
   "id": "cdb17d7b",
   "metadata": {},
   "source": [
    "### Phonebook"
   ]
  },
  {
   "cell_type": "code",
   "execution_count": 5,
   "id": "e407e830",
   "metadata": {},
   "outputs": [
    {
     "name": "stdout",
     "output_type": "stream",
     "text": [
      "Name: David\n",
      "Number: +1-949-468-2750\n"
     ]
    }
   ],
   "source": [
    "# Implements a phone book\n",
    "\n",
    "# from cs50 import get_string\n",
    "\n",
    "people = {\n",
    "    \"Carter\": \"+1-617-495-1000\",\n",
    "    \"David\": \"+1-949-468-2750\"\n",
    "}\n",
    "\n",
    "# Search for name\n",
    "name = input(\"Name: \")\n",
    "if name in people:\n",
    "    print(f\"Number: {people[name]}\")\n"
   ]
  },
  {
   "cell_type": "markdown",
   "id": "0d43c8ec",
   "metadata": {},
   "source": [
    "### Comparison"
   ]
  },
  {
   "cell_type": "code",
   "execution_count": 181,
   "id": "3e8bddfc",
   "metadata": {},
   "outputs": [
    {
     "name": "stdout",
     "output_type": "stream",
     "text": [
      "s: maf\n",
      "t: maf\n",
      "Same\n"
     ]
    }
   ],
   "source": [
    "# Compares two strings\n",
    "\n",
    "# Get two strings\n",
    "s = input(\"s: \")\n",
    "t = input(\"t: \")\n",
    "\n",
    "# Compare strings\n",
    "if s == t:\n",
    "    print(\"Same\")\n",
    "else:\n",
    "    print(\"Different\")\n"
   ]
  },
  {
   "cell_type": "markdown",
   "id": "c0d21348",
   "metadata": {},
   "source": [
    "### Swap"
   ]
  },
  {
   "cell_type": "code",
   "execution_count": 27,
   "id": "45270979",
   "metadata": {},
   "outputs": [
    {
     "name": "stdout",
     "output_type": "stream",
     "text": [
      "x is 2  , y is  1\n"
     ]
    }
   ],
   "source": [
    "# Swaps two integers\n",
    "x = 1\n",
    "y = 2\n",
    "x, y = y, x\n",
    "print(\"x is\" , x , \" , y is \" , y)"
   ]
  },
  {
   "cell_type": "markdown",
   "id": "0c7c6eaf",
   "metadata": {},
   "source": [
    "# Think Python"
   ]
  },
  {
   "cell_type": "code",
   "execution_count": 10,
   "id": "0a521ae6",
   "metadata": {},
   "outputs": [
    {
     "name": "stdout",
     "output_type": "stream",
     "text": [
      "Hello, World!\n"
     ]
    }
   ],
   "source": [
    "print('Hello, World!')"
   ]
  },
  {
   "cell_type": "markdown",
   "id": "0e318a28",
   "metadata": {},
   "source": [
    "### Arithmetic Operators :"
   ]
  },
  {
   "cell_type": "code",
   "execution_count": 6,
   "id": "22adb0e6",
   "metadata": {},
   "outputs": [
    {
     "data": {
      "text/plain": [
       "42"
      ]
     },
     "execution_count": 6,
     "metadata": {},
     "output_type": "execute_result"
    }
   ],
   "source": [
    "6**2 + 6"
   ]
  },
  {
   "cell_type": "code",
   "execution_count": 7,
   "id": "146662c9",
   "metadata": {},
   "outputs": [
    {
     "data": {
      "text/plain": [
       "4"
      ]
     },
     "execution_count": 7,
     "metadata": {},
     "output_type": "execute_result"
    }
   ],
   "source": [
    "6^2 # ^ is XOR Operator"
   ]
  },
  {
   "cell_type": "markdown",
   "id": "e3e1d107",
   "metadata": {},
   "source": [
    "### Values and Types :"
   ]
  },
  {
   "cell_type": "code",
   "execution_count": 9,
   "id": "8ada6e74",
   "metadata": {},
   "outputs": [
    {
     "data": {
      "text/plain": [
       "str"
      ]
     },
     "execution_count": 9,
     "metadata": {},
     "output_type": "execute_result"
    }
   ],
   "source": [
    "type('Hello, World!')"
   ]
  },
  {
   "cell_type": "code",
   "execution_count": 8,
   "id": "d363dfac",
   "metadata": {},
   "outputs": [
    {
     "data": {
      "text/plain": [
       "str"
      ]
     },
     "execution_count": 8,
     "metadata": {},
     "output_type": "execute_result"
    }
   ],
   "source": [
    "type('42.0')"
   ]
  },
  {
   "cell_type": "code",
   "execution_count": 11,
   "id": "e794fddd",
   "metadata": {},
   "outputs": [
    {
     "data": {
      "text/plain": [
       "(1, 0, 0)"
      ]
     },
     "execution_count": 11,
     "metadata": {},
     "output_type": "execute_result"
    }
   ],
   "source": [
    "1,000,000 # Not Ten Lakhs"
   ]
  },
  {
   "cell_type": "markdown",
   "id": "2b63e50b",
   "metadata": {},
   "source": [
    "### Variables, expressions and Statements :"
   ]
  },
  {
   "cell_type": "code",
   "execution_count": null,
   "id": "ced90dc6",
   "metadata": {},
   "outputs": [],
   "source": []
  },
  {
   "cell_type": "markdown",
   "id": "5914ee40",
   "metadata": {},
   "source": [
    "## Functions :"
   ]
  },
  {
   "cell_type": "markdown",
   "id": "6cf2975d",
   "metadata": {},
   "source": [
    "### Function Calls:"
   ]
  },
  {
   "cell_type": "markdown",
   "id": "a6b84955",
   "metadata": {},
   "source": [
    "The name of the function is type. The expression in parentheses is called the argument of the function. The result, for this function, is the type of the argument. It is common to say that a function “takes” an argument and “returns” a result. The result is also called the return value."
   ]
  },
  {
   "cell_type": "code",
   "execution_count": null,
   "id": "2cfe7fb6",
   "metadata": {},
   "outputs": [],
   "source": [
    "type(42)"
   ]
  },
  {
   "cell_type": "code",
   "execution_count": null,
   "id": "44d46c6f",
   "metadata": {},
   "outputs": [],
   "source": [
    "int('32')"
   ]
  },
  {
   "cell_type": "code",
   "execution_count": null,
   "id": "597c0067",
   "metadata": {},
   "outputs": [],
   "source": [
    "int(3.99999)"
   ]
  },
  {
   "cell_type": "code",
   "execution_count": null,
   "id": "74c55f38",
   "metadata": {},
   "outputs": [],
   "source": [
    "int(-2.3)"
   ]
  },
  {
   "cell_type": "code",
   "execution_count": null,
   "id": "fca54799",
   "metadata": {},
   "outputs": [],
   "source": [
    "float(32)"
   ]
  },
  {
   "cell_type": "code",
   "execution_count": 123,
   "id": "b3a303e6",
   "metadata": {},
   "outputs": [
    {
     "data": {
      "text/plain": [
       "3.14159"
      ]
     },
     "execution_count": 123,
     "metadata": {},
     "output_type": "execute_result"
    }
   ],
   "source": [
    "float('3.14159')"
   ]
  },
  {
   "cell_type": "code",
   "execution_count": 124,
   "id": "c0654e38",
   "metadata": {},
   "outputs": [
    {
     "data": {
      "text/plain": [
       "'32'"
      ]
     },
     "execution_count": 124,
     "metadata": {},
     "output_type": "execute_result"
    }
   ],
   "source": [
    "str(32)"
   ]
  },
  {
   "cell_type": "code",
   "execution_count": 125,
   "id": "c9519a4f",
   "metadata": {},
   "outputs": [
    {
     "data": {
      "text/plain": [
       "'3.14159'"
      ]
     },
     "execution_count": 125,
     "metadata": {},
     "output_type": "execute_result"
    }
   ],
   "source": [
    "str(3.14159)"
   ]
  },
  {
   "cell_type": "markdown",
   "id": "eb6e2c4f",
   "metadata": {},
   "source": [
    "### Math Functions :"
   ]
  },
  {
   "cell_type": "code",
   "execution_count": 31,
   "id": "0182e739",
   "metadata": {},
   "outputs": [],
   "source": [
    "import math # creates a module object named math"
   ]
  },
  {
   "cell_type": "code",
   "execution_count": 32,
   "id": "7b3f69d0",
   "metadata": {},
   "outputs": [
    {
     "data": {
      "text/plain": [
       "<module 'math' from '/Library/Frameworks/Python.framework/Versions/3.10/lib/python3.10/lib-dynload/math.cpython-310-darwin.so'>"
      ]
     },
     "execution_count": 32,
     "metadata": {},
     "output_type": "execute_result"
    }
   ],
   "source": [
    "math"
   ]
  },
  {
   "cell_type": "markdown",
   "id": "8740ec79",
   "metadata": {},
   "source": []
  },
  {
   "cell_type": "code",
   "execution_count": 33,
   "id": "405bb0e0",
   "metadata": {},
   "outputs": [
    {
     "name": "stdout",
     "output_type": "stream",
     "text": [
      "0.644217687237691\n"
     ]
    }
   ],
   "source": [
    "radians = 0.7\n",
    "height = math.sin(radians)\n",
    "print(height)"
   ]
  },
  {
   "cell_type": "markdown",
   "id": "7dfe7868",
   "metadata": {},
   "source": [
    "Trigonometric functions (cos, tan, etc.)\n",
    "take arguments in radians. To convert\n",
    "from degrees to radians, divide by 180\n",
    "and multiply by π:"
   ]
  },
  {
   "cell_type": "code",
   "execution_count": 34,
   "id": "c7d8e3bf",
   "metadata": {},
   "outputs": [
    {
     "data": {
      "text/plain": [
       "0.7071067811865475"
      ]
     },
     "execution_count": 34,
     "metadata": {},
     "output_type": "execute_result"
    }
   ],
   "source": [
    "degrees = 45.0\n",
    "radians = (degrees*math.pi)/180.0\n",
    "math.sin(radians)"
   ]
  },
  {
   "cell_type": "code",
   "execution_count": 35,
   "id": "361074d2",
   "metadata": {},
   "outputs": [
    {
     "data": {
      "text/plain": [
       "0.7071067811865476"
      ]
     },
     "execution_count": 35,
     "metadata": {},
     "output_type": "execute_result"
    }
   ],
   "source": [
    "math.sqrt(2.0)/2.0"
   ]
  },
  {
   "cell_type": "markdown",
   "id": "618b306d",
   "metadata": {},
   "source": [
    "### Compositions :"
   ]
  },
  {
   "cell_type": "code",
   "execution_count": 36,
   "id": "d7a6ebe1",
   "metadata": {},
   "outputs": [
    {
     "data": {
      "text/plain": [
       "0.7071067811865475"
      ]
     },
     "execution_count": 36,
     "metadata": {},
     "output_type": "execute_result"
    }
   ],
   "source": [
    "x = math.sin(degrees / 360.0 * 2 * math.pi)\n",
    "x"
   ]
  },
  {
   "cell_type": "code",
   "execution_count": 37,
   "id": "d11bc28c",
   "metadata": {},
   "outputs": [
    {
     "data": {
      "text/plain": [
       "1.0"
      ]
     },
     "execution_count": 37,
     "metadata": {},
     "output_type": "execute_result"
    }
   ],
   "source": [
    "x = 0\n",
    "x = math.exp(math.log(x+1))\n",
    "x"
   ]
  },
  {
   "cell_type": "code",
   "execution_count": 38,
   "id": "a68db574",
   "metadata": {},
   "outputs": [
    {
     "name": "stdout",
     "output_type": "stream",
     "text": [
      "Minutes: 180\n"
     ]
    }
   ],
   "source": [
    "# hours * 60 = minutes # wrong!\n",
    "hours = 3\n",
    "minutes = hours * 60 # right\n",
    "print(\"Minutes:\", minutes)"
   ]
  },
  {
   "cell_type": "markdown",
   "id": "883e00b1",
   "metadata": {},
   "source": [
    "### Adding New Functions :"
   ]
  },
  {
   "cell_type": "code",
   "execution_count": 39,
   "id": "b9a3e4de",
   "metadata": {},
   "outputs": [
    {
     "name": "stdout",
     "output_type": "stream",
     "text": [
      "I'm Mafuz, and I'm okay.\n",
      "I sleep all night and I work all day.\n"
     ]
    }
   ],
   "source": [
    "def print_lyrics():\n",
    "    print(\"I'm Mafuz, and I'm okay.\")\n",
    "    print(\"I sleep all night and I work all day.\")\n",
    "\n",
    "print_lyrics()"
   ]
  },
  {
   "cell_type": "code",
   "execution_count": 40,
   "id": "d51ad019",
   "metadata": {},
   "outputs": [
    {
     "name": "stdout",
     "output_type": "stream",
     "text": [
      "<function print_lyrics at 0x1042f63b0>\n"
     ]
    }
   ],
   "source": [
    "print(print_lyrics)"
   ]
  },
  {
   "cell_type": "code",
   "execution_count": 176,
   "id": "78f812f1",
   "metadata": {},
   "outputs": [
    {
     "data": {
      "text/plain": [
       "function"
      ]
     },
     "execution_count": 176,
     "metadata": {},
     "output_type": "execute_result"
    }
   ],
   "source": [
    "type(print_lyrics)"
   ]
  },
  {
   "cell_type": "code",
   "execution_count": 177,
   "id": "80ea12d9",
   "metadata": {},
   "outputs": [
    {
     "name": "stdout",
     "output_type": "stream",
     "text": [
      "I'm Mafuz, and I'm okay.\n",
      "I sleep all night and I work all day.\n",
      "I'm Mafuz, and I'm okay.\n",
      "I sleep all night and I work all day.\n"
     ]
    }
   ],
   "source": [
    "def repeat_lyrics():\n",
    "    print_lyrics()\n",
    "    print_lyrics()\n",
    "    \n",
    "repeat_lyrics()"
   ]
  },
  {
   "cell_type": "code",
   "execution_count": 175,
   "id": "41a4f25e",
   "metadata": {},
   "outputs": [
    {
     "name": "stdout",
     "output_type": "stream",
     "text": [
      "I'm Mafuz, and I'm okay.\n",
      "I sleep all night and I work all day.\n",
      "I'm Mafuz, and I'm okay.\n",
      "I sleep all night and I work all day.\n"
     ]
    }
   ],
   "source": [
    "def print_lyrics():\n",
    "    print(\"I'm Mafuz, and I'm okay.\")\n",
    "    print(\"I sleep all night and I work all day.\")\n",
    "    \n",
    "def repeat_lyrics():\n",
    "    print_lyrics()\n",
    "    print_lyrics()\n",
    "    \n",
    "repeat_lyrics()"
   ]
  },
  {
   "cell_type": "markdown",
   "id": "e6312375",
   "metadata": {},
   "source": [
    "### Parameters and Arguments :"
   ]
  },
  {
   "cell_type": "code",
   "execution_count": 42,
   "id": "fb861db9",
   "metadata": {},
   "outputs": [],
   "source": [
    "# math.pow takes two, the base and the exponent"
   ]
  },
  {
   "cell_type": "markdown",
   "id": "a2e70105",
   "metadata": {},
   "source": [
    "Parameters are also local. For example,\n",
    "outside print_twice, there is no such\n",
    "thing as bruce."
   ]
  },
  {
   "cell_type": "code",
   "execution_count": 43,
   "id": "e29a9e38",
   "metadata": {},
   "outputs": [
    {
     "name": "stdout",
     "output_type": "stream",
     "text": [
      "Woof!\n",
      "Woof!\n"
     ]
    }
   ],
   "source": [
    "# Inside the function, the arguments are assigned\n",
    "# to variables called parameters. Here is a definition\n",
    "# for a function that takes an argument:\n",
    "\n",
    "def print_twice(bruce):\n",
    "    print(bruce)\n",
    "    print(bruce)\n",
    "    \n",
    "# This function assigns the argument to a parameter\n",
    "# named bruce. When the function is called, it prints\n",
    "# the value of the parameter (whatever it is) twice.\n",
    "\n",
    "print_twice(\"Woof!\")"
   ]
  },
  {
   "cell_type": "code",
   "execution_count": 44,
   "id": "feea1d19",
   "metadata": {},
   "outputs": [
    {
     "name": "stdout",
     "output_type": "stream",
     "text": [
      "Hello, world!\n",
      "Hello, world!\n"
     ]
    }
   ],
   "source": [
    "def print_twice(x):\n",
    "    print(x)\n",
    "    print(x)\n",
    "\n",
    "print_twice('Hello, world!')"
   ]
  },
  {
   "cell_type": "code",
   "execution_count": 45,
   "id": "8689537a",
   "metadata": {},
   "outputs": [
    {
     "name": "stdout",
     "output_type": "stream",
     "text": [
      "Spam Spam Spam Spam \n",
      "Spam Spam Spam Spam \n"
     ]
    }
   ],
   "source": [
    "print_twice('Spam '*4)"
   ]
  },
  {
   "cell_type": "code",
   "execution_count": 46,
   "id": "c4339a4e",
   "metadata": {},
   "outputs": [
    {
     "name": "stdout",
     "output_type": "stream",
     "text": [
      "-1.0\n",
      "-1.0\n"
     ]
    }
   ],
   "source": [
    "import math\n",
    "print_twice(math.cos(math.pi))"
   ]
  },
  {
   "cell_type": "code",
   "execution_count": 47,
   "id": "77195380",
   "metadata": {},
   "outputs": [
    {
     "name": "stdout",
     "output_type": "stream",
     "text": [
      "y\n",
      "y\n"
     ]
    }
   ],
   "source": [
    "x = 'y'\n",
    "print_twice(x)"
   ]
  },
  {
   "cell_type": "markdown",
   "id": "d0ef9011",
   "metadata": {},
   "source": [
    "### Variables and Parameters Are Local : "
   ]
  },
  {
   "cell_type": "code",
   "execution_count": 48,
   "id": "c8b445b2",
   "metadata": {},
   "outputs": [
    {
     "name": "stdout",
     "output_type": "stream",
     "text": [
      "Bing tiddle tiddle bang.\n",
      "Bing tiddle tiddle bang.\n"
     ]
    }
   ],
   "source": [
    "def cat_twice(part1, part2):\n",
    "    cat = part1 + part2\n",
    "    print_twice(cat)\n",
    "    \n",
    "line1 = 'Bing tiddle '\n",
    "line2 = 'tiddle bang.'\n",
    "cat_twice(line1, line2)"
   ]
  },
  {
   "cell_type": "markdown",
   "id": "e52b79ad",
   "metadata": {},
   "source": [
    "### Fruitful Functions :"
   ]
  },
  {
   "cell_type": "code",
   "execution_count": 49,
   "id": "ff441790",
   "metadata": {},
   "outputs": [
    {
     "name": "stdout",
     "output_type": "stream",
     "text": [
      "Bing\n",
      "Bing\n"
     ]
    }
   ],
   "source": [
    "result = print_twice('Bing')"
   ]
  },
  {
   "cell_type": "code",
   "execution_count": 50,
   "id": "2fd8ea9a",
   "metadata": {},
   "outputs": [
    {
     "name": "stdout",
     "output_type": "stream",
     "text": [
      "None\n"
     ]
    }
   ],
   "source": [
    "print(result)"
   ]
  },
  {
   "cell_type": "code",
   "execution_count": 51,
   "id": "792a5110",
   "metadata": {},
   "outputs": [
    {
     "name": "stdout",
     "output_type": "stream",
     "text": [
      "<class 'NoneType'>\n"
     ]
    }
   ],
   "source": [
    "print(type(None)) # None is not the same as the string 'None'"
   ]
  },
  {
   "cell_type": "markdown",
   "id": "c735b33f",
   "metadata": {},
   "source": [
    "## Case Study : Interface Design"
   ]
  },
  {
   "cell_type": "code",
   "execution_count": 52,
   "id": "2512cc48",
   "metadata": {},
   "outputs": [],
   "source": [
    "import turtle\n",
    "x = turtle.Turtle()\n",
    "x.fd(100)\n",
    "x.lt(90)\n",
    "x.fd(100)\n",
    "x.lt(90)\n",
    "x.fd(100)\n",
    "x.lt(90)\n",
    "x.fd(100)"
   ]
  },
  {
   "cell_type": "code",
   "execution_count": 31,
   "id": "0bfdda58",
   "metadata": {},
   "outputs": [],
   "source": [
    "import turtle\n",
    "x = turtle.Turtle()\n",
    "\n",
    "for i in range(4):\n",
    "    x.fd(100)\n",
    "    x.lt(90)"
   ]
  },
  {
   "cell_type": "markdown",
   "id": "7718fe8c",
   "metadata": {},
   "source": [
    "### Encapsulation :"
   ]
  },
  {
   "cell_type": "code",
   "execution_count": 1,
   "id": "acb111ee",
   "metadata": {},
   "outputs": [],
   "source": [
    "import turtle\n",
    "x = turtle.Turtle()\n",
    "\n",
    "def square(t):\n",
    "    for i in range(4):\n",
    "        t.fd(100)\n",
    "        t.lt(90)\n",
    "        \n",
    "square(x)"
   ]
  },
  {
   "cell_type": "code",
   "execution_count": 33,
   "id": "4c6f4411",
   "metadata": {},
   "outputs": [],
   "source": [
    "import turtle\n",
    "alice = turtle.Turtle()\n",
    "square(alice)"
   ]
  },
  {
   "cell_type": "markdown",
   "id": "5a515704",
   "metadata": {},
   "source": [
    "### Generalization :"
   ]
  },
  {
   "cell_type": "code",
   "execution_count": 3,
   "id": "acabdea4",
   "metadata": {},
   "outputs": [],
   "source": [
    "import turtle\n",
    "x = turtle.Turtle()\n",
    "\n",
    "def square(t, length):\n",
    "    for i in range(4):\n",
    "        t.fd(length)\n",
    "        t.lt(90)\n",
    "        \n",
    "square(x, 200)"
   ]
  },
  {
   "cell_type": "code",
   "execution_count": 6,
   "id": "ccb70e00",
   "metadata": {},
   "outputs": [],
   "source": [
    "import turtle\n",
    "x = turtle.Turtle()\n",
    "\n",
    "def polygon(t, n, length):\n",
    "    angle = 360.0 / n\n",
    "    for i in range(n):\n",
    "        t.fd(length)\n",
    "        t.lt(angle)\n",
    "        \n",
    "    \n",
    "polygon(x, 8, 50)"
   ]
  },
  {
   "cell_type": "markdown",
   "id": "a7f3b4ac",
   "metadata": {},
   "source": [
    "### Interface Design :"
   ]
  },
  {
   "cell_type": "code",
   "execution_count": null,
   "id": "43e4956d",
   "metadata": {},
   "outputs": [],
   "source": [
    "import math\n",
    "\n",
    "def circle(t, r):\n",
    "    circumference = 2 * math.pi * r\n",
    "    n = 50\n",
    "    length = circumference / n\n",
    "    polygon(t, n, length)"
   ]
  },
  {
   "cell_type": "code",
   "execution_count": 8,
   "id": "b37edd2b",
   "metadata": {},
   "outputs": [],
   "source": [
    "import turtle\n",
    "x = turtle.Turtle()\n",
    "\n",
    "def polygon(t, n, length):\n",
    "    angle = 360.0 / n\n",
    "    for i in range(n):\n",
    "        t.fd(length)\n",
    "        t.lt(angle)\n",
    "        \n",
    "    \n",
    "polygon(x, 8, 50)\n",
    "\n",
    "def circle(t, r):\n",
    "    circumference = 2 * math.pi * r\n",
    "    n = int(circumference / 3) + 1\n",
    "    length = circumference / n\n",
    "    polygon(t, n, length)"
   ]
  },
  {
   "cell_type": "markdown",
   "id": "e6f01a58",
   "metadata": {},
   "source": [
    "### Refactoring : "
   ]
  },
  {
   "cell_type": "code",
   "execution_count": 11,
   "id": "115fbd1c",
   "metadata": {},
   "outputs": [],
   "source": [
    "def arc(t, r, angle):\n",
    "    arc_length = 2 * math.pi * r * angle / 360\n",
    "    n = int(arc_length / 3) + 1\n",
    "    step_length = arc_length / n\n",
    "    step_angle = angle / n\n",
    "    for i in range(n):\n",
    "        t.fd(step_length)\n",
    "        t.lt(step_angle)"
   ]
  },
  {
   "cell_type": "code",
   "execution_count": 12,
   "id": "9b3cdd17",
   "metadata": {},
   "outputs": [],
   "source": [
    "def polyline(t, n, length, angle):\n",
    "    for i in range(n):\n",
    "        t.fd(length)\n",
    "        t.lt(angle)\n",
    "\n",
    "def polygon(t, n, length):\n",
    "    angle = 360.0 / n\n",
    "    polyline(t, n, length, angle)\n",
    "    \n",
    "def arc(t, r, angle):\n",
    "    arc_length = 2 * math.pi * r * angle / 360\n",
    "    n = int(arc_length / 3) + 1\n",
    "    step_length = arc_length / n\n",
    "    step_angle = float(angle) / n\n",
    "    polyline(t, n, step_length, step_angle)\n",
    "\n",
    "def circle(t, r):\n",
    "    arc(t, r, 360)"
   ]
  },
  {
   "cell_type": "markdown",
   "id": "5822a509",
   "metadata": {},
   "source": [
    "### docstring : "
   ]
  },
  {
   "cell_type": "code",
   "execution_count": 13,
   "id": "ec7161c5",
   "metadata": {},
   "outputs": [],
   "source": [
    "\"\"\"\n",
    "A docstring is a string at the beginning of a function that explains the interface (“doc”\n",
    "is short for “documentation”). Here is an example:\n",
    "def polyline(t, n, length, angle):\n",
    "\"\"\"\n",
    "\n",
    "def polyline(t, n, length, angle):\n",
    "    \n",
    "    \"\"\"Draws n line segments with the given length and\n",
    "    angle (in degrees) between them. t is a turtle.\n",
    "    \"\"\"\n",
    "\n",
    "    for i in range(n):\n",
    "        t.fd(length)\n",
    "        t.lt(angle)"
   ]
  },
  {
   "cell_type": "markdown",
   "id": "1c10d891",
   "metadata": {},
   "source": [
    "## Conditionals and Recursion : "
   ]
  },
  {
   "cell_type": "markdown",
   "id": "9b7df202",
   "metadata": {},
   "source": [
    "### Floor Division and Modulus :"
   ]
  },
  {
   "cell_type": "code",
   "execution_count": 14,
   "id": "936b26e0",
   "metadata": {},
   "outputs": [
    {
     "name": "stdout",
     "output_type": "stream",
     "text": [
      "1\n"
     ]
    }
   ],
   "source": [
    "minutes = 105\n",
    "hours = minutes // 60\n",
    "print(hours)"
   ]
  },
  {
   "cell_type": "code",
   "execution_count": 16,
   "id": "f05ac2c6",
   "metadata": {},
   "outputs": [
    {
     "name": "stdout",
     "output_type": "stream",
     "text": [
      "45\n"
     ]
    }
   ],
   "source": [
    "remainder = minutes % 60\n",
    "print(remainder)"
   ]
  },
  {
   "cell_type": "markdown",
   "id": "d1d1ebe4",
   "metadata": {},
   "source": [
    "### Boolean Expressions :"
   ]
  },
  {
   "cell_type": "code",
   "execution_count": 17,
   "id": "bacaf12a",
   "metadata": {},
   "outputs": [
    {
     "data": {
      "text/plain": [
       "bool"
      ]
     },
     "execution_count": 17,
     "metadata": {},
     "output_type": "execute_result"
    }
   ],
   "source": [
    "type(True)"
   ]
  },
  {
   "cell_type": "code",
   "execution_count": 18,
   "id": "3049b5d4",
   "metadata": {},
   "outputs": [
    {
     "data": {
      "text/plain": [
       "bool"
      ]
     },
     "execution_count": 18,
     "metadata": {},
     "output_type": "execute_result"
    }
   ],
   "source": [
    "type(False)"
   ]
  },
  {
   "cell_type": "code",
   "execution_count": 19,
   "id": "632cf805",
   "metadata": {},
   "outputs": [
    {
     "data": {
      "text/plain": [
       "'\\nThe == operator is one of the relational operators; the others are:\\nx != y # x is not equal to y\\nx > y # x is greater than y\\nx < y # x is less than y\\nx >= y # x is greater than or equal to y\\nx <= y # x is less than or equal to y\\n'"
      ]
     },
     "execution_count": 19,
     "metadata": {},
     "output_type": "execute_result"
    }
   ],
   "source": [
    "\"\"\"\n",
    "The == operator is one of the relational operators; the others are:\n",
    "x != y # x is not equal to y\n",
    "x > y # x is greater than y\n",
    "x < y # x is less than y\n",
    "x >= y # x is greater than or equal to y\n",
    "x <= y # x is less than or equal to y\n",
    "\"\"\""
   ]
  },
  {
   "cell_type": "markdown",
   "id": "fbda3dd9",
   "metadata": {},
   "source": [
    "### There is no such thing as =< or =>"
   ]
  },
  {
   "cell_type": "markdown",
   "id": "b14be196",
   "metadata": {},
   "source": [
    "### Logical Operators :"
   ]
  },
  {
   "cell_type": "code",
   "execution_count": 20,
   "id": "9ca215c6",
   "metadata": {},
   "outputs": [],
   "source": [
    "# There are three logical operators: and, or, and not."
   ]
  },
  {
   "cell_type": "code",
   "execution_count": 21,
   "id": "c13bbb27",
   "metadata": {},
   "outputs": [
    {
     "data": {
      "text/plain": [
       "True"
      ]
     },
     "execution_count": 21,
     "metadata": {},
     "output_type": "execute_result"
    }
   ],
   "source": [
    "# Any nonzero number is interpreted as True:\n",
    "42 and True"
   ]
  },
  {
   "cell_type": "markdown",
   "id": "12a41f23",
   "metadata": {},
   "source": [
    "### Conditional Execution :"
   ]
  },
  {
   "cell_type": "code",
   "execution_count": 25,
   "id": "426894e4",
   "metadata": {},
   "outputs": [
    {
     "name": "stdout",
     "output_type": "stream",
     "text": [
      "y is positive.\n"
     ]
    }
   ],
   "source": [
    "y = 1\n",
    "if y > 0:\n",
    "    print('y is positive.')"
   ]
  },
  {
   "cell_type": "code",
   "execution_count": 26,
   "id": "e19d1c18",
   "metadata": {},
   "outputs": [],
   "source": [
    "x = 0\n",
    "if x < 0:\n",
    "    pass # TODO: need to handle negative values!"
   ]
  },
  {
   "cell_type": "markdown",
   "id": "47de3a16",
   "metadata": {},
   "source": [
    "### Alternative Execution :"
   ]
  },
  {
   "cell_type": "code",
   "execution_count": 28,
   "id": "c90c6ddc",
   "metadata": {},
   "outputs": [
    {
     "name": "stdout",
     "output_type": "stream",
     "text": [
      "x is odd\n"
     ]
    }
   ],
   "source": [
    "x = 7\n",
    "if x % 2 == 0:\n",
    "    print('x is even')\n",
    "else:\n",
    "    print('x is odd')"
   ]
  },
  {
   "cell_type": "markdown",
   "id": "b93c1082",
   "metadata": {},
   "source": [
    "### Chained Conditionals :"
   ]
  },
  {
   "cell_type": "code",
   "execution_count": 30,
   "id": "e783d708",
   "metadata": {},
   "outputs": [
    {
     "name": "stdout",
     "output_type": "stream",
     "text": [
      "x and y are equal\n"
     ]
    }
   ],
   "source": [
    "x = 1\n",
    "y = 1\n",
    "\n",
    "if x < y:\n",
    "    print('x is less than y')\n",
    "elif x > y:\n",
    "    print('x is greater than y')\n",
    "else:\n",
    "    print('x and y are equal')"
   ]
  },
  {
   "cell_type": "markdown",
   "id": "bf4af4f0",
   "metadata": {},
   "source": [
    "### Nested Conditionals :"
   ]
  },
  {
   "cell_type": "code",
   "execution_count": 31,
   "id": "ef88599a",
   "metadata": {},
   "outputs": [
    {
     "name": "stdout",
     "output_type": "stream",
     "text": [
      "x is less than y\n"
     ]
    }
   ],
   "source": [
    "x = 5\n",
    "y = 9\n",
    "\n",
    "if x == y:\n",
    "    print('x and y are equal')\n",
    "else:\n",
    "    if x < y:\n",
    "        print('x is less than y')\n",
    "    else:\n",
    "        print('x is greater than y')"
   ]
  },
  {
   "cell_type": "code",
   "execution_count": 32,
   "id": "c84c188d",
   "metadata": {},
   "outputs": [
    {
     "name": "stdout",
     "output_type": "stream",
     "text": [
      "x is a positive single-digit number.\n"
     ]
    }
   ],
   "source": [
    "x = 8\n",
    "if 0 < x < 10:\n",
    "    print('x is a positive single-digit number.')"
   ]
  },
  {
   "cell_type": "markdown",
   "id": "49624f1c",
   "metadata": {},
   "source": [
    "### Recursion :"
   ]
  },
  {
   "cell_type": "code",
   "execution_count": 1,
   "id": "bda46147",
   "metadata": {},
   "outputs": [
    {
     "name": "stdout",
     "output_type": "stream",
     "text": [
      "5\n",
      "4\n",
      "3\n",
      "2\n",
      "1\n",
      "Blastoff!\n"
     ]
    }
   ],
   "source": [
    "def countdown(n):\n",
    "    if n <= 0:\n",
    "        print('Blastoff!')\n",
    "    else:\n",
    "        print(n)\n",
    "        countdown(n-1)\n",
    "        \n",
    "countdown(5)"
   ]
  },
  {
   "cell_type": "code",
   "execution_count": 142,
   "id": "8d6f5084",
   "metadata": {},
   "outputs": [
    {
     "name": "stdout",
     "output_type": "stream",
     "text": [
      "Mafuz is learning to code!\n",
      "Mafuz is learning to code!\n",
      "Mafuz is learning to code!\n",
      "Mafuz is learning to code!\n",
      "Mafuz is learning to code!\n",
      "Mafuz is learning to code!\n",
      "Mafuz is learning to code!\n"
     ]
    }
   ],
   "source": [
    "def print_n(s, n):\n",
    "    if n <= 0:\n",
    "        return\n",
    "    print(s)\n",
    "    print_n(s, n-1)\n",
    "    \n",
    "print_n('Mafuz is learning to code!', 7)"
   ]
  },
  {
   "cell_type": "markdown",
   "id": "2c23602a",
   "metadata": {},
   "source": [
    "### Keyboard Input :"
   ]
  },
  {
   "cell_type": "code",
   "execution_count": 5,
   "id": "6c0e5e40",
   "metadata": {},
   "outputs": [
    {
     "name": "stdout",
     "output_type": "stream",
     "text": [
      "What...is the airspeed velocity of an unladen swallow?\n",
      "45\n"
     ]
    }
   ],
   "source": [
    "prompt = 'What...is the airspeed velocity of an unladen swallow?\\n'\n",
    "speed = int(input(prompt))"
   ]
  },
  {
   "cell_type": "markdown",
   "id": "bbd59a71",
   "metadata": {},
   "source": [
    "### Debugging"
   ]
  },
  {
   "cell_type": "code",
   "execution_count": 8,
   "id": "8f3d54b7",
   "metadata": {},
   "outputs": [
    {
     "name": "stdout",
     "output_type": "stream",
     "text": [
      "-0.4575749056067512\n"
     ]
    }
   ],
   "source": [
    "import math\n",
    "signal_power = 9\n",
    "noise_power = 10\n",
    "ratio = signal_power / noise_power\n",
    "decibels = 10 * math.log10(ratio)\n",
    "print(decibels)"
   ]
  },
  {
   "cell_type": "markdown",
   "id": "2fb27ec8",
   "metadata": {},
   "source": [
    "## Fruitful functions :"
   ]
  },
  {
   "cell_type": "code",
   "execution_count": 9,
   "id": "1b7236f8",
   "metadata": {},
   "outputs": [],
   "source": [
    "def area(radius):\n",
    "    return math.pi * radius**2"
   ]
  },
  {
   "cell_type": "code",
   "execution_count": 10,
   "id": "cbffef04",
   "metadata": {},
   "outputs": [],
   "source": [
    "def absolute_value(x):\n",
    "    if x < 0:\n",
    "        return -x\n",
    "    else:\n",
    "        return x"
   ]
  },
  {
   "cell_type": "code",
   "execution_count": 20,
   "id": "a249a6c1",
   "metadata": {},
   "outputs": [],
   "source": [
    "def distance(x1, y1, x2, y2):\n",
    "    dx = x2 - x1\n",
    "    dy = y2 - y1\n",
    "    dsquared = dx**2 + dy**2\n",
    "    result = math.sqrt(dsquared)\n",
    "    return result"
   ]
  },
  {
   "cell_type": "code",
   "execution_count": 21,
   "id": "f9db75a3",
   "metadata": {},
   "outputs": [],
   "source": [
    "def circle_area(xc, yc, xp, yp):\n",
    "    radius = distance(xc, yc, xp, yp)\n",
    "    result = area(radius)\n",
    "    return result"
   ]
  },
  {
   "cell_type": "code",
   "execution_count": 22,
   "id": "ae901f49",
   "metadata": {},
   "outputs": [],
   "source": [
    "def circle_area(xc, yc, xp, yp):\n",
    "    return area(distance(xc, yc, xp, yp))"
   ]
  },
  {
   "cell_type": "markdown",
   "id": "ceb425d5",
   "metadata": {},
   "source": [
    "### Boolean Functions :"
   ]
  },
  {
   "cell_type": "code",
   "execution_count": 1,
   "id": "1da685db",
   "metadata": {},
   "outputs": [
    {
     "data": {
      "text/plain": [
       "True"
      ]
     },
     "execution_count": 1,
     "metadata": {},
     "output_type": "execute_result"
    }
   ],
   "source": [
    "def is_divisible(x,y):\n",
    "    if x % y == 0:\n",
    "        return True\n",
    "    else:\n",
    "        return False\n",
    "    \n",
    "is_divisible(8,4)"
   ]
  },
  {
   "cell_type": "markdown",
   "id": "20961eac",
   "metadata": {},
   "source": [
    "## Iteration :"
   ]
  },
  {
   "cell_type": "code",
   "execution_count": 3,
   "id": "534c16cf",
   "metadata": {},
   "outputs": [
    {
     "name": "stdout",
     "output_type": "stream",
     "text": [
      "a is: 3\n",
      "b is: 5\n"
     ]
    }
   ],
   "source": [
    "# Reassignment:\n",
    "a = 5\n",
    "b = a # a and b are now equal\n",
    "a = 3 # a and b are no longer equal\n",
    "print(\"a is:\",a)\n",
    "print(\"b is:\",b)"
   ]
  },
  {
   "cell_type": "code",
   "execution_count": 7,
   "id": "de217d7c",
   "metadata": {},
   "outputs": [
    {
     "data": {
      "text/plain": [
       "1"
      ]
     },
     "execution_count": 7,
     "metadata": {},
     "output_type": "execute_result"
    }
   ],
   "source": [
    "# Updating Variables:\n",
    "x = 0\n",
    "x = x + 1\n",
    "x"
   ]
  },
  {
   "cell_type": "code",
   "execution_count": 8,
   "id": "a0818cc5",
   "metadata": {},
   "outputs": [
    {
     "name": "stdout",
     "output_type": "stream",
     "text": [
      "4\n",
      "3\n",
      "2\n",
      "1\n",
      "Blastoff!\n"
     ]
    }
   ],
   "source": [
    "# While Statement:\n",
    "\n",
    "def countdown(n):\n",
    "    while n > 0:\n",
    "        print(n)\n",
    "        n = n - 1\n",
    "    print('Blastoff!')\n",
    "    \n",
    "countdown(4)"
   ]
  },
  {
   "cell_type": "code",
   "execution_count": 9,
   "id": "ad0a2f35",
   "metadata": {},
   "outputs": [
    {
     "name": "stdout",
     "output_type": "stream",
     "text": [
      "> not done\n",
      "not done\n",
      "Done!\n",
      "> not done\n",
      "not done\n",
      "Done!\n",
      "> not done\n",
      "not done\n",
      "Done!\n",
      "> done\n"
     ]
    }
   ],
   "source": [
    "# Break :\n",
    "\n",
    "while True:\n",
    "    line = input('> ')\n",
    "    if line == 'done':\n",
    "        break\n",
    "    print(line)\n",
    "    print('Done!')"
   ]
  },
  {
   "cell_type": "markdown",
   "id": "1ae3ddbe",
   "metadata": {},
   "source": [
    "### Scope :"
   ]
  },
  {
   "cell_type": "code",
   "execution_count": 61,
   "id": "5a9ed56e",
   "metadata": {},
   "outputs": [
    {
     "name": "stdout",
     "output_type": "stream",
     "text": [
      "2\n"
     ]
    }
   ],
   "source": [
    "def f():\n",
    "    return (1+1)\n",
    "\n",
    "\n",
    "result = f()\n",
    "print(result)"
   ]
  },
  {
   "cell_type": "code",
   "execution_count": 65,
   "id": "97399294",
   "metadata": {},
   "outputs": [
    {
     "name": "stdout",
     "output_type": "stream",
     "text": [
      "7\n"
     ]
    }
   ],
   "source": [
    "def f(x,y,z):\n",
    "    return (x+y+z)\n",
    "\n",
    "\n",
    "result = f(1,3,3)\n",
    "print(result)"
   ]
  },
  {
   "cell_type": "code",
   "execution_count": 26,
   "id": "6af63082",
   "metadata": {},
   "outputs": [
    {
     "name": "stdout",
     "output_type": "stream",
     "text": [
      "inner function\n",
      "nested function\n"
     ]
    }
   ],
   "source": [
    "def f():\n",
    "    \n",
    "    print(\"inner function\")\n",
    "    \n",
    "    def x():\n",
    "        print(\"nested function\")\n",
    "        \n",
    "\n",
    "    x()\n",
    "    \n",
    "    \n",
    "f()"
   ]
  },
  {
   "cell_type": "code",
   "execution_count": 71,
   "id": "cea5a36f",
   "metadata": {},
   "outputs": [
    {
     "name": "stdout",
     "output_type": "stream",
     "text": [
      "1\n",
      "2\n",
      "3\n"
     ]
    }
   ],
   "source": [
    "x=1\n",
    "y=2\n",
    "z=3\n",
    "\n",
    "def f():\n",
    "    print(x)\n",
    "    print(y)\n",
    "    print(z)\n",
    "  \n",
    "\n",
    "f()"
   ]
  },
  {
   "cell_type": "code",
   "execution_count": 13,
   "id": "0694a0a3",
   "metadata": {},
   "outputs": [
    {
     "name": "stdout",
     "output_type": "stream",
     "text": [
      "1\n",
      "2\n",
      "3\n"
     ]
    }
   ],
   "source": [
    "def f():\n",
    "    x=1\n",
    "    y=2\n",
    "    z=3\n",
    "    print(x)\n",
    "    print(y)\n",
    "    print(z)\n",
    " \n",
    "\n",
    "f()"
   ]
  },
  {
   "cell_type": "code",
   "execution_count": 12,
   "id": "b71201fe",
   "metadata": {},
   "outputs": [
    {
     "name": "stdout",
     "output_type": "stream",
     "text": [
      "101\n"
     ]
    }
   ],
   "source": [
    "x = 100\n",
    "\n",
    "def f():\n",
    "    global x\n",
    "    x+=1\n",
    "    print(x)\n",
    "    \n",
    "    \n",
    "f()"
   ]
  },
  {
   "cell_type": "markdown",
   "id": "221b4d67",
   "metadata": {},
   "source": [
    "## Containers :"
   ]
  },
  {
   "cell_type": "markdown",
   "id": "1245dc83",
   "metadata": {},
   "source": [
    "### Lists :"
   ]
  },
  {
   "cell_type": "code",
   "execution_count": 73,
   "id": "a5474949",
   "metadata": {},
   "outputs": [
    {
     "name": "stdout",
     "output_type": "stream",
     "text": [
      "Cheddar\n",
      "Edam\n",
      "Gouda\n"
     ]
    }
   ],
   "source": [
    "cheeses = ['Cheddar', 'Edam', 'Gouda']\n",
    "\n",
    "for cheese in cheeses:\n",
    "    print(cheese)"
   ]
  },
  {
   "cell_type": "code",
   "execution_count": 80,
   "id": "bfd5ef64",
   "metadata": {},
   "outputs": [
    {
     "name": "stdout",
     "output_type": "stream",
     "text": [
      "84\n",
      "10\n"
     ]
    }
   ],
   "source": [
    "numbers = [42, 123]\n",
    "numbers[1] = 5\n",
    "\n",
    "for i in range(len(numbers)):\n",
    "    numbers[i] = numbers[i] * 2\n",
    "    print(numbers[i])"
   ]
  },
  {
   "cell_type": "markdown",
   "id": "a994cc3a",
   "metadata": {},
   "source": [
    "### List operations :"
   ]
  },
  {
   "cell_type": "code",
   "execution_count": 81,
   "id": "c68eb119",
   "metadata": {},
   "outputs": [
    {
     "data": {
      "text/plain": [
       "[1, 2, 3, 4, 5, 6]"
      ]
     },
     "execution_count": 81,
     "metadata": {},
     "output_type": "execute_result"
    }
   ],
   "source": [
    "a = [1, 2, 3]\n",
    "b = [4, 5, 6]\n",
    "c = a + b\n",
    "c"
   ]
  },
  {
   "cell_type": "code",
   "execution_count": 82,
   "id": "ca9f6d50",
   "metadata": {},
   "outputs": [
    {
     "data": {
      "text/plain": [
       "[0, 0, 0, 0]"
      ]
     },
     "execution_count": 82,
     "metadata": {},
     "output_type": "execute_result"
    }
   ],
   "source": [
    "[0] * 4"
   ]
  },
  {
   "cell_type": "code",
   "execution_count": 83,
   "id": "7f57e1b7",
   "metadata": {},
   "outputs": [
    {
     "data": {
      "text/plain": [
       "[1, 2, 3, 1, 2, 3, 1, 2, 3]"
      ]
     },
     "execution_count": 83,
     "metadata": {},
     "output_type": "execute_result"
    }
   ],
   "source": [
    "[1, 2, 3] * 3"
   ]
  },
  {
   "cell_type": "markdown",
   "id": "6f708a0d",
   "metadata": {},
   "source": [
    "### List Slicing :"
   ]
  },
  {
   "cell_type": "code",
   "execution_count": 84,
   "id": "c59c7ee1",
   "metadata": {},
   "outputs": [
    {
     "data": {
      "text/plain": [
       "['b', 'c']"
      ]
     },
     "execution_count": 84,
     "metadata": {},
     "output_type": "execute_result"
    }
   ],
   "source": [
    "t = ['a', 'b', 'c', 'd', 'e', 'f']\n",
    "t[1:3]"
   ]
  },
  {
   "cell_type": "code",
   "execution_count": 85,
   "id": "7600c337",
   "metadata": {},
   "outputs": [
    {
     "data": {
      "text/plain": [
       "['a', 'b', 'c', 'd']"
      ]
     },
     "execution_count": 85,
     "metadata": {},
     "output_type": "execute_result"
    }
   ],
   "source": [
    "t[:4]"
   ]
  },
  {
   "cell_type": "code",
   "execution_count": 88,
   "id": "b69b7fdb",
   "metadata": {},
   "outputs": [
    {
     "data": {
      "text/plain": [
       "['d', 'e', 'f']"
      ]
     },
     "execution_count": 88,
     "metadata": {},
     "output_type": "execute_result"
    }
   ],
   "source": [
    "t[3:]"
   ]
  },
  {
   "cell_type": "code",
   "execution_count": 89,
   "id": "1c031c6c",
   "metadata": {},
   "outputs": [
    {
     "data": {
      "text/plain": [
       "['a', 'b', 'c', 'd', 'e', 'f']"
      ]
     },
     "execution_count": 89,
     "metadata": {},
     "output_type": "execute_result"
    }
   ],
   "source": [
    "t[:]"
   ]
  },
  {
   "cell_type": "code",
   "execution_count": 92,
   "id": "77f80174",
   "metadata": {},
   "outputs": [
    {
     "data": {
      "text/plain": [
       "['a', 'x', 'y', 'd', 'e', 'f']"
      ]
     },
     "execution_count": 92,
     "metadata": {},
     "output_type": "execute_result"
    }
   ],
   "source": [
    "t = ['a', 'b', 'c', 'd', 'e', 'f']\n",
    "t[1:3] = ['x', 'y']\n",
    "t"
   ]
  },
  {
   "cell_type": "markdown",
   "id": "2e29e1c2",
   "metadata": {},
   "source": [
    "### List Methods :"
   ]
  },
  {
   "cell_type": "code",
   "execution_count": 93,
   "id": "1dbb466f",
   "metadata": {},
   "outputs": [
    {
     "data": {
      "text/plain": [
       "['a', 'b', 'c', 'd']"
      ]
     },
     "execution_count": 93,
     "metadata": {},
     "output_type": "execute_result"
    }
   ],
   "source": [
    "t = ['a', 'b', 'c']\n",
    "t.append('d')\n",
    "t"
   ]
  },
  {
   "cell_type": "code",
   "execution_count": 94,
   "id": "1c165708",
   "metadata": {},
   "outputs": [
    {
     "data": {
      "text/plain": [
       "['a', 'b', 'c', 'd', 'e']"
      ]
     },
     "execution_count": 94,
     "metadata": {},
     "output_type": "execute_result"
    }
   ],
   "source": [
    "t1 = ['a', 'b', 'c']\n",
    "t2 = ['d', 'e']\n",
    "t1.extend(t2)\n",
    "t1"
   ]
  },
  {
   "cell_type": "code",
   "execution_count": 95,
   "id": "2ed1fac5",
   "metadata": {},
   "outputs": [
    {
     "data": {
      "text/plain": [
       "['a', 'b', 'c', 'd', 'e']"
      ]
     },
     "execution_count": 95,
     "metadata": {},
     "output_type": "execute_result"
    }
   ],
   "source": [
    "t = ['d', 'c', 'e', 'b', 'a']\n",
    "t.sort()\n",
    "t"
   ]
  },
  {
   "cell_type": "markdown",
   "id": "a5ca6995",
   "metadata": {},
   "source": [
    "### Map, Filter and Reduce :"
   ]
  },
  {
   "cell_type": "code",
   "execution_count": 112,
   "id": "21131866",
   "metadata": {},
   "outputs": [
    {
     "data": {
      "text/plain": [
       "15"
      ]
     },
     "execution_count": 112,
     "metadata": {},
     "output_type": "execute_result"
    }
   ],
   "source": [
    "# Reduce :\n",
    "\n",
    "def add_all(t):\n",
    "    total = 0\n",
    "    for x in t:\n",
    "        total += x\n",
    "    return total\n",
    "\n",
    "t=(1,2,3,4,5)\n",
    "add_all(t)"
   ]
  },
  {
   "cell_type": "code",
   "execution_count": 100,
   "id": "c65b619a",
   "metadata": {},
   "outputs": [
    {
     "name": "stdout",
     "output_type": "stream",
     "text": [
      "15\n"
     ]
    }
   ],
   "source": [
    "print(sum(t))"
   ]
  },
  {
   "cell_type": "code",
   "execution_count": 113,
   "id": "b9f99668",
   "metadata": {},
   "outputs": [],
   "source": [
    "# Map :\n",
    "\n",
    "def capitalize_all(t):\n",
    "    res = []\n",
    "    for s in t:\n",
    "        res.append(s.capitalize())\n",
    "    return res"
   ]
  },
  {
   "cell_type": "code",
   "execution_count": 114,
   "id": "87f3c20a",
   "metadata": {},
   "outputs": [],
   "source": [
    "# Filter :\n",
    "\n",
    "def only_upper(t):\n",
    "    res = []\n",
    "    for s in t:\n",
    "        if s.isupper():\n",
    "            res.append(s)\n",
    "    return res"
   ]
  },
  {
   "cell_type": "markdown",
   "id": "9cfca399",
   "metadata": {},
   "source": [
    "### Deleting Elements : "
   ]
  },
  {
   "cell_type": "code",
   "execution_count": 103,
   "id": "7a842b37",
   "metadata": {},
   "outputs": [
    {
     "data": {
      "text/plain": [
       "['a', 'c']"
      ]
     },
     "execution_count": 103,
     "metadata": {},
     "output_type": "execute_result"
    }
   ],
   "source": [
    "t = ['a', 'b', 'c']\n",
    "x = t.pop(1)\n",
    "t"
   ]
  },
  {
   "cell_type": "code",
   "execution_count": 104,
   "id": "e998a940",
   "metadata": {},
   "outputs": [
    {
     "data": {
      "text/plain": [
       "['a', 'c']"
      ]
     },
     "execution_count": 104,
     "metadata": {},
     "output_type": "execute_result"
    }
   ],
   "source": [
    "t = ['a', 'b', 'c']\n",
    "del t[1]\n",
    "t"
   ]
  },
  {
   "cell_type": "code",
   "execution_count": 105,
   "id": "ae0683ff",
   "metadata": {},
   "outputs": [
    {
     "data": {
      "text/plain": [
       "['a', 'c']"
      ]
     },
     "execution_count": 105,
     "metadata": {},
     "output_type": "execute_result"
    }
   ],
   "source": [
    "t = ['a', 'b', 'c']\n",
    "t.remove('b')\n",
    "t"
   ]
  },
  {
   "cell_type": "markdown",
   "id": "03bc0b99",
   "metadata": {},
   "source": [
    "### Lists and Strings :"
   ]
  },
  {
   "cell_type": "code",
   "execution_count": 117,
   "id": "fde455cd",
   "metadata": {},
   "outputs": [
    {
     "data": {
      "text/plain": [
       "['s', 'p', 'a', 'm']"
      ]
     },
     "execution_count": 117,
     "metadata": {},
     "output_type": "execute_result"
    }
   ],
   "source": [
    "s = 'spam'\n",
    "t = list(s)\n",
    "t"
   ]
  },
  {
   "cell_type": "code",
   "execution_count": 118,
   "id": "581e62d0",
   "metadata": {},
   "outputs": [
    {
     "data": {
      "text/plain": [
       "['spam', 'spam', 'spam']"
      ]
     },
     "execution_count": 118,
     "metadata": {},
     "output_type": "execute_result"
    }
   ],
   "source": [
    "s = 'spam-spam-spam'\n",
    "delimiter = '-'\n",
    "t = s.split(delimiter)\n",
    "t"
   ]
  },
  {
   "cell_type": "code",
   "execution_count": 119,
   "id": "9e838fea",
   "metadata": {},
   "outputs": [
    {
     "data": {
      "text/plain": [
       "['pining', 'for', 'the', 'fjords']"
      ]
     },
     "execution_count": 119,
     "metadata": {},
     "output_type": "execute_result"
    }
   ],
   "source": [
    "s = 'pining for the fjords'\n",
    "t = s.split()\n",
    "t"
   ]
  },
  {
   "cell_type": "code",
   "execution_count": 120,
   "id": "ebc28750",
   "metadata": {},
   "outputs": [
    {
     "data": {
      "text/plain": [
       "'pining for the fjords'"
      ]
     },
     "execution_count": 120,
     "metadata": {},
     "output_type": "execute_result"
    }
   ],
   "source": [
    "t = ['pining', 'for', 'the', 'fjords']\n",
    "delimiter = ' '\n",
    "s = delimiter.join(t)\n",
    "s"
   ]
  },
  {
   "cell_type": "markdown",
   "id": "977660bb",
   "metadata": {},
   "source": [
    "### Object and Values :"
   ]
  },
  {
   "cell_type": "code",
   "execution_count": 122,
   "id": "1ef4f0aa",
   "metadata": {},
   "outputs": [
    {
     "data": {
      "text/plain": [
       "True"
      ]
     },
     "execution_count": 122,
     "metadata": {},
     "output_type": "execute_result"
    }
   ],
   "source": [
    "a = 'banana'\n",
    "b = 'banana'\n",
    "a is b # to check whether both refer to the same object or not"
   ]
  },
  {
   "cell_type": "code",
   "execution_count": 25,
   "id": "57eb7d91",
   "metadata": {},
   "outputs": [
    {
     "data": {
      "text/plain": [
       "False"
      ]
     },
     "execution_count": 25,
     "metadata": {},
     "output_type": "execute_result"
    }
   ],
   "source": [
    "a = [1, 2, 3]\n",
    "b = [1, 2, 3]\n",
    "a is b # they are equivalent, but not identical"
   ]
  },
  {
   "cell_type": "markdown",
   "id": "332918af",
   "metadata": {},
   "source": [
    "### Aliasing :"
   ]
  },
  {
   "cell_type": "code",
   "execution_count": 125,
   "id": "0e445757",
   "metadata": {},
   "outputs": [
    {
     "data": {
      "text/plain": [
       "True"
      ]
     },
     "execution_count": 125,
     "metadata": {},
     "output_type": "execute_result"
    }
   ],
   "source": [
    "a = [1, 2, 3]\n",
    "b = a\n",
    "b is a"
   ]
  },
  {
   "cell_type": "code",
   "execution_count": 129,
   "id": "6b5fb928",
   "metadata": {},
   "outputs": [
    {
     "data": {
      "text/plain": [
       "[42, 2, 3]"
      ]
     },
     "execution_count": 129,
     "metadata": {},
     "output_type": "execute_result"
    }
   ],
   "source": [
    "b[0] = 42\n",
    "a # changing b changes a"
   ]
  },
  {
   "cell_type": "markdown",
   "id": "375ede4b",
   "metadata": {},
   "source": [
    "### List Arguments :"
   ]
  },
  {
   "cell_type": "code",
   "execution_count": 131,
   "id": "2630864d",
   "metadata": {},
   "outputs": [
    {
     "data": {
      "text/plain": [
       "['b', 'c']"
      ]
     },
     "execution_count": 131,
     "metadata": {},
     "output_type": "execute_result"
    }
   ],
   "source": [
    "def delete_head(t):\n",
    "    del t[0]\n",
    "  \n",
    "\n",
    "letters = ['a', 'b', 'c']\n",
    "delete_head(letters)\n",
    "\"\"\"\n",
    "The parameter t and the variable letters\n",
    "are aliases for the same object\n",
    "\"\"\"\n",
    "letters"
   ]
  },
  {
   "cell_type": "code",
   "execution_count": null,
   "id": "91be4972",
   "metadata": {},
   "outputs": [],
   "source": [
    "\"\"\"\n",
    "It is important to distinguish between operations\n",
    "that modify lists and operations that create new lists. \n",
    "\"\"\""
   ]
  },
  {
   "cell_type": "code",
   "execution_count": 136,
   "id": "0faacaf7",
   "metadata": {},
   "outputs": [
    {
     "name": "stdout",
     "output_type": "stream",
     "text": [
      "[1, 2, 3]\n",
      "None\n"
     ]
    }
   ],
   "source": [
    "t1 = [1, 2]\n",
    "t2 = t1.append(3) # append modifies the list\n",
    "print(t1)\n",
    "print(t2)"
   ]
  },
  {
   "cell_type": "code",
   "execution_count": 139,
   "id": "ea1cfa12",
   "metadata": {},
   "outputs": [
    {
     "name": "stdout",
     "output_type": "stream",
     "text": [
      "t1:  [1, 2, 3]\n"
     ]
    },
    {
     "data": {
      "text/plain": [
       "[1, 2, 3, 4]"
      ]
     },
     "execution_count": 139,
     "metadata": {},
     "output_type": "execute_result"
    }
   ],
   "source": [
    "t3 = t1 + [4] # leaves the original unmodified\n",
    "print(\"t1: \", t1)\n",
    "t3 "
   ]
  },
  {
   "cell_type": "code",
   "execution_count": 138,
   "id": "6c78ec29",
   "metadata": {},
   "outputs": [
    {
     "data": {
      "text/plain": [
       "[1, 2, 3]"
      ]
     },
     "execution_count": 138,
     "metadata": {},
     "output_type": "execute_result"
    }
   ],
   "source": [
    "def bad_delete_head(t):\n",
    "    t = t[1:] # WRONG!\n",
    "    \n",
    "t4 = [1, 2, 3]\n",
    "bad_delete_head(t4)\n",
    "t4"
   ]
  },
  {
   "cell_type": "code",
   "execution_count": 145,
   "id": "76eff22e",
   "metadata": {},
   "outputs": [
    {
     "name": "stdout",
     "output_type": "stream",
     "text": [
      "['b', 'c']\n",
      "['a', 'b', 'c']\n"
     ]
    }
   ],
   "source": [
    "def tail(t):\n",
    "    return t[1:]\n",
    "\n",
    "\n",
    "letters = ['a', 'b', 'c']\n",
    "rest = tail(letters)\n",
    "print(rest)\n",
    "print(letters)"
   ]
  },
  {
   "cell_type": "markdown",
   "id": "03e3738a",
   "metadata": {},
   "source": [
    "### Debugging Tips :"
   ]
  },
  {
   "cell_type": "code",
   "execution_count": null,
   "id": "73ee057a",
   "metadata": {},
   "outputs": [],
   "source": [
    "# t = t.sort() # WRONG!\n",
    "\"\"\"\n",
    "Right:\n",
    "t.append(x)\n",
    "t = t + [x]\n",
    "t += [x]\n",
    "\"\"\"\n",
    "\n",
    "\"\"\"\n",
    "t.append([x]) # WRONG!\n",
    "t = t.append(x) # WRONG!\n",
    "t + [x] # WRONG!\n",
    "t = t + x # WRONG!\n",
    "\"\"\""
   ]
  },
  {
   "cell_type": "markdown",
   "id": "a7033788",
   "metadata": {},
   "source": [
    "### Make copies to avoid aliasing"
   ]
  },
  {
   "cell_type": "code",
   "execution_count": 147,
   "id": "1a30210c",
   "metadata": {},
   "outputs": [
    {
     "data": {
      "text/plain": [
       "[3, 1, 2]"
      ]
     },
     "execution_count": 147,
     "metadata": {},
     "output_type": "execute_result"
    }
   ],
   "source": [
    "t = [3, 1, 2]\n",
    "t2 = t[:]\n",
    "t2.sort()\n",
    "t"
   ]
  },
  {
   "cell_type": "code",
   "execution_count": 148,
   "id": "b3e829a0",
   "metadata": {},
   "outputs": [
    {
     "data": {
      "text/plain": [
       "[1, 2, 3]"
      ]
     },
     "execution_count": 148,
     "metadata": {},
     "output_type": "execute_result"
    }
   ],
   "source": [
    "t2"
   ]
  },
  {
   "cell_type": "code",
   "execution_count": 149,
   "id": "774a5b90",
   "metadata": {},
   "outputs": [
    {
     "data": {
      "text/plain": [
       "[3, 1, 2]"
      ]
     },
     "execution_count": 149,
     "metadata": {},
     "output_type": "execute_result"
    }
   ],
   "source": [
    "t2 = sorted(t)\n",
    "t"
   ]
  },
  {
   "cell_type": "code",
   "execution_count": 150,
   "id": "8c339f69",
   "metadata": {},
   "outputs": [
    {
     "data": {
      "text/plain": [
       "[1, 2, 3]"
      ]
     },
     "execution_count": 150,
     "metadata": {},
     "output_type": "execute_result"
    }
   ],
   "source": [
    "t2"
   ]
  },
  {
   "cell_type": "markdown",
   "id": "a55dd80f",
   "metadata": {},
   "source": [
    "# OOP : Python for Everybody"
   ]
  },
  {
   "cell_type": "code",
   "execution_count": null,
   "id": "104dba73",
   "metadata": {},
   "outputs": [],
   "source": []
  },
  {
   "cell_type": "code",
   "execution_count": 6,
   "id": "132d937f",
   "metadata": {},
   "outputs": [
    {
     "name": "stdout",
     "output_type": "stream",
     "text": [
      "chuck\n",
      "chuck\n",
      "chuck\n"
     ]
    }
   ],
   "source": [
    "stuff = list()\n",
    "stuff.append('python')\n",
    "stuff.append('chuck')\n",
    "stuff.sort()\n",
    "print (stuff[0])\n",
    "print (stuff.__getitem__(0))\n",
    "print (list.__getitem__(stuff,0))"
   ]
  },
  {
   "cell_type": "code",
   "execution_count": 48,
   "id": "77ad76d3",
   "metadata": {},
   "outputs": [
    {
     "data": {
      "text/plain": [
       "['__add__',\n",
       " '__class__',\n",
       " '__class_getitem__',\n",
       " '__contains__',\n",
       " '__delattr__',\n",
       " '__delitem__',\n",
       " '__dir__',\n",
       " '__doc__',\n",
       " '__eq__',\n",
       " '__format__',\n",
       " '__ge__',\n",
       " '__getattribute__',\n",
       " '__getitem__',\n",
       " '__gt__',\n",
       " '__hash__',\n",
       " '__iadd__',\n",
       " '__imul__',\n",
       " '__init__',\n",
       " '__init_subclass__',\n",
       " '__iter__',\n",
       " '__le__',\n",
       " '__len__',\n",
       " '__lt__',\n",
       " '__mul__',\n",
       " '__ne__',\n",
       " '__new__',\n",
       " '__reduce__',\n",
       " '__reduce_ex__',\n",
       " '__repr__',\n",
       " '__reversed__',\n",
       " '__rmul__',\n",
       " '__setattr__',\n",
       " '__setitem__',\n",
       " '__sizeof__',\n",
       " '__str__',\n",
       " '__subclasshook__',\n",
       " 'append',\n",
       " 'clear',\n",
       " 'copy',\n",
       " 'count',\n",
       " 'extend',\n",
       " 'index',\n",
       " 'insert',\n",
       " 'pop',\n",
       " 'remove',\n",
       " 'reverse',\n",
       " 'sort']"
      ]
     },
     "execution_count": 48,
     "metadata": {},
     "output_type": "execute_result"
    }
   ],
   "source": [
    "stuff = list()\n",
    "dir(stuff)"
   ]
  },
  {
   "cell_type": "markdown",
   "id": "744afd78",
   "metadata": {},
   "source": [
    "### Creating Class and Object :"
   ]
  },
  {
   "cell_type": "code",
   "execution_count": 53,
   "id": "f688fa26",
   "metadata": {},
   "outputs": [
    {
     "name": "stdout",
     "output_type": "stream",
     "text": [
      "So far 1\n",
      "So far 2\n",
      "So far 3\n",
      "So far 4\n"
     ]
    }
   ],
   "source": [
    "class MyFirstClass:\n",
    "    \n",
    "    x = 0\n",
    "    \n",
    "    def party(self) :\n",
    "        self.x = self.x + 1 \n",
    "        print(\"So far\",self.x)\n",
    "        \n",
    "\n",
    "\"\"\"\n",
    "When the party method is called, the first parameter\n",
    "(which we call by convention self) points to the\n",
    "particular instance of the MyFirstClass object that\n",
    "party is called from within. This syntax using the\n",
    "‘dot’ operator is saying ‘the x within self’. So each\n",
    "time party() is called, the internal x value is \n",
    "incremented by 1 and the value is printed out.\n",
    "\"\"\"  \n",
    "\n",
    "an = MyFirstClass()\n",
    "an.party()\n",
    "an.party()\n",
    "an.party()\n",
    "MyFirstClass.party(an)"
   ]
  },
  {
   "cell_type": "code",
   "execution_count": 54,
   "id": "a319fc60",
   "metadata": {},
   "outputs": [
    {
     "data": {
      "text/plain": [
       "4"
      ]
     },
     "execution_count": 54,
     "metadata": {},
     "output_type": "execute_result"
    }
   ],
   "source": [
    "def increment(a):\n",
    "    return a+1\n",
    "\n",
    "increment(3)"
   ]
  },
  {
   "cell_type": "code",
   "execution_count": 55,
   "id": "4831504a",
   "metadata": {},
   "outputs": [
    {
     "name": "stdout",
     "output_type": "stream",
     "text": [
      "Orange created!\n",
      "<class '__main__.Orange'>\n",
      "<__main__.Orange object at 0x124914af0>\n"
     ]
    }
   ],
   "source": [
    "class Orange:\n",
    "    \n",
    "    print(\"Orange created!\")\n",
    "    \n",
    "    def print_orange(self):\n",
    "        print(self)\n",
    "    \n",
    "  \n",
    "new_orange = Orange()\n",
    "print(type(new_orange))\n",
    "print(new_orange)"
   ]
  },
  {
   "cell_type": "code",
   "execution_count": 56,
   "id": "00781671",
   "metadata": {},
   "outputs": [
    {
     "name": "stdout",
     "output_type": "stream",
     "text": [
      "Orange created!\n",
      "<__main__.Orange object at 0x1243a2470>\n",
      "Orange\n",
      "10\n"
     ]
    }
   ],
   "source": [
    "class Orange:\n",
    "    \n",
    "    print(\"Orange created!\")\n",
    "    \n",
    "    def __init__(self):\n",
    "        \n",
    "        self.color = \"Orange\"\n",
    "        self.weight = 10\n",
    "        \n",
    "    def print_orange(self):\n",
    "        print(self)\n",
    "        print(self.color)\n",
    "        print(self.weight)\n",
    "      \n",
    "    \n",
    "new_orange = Orange()\n",
    "new_orange.print_orange()"
   ]
  },
  {
   "cell_type": "code",
   "execution_count": 57,
   "id": "3630c585",
   "metadata": {},
   "outputs": [
    {
     "name": "stdout",
     "output_type": "stream",
     "text": [
      "orange\n",
      "20\n",
      "100\n"
     ]
    }
   ],
   "source": [
    "class Orange:\n",
    "    \n",
    "    def __init__(self,color,weight):\n",
    "        \n",
    "        \"\"\"\n",
    "        All weights are in oz\n",
    "        \"\"\"\n",
    "        self.color = color\n",
    "        self.weight = weight\n",
    "\n",
    "        \n",
    "new_orange = Orange('orange',20)\n",
    "print(new_orange.color)\n",
    "print(new_orange.weight)\n",
    "new_orange.weight = 100\n",
    "print(new_orange.weight)"
   ]
  },
  {
   "cell_type": "code",
   "execution_count": 58,
   "id": "fa0f29ef",
   "metadata": {},
   "outputs": [
    {
     "name": "stdout",
     "output_type": "stream",
     "text": [
      "6\n",
      "orange\n",
      "0\n",
      "98.0\n"
     ]
    }
   ],
   "source": [
    "class Orange:\n",
    "    \n",
    "    def __init__(self):\n",
    "        \n",
    "        \"\"\"\n",
    "        All weights are in oz\n",
    "        \"\"\"\n",
    "        self.weight = 6\n",
    "        self.color = 'orange'\n",
    "        self.mold = 0\n",
    "        \n",
    "    def rot(self,days,temperature):\n",
    "            self.mold = days*(temperature*0.1)\n",
    "    \n",
    "    \n",
    "new_orange = Orange()\n",
    "print(new_orange.weight)\n",
    "print(new_orange.color)\n",
    "print(new_orange.mold)\n",
    "new_orange.rot(10,98)\n",
    "print(new_orange.mold)"
   ]
  },
  {
   "cell_type": "markdown",
   "id": "6a9bd0a3",
   "metadata": {},
   "source": [
    "# Doing Math With Python :"
   ]
  },
  {
   "cell_type": "code",
   "execution_count": 1,
   "id": "9c6f1650",
   "metadata": {},
   "outputs": [
    {
     "data": {
      "text/plain": [
       "2.0"
      ]
     },
     "execution_count": 1,
     "metadata": {},
     "output_type": "execute_result"
    }
   ],
   "source": [
    "8**(1/3)"
   ]
  },
  {
   "cell_type": "code",
   "execution_count": 2,
   "id": "40a907e3",
   "metadata": {},
   "outputs": [
    {
     "data": {
      "text/plain": [
       "Fraction(3, 4)"
      ]
     },
     "execution_count": 2,
     "metadata": {},
     "output_type": "execute_result"
    }
   ],
   "source": [
    "from fractions import Fraction\n",
    "f = Fraction(3, 4)\n",
    "f"
   ]
  },
  {
   "cell_type": "markdown",
   "id": "2b92117a",
   "metadata": {},
   "source": [
    "### Complex Numbers :"
   ]
  },
  {
   "cell_type": "code",
   "execution_count": 9,
   "id": "8dcbbce5",
   "metadata": {},
   "outputs": [
    {
     "data": {
      "text/plain": [
       "complex"
      ]
     },
     "execution_count": 9,
     "metadata": {},
     "output_type": "execute_result"
    }
   ],
   "source": [
    "a = 2 + 3j\n",
    "type(a)"
   ]
  },
  {
   "cell_type": "code",
   "execution_count": 19,
   "id": "f6c58672",
   "metadata": {},
   "outputs": [
    {
     "data": {
      "text/plain": [
       "(2-3j)"
      ]
     },
     "execution_count": 19,
     "metadata": {},
     "output_type": "execute_result"
    }
   ],
   "source": [
    "a = complex(2, 3)\n",
    "a.conjugate()"
   ]
  },
  {
   "cell_type": "code",
   "execution_count": 21,
   "id": "a7d4d67f",
   "metadata": {},
   "outputs": [
    {
     "data": {
      "text/plain": [
       "2.0"
      ]
     },
     "execution_count": 21,
     "metadata": {},
     "output_type": "execute_result"
    }
   ],
   "source": [
    "a.real"
   ]
  },
  {
   "cell_type": "code",
   "execution_count": 22,
   "id": "32a69d51",
   "metadata": {},
   "outputs": [
    {
     "data": {
      "text/plain": [
       "3.0"
      ]
     },
     "execution_count": 22,
     "metadata": {},
     "output_type": "execute_result"
    }
   ],
   "source": [
    "a.imag"
   ]
  },
  {
   "cell_type": "code",
   "execution_count": 24,
   "id": "29fa168c",
   "metadata": {},
   "outputs": [
    {
     "data": {
      "text/plain": [
       "3.605551275463989"
      ]
     },
     "execution_count": 24,
     "metadata": {},
     "output_type": "execute_result"
    }
   ],
   "source": [
    "abs(a)"
   ]
  },
  {
   "cell_type": "markdown",
   "id": "69b2472e",
   "metadata": {},
   "source": [
    "### Handling Exceptions and Invalid Input :"
   ]
  },
  {
   "cell_type": "code",
   "execution_count": 26,
   "id": "f06a14e5",
   "metadata": {},
   "outputs": [
    {
     "name": "stdout",
     "output_type": "stream",
     "text": [
      "Enter a number: 3/4\n",
      "You entered an invalid number\n"
     ]
    }
   ],
   "source": [
    "try:\n",
    "    a = float(input('Enter a number: '))\n",
    "except ValueError:\n",
    "    print('You entered an invalid number')"
   ]
  },
  {
   "cell_type": "code",
   "execution_count": 28,
   "id": "fbefb1b5",
   "metadata": {},
   "outputs": [
    {
     "name": "stdout",
     "output_type": "stream",
     "text": [
      "Enter a fraction: 3/0\n",
      "Invalid fraction\n"
     ]
    }
   ],
   "source": [
    "try:\n",
    "    a = Fraction(input('Enter a fraction: '))\n",
    "except ZeroDivisionError:\n",
    "    print('Invalid fraction')"
   ]
  },
  {
   "cell_type": "code",
   "execution_count": 29,
   "id": "7af13b18",
   "metadata": {},
   "outputs": [
    {
     "name": "stdout",
     "output_type": "stream",
     "text": [
      "1\n",
      "2\n",
      "3\n"
     ]
    }
   ],
   "source": [
    "for i in range(1, 4):\n",
    "    print(i)"
   ]
  },
  {
   "cell_type": "code",
   "execution_count": 30,
   "id": "92581f14",
   "metadata": {},
   "outputs": [
    {
     "name": "stdout",
     "output_type": "stream",
     "text": [
      "0\n",
      "1\n",
      "2\n",
      "3\n",
      "4\n"
     ]
    }
   ],
   "source": [
    "for i in range(5):\n",
    "    print(i)"
   ]
  },
  {
   "cell_type": "code",
   "execution_count": 31,
   "id": "5e23e93e",
   "metadata": {},
   "outputs": [
    {
     "name": "stdout",
     "output_type": "stream",
     "text": [
      "1\n",
      "3\n",
      "5\n",
      "7\n",
      "9\n"
     ]
    }
   ],
   "source": [
    "for i in range(1,10,2):\n",
    "    print(i)"
   ]
  },
  {
   "cell_type": "code",
   "execution_count": 101,
   "id": "f884224e",
   "metadata": {},
   "outputs": [
    {
     "name": "stdout",
     "output_type": "stream",
     "text": [
      "Your Number Please: 25\n",
      "1\n",
      "5\n",
      "25\n"
     ]
    }
   ],
   "source": [
    "'''\n",
    "Find the factors of an integer\n",
    "'''\n",
    "\n",
    "def factors(x):\n",
    "    for i in range(1, x+1):\n",
    "        if x % i == 0:\n",
    "            print(i)\n",
    "            \n",
    "if __name__ == '__main__':\n",
    "    \n",
    "    b = input('Your Number Please: ')\n",
    "    b = float(b)\n",
    "    \n",
    "    if b > 0 and b.is_integer():\n",
    "        factors(int(b))\n",
    "    else:\n",
    "        print('Please enter a positive integer')"
   ]
  },
  {
   "cell_type": "code",
   "execution_count": 28,
   "id": "24e92333",
   "metadata": {},
   "outputs": [
    {
     "name": "stdout",
     "output_type": "stream",
     "text": [
      "Enter a: 2\n",
      "Enter b: 2\n",
      "Enter c: 2\n",
      "x1: (-0.49999999999999994+0.8660254037844386j)\n",
      "x2: (-0.5-0.8660254037844386j)\n"
     ]
    }
   ],
   "source": [
    "'''\n",
    "Quadratic equation root calculator\n",
    "'''\n",
    "def roots(a, b, c):\n",
    "    \n",
    "    D = (b*b - 4*a*c)**0.5\n",
    "    x_1 = (-b + D)/(2*a)\n",
    "    x_2 = (-b - D)/(2*a)\n",
    "    print('x1: {0}'.format(x_1))\n",
    "    print('x2: {0}'.format(x_2))\n",
    "    \n",
    "if __name__ == '__main__':\n",
    "    \n",
    "    a = input('Enter a: ')\n",
    "    b = input('Enter b: ')\n",
    "    c = input('Enter c: ')\n",
    "\n",
    "    roots(float(a), float(b), float(c))"
   ]
  },
  {
   "cell_type": "code",
   "execution_count": 37,
   "id": "0d4886be",
   "metadata": {},
   "outputs": [
    {
     "name": "stdout",
     "output_type": "stream",
     "text": [
      "I am in an endless loop\n",
      "Do you want to exit? (y) for yes n\n",
      "I am in an endless loop\n",
      "Do you want to exit? (y) for yes n\n",
      "I am in an endless loop\n",
      "Do you want to exit? (y) for yes n\n",
      "I am in an endless loop\n",
      "Do you want to exit? (y) for yes n\n",
      "I am in an endless loop\n",
      "Do you want to exit? (y) for yes y\n"
     ]
    }
   ],
   "source": [
    "'''\n",
    "Run until exit layout\n",
    "'''\n",
    "def fun():\n",
    "    print('I am in an endless loop')\n",
    "    \n",
    "if __name__ == '__main__':\n",
    "    while True:\n",
    "        fun()\n",
    "        answer = input('Do you want to exit? (y) for yes ')\n",
    "        if answer == 'y':\n",
    "            break"
   ]
  },
  {
   "cell_type": "code",
   "execution_count": 2,
   "id": "7678bfcf",
   "metadata": {},
   "outputs": [
    {
     "data": {
      "text/plain": [
       "1"
      ]
     },
     "execution_count": 2,
     "metadata": {},
     "output_type": "execute_result"
    }
   ],
   "source": [
    "simplelist = [1, 2, 3]\n",
    "simplelist[0]"
   ]
  },
  {
   "cell_type": "code",
   "execution_count": 3,
   "id": "52c644fe",
   "metadata": {},
   "outputs": [
    {
     "data": {
      "text/plain": [
       "[1, 2, 3]"
      ]
     },
     "execution_count": 3,
     "metadata": {},
     "output_type": "execute_result"
    }
   ],
   "source": [
    "emptylist = []\n",
    "emptylist.append(1)\n",
    "emptylist.append(2)\n",
    "emptylist.append(3)\n",
    "emptylist"
   ]
  },
  {
   "cell_type": "code",
   "execution_count": 4,
   "id": "6f972547",
   "metadata": {},
   "outputs": [
    {
     "data": {
      "text/plain": [
       "3"
      ]
     },
     "execution_count": 4,
     "metadata": {},
     "output_type": "execute_result"
    }
   ],
   "source": [
    "simpletuple = (1, 2, 3)\n",
    "simpletuple[2]"
   ]
  },
  {
   "cell_type": "markdown",
   "id": "e6ec53fd",
   "metadata": {},
   "source": [
    "### Iterating overa list or tuple :"
   ]
  },
  {
   "cell_type": "code",
   "execution_count": 5,
   "id": "bf790308",
   "metadata": {},
   "outputs": [
    {
     "name": "stdout",
     "output_type": "stream",
     "text": [
      "1\n",
      "2\n",
      "3\n"
     ]
    }
   ],
   "source": [
    "list = [1, 2, 3]\n",
    "\n",
    "for item in list:\n",
    "    print(item)"
   ]
  },
  {
   "cell_type": "code",
   "execution_count": 6,
   "id": "40c6a98e",
   "metadata": {},
   "outputs": [
    {
     "name": "stdout",
     "output_type": "stream",
     "text": [
      "0 1\n",
      "1 2\n",
      "2 3\n"
     ]
    }
   ],
   "source": [
    "l = [1, 2, 3]\n",
    "\n",
    "for index, item in enumerate(l):\n",
    "    print(index, item)"
   ]
  },
  {
   "cell_type": "markdown",
   "id": "9fc79c56",
   "metadata": {},
   "source": [
    "### Creating Graphs with Matplotlib : "
   ]
  },
  {
   "cell_type": "code",
   "execution_count": 1,
   "id": "03511c1e",
   "metadata": {},
   "outputs": [
    {
     "data": {
      "image/png": "[encoded data removed]",
      "text/plain": [
       "<Figure size 640x480 with 1 Axes>"
      ]
     },
     "metadata": {},
     "output_type": "display_data"
    }
   ],
   "source": [
    "x_numbers = [1, 2, 3]\n",
    "y_numbers = [2, 4, 6]\n",
    "from pylab import plot,show\n",
    "plot(x_numbers, y_numbers, marker='o')\n",
    "\n",
    "\"\"\"\n",
    "The plot() function only creates the graph.\n",
    "To actually display it, we have to call the\n",
    "show() function\n",
    "\"\"\"\n",
    "show()"
   ]
  },
  {
   "cell_type": "code",
   "execution_count": 11,
   "id": "9c696cd9",
   "metadata": {},
   "outputs": [
    {
     "data": {
      "text/plain": [
       "[<matplotlib.lines.Line2D at 0x109ed5c60>]"
      ]
     },
     "execution_count": 11,
     "metadata": {},
     "output_type": "execute_result"
    },
    {
     "data": {
      "image/png": "[encoded data removed]",
      "text/plain": [
       "<Figure size 640x480 with 1 Axes>"
      ]
     },
     "metadata": {},
     "output_type": "display_data"
    }
   ],
   "source": [
    "temperature = [53.9, 56.3, 56.4, 53.4, 54.5, 55.8, 56.8, 55.0, 55.3, 54.0, 56.7, 56.4, 57.3]\n",
    "plot(temperature, marker='o')"
   ]
  },
  {
   "cell_type": "code",
   "execution_count": 12,
   "id": "f602de0b",
   "metadata": {},
   "outputs": [
    {
     "data": {
      "image/png": "[encoded data removed]",
      "text/plain": [
       "<Figure size 640x480 with 1 Axes>"
      ]
     },
     "metadata": {},
     "output_type": "display_data"
    }
   ],
   "source": [
    "temp = [53.9, 56.3, 56.4, 53.4, 54.5, 55.8, 56.8, 55.0, 55.3, 54.0, 56.7, 56.4, 57.3]\n",
    "years = range(2000, 2013)\n",
    "plot(years,temp, marker='o')\n",
    "show()"
   ]
  },
  {
   "cell_type": "code",
   "execution_count": 3,
   "id": "b4942837",
   "metadata": {},
   "outputs": [
    {
     "data": {
      "text/plain": [
       "<matplotlib.legend.Legend at 0x10f66a8f0>"
      ]
     },
     "execution_count": 3,
     "metadata": {},
     "output_type": "execute_result"
    },
    {
     "data": {
      "image/png": "[encoded data removed]",
      "text/plain": [
       "<Figure size 640x480 with 1 Axes>"
      ]
     },
     "metadata": {},
     "output_type": "display_data"
    }
   ],
   "source": [
    "temp_2000 = [31.3, 37.3, 47.2, 51.0, 63.5, 71.3, 72.3, 72.7, 66.0, 57.0, 45.3, 31.1]\n",
    "temp_2006 = [40.9, 35.7, 43.1, 55.7, 63.1, 71.0, 77.9, 75.8, 66.6, 56.2, 51.9, 43.6]\n",
    "temp_2012 = [37.3, 40.9, 50.9, 54.8, 65.1, 71.0, 78.8, 76.7, 68.8, 58.0, 43.9, 41.5]\n",
    "months = range(1,13)\n",
    "plot(months, temp_2000, months, temp_2006, months, temp_2012)\n",
    "from pylab import legend\n",
    "legend([2000, 2006, 2012])"
   ]
  },
  {
   "cell_type": "code",
   "execution_count": 5,
   "id": "4a5785ee",
   "metadata": {},
   "outputs": [
    {
     "data": {
      "text/plain": [
       "(0.44999999999999996, 12.55, 28.0, 81.185)"
      ]
     },
     "execution_count": 5,
     "metadata": {},
     "output_type": "execute_result"
    },
    {
     "data": {
      "image/png": "[encoded data removed]",
      "text/plain": [
       "<Figure size 640x480 with 1 Axes>"
      ]
     },
     "metadata": {},
     "output_type": "display_data"
    }
   ],
   "source": [
    "from pylab import legend\n",
    "from pylab import plot, show, title, xlabel, ylabel, legend\n",
    "from pylab import axis\n",
    "months = range(1,13)\n",
    "plot(months, temp_2000, months, temp_2006, months, temp_2012, marker=\"o\")\n",
    "title('Average monthly temperature')\n",
    "xlabel('Month')\n",
    "ylabel('Temperature')\n",
    "legend([2000, 2006, 2012])\n",
    "axis(ymin=28)"
   ]
  },
  {
   "cell_type": "markdown",
   "id": "146522f0",
   "metadata": {},
   "source": [
    "### Customizing Axes :"
   ]
  },
  {
   "cell_type": "code",
   "execution_count": 23,
   "id": "94be8422",
   "metadata": {},
   "outputs": [
    {
     "data": {
      "text/plain": [
       "(-0.6000000000000001, 12.6, 53.0, 57.495)"
      ]
     },
     "execution_count": 23,
     "metadata": {},
     "output_type": "execute_result"
    },
    {
     "data": {
      "image/png": "[encoded data removed]",
      "text/plain": [
       "<Figure size 640x480 with 1 Axes>"
      ]
     },
     "metadata": {},
     "output_type": "display_data"
    }
   ],
   "source": [
    "temp = [53.9, 56.3, 56.4, 53.4, 54.5, 55.8, 56.8, 55.0, 55.3, 54.0, 56.7, 56.4, 57.3]\n",
    "plot(temp, marker='o')\n",
    "from pylab import axis\n",
    "axis(ymin=53)"
   ]
  },
  {
   "cell_type": "code",
   "execution_count": 24,
   "id": "c713c3c0",
   "metadata": {},
   "outputs": [
    {
     "data": {
      "image/png": "[encoded data removed]",
      "text/plain": [
       "<Figure size 640x480 with 1 Axes>"
      ]
     },
     "metadata": {},
     "output_type": "display_data"
    }
   ],
   "source": [
    "'''\n",
    "Simple plot using pyplot\n",
    "'''\n",
    "\n",
    "from pylab import*\n",
    "import matplotlib.pyplot as plt\n",
    "\n",
    "# savefig('/Users/mdgolammafuz/DESKTOP/Code/mygraph.png')\n",
    "\n",
    "def create_graph():\n",
    "    \n",
    "    x_numbers = [1, 2, 3]\n",
    "    y_numbers = [2, 4, 6]\n",
    "    plt.plot(x_numbers, y_numbers)\n",
    "    \n",
    "if __name__ == '__main__':\n",
    "    create_graph()"
   ]
  },
  {
   "cell_type": "code",
   "execution_count": 33,
   "id": "d4b5f305",
   "metadata": {},
   "outputs": [
    {
     "data": {
      "image/png": "[encoded data removed]",
      "text/plain": [
       "<Figure size 640x480 with 1 Axes>"
      ]
     },
     "metadata": {},
     "output_type": "display_data"
    }
   ],
   "source": [
    "'''\n",
    "The relationship between gravitational force and\n",
    "distance between two bodies\n",
    "'''\n",
    "import matplotlib.pyplot as plt\n",
    "\n",
    "# Draw the graph\n",
    "\n",
    "def draw_graph(x, y):\n",
    "    plt.plot(x, y, marker='o')\n",
    "    plt.xlabel('Distance in meters')\n",
    "    plt.ylabel('Gravitational force in newtons')\n",
    "    plt.title('Gravitational force and distance')\n",
    "    plt.show()\n",
    "    \n",
    "def generate_F_r():\n",
    "    \n",
    "    # Generate values for r\n",
    "\n",
    "    r = range(100, 1001, 50)\n",
    "    \n",
    "    # Empty list to store the calculated values of F\n",
    "    F = []\n",
    "    \n",
    "    # Constant, G\n",
    "    G = 6.674*(10**-11)\n",
    "    \n",
    "    # Two masses\n",
    "    m1 = 0.5\n",
    "    m2 = 1.5\n",
    "    \n",
    "    # Calculate force and add it to the list, F\n",
    "    \n",
    "    for dist in r:\n",
    "        force = G*(m1*m2)/(dist**2)\n",
    "        F.append(force)\n",
    "        \n",
    "    # Call the draw_graph function\n",
    "    draw_graph(r, F)\n",
    "    \n",
    "if __name__=='__main__':\n",
    "    \n",
    "    generate_F_r()"
   ]
  },
  {
   "cell_type": "markdown",
   "id": "a48d07af",
   "metadata": {},
   "source": [
    "### Generate equally spaced floating point numbers :"
   ]
  },
  {
   "cell_type": "code",
   "execution_count": 36,
   "id": "7715e07c",
   "metadata": {},
   "outputs": [
    {
     "data": {
      "text/plain": [
       "[0,\n",
       " 0.1,\n",
       " 0.2,\n",
       " 0.30000000000000004,\n",
       " 0.4,\n",
       " 0.5,\n",
       " 0.6,\n",
       " 0.7,\n",
       " 0.7999999999999999,\n",
       " 0.8999999999999999,\n",
       " 0.9999999999999999]"
      ]
     },
     "execution_count": 36,
     "metadata": {},
     "output_type": "execute_result"
    }
   ],
   "source": [
    "def frange(start, final, increment):\n",
    "    \n",
    "    numbers = []\n",
    "    \n",
    "    while start < final:\n",
    "        \n",
    "        numbers.append(start)\n",
    "        start = start + increment\n",
    "        \n",
    "    return numbers\n",
    "\n",
    "frange(0,1,0.1)"
   ]
  },
  {
   "cell_type": "code",
   "execution_count": 32,
   "id": "91b62468",
   "metadata": {},
   "outputs": [
    {
     "name": "stdout",
     "output_type": "stream",
     "text": [
      "Enter the initial velocity (m/s): 5\n",
      "Enter the angle of projection (degrees): 45\n"
     ]
    },
    {
     "data": {
      "image/png": "[encoded data removed]",
      "text/plain": [
       "<Figure size 640x480 with 1 Axes>"
      ]
     },
     "metadata": {},
     "output_type": "display_data"
    }
   ],
   "source": [
    "'''\n",
    "Draw the trajectory of a body in projectile motion\n",
    "'''\n",
    "\n",
    "from matplotlib import pyplot as plt\n",
    "import math\n",
    "\n",
    "def draw_graph(x,y):\n",
    "    \n",
    "    plt.plot(x, y)\n",
    "    plt.xlabel('x-coordinate')\n",
    "    plt.ylabel('y-coordinate')\n",
    "    plt.title('Projectile motion of a ball')\n",
    "    \n",
    "def frange(start,final,interval):\n",
    "    \n",
    "    numbers = []\n",
    "    \n",
    "    while start < final:\n",
    "        numbers.append(start)\n",
    "        start = start + interval\n",
    "    return numbers\n",
    "\n",
    "def draw_trajectory(u,theta):\n",
    "    \n",
    "    theta = math.radians(theta)\n",
    "    g = 9.8\n",
    "    \n",
    "    #Time of flight:\n",
    "    \n",
    "    t_flight = 2*u*math.sin(theta)/g\n",
    "    \n",
    "    #Find time intervals:\n",
    "    \n",
    "    intervals = frange(0, t_flight, 0.001)\n",
    "    \n",
    "    #List of x and y coordinates:\n",
    "    \n",
    "    x = []\n",
    "    y = []\n",
    "    \n",
    "    for t in intervals:\n",
    "        \n",
    "        x.append(u*math.cos(theta)*t)\n",
    "        y.append(u*math.sin(theta)*t - 0.5*g*t*t)\n",
    "        \n",
    "    draw_graph(x, y)\n",
    "    \n",
    "if __name__ == '__main__':\n",
    "    \n",
    "    try:\n",
    "        u = float(input('Enter the initial velocity (m/s): '))\n",
    "        theta = float(input('Enter the angle of projection (degrees): '))\n",
    "    except ValueError:\n",
    "        print('You entered an invalid input')\n",
    "    else:\n",
    "        draw_trajectory(u, theta)\n",
    "        plt.show()"
   ]
  },
  {
   "cell_type": "code",
   "execution_count": 110,
   "id": "631570b7",
   "metadata": {},
   "outputs": [
    {
     "data": {
      "image/png": "[encoded data removed]",
      "text/plain": [
       "<Figure size 640x480 with 1 Axes>"
      ]
     },
     "metadata": {},
     "output_type": "display_data"
    }
   ],
   "source": [
    "# List of three different initial velocities\n",
    "\n",
    "def draw_trajectory(u, theta):\n",
    "    theta = math.radians(theta)\n",
    "    g = 9.8\n",
    "    \n",
    "    #Time of flight:\n",
    "    \n",
    "    t_flight = 2*u*math.sin(theta)/g\n",
    "    \n",
    "    #Find time intervals:\n",
    "    \n",
    "    intervals = frange(0, t_flight, 0.001)\n",
    "    \n",
    "    #List of x and y coordinates:\n",
    "    \n",
    "    x = []\n",
    "    y = []\n",
    "    \n",
    "    for t in intervals:\n",
    "        \n",
    "        x.append(u*math.cos(theta)*t)\n",
    "        y.append(u*math.sin(theta)*t - 0.5*g*t*t)\n",
    "        \n",
    "    draw_graph(x, y)\n",
    "    \n",
    "\n",
    "    \n",
    "if __name__ == '__main__':\n",
    "    \n",
    "    u_list = [20, 40, 60]\n",
    "    theta = 45\n",
    "    \n",
    "    for item in u_list:\n",
    "        draw_trajectory(item, theta)\n",
    "        \n",
    "    # Add a legend and show the graph\n",
    "    plt.legend(['20', '40', '60'])\n",
    "    plt.show()\n",
    "    "
   ]
  },
  {
   "cell_type": "markdown",
   "id": "4838fc1e",
   "metadata": {},
   "source": [
    "# Data Visualization : "
   ]
  },
  {
   "cell_type": "markdown",
   "id": "f4b9a1db",
   "metadata": {},
   "source": [
    "###  Plotting a simple line graph :"
   ]
  },
  {
   "cell_type": "code",
   "execution_count": 4,
   "id": "49ee805c",
   "metadata": {},
   "outputs": [
    {
     "data": {
      "image/png": "[encoded data removed]",
      "text/plain": [
       "<Figure size 640x480 with 1 Axes>"
      ]
     },
     "metadata": {},
     "output_type": "display_data"
    }
   ],
   "source": [
    "\n",
    "import matplotlib.pyplot as plt\n",
    "squares = [1, 4, 9, 16, 25]\n",
    "plt.plot(squares)\n",
    "plt.show()"
   ]
  },
  {
   "cell_type": "markdown",
   "id": "e664c836",
   "metadata": {},
   "source": [
    "### Changing the Label Type and Graph Thickness :"
   ]
  },
  {
   "cell_type": "code",
   "execution_count": 15,
   "id": "ddac9469",
   "metadata": {},
   "outputs": [
    {
     "data": {
      "image/png": "[encoded data removed]",
      "text/plain": [
       "<Figure size 640x480 with 1 Axes>"
      ]
     },
     "metadata": {},
     "output_type": "display_data"
    }
   ],
   "source": [
    "import matplotlib.pyplot as plt\n",
    "squares = [1, 4, 9, 16, 25]\n",
    "plt.plot(squares, linewidth=1)\n",
    "\n",
    "# Set chart title and label axes:\n",
    "\n",
    "plt.title(\"Square Numbers\", fontsize=12)\n",
    "plt.xlabel(\"Value\", fontsize=7)\n",
    "plt.ylabel(\"Square of Value\", fontsize=7)\n",
    "\n",
    "# Set size of tick labels:\n",
    "plt.tick_params(axis='both', labelsize=7)"
   ]
  },
  {
   "cell_type": "markdown",
   "id": "d96d11be",
   "metadata": {},
   "source": [
    "### Correcting the plot :"
   ]
  },
  {
   "cell_type": "code",
   "execution_count": 13,
   "id": "b47beef5",
   "metadata": {},
   "outputs": [
    {
     "data": {
      "image/png": "[encoded data removed]",
      "text/plain": [
       "<Figure size 640x480 with 1 Axes>"
      ]
     },
     "metadata": {},
     "output_type": "display_data"
    }
   ],
   "source": [
    "import matplotlib.pyplot as plt\n",
    "input_values = [1, 2, 3, 4, 5]\n",
    "squares = [1, 4, 9, 16, 25]\n",
    "plt.plot(input_values, squares, linewidth=2)\n",
    "# Set chart title and label axes:\n",
    "\n",
    "plt.title(\"Square Numbers\", fontsize=12)\n",
    "plt.xlabel(\"Value\", fontsize=7)\n",
    "plt.ylabel(\"Square of Value\", fontsize=7)\n",
    "\n",
    "# Set size of tick labels:\n",
    "plt.tick_params(axis='both', labelsize=7)"
   ]
  },
  {
   "cell_type": "markdown",
   "id": "7d26ebf8",
   "metadata": {},
   "source": [
    "### Plotting and Styling Individual Points with scatter() :"
   ]
  },
  {
   "cell_type": "code",
   "execution_count": 16,
   "id": "ca940340",
   "metadata": {},
   "outputs": [
    {
     "data": {
      "image/png": "[encoded data removed]",
      "text/plain": [
       "<Figure size 640x480 with 1 Axes>"
      ]
     },
     "metadata": {},
     "output_type": "display_data"
    }
   ],
   "source": [
    "import matplotlib.pyplot as plt\n",
    "plt.scatter(2, 4, s=200)\n",
    "# Set chart title and label axes.\n",
    "plt.title(\"Square Numbers\", fontsize=24)\n",
    "plt.xlabel(\"Value\", fontsize=14)\n",
    "plt.ylabel(\"Square of Value\", fontsize=14)\n",
    "# Set size of tick labels.\n",
    "plt.tick_params(axis='both', which='major', labelsize=14)\n",
    "plt.show()"
   ]
  },
  {
   "cell_type": "code",
   "execution_count": 24,
   "id": "de400282",
   "metadata": {},
   "outputs": [
    {
     "name": "stderr",
     "output_type": "stream",
     "text": [
      "/var/folders/5v/jgblmv2j1px1sz8pnpx8jqxh0000gn/T/ipykernel_1691/4106320684.py:6: UserWarning: *c* argument looks like a single numeric RGB or RGBA sequence, which should be avoided as value-mapping will have precedence in case its length matches with *x* & *y*.  Please use the *color* keyword-argument or provide a 2D array with a single row if you intend to specify the same RGB or RGBA value for all points.\n",
      "  plt.scatter(x_values, y_values, c=(0, 0.8, 0.8), edgecolor='none', s=40)\n"
     ]
    },
    {
     "data": {
      "image/png": "[encoded data removed]",
      "text/plain": [
       "<Figure size 640x480 with 1 Axes>"
      ]
     },
     "metadata": {},
     "output_type": "display_data"
    }
   ],
   "source": [
    "# Plotting a Series of Points with scatter()\n",
    "\n",
    "import matplotlib.pyplot as plt\n",
    "x_values = [1, 2, 3, 4, 5]\n",
    "y_values = [1, 4, 9, 16, 25]\n",
    "plt.scatter(x_values, y_values, c=(0, 0.8, 0.8), edgecolor='none', s=40)\n",
    "# Set chart title and label axes.\n",
    "plt.title(\"Square Numbers\", fontsize=24)\n",
    "plt.xlabel(\"Value\", fontsize=14)\n",
    "plt.ylabel(\"Square of Value\", fontsize=14)\n",
    "# Set size of tick labels.\n",
    "plt.tick_params(axis='both', which='major', labelsize=14)\n",
    "plt.show()"
   ]
  },
  {
   "cell_type": "code",
   "execution_count": 22,
   "id": "168922f8",
   "metadata": {},
   "outputs": [
    {
     "data": {
      "text/plain": [
       "<function matplotlib.pyplot.show(close=None, block=None)>"
      ]
     },
     "execution_count": 22,
     "metadata": {},
     "output_type": "execute_result"
    },
    {
     "data": {
      "image/png": "[encoded data removed]",
      "text/plain": [
       "<Figure size 640x480 with 1 Axes>"
      ]
     },
     "metadata": {},
     "output_type": "display_data"
    }
   ],
   "source": [
    "import matplotlib.pyplot as plt\n",
    "x_values = list(range(1, 1001))\n",
    "y_values = [x**2 for x in x_values]\n",
    "plt.scatter(x_values, y_values, edgecolor='none',s=10)\n",
    "\n",
    "# Set chart title and label axes.\n",
    "# Set chart title and label axes.\n",
    "plt.title(\"Square Numbers\", fontsize=12)\n",
    "plt.xlabel(\"Value\", fontsize=6)\n",
    "plt.ylabel(\"Square of Value\", fontsize=6)\n",
    "\n",
    "# Set the range for each axis.\n",
    "plt.axis([0, 1100, 0, 1100000])\n",
    "plt.show"
   ]
  },
  {
   "cell_type": "code",
   "execution_count": 26,
   "id": "76664fdb",
   "metadata": {},
   "outputs": [
    {
     "data": {
      "image/png": "[encoded data removed]",
      "text/plain": [
       "<Figure size 640x480 with 1 Axes>"
      ]
     },
     "metadata": {},
     "output_type": "display_data"
    }
   ],
   "source": [
    "import matplotlib.pyplot as plt\n",
    "x_values = list(range(1001))\n",
    "y_values = [x**2 for x in x_values]\n",
    "plt.scatter(x_values, y_values, c=y_values, cmap=plt.cm.Blues,\n",
    "edgecolor='none', s=10)\n",
    "# Set chart title and label axes.\n",
    "plt.savefig('squares_plot.png', bbox_inches='tight')"
   ]
  },
  {
   "cell_type": "markdown",
   "id": "3aacf639",
   "metadata": {},
   "source": [
    "### Algebra and Symbolic Math with SymPy :"
   ]
  },
  {
   "cell_type": "code",
   "execution_count": 49,
   "id": "31c652e7",
   "metadata": {},
   "outputs": [
    {
     "data": {
      "text/plain": [
       "3"
      ]
     },
     "execution_count": 49,
     "metadata": {},
     "output_type": "execute_result"
    }
   ],
   "source": [
    "\"\"\"\n",
    "Defining symbols and symbolic operations :\n",
    "\"\"\"\n",
    "y = 1\n",
    "y + y + 1"
   ]
  },
  {
   "cell_type": "code",
   "execution_count": 48,
   "id": "54712164",
   "metadata": {},
   "outputs": [
    {
     "data": {
      "text/latex": [
       "$\\displaystyle 2 x + 1$"
      ],
      "text/plain": [
       "2*x + 1"
      ]
     },
     "execution_count": 48,
     "metadata": {},
     "output_type": "execute_result"
    }
   ],
   "source": [
    "from sympy import Symbol\n",
    "x = Symbol('x')\n",
    "x + x + 1"
   ]
  },
  {
   "cell_type": "code",
   "execution_count": 47,
   "id": "1798930e",
   "metadata": {},
   "outputs": [
    {
     "name": "stdout",
     "output_type": "stream",
     "text": [
      "y\n",
      "x\n"
     ]
    }
   ],
   "source": [
    "# Finding the symbol represented by symbol object\n",
    "x = Symbol('y')\n",
    "print(x.name)\n",
    "a = Symbol('x')\n",
    "print(a.name)"
   ]
  },
  {
   "cell_type": "code",
   "execution_count": 51,
   "id": "cc356a35",
   "metadata": {},
   "outputs": [
    {
     "data": {
      "text/latex": [
       "$\\displaystyle 2 x y$"
      ],
      "text/plain": [
       "2*x*y"
      ]
     },
     "execution_count": 51,
     "metadata": {},
     "output_type": "execute_result"
    }
   ],
   "source": [
    "from sympy import symbols\n",
    "x,y,z = symbols('x,y,z')\n",
    "s = x*y + x*y\n",
    "s"
   ]
  },
  {
   "cell_type": "code",
   "execution_count": 53,
   "id": "2c84cf00",
   "metadata": {},
   "outputs": [
    {
     "data": {
      "text/latex": [
       "$\\displaystyle \\left(x + y\\right)^{3}$"
      ],
      "text/plain": [
       "(x + y)**3"
      ]
     },
     "execution_count": 53,
     "metadata": {},
     "output_type": "execute_result"
    }
   ],
   "source": [
    "from sympy import factor\n",
    "expr = x**3 + 3*x**2*y + 3*x*y**2 + y**3\n",
    "factors = factor(expr)\n",
    "factors"
   ]
  },
  {
   "cell_type": "code",
   "execution_count": 54,
   "id": "17f400be",
   "metadata": {},
   "outputs": [
    {
     "name": "stdout",
     "output_type": "stream",
     "text": [
      " 2            2\n",
      "x  + 2⋅x⋅y + y \n"
     ]
    }
   ],
   "source": [
    "from sympy import pprint\n",
    "expr = x*x + 2*x*y + y*y\n",
    "pprint(expr)"
   ]
  },
  {
   "cell_type": "code",
   "execution_count": 55,
   "id": "6552cb51",
   "metadata": {},
   "outputs": [
    {
     "name": "stdout",
     "output_type": "stream",
     "text": [
      " 2            2\n",
      "y  + 2⋅x⋅y + x \n"
     ]
    }
   ],
   "source": [
    "from sympy import init_printing\n",
    "init_printing(order='rev-lex')\n",
    "pprint(expr)"
   ]
  },
  {
   "cell_type": "code",
   "execution_count": 57,
   "id": "69134db8",
   "metadata": {},
   "outputs": [
    {
     "name": "stdout",
     "output_type": "stream",
     "text": [
      "Enter the number of terms you want in the series: 5\n",
      "     2\n",
      "    x \n",
      "x + ──\n",
      "    2 \n",
      "     2    3\n",
      "    x    x \n",
      "x + ── + ──\n",
      "    2    3 \n",
      "     2    3    4\n",
      "    x    x    x \n",
      "x + ── + ── + ──\n",
      "    2    3    4 \n",
      "     2    3    4    5\n",
      "    x    x    x    x \n",
      "x + ── + ── + ── + ──\n",
      "    2    3    4    5 \n"
     ]
    }
   ],
   "source": [
    "'''\n",
    "Print the series:\n",
    "x + x**2 + x**3 + ... + x**n\n",
    "____ _____ _____\n",
    "2 3 n\n",
    "'''\n",
    "from sympy import Symbol, pprint, init_printing\n",
    "\n",
    "def print_series(n):\n",
    "    \n",
    "    # Initialize printing system with reverse order\n",
    "    init_printing(order='rev-lex')\n",
    "    x = Symbol('x')\n",
    "    series = x\n",
    "    \n",
    "    for i in range(2,n+1):\n",
    "        series = series + (x**i)/i\n",
    "        pprint(series)\n",
    "        \n",
    "if __name__ == '__main__':\n",
    "    \n",
    "    n = input('Enter the number of terms you want in the series: ')\n",
    "    print_series(int(n))"
   ]
  },
  {
   "cell_type": "markdown",
   "id": "8931c813",
   "metadata": {},
   "source": [
    "### Substituting Values :"
   ]
  },
  {
   "cell_type": "code",
   "execution_count": 63,
   "id": "2dbce1a4",
   "metadata": {},
   "outputs": [
    {
     "data": {
      "image/png": "[encoded data removed]",
      "text/latex": [
       "$\\displaystyle 9$"
      ],
      "text/plain": [
       "9"
      ]
     },
     "execution_count": 63,
     "metadata": {},
     "output_type": "execute_result"
    }
   ],
   "source": [
    "\n",
    "x = Symbol('x')\n",
    "y = Symbol('y')\n",
    "expr = x*x + x*y + x*y + y*y\n",
    "res = expr.subs({x:1, y:2})\n",
    "res"
   ]
  },
  {
   "cell_type": "code",
   "execution_count": 64,
   "id": "7a54980b",
   "metadata": {},
   "outputs": [
    {
     "data": {
      "image/png": "[encoded data removed]",
      "text/latex": [
       "$\\displaystyle \\left(1 - y\\right)^{2} + 2 y \\left(1 - y\\right) + y^{2}$"
      ],
      "text/plain": [
       "       2                  2\n",
       "(1 - y)  + 2⋅y⋅(1 - y) + y "
      ]
     },
     "execution_count": 64,
     "metadata": {},
     "output_type": "execute_result"
    }
   ],
   "source": [
    "expr = x*x + x*y + x*y + y*y\n",
    "expr.subs({x:1-y})"
   ]
  },
  {
   "cell_type": "markdown",
   "id": "ebd8afe7",
   "metadata": {},
   "source": [
    "### Python Dictionary :"
   ]
  },
  {
   "cell_type": "code",
   "execution_count": 65,
   "id": "50859811",
   "metadata": {},
   "outputs": [
    {
     "data": {
      "image/png": "[encoded data removed]",
      "text/latex": [
       "$\\displaystyle 5$"
      ],
      "text/plain": [
       "5"
      ]
     },
     "execution_count": 65,
     "metadata": {},
     "output_type": "execute_result"
    }
   ],
   "source": [
    "sampledict = {\"key1\": 5, \"key2\": 20}\n",
    "sampledict[\"key1\"]"
   ]
  },
  {
   "cell_type": "code",
   "execution_count": 66,
   "id": "e87cbd94",
   "metadata": {},
   "outputs": [
    {
     "name": "stdout",
     "output_type": "stream",
     "text": [
      "Enter the number of terms you want in the series: 3\n",
      "Enter the value of x at which you want to evaluate the series: 1\n",
      "     2\n",
      "    x \n",
      "x + ──\n",
      "    2 \n",
      "     2    3\n",
      "    x    x \n",
      "x + ── + ──\n",
      "    2    3 \n",
      "Value of the series at 1.0: 1.83333333333333\n"
     ]
    }
   ],
   "source": [
    "\n",
    "'''\n",
    "Print the series:\n",
    "x + x**2 + x**3 + ... + x**n\n",
    "____ _____ _____\n",
    "2 3 n\n",
    "'''\n",
    "from sympy import Symbol, pprint, init_printing\n",
    "def print_series(n, x_value):\n",
    "    # Initialize printing system with reverse order\n",
    "    init_printing(order='rev-lex')\n",
    "    x = Symbol('x')\n",
    "    series = x\n",
    "    for i in range(2, n+1):\n",
    "        series = series + (x**i)/i\n",
    "        pprint(series)\n",
    "    # Evaluate the series at x_value\n",
    "    series_value = series.subs({x:x_value})\n",
    "    print('Value of the series at {0}: {1}'.format(x_value, series_value))\n",
    "    \n",
    "if __name__ == '__main__':\n",
    "    n = input('Enter the number of terms you want in the series: ')\n",
    "    x_value = input('Enter the value of x at which you want to evaluate the series: ')\n",
    "    print_series(int(n), float(x_value))"
   ]
  },
  {
   "cell_type": "code",
   "execution_count": 68,
   "id": "ccc0b06b",
   "metadata": {},
   "outputs": [
    {
     "name": "stdout",
     "output_type": "stream",
     "text": [
      "Enter a mathematical expression: x**2 + x\n"
     ]
    }
   ],
   "source": [
    "from sympy import sympify\n",
    "from sympy.core.sympify import SympifyError\n",
    "expr = input('Enter a mathematical expression: ')\n",
    "try:\n",
    "    expr = sympify(expr)\n",
    "except SympifyError:\n",
    "    print('Invalid input')"
   ]
  },
  {
   "cell_type": "code",
   "execution_count": 69,
   "id": "14b9d9ff",
   "metadata": {},
   "outputs": [
    {
     "name": "stdout",
     "output_type": "stream",
     "text": [
      "Enter the first expression: x\n",
      "Enter the second expression: x\n",
      "x**2\n"
     ]
    }
   ],
   "source": [
    "'''\n",
    "Product of two expressions\n",
    "'''\n",
    "from sympy import expand, sympify\n",
    "from sympy.core.sympify import SympifyError\n",
    "def product(expr1, expr2):\n",
    "    prod = expand(expr1*expr2)\n",
    "    print(prod)\n",
    "    \n",
    "if __name__=='__main__':\n",
    "    expr1 = input('Enter the first expression: ')\n",
    "    expr2 = input('Enter the second expression: ')\n",
    "    try:\n",
    "        expr1 = sympify(expr1)\n",
    "        expr2 = sympify(expr2)\n",
    "    except SympifyError:\n",
    "        print('Invalid input')\n",
    "    else:\n",
    "        product(expr1, expr2)"
   ]
  },
  {
   "cell_type": "markdown",
   "id": "a55d2fed",
   "metadata": {},
   "source": [
    "### Solving Equations :"
   ]
  },
  {
   "cell_type": "code",
   "execution_count": 71,
   "id": "459fa937",
   "metadata": {},
   "outputs": [
    {
     "data": {
      "image/png": "[encoded data removed]",
      "text/latex": [
       "$\\displaystyle \\left[ -4, \\  -1\\right]$"
      ],
      "text/plain": [
       "[-4, -1]"
      ]
     },
     "execution_count": 71,
     "metadata": {},
     "output_type": "execute_result"
    }
   ],
   "source": [
    "from sympy import solve\n",
    "x = Symbol('x')\n",
    "expr = x**2 + 5*x + 4\n",
    "solve(expr,dict=False)"
   ]
  },
  {
   "cell_type": "code",
   "execution_count": 116,
   "id": "e0d26647",
   "metadata": {},
   "outputs": [
    {
     "data": {
      "image/png": "[encoded data removed]",
      "text/latex": [
       "$\\displaystyle \\left[ \\frac{- \\sqrt{b^{2} - 4 a c} - b}{2 a}, \\  \\frac{\\sqrt{b^{2} - 4 a c} - b}{2 a}\\right]$"
      ],
      "text/plain": [
       "⎡     ____________         ____________    ⎤\n",
       "⎢    ╱  2                 ╱  2             ⎥\n",
       "⎢- ╲╱  b  - 4⋅a⋅c  - b  ╲╱  b  - 4⋅a⋅c  - b⎥\n",
       "⎢─────────────────────, ───────────────────⎥\n",
       "⎣         2⋅a                   2⋅a        ⎦"
      ]
     },
     "execution_count": 116,
     "metadata": {},
     "output_type": "execute_result"
    }
   ],
   "source": [
    "x = Symbol('x')\n",
    "a = Symbol('a')\n",
    "b = Symbol('b')\n",
    "c = Symbol('c')\n",
    "expr = a*x*x + b*x + c\n",
    "solve(expr,x,dict=False)"
   ]
  },
  {
   "cell_type": "code",
   "execution_count": 117,
   "id": "9d605f6d",
   "metadata": {},
   "outputs": [
    {
     "name": "stdout",
     "output_type": "stream",
     "text": [
      "⎡                     ______________                         ______________   \n",
      "⎢                    ╱      2                               ╱      2          \n",
      "⎢- 1.4142135623731⋅╲╱  0.5⋅u  + a⋅s  - u  1.4142135623731⋅╲╱  0.5⋅u  + a⋅s  - \n",
      "⎢───────────────────────────────────────, ────────────────────────────────────\n",
      "⎣                   a                                       a                 \n",
      "\n",
      " ⎤\n",
      " ⎥\n",
      "u⎥\n",
      "─⎥\n",
      " ⎦\n"
     ]
    }
   ],
   "source": [
    "from sympy import Symbol, solve, pprint\n",
    "s = Symbol('s')\n",
    "u = Symbol('u')\n",
    "t = Symbol('t')\n",
    "a = Symbol('a')\n",
    "expr = u*t + (1/2)*a*t*t - s\n",
    "t_expr = solve(expr,t, dict=False)\n",
    "pprint(t_expr)"
   ]
  },
  {
   "cell_type": "markdown",
   "id": "78ce3e79",
   "metadata": {},
   "source": [
    "### Solving System of Linear Equations :"
   ]
  },
  {
   "cell_type": "code",
   "execution_count": 2,
   "id": "eb4b9f4e",
   "metadata": {},
   "outputs": [
    {
     "name": "stdout",
     "output_type": "stream",
     "text": [
      "{x: 24/5, y: -6/5}\n",
      "0\n",
      "0\n"
     ]
    }
   ],
   "source": [
    "from sympy import*\n",
    "x = Symbol('x')\n",
    "y = Symbol('y')\n",
    "expr1 = 2*x + 3*y - 6\n",
    "expr2 = 3*x + 2*y - 12\n",
    "soln = solve((expr1, expr2), dict=True)\n",
    "soln = soln[0]\n",
    "print(soln)\n",
    "print(expr1.subs({x:soln[x], y:soln[y]}))\n",
    "print(expr2.subs({x:soln[x], y:soln[y]}))"
   ]
  },
  {
   "cell_type": "markdown",
   "id": "2a0c9503",
   "metadata": {},
   "source": [
    "### Plottting with sympy :"
   ]
  },
  {
   "cell_type": "code",
   "execution_count": 3,
   "id": "29b906ec",
   "metadata": {},
   "outputs": [
    {
     "data": {
      "text/plain": [
       "<sympy.plotting.plot.Plot at 0x10791c8e0>"
      ]
     },
     "execution_count": 3,
     "metadata": {},
     "output_type": "execute_result"
    }
   ],
   "source": [
    "from sympy.plotting import plot\n",
    "from sympy import Symbol\n",
    "x = Symbol('x')\n",
    "plot(2*x+3,show=False)"
   ]
  },
  {
   "cell_type": "code",
   "execution_count": 4,
   "id": "b085b97e",
   "metadata": {},
   "outputs": [
    {
     "data": {
      "text/plain": [
       "<sympy.plotting.plot.Plot at 0x10791fa30>"
      ]
     },
     "execution_count": 4,
     "metadata": {},
     "output_type": "execute_result"
    }
   ],
   "source": [
    "plot((2*x+3),(x,-5,5), show=False)"
   ]
  },
  {
   "cell_type": "code",
   "execution_count": 5,
   "id": "61fe86fb",
   "metadata": {},
   "outputs": [
    {
     "data": {
      "text/plain": [
       "<sympy.plotting.plot.Plot at 0x107dcaf20>"
      ]
     },
     "execution_count": 5,
     "metadata": {},
     "output_type": "execute_result"
    }
   ],
   "source": [
    "plot(2*x+3, (x,-5,5), title='A Line', xlabel='x', ylabel='2x+3', show=False)"
   ]
  },
  {
   "cell_type": "code",
   "execution_count": 6,
   "id": "af4a3b01",
   "metadata": {},
   "outputs": [
    {
     "name": "stdout",
     "output_type": "stream",
     "text": [
      "Invalid input\n"
     ]
    }
   ],
   "source": [
    "'''\n",
    "Plot the graph of an input expression\n",
    "'''\n",
    "from sympy import Symbol, sympify, solve\n",
    "from sympy.plotting import plot\n",
    "\n",
    "def plot_expression(expr):\n",
    "    y = Symbol('y')\n",
    "    solutions = solve(expr,y)\n",
    "    expr_y = solutions[0]\n",
    "    plot(expr_y)\n",
    "    \n",
    "if __name__=='__main__':\n",
    "    expr = input('Enter your expression in terms of x and y: ')\n",
    "    try:\n",
    "        expr = sympify(expr)\n",
    "    except SympifyError:\n",
    "        print('Invalid input')\n",
    "    else:\n",
    "        plot_expression(expr)"
   ]
  },
  {
   "cell_type": "code",
   "execution_count": 5,
   "id": "ef1a6fe1",
   "metadata": {},
   "outputs": [],
   "source": [
    "from sympy.plotting import plot\n",
    "from sympy import Symbol\n",
    "x = Symbol('x')\n",
    "p = plot(2*x+3, 3*x+1, legend=True, show=False)\n",
    "# p.show()"
   ]
  },
  {
   "cell_type": "code",
   "execution_count": 7,
   "id": "ab874c87",
   "metadata": {},
   "outputs": [
    {
     "data": {
      "text/plain": [
       "[u*sin(theta)/g]"
      ]
     },
     "execution_count": 7,
     "metadata": {},
     "output_type": "execute_result"
    }
   ],
   "source": [
    "from sympy import sin, solve, Symbol\n",
    "u = Symbol('u')\n",
    "t = Symbol('t')\n",
    "g = Symbol('g')\n",
    "theta = Symbol('theta')\n",
    "solve(u*sin(theta)-g*t,t)"
   ]
  },
  {
   "cell_type": "code",
   "execution_count": 8,
   "id": "4860530a",
   "metadata": {},
   "outputs": [
    {
     "data": {
      "text/latex": [
       "$\\displaystyle 10 t_{1} + 2$"
      ],
      "text/plain": [
       "10*t1 + 2"
      ]
     },
     "execution_count": 8,
     "metadata": {},
     "output_type": "execute_result"
    }
   ],
   "source": [
    "from sympy import Symbol, Limit\n",
    "t = Symbol('t') \n",
    "St = 5*t**2 + 2*t + 8\n",
    "t1 = Symbol('t1')\n",
    "delta_t = Symbol('delta_t')\n",
    "St1 = St.subs({t: t1})\n",
    "St1_delta = St.subs({t: t1 + delta_t})\n",
    "Limit((St1_delta-St1)/delta_t, delta_t, 0).doit()"
   ]
  },
  {
   "cell_type": "code",
   "execution_count": 9,
   "id": "3ca6826a",
   "metadata": {},
   "outputs": [
    {
     "data": {
      "text/latex": [
       "$\\displaystyle 10 t_{1} + 2$"
      ],
      "text/plain": [
       "10*t1 + 2"
      ]
     },
     "execution_count": 9,
     "metadata": {},
     "output_type": "execute_result"
    }
   ],
   "source": [
    "from sympy import Symbol, Derivative \n",
    "t = Symbol('t')\n",
    "St = 5*t**2 + 2*t + 8\n",
    "d = Derivative(St, t)\n",
    "d.doit().subs({t:t1})"
   ]
  },
  {
   "cell_type": "code",
   "execution_count": 12,
   "id": "333bf297",
   "metadata": {},
   "outputs": [
    {
     "data": {
      "text/latex": [
       "$\\displaystyle 5 x^{4} - 90 x^{2} + 50$"
      ],
      "text/plain": [
       "5*x**4 - 90*x**2 + 50"
      ]
     },
     "execution_count": 12,
     "metadata": {},
     "output_type": "execute_result"
    }
   ],
   "source": [
    "from sympy import Symbol, solve, Derivative\n",
    "x = Symbol('x')\n",
    "f = x**5 - 30*x**3 + 50*x\n",
    "d1 = Derivative(f, x).doit()\n",
    "critical_points = solve(d1)\n",
    "critical_points\n",
    "d1"
   ]
  },
  {
   "cell_type": "code",
   "execution_count": 14,
   "id": "26cb27b8",
   "metadata": {},
   "outputs": [],
   "source": [
    "A = critical_points[2]\n",
    "B = critical_points[0] \n",
    "C = critical_points[1]\n",
    "D = critical_points[3]"
   ]
  },
  {
   "cell_type": "code",
   "execution_count": 15,
   "id": "fea7ab1b",
   "metadata": {},
   "outputs": [],
   "source": [
    "d2 = Derivative(f, x, 2).doit()"
   ]
  },
  {
   "cell_type": "code",
   "execution_count": 16,
   "id": "86642224",
   "metadata": {},
   "outputs": [
    {
     "data": {
      "text/latex": [
       "$\\displaystyle 127.661060789073$"
      ],
      "text/plain": [
       "127.661060789073"
      ]
     },
     "execution_count": 16,
     "metadata": {},
     "output_type": "execute_result"
    }
   ],
   "source": [
    "d2.subs({x:B}).evalf()"
   ]
  },
  {
   "cell_type": "code",
   "execution_count": 17,
   "id": "9171dbbe",
   "metadata": {},
   "outputs": [
    {
     "data": {
      "text/latex": [
       "$\\displaystyle -127.661060789073$"
      ],
      "text/plain": [
       "-127.661060789073"
      ]
     },
     "execution_count": 17,
     "metadata": {},
     "output_type": "execute_result"
    }
   ],
   "source": [
    "d2.subs({x:C}).evalf()"
   ]
  },
  {
   "cell_type": "code",
   "execution_count": 18,
   "id": "22a08a3a",
   "metadata": {},
   "outputs": [
    {
     "data": {
      "text/latex": [
       "$\\displaystyle -703.493179468151$"
      ],
      "text/plain": [
       "-703.493179468151"
      ]
     },
     "execution_count": 18,
     "metadata": {},
     "output_type": "execute_result"
    }
   ],
   "source": [
    "d2.subs({x:A}).evalf()"
   ]
  },
  {
   "cell_type": "code",
   "execution_count": 19,
   "id": "646c02d6",
   "metadata": {},
   "outputs": [
    {
     "data": {
      "text/latex": [
       "$\\displaystyle 703.493179468151$"
      ],
      "text/plain": [
       "703.493179468151"
      ]
     },
     "execution_count": 19,
     "metadata": {},
     "output_type": "execute_result"
    }
   ],
   "source": [
    "d2.subs({x:D}).evalf()"
   ]
  },
  {
   "cell_type": "code",
   "execution_count": null,
   "id": "8eef0d60",
   "metadata": {},
   "outputs": [],
   "source": []
  }
 ],
 "metadata": {
  "kernelspec": {
   "display_name": "Python 3 (ipykernel)",
   "language": "python",
   "name": "python3"
  },
  "language_info": {
   "codemirror_mode": {
    "name": "ipython",
    "version": 3
   },
   "file_extension": ".py",
   "mimetype": "text/x-python",
   "name": "python",
   "nbconvert_exporter": "python",
   "pygments_lexer": "ipython3",
   "version": "3.10.10"
  }
 },
 "nbformat": 4,
 "nbformat_minor": 5
}
