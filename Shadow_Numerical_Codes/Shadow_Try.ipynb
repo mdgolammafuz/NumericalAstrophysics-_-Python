{
 "cells": [
  {
   "cell_type": "code",
   "execution_count": 2,
   "id": "cf246062",
   "metadata": {},
   "outputs": [],
   "source": [
    "from sympy import*\n",
    "init_printing(use_unicode=True)"
   ]
  },
  {
   "cell_type": "code",
   "execution_count": 6,
   "id": "8f8cf2bc",
   "metadata": {},
   "outputs": [],
   "source": [
    "# A = 1 - (2*M/r) + (q*M**2/r**2) + (s*M**3/r**3) + (t*M**4/r**4) # g_{tt}\n",
    "# q(A,0) #Just to show the expression, it's not an equation"
   ]
  },
  {
   "cell_type": "code",
   "execution_count": null,
   "id": "d8923131",
   "metadata": {},
   "outputs": [],
   "source": []
  }
 ],
 "metadata": {
  "kernelspec": {
   "display_name": "Python 3 (ipykernel)",
   "language": "python",
   "name": "python3"
  },
  "language_info": {
   "codemirror_mode": {
    "name": "ipython",
    "version": 3
   },
   "file_extension": ".py",
   "mimetype": "text/x-python",
   "name": "python",
   "nbconvert_exporter": "python",
   "pygments_lexer": "ipython3",
   "version": "3.10.10"
  }
 },
 "nbformat": 4,
 "nbformat_minor": 5
}
