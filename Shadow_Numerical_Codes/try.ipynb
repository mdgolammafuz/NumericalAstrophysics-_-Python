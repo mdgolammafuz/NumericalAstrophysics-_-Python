{
 "cells": [
  {
   "cell_type": "code",
   "execution_count": 13,
   "id": "8dd61f92",
   "metadata": {},
   "outputs": [
    {
     "name": "stdout",
     "output_type": "stream",
     "text": [
      "0.569840290998053\n",
      "0.633869275707726\n"
     ]
    }
   ],
   "source": [
    "from sympy import symbols, solve\n",
    "q,s,t,z = symbols(\"q,s,t,z\")\n",
    "\n",
    "def horizon(q,s,t):\n",
    "    \n",
    "    equation_of_horizon = z**4 + (q-3/2)*(z**2) +(q+s-1)*z + ((q/4) + (s/2) + t - (3/16))\n",
    "    horizon_qst_substituted = equation_of_horizon.subs({q:q,s:s,t:t})\n",
    "    horizons = solve(horizon_qst_substituted)\n",
    "    horizon_list = []\n",
    "    for horizon in horizons:\n",
    "        hr = horizon\n",
    "        if hr.is_positive and hr.is_real:\n",
    "            horizon_list.append(hr)\n",
    "            if len(horizon_list)>0:       \n",
    "                m = max(horizon_list)\n",
    "    return (m)\n",
    "\n",
    "def photon_sphere(q,s,t):\n",
    "    \n",
    "    equation_of_photonsphere = z**4 + (2*q-(27/8))*(z**2) + (3*q + (5/2)*s - (27/8))*z + ((9/8)*q + (15/8)*s + 3*t- (243/256))\n",
    "    ps_qst_substituted = equation_of_photonsphere.subs({q:q,s:s,t:t})\n",
    "    photonspheres = solve(ps_qst_substituted)\n",
    "    photonsphere_list = []\n",
    "    for photonsphere in photonspheres:\n",
    "        ps = photonsphere\n",
    "        if ps.is_positive and ps.is_real:\n",
    "            photonsphere_list.append(ps)\n",
    "            if len(photonsphere_list)>0:       \n",
    "                m = max(photonsphere_list)\n",
    "    return(m)\n",
    "  \n",
    "    \n",
    "test_hr = horizon(5/2,-1/2,-19/16)\n",
    "test_ps = photon_sphere(5/2,-1/2,-19/16)\n",
    "print(test_hr)\n",
    "print(test_ps)"
   ]
  },
  {
   "cell_type": "code",
   "execution_count": 5,
   "id": "f2594f28",
   "metadata": {},
   "outputs": [],
   "source": [
    "from sympy import symbols,solve\n",
    "q,s,t,r = symbols(\"q,s,t,r\")\n",
    "g_tt = 1 + (2/r) + (q/r**2) + (s/r**3) + (t/r**4)\n",
    "Horizon_Equation = g_tt.subs({q:3/2,s:1/2,t:9/16})\n",
    "horizons = solve(Horizon_Equation)\n",
    "h1 = []\n",
    "for horizon in horizons:\n",
    "    hr = horizon\n",
    "    if hr.is_positive and hr.is_real:\n",
    "        print(hr)\n",
    "        h1.append(hr)\n",
    "        \n",
    "if len(h1)>0:       \n",
    "    z = max(h1)\n",
    "    print(z)"
   ]
  },
  {
   "cell_type": "code",
   "execution_count": 6,
   "id": "d4262c17",
   "metadata": {},
   "outputs": [],
   "source": [
    "def photon_sphere(q,s,t):\n",
    "    equation_of_photonsphere = z**4 + (2*q-(27/8))*(z**2) + (3*q + (5/2)*s - (27/8))*z + ((9/8)*q + (15/8)*s + 3*t- (243/256))\n",
    "    equation_of_photonsphere_qst_substituted = equation_of_photonsphere.subs(({q:q,s:s,t:t}))\n",
    "    print(equation_of_photonsphere_qst_substituted)\n",
    "    photon_spheres = solve(equation_of_photonsphere_qst_substituted,z)\n",
    "    return photon_spheres\n"
   ]
  },
  {
   "cell_type": "code",
   "execution_count": 7,
   "id": "31948d05",
   "metadata": {},
   "outputs": [],
   "source": [
    "def frange(start,final,interval):\n",
    "    \n",
    "    numbers = []\n",
    "    \n",
    "    while start < final:\n",
    "        numbers.append(start)\n",
    "        start = start + interval\n",
    "    return numbers\n"
   ]
  },
  {
   "cell_type": "code",
   "execution_count": 8,
   "id": "590d5cd6",
   "metadata": {},
   "outputs": [
    {
     "name": "stdout",
     "output_type": "stream",
     "text": [
      "16*a**4*c - 4*a**3*b**2 - 128*a**2*c**2 + 144*a*b**2*c - 27*b**4 + 256*c**3\n",
      "-2*a**3 + 8*a*c - 9*b**2\n"
     ]
    }
   ],
   "source": [
    "a,b,c = symbols(\"a,b,c\")\n",
    "Delta = - 4*(a**3)*(b**2) + 16*(a**4)*(c) - 27*(b**4) + 144*(a)*(b**2)*(c) - 128*(a**2)*(c**2) + 256*(c**3)\n",
    "Lambda = - 2*(a**3) - 9*(b**2) + 8*(a)*(c) \n",
    "print(Delta)\n",
    "print(Lambda)"
   ]
  },
  {
   "cell_type": "code",
   "execution_count": 9,
   "id": "8a988d55",
   "metadata": {},
   "outputs": [
    {
     "data": {
      "text/plain": [
       "'print(\"a:\",(2*q)-(27/8),\"b:\",5*(s/2)+(3*q)-(27/8),\"c:\",(15/8)*s+(9/8)*q+(3*t)-(243/256))\\nprint(\"a:\",q-(3/2),\"b:\",(q+s-1),c:((s/2)+(q/4)-(3/16))})\\nprint(\"Horizon Equation : \",equation_of_horizon)\\nprint(\"Equation of Photon Sphere : \",equation_of_photonsphere)\\nprint(\"Delta for Photon Sphere : \",Delta_PS)\\nprint(\"Delta for Horizon : \",Delta_HR)\\nprint(\"Lambda for Horizon : \",Lambda_HR)\\nprint(\"Lambda for Photon Sphere : \", Lambda_PS)\\n'"
      ]
     },
     "execution_count": 9,
     "metadata": {},
     "output_type": "execute_result"
    }
   ],
   "source": [
    "from sympy import symbols,Symbol,solve\n",
    "q,s,t,z = symbols(\"q,s,t,z\")\n",
    "a,b,c = symbols(\"a,b,c\")\n",
    "\n",
    "Delta = - 4*(a**3)*(b**2) + 16*(a**4)*(c) - 27*(b**4) + 144*(a)*(b**2)*(c) - 128*(a**2)*(c**2) + 256*(c**3)\n",
    "\n",
    "Lambda = - 2*(a**3) - 9*(b**2) + 8*(a)*(c)\n",
    "\n",
    "Delta_HR = Delta.subs({a:q-(3/2),b:(q+s-1),c:((s/2)+(q/4)-(3/16))})\n",
    "\n",
    "Lambda_HR = Lambda.subs({a:q-(3/2),b:(q+s-1),c:((s/2)+(q/4)-(3/16))})\n",
    "\n",
    "Delta_PS = Delta.subs({a:(2*q)-(27/8),b:5*(s/2)+(3*q)-(27/8),c:(15/8)*s+(9/8)*q+(3*t)-(243/256)})\n",
    "\n",
    "Lambda_PS = Lambda.subs({a:(2*q)-(27/8),b:5*(s/2)+(3*q)-(27/8),c:(15/8)*s+(9/8)*q+(3*t)-(243/256)})\n",
    "\n",
    "equation_of_horizon = z**4 + (q-3/2)*(z**2) +(q+s-1)*z + ((q/4) + (s/2) + t - (3/16))\n",
    "\n",
    "equation_of_photonsphere = z**4 + (2*q-(27/8))*(z**2) + (3*q + (5/2)*s - (27/8))*z + ((9/8)*q + (15/8)*s + 3*t- (243/256))\n",
    "\n",
    "\"\"\"print(\"a:\",(2*q)-(27/8),\"b:\",5*(s/2)+(3*q)-(27/8),\"c:\",(15/8)*s+(9/8)*q+(3*t)-(243/256))\n",
    "print(\"a:\",q-(3/2),\"b:\",(q+s-1),c:((s/2)+(q/4)-(3/16))})\n",
    "print(\"Horizon Equation : \",equation_of_horizon)\n",
    "print(\"Equation of Photon Sphere : \",equation_of_photonsphere)\n",
    "print(\"Delta for Photon Sphere : \",Delta_PS)\n",
    "print(\"Delta for Horizon : \",Delta_HR)\n",
    "print(\"Lambda for Horizon : \",Lambda_HR)\n",
    "print(\"Lambda for Photon Sphere : \", Lambda_PS)\n",
    "\"\"\""
   ]
  },
  {
   "cell_type": "code",
   "execution_count": 10,
   "id": "586e516b",
   "metadata": {},
   "outputs": [
    {
     "name": "stdout",
     "output_type": "stream",
     "text": [
      "See the magic :  \n",
      " Your 'a' is: x  \n",
      " And your 'b' is: y\n"
     ]
    }
   ],
   "source": [
    "from sympy import* \n",
    "a = Symbol('x')\n",
    "b = Symbol('y')\n",
    "print(\"See the magic :\",\\\n",
    "\" \\n Your 'a' is:\", a,\\\n",
    "\" \\n And your 'b' is:\", b)"
   ]
  },
  {
   "cell_type": "code",
   "execution_count": 11,
   "id": "efd7461c",
   "metadata": {},
   "outputs": [
    {
     "name": "stdout",
     "output_type": "stream",
     "text": [
      "hello world again! \n"
     ]
    }
   ],
   "source": [
    "print(\"hello world again! \")"
   ]
  },
  {
   "cell_type": "code",
   "execution_count": null,
   "id": "203c6ef7",
   "metadata": {},
   "outputs": [],
   "source": []
  }
 ],
 "metadata": {
  "kernelspec": {
   "display_name": "Python 3 (ipykernel)",
   "language": "python",
   "name": "python3"
  },
  "language_info": {
   "codemirror_mode": {
    "name": "ipython",
    "version": 3
   },
   "file_extension": ".py",
   "mimetype": "text/x-python",
   "name": "python",
   "nbconvert_exporter": "python",
   "pygments_lexer": "ipython3",
   "version": "3.10.10"
  }
 },
 "nbformat": 4,
 "nbformat_minor": 5
}
