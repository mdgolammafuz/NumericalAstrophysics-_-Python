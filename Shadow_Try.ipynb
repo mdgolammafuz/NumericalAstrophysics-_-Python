{
 "cells": [
  {
   "cell_type": "code",
   "execution_count": 3,
   "id": "cf246062",
   "metadata": {},
   "outputs": [],
   "source": [
    "import matplotlib\n",
    "import matplotlib.pyplot as plt\n",
    "import numpy as np\n",
    "from sympy import*\n",
    "init_printing(use_unicode=True)\n",
    "import fractions\n",
    "import math"
   ]
  },
  {
   "cell_type": "code",
   "execution_count": null,
   "id": "7b16b795",
   "metadata": {},
   "outputs": [],
   "source": []
  },
  {
   "cell_type": "code",
   "execution_count": 4,
   "id": "65de77b0",
   "metadata": {},
   "outputs": [],
   "source": []
  },
  {
   "cell_type": "code",
   "execution_count": 5,
   "id": "fa8d6f00",
   "metadata": {},
   "outputs": [],
   "source": []
  },
  {
   "cell_type": "code",
   "execution_count": 6,
   "id": "8f8cf2bc",
   "metadata": {},
   "outputs": [
    {
     "data": {
      "image/png": "[encoded data removed]",
      "text/latex": [
       "$\\displaystyle \\frac{M^{4} t}{r^{4}} + \\frac{M^{3} s}{r^{3}} + \\frac{M^{2} q}{r^{2}} - \\frac{2 M}{r} + 1 = 0$"
      ],
      "text/plain": [
       " 4      3      2                \n",
       "M ⋅t   M ⋅s   M ⋅q   2⋅M        \n",
       "──── + ──── + ──── - ─── + 1 = 0\n",
       "  4      3      2     r         \n",
       " r      r      r                "
      ]
     },
     "execution_count": 6,
     "metadata": {},
     "output_type": "execute_result"
    }
   ],
   "source": [
    "A = 1 - (2*M/r) + (q*M**2/r**2) + (s*M**3/r**3) + (t*M**4/r**4) # g_{tt}\n",
    "\n",
    "Eq(A,0) #Just to show the expression, it's not an equation"
   ]
  },
  {
   "cell_type": "code",
   "execution_count": null,
   "id": "f551da93",
   "metadata": {},
   "outputs": [],
   "source": []
  },
  {
   "cell_type": "code",
   "execution_count": null,
   "id": "ce9a7434",
   "metadata": {},
   "outputs": [],
   "source": []
  },
  {
   "cell_type": "code",
   "execution_count": null,
   "id": "4fb35677",
   "metadata": {},
   "outputs": [],
   "source": []
  },
  {
   "cell_type": "code",
   "execution_count": 15,
   "id": "5611d711",
   "metadata": {},
   "outputs": [],
   "source": []
  },
  {
   "cell_type": "code",
   "execution_count": null,
   "id": "5d3e604c",
   "metadata": {},
   "outputs": [],
   "source": []
  }
 ],
 "metadata": {
  "kernelspec": {
   "display_name": "Python 3 (ipykernel)",
   "language": "python",
   "name": "python3"
  },
  "language_info": {
   "codemirror_mode": {
    "name": "ipython",
    "version": 3
   },
   "file_extension": ".py",
   "mimetype": "text/x-python",
   "name": "python",
   "nbconvert_exporter": "python",
   "pygments_lexer": "ipython3",
   "version": "3.10.10"
  }
 },
 "nbformat": 4,
 "nbformat_minor": 5
}
