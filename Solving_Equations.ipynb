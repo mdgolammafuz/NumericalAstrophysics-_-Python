{
 "cells": [
  {
   "cell_type": "markdown",
   "id": "81ff97c1",
   "metadata": {},
   "source": [
    "Solving Equations"
   ]
  },
  {
   "cell_type": "markdown",
   "id": "6260209d",
   "metadata": {},
   "source": [
    "# Solving Equations : The Nonlinear Univarate Equation"
   ]
  },
  {
   "cell_type": "code",
   "execution_count": null,
   "id": "8e69b7d2",
   "metadata": {},
   "outputs": [],
   "source": []
  }
 ],
 "metadata": {
  "kernelspec": {
   "display_name": "Python 3",
   "language": "python",
   "name": "python3"
  },
  "language_info": {
   "codemirror_mode": {
    "name": "ipython",
    "version": 3
   },
   "file_extension": ".py",
   "mimetype": "text/x-python",
   "name": "python",
   "nbconvert_exporter": "python",
   "pygments_lexer": "ipython3",
   "version": "3.10.7"
  },
  "vscode": {
   "interpreter": {
    "hash": "ba8088891657b5efda0065fd47e9ddf95b93561eda1c2203a8e0bf6b7a7f7133"
   }
  }
 },
 "nbformat": 4,
 "nbformat_minor": 5
}
