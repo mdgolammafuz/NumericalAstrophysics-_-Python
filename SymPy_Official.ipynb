{
 "cells": [
  {
   "cell_type": "markdown",
   "id": "b51b36af",
   "metadata": {},
   "source": [
    "# What is Symbolic Computation "
   ]
  },
  {
   "cell_type": "code",
   "execution_count": 1,
   "id": "c2131119",
   "metadata": {},
   "outputs": [
    {
     "data": {
      "text/plain": [
       "3.0"
      ]
     },
     "execution_count": 1,
     "metadata": {},
     "output_type": "execute_result"
    }
   ],
   "source": [
    "# works for rational numbers\n",
    "import math\n",
    "math.sqrt(9)"
   ]
  },
  {
   "cell_type": "code",
   "execution_count": 2,
   "id": "c2feaea1",
   "metadata": {},
   "outputs": [
    {
     "data": {
      "text/plain": [
       "2.8284271247461903"
      ]
     },
     "execution_count": 2,
     "metadata": {},
     "output_type": "execute_result"
    }
   ],
   "source": [
    "math.sqrt(8)"
   ]
  },
  {
   "cell_type": "markdown",
   "id": "0068d81c",
   "metadata": {},
   "source": [
    "Here we got an approximate result. 2.82842712475 is not the\n",
    "exact square root of 8 (indeed, the actual square root of 8\n",
    "cannot be represented by a finite decimal, since it is an\n",
    "irrational number). If all we cared about was the decimal form\n",
    "of the square root of 8, we would be done.\n",
    "\n",
    "But suppose we want to go further. Recall that . We would have\n",
    "a hard time deducing this from the above result. This is where\n",
    "symbolic computation comes in. With a symbolic computation system\n",
    "like SymPy, square roots of numbers that are not perfect squares\n",
    "are left unevaluated by default"
   ]
  },
  {
   "cell_type": "markdown",
   "id": "39e35595",
   "metadata": {},
   "source": [
    "# A More Interesting Example"
   ]
  },
  {
   "cell_type": "code",
   "execution_count": 3,
   "id": "83944b1f",
   "metadata": {},
   "outputs": [
    {
     "data": {
      "text/latex": [
       "$\\displaystyle x + 2 y$"
      ],
      "text/plain": [
       "x + 2*y"
      ]
     },
     "execution_count": 3,
     "metadata": {},
     "output_type": "execute_result"
    }
   ],
   "source": [
    "from sympy import symbols\n",
    "x, y = symbols('x y')\n",
    "expr = x + 2*y\n",
    "expr"
   ]
  },
  {
   "cell_type": "code",
   "execution_count": 4,
   "id": "f86d9598",
   "metadata": {},
   "outputs": [
    {
     "data": {
      "text/latex": [
       "$\\displaystyle x + 2 y - 1$"
      ],
      "text/plain": [
       "x + 2*y - 1"
      ]
     },
     "execution_count": 4,
     "metadata": {},
     "output_type": "execute_result"
    }
   ],
   "source": [
    "expr - 1"
   ]
  },
  {
   "cell_type": "code",
   "execution_count": 5,
   "id": "7ec05826",
   "metadata": {},
   "outputs": [
    {
     "data": {
      "text/latex": [
       "$\\displaystyle 2 y$"
      ],
      "text/plain": [
       "2*y"
      ]
     },
     "execution_count": 5,
     "metadata": {},
     "output_type": "execute_result"
    }
   ],
   "source": [
    "expr - x"
   ]
  },
  {
   "cell_type": "markdown",
   "id": "4b755a1d",
   "metadata": {},
   "source": [
    "Notice something in the above example. When we typed expr - x, we did\n",
    "not get x + 2*y - x, but rather just 2*y. The x and the -x automatically\n",
    "canceled one another. This is similar to how sqrt(8) automatically turned\n",
    "into 2*sqrt(2) above. This isn’t always the case in SymPy, however:"
   ]
  },
  {
   "cell_type": "code",
   "execution_count": 6,
   "id": "4d154a96",
   "metadata": {},
   "outputs": [
    {
     "data": {
      "text/latex": [
       "$\\displaystyle x \\left(x + 2 y\\right)$"
      ],
      "text/plain": [
       "x*(x + 2*y)"
      ]
     },
     "execution_count": 6,
     "metadata": {},
     "output_type": "execute_result"
    }
   ],
   "source": [
    "x*expr"
   ]
  },
  {
   "cell_type": "markdown",
   "id": "61cef733",
   "metadata": {},
   "source": [
    "# The Power of Symbolic Computation"
   ]
  },
  {
   "cell_type": "code",
   "execution_count": 7,
   "id": "252c4229",
   "metadata": {},
   "outputs": [
    {
     "name": "stdout",
     "output_type": "stream",
     "text": [
      "Expanded expression :  x**2 + 2*x*y\n",
      "Factored expression :  x*(x + 2*y)\n"
     ]
    }
   ],
   "source": [
    "from sympy import expand, factor\n",
    "expanded_expr = expand(x*expr)\n",
    "print(\"Expanded expression : \", expanded_expr)\n",
    "print(\"Factored expression : \", factor(expanded_expr))"
   ]
  },
  {
   "cell_type": "code",
   "execution_count": 8,
   "id": "3046c491",
   "metadata": {},
   "outputs": [],
   "source": [
    "from sympy import *\n",
    "x, t, z, nu = symbols('x t z nu')"
   ]
  },
  {
   "cell_type": "code",
   "execution_count": 9,
   "id": "574e919e",
   "metadata": {},
   "outputs": [],
   "source": [
    "# This will make all further examples pretty print with unicode characters.\n",
    "init_printing(use_unicode=True)"
   ]
  },
  {
   "cell_type": "code",
   "execution_count": 3,
   "id": "df080b19",
   "metadata": {},
   "outputs": [
    {
     "data": {
      "text/latex": [
       "$\\displaystyle e^{x} \\sin{\\left(x \\right)} + e^{x} \\cos{\\left(x \\right)}$"
      ],
      "text/plain": [
       "exp(x)*sin(x) + exp(x)*cos(x)"
      ]
     },
     "execution_count": 3,
     "metadata": {},
     "output_type": "execute_result"
    }
   ],
   "source": [
    "from sympy import*\n",
    "x=Symbol('x')\n",
    "diff(sin(x)*exp(x),x) # type: ignore"
   ]
  },
  {
   "cell_type": "code",
   "execution_count": 5,
   "id": "cee49a84",
   "metadata": {},
   "outputs": [
    {
     "data": {
      "text/latex": [
       "$\\displaystyle e^{x} \\sin{\\left(x \\right)}$"
      ],
      "text/plain": [
       "exp(x)*sin(x)"
      ]
     },
     "execution_count": 5,
     "metadata": {},
     "output_type": "execute_result"
    }
   ],
   "source": [
    "integrate(exp(x)*sin(x) + exp(x)*cos(x), x) # type: ignore"
   ]
  },
  {
   "cell_type": "code",
   "execution_count": 6,
   "id": "676b5d66",
   "metadata": {},
   "outputs": [
    {
     "data": {
      "text/latex": [
       "$\\displaystyle 1$"
      ],
      "text/plain": [
       "1"
      ]
     },
     "execution_count": 6,
     "metadata": {},
     "output_type": "execute_result"
    }
   ],
   "source": [
    "limit(sin(x)/x,x,0) # type: ignore"
   ]
  },
  {
   "cell_type": "code",
   "execution_count": 8,
   "id": "b5ac9c0b",
   "metadata": {},
   "outputs": [
    {
     "data": {
      "text/plain": [
       "[-sqrt(2), sqrt(2)]"
      ]
     },
     "execution_count": 8,
     "metadata": {},
     "output_type": "execute_result"
    }
   ],
   "source": [
    "solve(x**2 - 2, x) # type: ignore"
   ]
  },
  {
   "cell_type": "code",
   "execution_count": 10,
   "id": "da76d44d",
   "metadata": {},
   "outputs": [
    {
     "data": {
      "text/latex": [
       "$\\displaystyle y{\\left(t \\right)} = C_{2} e^{- t} + \\left(C_{1} + \\frac{t}{2}\\right) e^{t}$"
      ],
      "text/plain": [
       "Eq(y(t), C2*exp(-t) + (C1 + t/2)*exp(t))"
      ]
     },
     "execution_count": 10,
     "metadata": {},
     "output_type": "execute_result"
    }
   ],
   "source": [
    "from sympy import*\n",
    "y,t = symbols('y,t')\n",
    "y = Function('y')\n",
    "dsolve(Eq(y(t).diff(t, t) - y(t), exp(t)), y(t)) # type: ignore"
   ]
  },
  {
   "cell_type": "code",
   "execution_count": 14,
   "id": "aae962c5",
   "metadata": {},
   "outputs": [
    {
     "data": {
      "text/latex": [
       "$\\displaystyle \\frac{\\sqrt{2} \\sqrt{z} j_{\\nu - \\frac{1}{2}}\\left(z\\right)}{\\sqrt{\\pi}}$"
      ],
      "text/plain": [
       "sqrt(2)*sqrt(z)*jn(nu - 1/2, z)/sqrt(pi)"
      ]
     },
     "execution_count": 14,
     "metadata": {},
     "output_type": "execute_result"
    }
   ],
   "source": [
    "from sympy import*\n",
    "import math\n",
    "\n",
    "nu,z = symbols('nu,z')\n",
    "\n",
    "besselj(nu,z).rewrite(jn)"
   ]
  },
  {
   "cell_type": "markdown",
   "id": "f319d389",
   "metadata": {},
   "source": [
    "# Latex Output Form"
   ]
  },
  {
   "cell_type": "code",
   "execution_count": 15,
   "id": "c4c69848",
   "metadata": {},
   "outputs": [
    {
     "data": {
      "text/plain": [
       "'\\\\int\\\\limits_{0}^{\\\\pi} \\\\cos^{2}{\\\\left(x \\\\right)}\\\\, dx'"
      ]
     },
     "execution_count": 15,
     "metadata": {},
     "output_type": "execute_result"
    }
   ],
   "source": [
    "latex(Integral(cos(x)**2, (x, 0, pi)))"
   ]
  },
  {
   "cell_type": "markdown",
   "id": "c757ffdc",
   "metadata": {},
   "source": [
    "# Gotchas"
   ]
  },
  {
   "cell_type": "markdown",
   "id": "83321be5",
   "metadata": {},
   "source": [
    "SymPy uses Python syntax to build expressions. Implicit multiplication (like 3x or 3 x) is not allowed in Python, and thus not allowed in SymPy. To multiply 3 and x, we must type 3*x with the *."
   ]
  },
  {
   "attachments": {},
   "cell_type": "markdown",
   "id": "f857ede6",
   "metadata": {},
   "source": [
    "## Symbols :"
   ]
  },
  {
   "cell_type": "code",
   "execution_count": 16,
   "id": "40c8082a",
   "metadata": {},
   "outputs": [],
   "source": [
    "from sympy import *"
   ]
  },
  {
   "cell_type": "code",
   "execution_count": 17,
   "id": "fb4d11f8",
   "metadata": {},
   "outputs": [
    {
     "data": {
      "text/latex": [
       "$\\displaystyle x + 1$"
      ],
      "text/plain": [
       "x + 1"
      ]
     },
     "execution_count": 17,
     "metadata": {},
     "output_type": "execute_result"
    }
   ],
   "source": [
    "x = symbols('x')\n",
    "x + 1"
   ]
  },
  {
   "attachments": {},
   "cell_type": "markdown",
   "id": "b47d038f",
   "metadata": {},
   "source": [
    ">>> x + 1\n",
    "Traceback (most recent call last):\n",
    "...\n",
    "NameError: name 'x' is not defined\n",
    "\n",
    "Oops! What happened here? We tried to use the variable x, but it tells us\n",
    "that x is not defined. In Python, variables have no meaning until they are\n",
    "defined. SymPy is no different. Unlike many symbolic manipulation systems\n",
    "we may have used, in SymPy, variables are not defined automatically. To define\n",
    "variables, we must use symbols."
   ]
  },
  {
   "cell_type": "code",
   "execution_count": 18,
   "id": "48870ce8",
   "metadata": {},
   "outputs": [
    {
     "data": {
      "text/latex": [
       "$\\displaystyle b$"
      ],
      "text/plain": [
       "b"
      ]
     },
     "execution_count": 18,
     "metadata": {},
     "output_type": "execute_result"
    }
   ],
   "source": [
    "a, b = symbols('b a')\n",
    "a"
   ]
  },
  {
   "cell_type": "code",
   "execution_count": 19,
   "id": "be0bdf37",
   "metadata": {},
   "outputs": [
    {
     "data": {
      "text/latex": [
       "$\\displaystyle a$"
      ],
      "text/plain": [
       "a"
      ]
     },
     "execution_count": 19,
     "metadata": {},
     "output_type": "execute_result"
    }
   ],
   "source": [
    "b"
   ]
  },
  {
   "cell_type": "code",
   "execution_count": 20,
   "id": "79dd8e71",
   "metadata": {},
   "outputs": [
    {
     "data": {
      "text/latex": [
       "$\\displaystyle unrelated + 1$"
      ],
      "text/plain": [
       "unrelated + 1"
      ]
     },
     "execution_count": 20,
     "metadata": {},
     "output_type": "execute_result"
    }
   ],
   "source": [
    "crazy = symbols('unrelated')\n",
    "crazy + 1"
   ]
  },
  {
   "cell_type": "code",
   "execution_count": 21,
   "id": "76fab5d9",
   "metadata": {},
   "outputs": [
    {
     "name": "stdout",
     "output_type": "stream",
     "text": [
      "x + 1\n"
     ]
    }
   ],
   "source": [
    "x = symbols('x')\n",
    "expr = x + 1\n",
    "x = 2\n",
    "print(expr)"
   ]
  },
  {
   "cell_type": "markdown",
   "id": "bac5ca60",
   "metadata": {},
   "source": [
    "Changing x to 2 had no effect on expr. This is because x = 2 changes\n",
    "the Python variable x to 2, but has no effect on the SymPy Symbol x,\n",
    "which was what we used in creating expr. When we created expr, the\n",
    "Python variable x was a Symbol. After we created, it, we changed the\n",
    "Python variable x to 2. But expr remains the same. This behavior is\n",
    "not unique to SymPy. All Python programs work this way: if a variable\n",
    "is changed, expressions that were already created with that variable\n",
    "do not change automatically. For example"
   ]
  },
  {
   "cell_type": "code",
   "execution_count": 23,
   "id": "217b7ac0",
   "metadata": {},
   "outputs": [
    {
     "data": {
      "text/plain": [
       "'abcdef'"
      ]
     },
     "execution_count": 23,
     "metadata": {},
     "output_type": "execute_result"
    }
   ],
   "source": [
    "x = 'abc'\n",
    "expr = x + 'def'\n",
    "x = 'ABC'\n",
    "expr"
   ]
  },
  {
   "cell_type": "code",
   "execution_count": 24,
   "id": "a45b45fd",
   "metadata": {},
   "outputs": [
    {
     "data": {
      "text/latex": [
       "$\\displaystyle 3$"
      ],
      "text/plain": [
       "3"
      ]
     },
     "execution_count": 24,
     "metadata": {},
     "output_type": "execute_result"
    }
   ],
   "source": [
    "# To change the value of a Symbol in an expression, use subs\n",
    "from sympy import*\n",
    "x = symbols('x')\n",
    "expr = x + 1\n",
    "expr.subs(x, 2)"
   ]
  },
  {
   "attachments": {},
   "cell_type": "markdown",
   "id": "e5a25b9c",
   "metadata": {},
   "source": [
    "# Equal signs :\n"
   ]
  },
  {
   "attachments": {},
   "cell_type": "markdown",
   "id": "724bb799",
   "metadata": {},
   "source": [
    "Another very important consequence of the fact that SymPy does not extend Python syntax is that = does not represent equality in SymPy. Rather it is Python variable assignment. This is hard-coded into the Python language, and SymPy makes no attempts to change that.\n",
    "\n",
    "You may think, however, that ==, which is used for equality testing in Python, is used for SymPy as equality. This is not quite correct either. Let us see what happens when we use ==."
   ]
  },
  {
   "cell_type": "code",
   "execution_count": 25,
   "id": "37db7e94",
   "metadata": {},
   "outputs": [
    {
     "data": {
      "text/plain": [
       "False"
      ]
     },
     "execution_count": 25,
     "metadata": {},
     "output_type": "execute_result"
    }
   ],
   "source": [
    "x + 1 == 4"
   ]
  },
  {
   "cell_type": "code",
   "execution_count": 26,
   "id": "293ce720",
   "metadata": {},
   "outputs": [
    {
     "data": {
      "text/latex": [
       "$\\displaystyle x + 1 = 4$"
      ],
      "text/plain": [
       "Eq(x + 1, 4)"
      ]
     },
     "execution_count": 26,
     "metadata": {},
     "output_type": "execute_result"
    }
   ],
   "source": [
    "# There is a separate object, called Eq, which can\n",
    "# be used to create symbolic equalities\n",
    "\n",
    "\"\"\"\n",
    "Instead of treating x + 1 == 4 symbolically, we just\n",
    "got False. In SymPy, == represents exact structural \n",
    "equality testing. This means that a == b means that we\n",
    "are asking if . We always get a bool as the result of ==.\n",
    "\"\"\"\n",
    "\n",
    "Eq(x+1,4) # creating symbolic equalities"
   ]
  },
  {
   "cell_type": "code",
   "execution_count": 27,
   "id": "057d0459",
   "metadata": {},
   "outputs": [
    {
     "name": "stdout",
     "output_type": "stream",
     "text": [
      "False\n"
     ]
    }
   ],
   "source": [
    "Eq ( x + 1 , 4 )\n",
    "print( x+1 == 4 ) # watch out the output: False (Why???)  "
   ]
  },
  {
   "cell_type": "code",
   "execution_count": 28,
   "id": "a585bdc6",
   "metadata": {},
   "outputs": [
    {
     "data": {
      "text/plain": [
       "False"
      ]
     },
     "execution_count": 28,
     "metadata": {},
     "output_type": "execute_result"
    }
   ],
   "source": [
    "(x + 1)**2 == x**2 + 2*x + 1"
   ]
  },
  {
   "attachments": {},
   "cell_type": "markdown",
   "id": "28f6427b",
   "metadata": {},
   "source": [
    "It turns out that when using SymPy as a library, having == test for exact structural equality is far more useful than having it represent symbolic equality, or having it test for mathematical equality. "
   ]
  },
  {
   "attachments": {},
   "cell_type": "markdown",
   "id": "812bbfbe",
   "metadata": {},
   "source": [
    " We have already seen an alternative to representing equalities symbolically, Eq. To test if two things are equal, it is best to recall the basic fact that if , then . Thus, the best way to check if  is to take  and simplify it, and see if it goes to 0. We will learn later that the function to do this is called simplify. This method is not infallible—in fact, it can be theoretically proven that it is impossible to determine if two symbolic expressions are identically equal in general—but for most common expressions, it works quite well."
   ]
  },
  {
   "cell_type": "code",
   "execution_count": 29,
   "id": "48a776a4",
   "metadata": {},
   "outputs": [
    {
     "data": {
      "text/latex": [
       "$\\displaystyle 0$"
      ],
      "text/plain": [
       "0"
      ]
     },
     "execution_count": 29,
     "metadata": {},
     "output_type": "execute_result"
    }
   ],
   "source": [
    "a = (x + 1)**2\n",
    "b = x**2 + 2*x + 1\n",
    "simplify(a - b)"
   ]
  },
  {
   "cell_type": "code",
   "execution_count": 30,
   "id": "69aba08c",
   "metadata": {},
   "outputs": [
    {
     "data": {
      "text/latex": [
       "$\\displaystyle 4 x$"
      ],
      "text/plain": [
       "4*x"
      ]
     },
     "execution_count": 30,
     "metadata": {},
     "output_type": "execute_result"
    }
   ],
   "source": [
    "c = x**2 - 2*x + 1\n",
    "simplify(a - c)"
   ]
  },
  {
   "attachments": {},
   "cell_type": "markdown",
   "id": "32cd8134",
   "metadata": {},
   "source": [
    "# equals :"
   ]
  },
  {
   "cell_type": "code",
   "execution_count": 32,
   "id": "bf6f51bd",
   "metadata": {},
   "outputs": [
    {
     "data": {
      "text/plain": [
       "True"
      ]
     },
     "execution_count": 32,
     "metadata": {},
     "output_type": "execute_result"
    }
   ],
   "source": [
    "# There is also a method called equals that\n",
    "# tests if two expressions are equal by evaluating\n",
    "# them numerically at random points.\n",
    "\n",
    "a = cos(x)**2 - sin(x)**2 # type: ignore\n",
    "b = cos(2*x)\n",
    "a.equals(b)"
   ]
  },
  {
   "cell_type": "markdown",
   "id": "3a6adc65",
   "metadata": {},
   "source": [
    "You may have noticed that we have been using ** for exponentiation instead of the standard ^. That’s because SymPy follows Python’s conventions. In Python, ^ represents logical exclusive or. SymPy follows this convention:"
   ]
  },
  {
   "cell_type": "code",
   "execution_count": 34,
   "id": "2e0e8384",
   "metadata": {},
   "outputs": [
    {
     "data": {
      "text/plain": [
       "False"
      ]
     },
     "execution_count": 34,
     "metadata": {},
     "output_type": "execute_result"
    }
   ],
   "source": [
    "from sympy import*\n",
    "import sympy\n",
    "y  = sympy.symbols('y')\n",
    "True ^ True"
   ]
  },
  {
   "cell_type": "code",
   "execution_count": 35,
   "id": "b0bedd5d",
   "metadata": {},
   "outputs": [
    {
     "data": {
      "text/latex": [
       "$\\displaystyle x \\veebar y$"
      ],
      "text/plain": [
       "x ^ y"
      ]
     },
     "execution_count": 35,
     "metadata": {},
     "output_type": "execute_result"
    }
   ],
   "source": [
    "import sympy\n",
    "x,y = sympy.symbols('x y')\n",
    "Xor(x,y)"
   ]
  },
  {
   "attachments": {},
   "cell_type": "markdown",
   "id": "096d0112",
   "metadata": {},
   "source": [
    "Finally, a small technical discussion on how SymPy works is in order. When you type something like x + 1, the SymPy Symbol x is added to the Python int 1. Python’s operator rules then allow SymPy to tell Python that SymPy objects know how to be added to Python ints, and so 1 is automatically converted to the SymPy Integer object.\n",
    "\n",
    "This sort of operator magic happens automatically behind the scenes, and you rarely need to even know that it is happening. However, there is one exception. Whenever you combine a SymPy object and a SymPy object, or a SymPy object and a Python object, you get a SymPy object, but whenever you combine two Python objects, SymPy never comes into play, and so you get a Python object."
   ]
  },
  {
   "cell_type": "code",
   "execution_count": 36,
   "id": "9a8f24ee",
   "metadata": {},
   "outputs": [
    {
     "data": {
      "text/plain": [
       "sympy.core.numbers.Integer"
      ]
     },
     "execution_count": 36,
     "metadata": {},
     "output_type": "execute_result"
    }
   ],
   "source": [
    "type(Integer(1) + 1)\n"
   ]
  },
  {
   "cell_type": "code",
   "execution_count": 37,
   "id": "d1947bb3",
   "metadata": {},
   "outputs": [
    {
     "data": {
      "text/plain": [
       "int"
      ]
     },
     "execution_count": 37,
     "metadata": {},
     "output_type": "execute_result"
    }
   ],
   "source": [
    "type(1 + 1)"
   ]
  },
  {
   "attachments": {},
   "cell_type": "markdown",
   "id": "8c7887d2",
   "metadata": {},
   "source": [
    "This is usually not a big deal. Python ints work much the same as SymPy Integers, but there is one important exception: division. In SymPy, the division of two Integers gives a Rational:"
   ]
  },
  {
   "cell_type": "code",
   "execution_count": 38,
   "id": "f1dd0eb3",
   "metadata": {},
   "outputs": [
    {
     "data": {
      "text/latex": [
       "$\\displaystyle \\frac{1}{3}$"
      ],
      "text/plain": [
       "1/3"
      ]
     },
     "execution_count": 38,
     "metadata": {},
     "output_type": "execute_result"
    }
   ],
   "source": [
    "Integer(1)/Integer(3)"
   ]
  },
  {
   "cell_type": "code",
   "execution_count": 39,
   "id": "2e7962fd",
   "metadata": {},
   "outputs": [
    {
     "data": {
      "text/plain": [
       "sympy.core.numbers.Rational"
      ]
     },
     "execution_count": 39,
     "metadata": {},
     "output_type": "execute_result"
    }
   ],
   "source": [
    "type(Integer(1)/Integer(3))"
   ]
  },
  {
   "attachments": {},
   "cell_type": "markdown",
   "id": "e14742f8",
   "metadata": {},
   "source": [
    "But in Python / represents either integer division or floating point division, depending on whether you are in Python 2 or Python 3, and depending on whether or not you have run from __future__ import division in Python 2 which is no longer supported from versions above SymPy 1.5.1:"
   ]
  },
  {
   "cell_type": "code",
   "execution_count": 40,
   "id": "e731a289",
   "metadata": {},
   "outputs": [
    {
     "data": {
      "text/plain": [
       "0.5"
      ]
     },
     "execution_count": 40,
     "metadata": {},
     "output_type": "execute_result"
    }
   ],
   "source": [
    "from __future__ import division\n",
    "1/2"
   ]
  },
  {
   "cell_type": "markdown",
   "id": "6ddc0264",
   "metadata": {},
   "source": [
    "To avoid this, we can construct the rational object explicitly"
   ]
  },
  {
   "cell_type": "code",
   "execution_count": 41,
   "id": "364f9313",
   "metadata": {},
   "outputs": [
    {
     "data": {
      "text/latex": [
       "$\\displaystyle \\frac{1}{2}$"
      ],
      "text/plain": [
       "1/2"
      ]
     },
     "execution_count": 41,
     "metadata": {},
     "output_type": "execute_result"
    }
   ],
   "source": [
    "Rational(1, 2)"
   ]
  },
  {
   "attachments": {},
   "cell_type": "markdown",
   "id": "def0882e",
   "metadata": {},
   "source": [
    "This problem also comes up whenever we have a larger symbolic expression with int/int in it. For example:"
   ]
  },
  {
   "cell_type": "code",
   "execution_count": 42,
   "id": "e1e3005e",
   "metadata": {},
   "outputs": [
    {
     "data": {
      "text/latex": [
       "$\\displaystyle x + 0.5$"
      ],
      "text/plain": [
       "x + 0.5"
      ]
     },
     "execution_count": 42,
     "metadata": {},
     "output_type": "execute_result"
    }
   ],
   "source": [
    "x + 1/2"
   ]
  },
  {
   "attachments": {},
   "cell_type": "markdown",
   "id": "a0ea369d",
   "metadata": {},
   "source": [
    "This happens because Python first evaluates 1/2 into 0.5, and then that is cast into a SymPy type when it is added to x. Again, we can get around this by explicitly creating a Rational:"
   ]
  },
  {
   "cell_type": "code",
   "execution_count": 43,
   "id": "99e19519",
   "metadata": {},
   "outputs": [
    {
     "data": {
      "text/latex": [
       "$\\displaystyle x + \\frac{1}{2}$"
      ],
      "text/plain": [
       "x + 1/2"
      ]
     },
     "execution_count": 43,
     "metadata": {},
     "output_type": "execute_result"
    }
   ],
   "source": [
    "x + Rational(1,2)"
   ]
  }
 ],
 "metadata": {
  "kernelspec": {
   "display_name": "Python 3",
   "language": "python",
   "name": "python3"
  },
  "language_info": {
   "codemirror_mode": {
    "name": "ipython",
    "version": 3
   },
   "file_extension": ".py",
   "mimetype": "text/x-python",
   "name": "python",
   "nbconvert_exporter": "python",
   "pygments_lexer": "ipython3",
   "version": "3.10.10"
  },
  "vscode": {
   "interpreter": {
    "hash": "ba8088891657b5efda0065fd47e9ddf95b93561eda1c2203a8e0bf6b7a7f7133"
   }
  }
 },
 "nbformat": 4,
 "nbformat_minor": 5
}
