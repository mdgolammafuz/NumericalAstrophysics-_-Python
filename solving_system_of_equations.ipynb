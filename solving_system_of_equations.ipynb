{
 "cells": [
  {
   "cell_type": "code",
   "execution_count": 1,
   "id": "73cc5957",
   "metadata": {
    "collapsed": true
   },
   "outputs": [
    {
     "name": "stdout",
     "output_type": "stream",
     "text": [
      "[[2 3 1]\n",
      " [3 4 2]\n",
      " [1 1 1]]\n",
      "[17 25  6]\n"
     ]
    }
   ],
   "source": [
    "# Building linear equations : A x = b\n",
    "\n",
    "import numpy as np\n",
    "\n",
    "A = np.array([[2, 3, 1], [3, 4, 2], [1, 1, 1]]) # building a 2-D array\n",
    "b = np.array([17, 25, 6])   # building a 1-D array\n",
    "\n",
    "print(A)\n",
    "print(b)"
   ]
  },
  {
   "cell_type": "code",
   "execution_count": 2,
   "id": "15b67275",
   "metadata": {
    "collapsed": true
   },
   "outputs": [
    {
     "name": "stdout",
     "output_type": "stream",
     "text": [
      "[5. 2. 1.]\n"
     ]
    }
   ],
   "source": [
    "# Solving the equations : A x = b\n",
    "\n",
    "import numpy as np\n",
    "\n",
    "A = np.array([[2, 3, 1], [3, 4, 2], [1, 1, -1]])\n",
    "b = np.array([17, 25, 6])\n",
    "\n",
    "x = np.linalg.solve(A, b)\n",
    "print(x)"
   ]
  },
  {
   "cell_type": "code",
   "execution_count": 3,
   "id": "ef43dfe6",
   "metadata": {
    "collapsed": true
   },
   "outputs": [
    {
     "name": "stdout",
     "output_type": "stream",
     "text": [
      "[17. 25.  6.]\n"
     ]
    }
   ],
   "source": [
    "# Checking the solution\n",
    "\n",
    "import numpy as np\n",
    "\n",
    "A = np.array([[2, 3, 1], [3, 4, 2], [1, 1, -1]])\n",
    "b = np.array([17, 25, 6])\n",
    "\n",
    "x = np.linalg.solve(A, b)\n",
    "print(np.dot(A, x))"
   ]
  },
  {
   "cell_type": "code",
   "execution_count": 4,
   "id": "e857cc0a",
   "metadata": {},
   "outputs": [
    {
     "name": "stdout",
     "output_type": "stream",
     "text": [
      "[5. 2. 1.]\n"
     ]
    }
   ],
   "source": [
    "# Solving with Inverse x = A^-1 b\n",
    "\n",
    "import numpy as np\n",
    "\n",
    "A = np.array([[2, 3, 1], [3, 4, 2], [1, 1, -1]])\n",
    "b = np.array([17, 25, 6])\n",
    "\n",
    "Ainv = np.linalg.inv(A)\n",
    "x =  np.dot(Ainv, b)\n",
    "\n",
    "print(x)"
   ]
  },
  {
   "cell_type": "code",
   "execution_count": 5,
   "id": "f2101e5c",
   "metadata": {},
   "outputs": [
    {
     "name": "stdout",
     "output_type": "stream",
     "text": [
      "2.0000000000000004\n"
     ]
    }
   ],
   "source": [
    "# Determinant\n",
    "\n",
    "import numpy as np\n",
    "\n",
    "A = np.array([[2, 3, 1], [3, 4, 2], [1, 1, -1]])\n",
    "print(np.linalg.det(A))"
   ]
  },
  {
   "cell_type": "code",
   "execution_count": 6,
   "id": "b7649890",
   "metadata": {},
   "outputs": [
    {
     "name": "stdout",
     "output_type": "stream",
     "text": [
      "5\n"
     ]
    }
   ],
   "source": [
    "# Trace\n",
    "\n",
    "import numpy as np\n",
    "\n",
    "A = np.array([[2, 3, 1], [3, 4, 2], [1, 1, -1]])\n",
    "print(np.trace(A))"
   ]
  },
  {
   "cell_type": "code",
   "execution_count": 7,
   "id": "5eb13e33",
   "metadata": {},
   "outputs": [
    {
     "name": "stdout",
     "output_type": "stream",
     "text": [
      "[[  2   3   5]\n",
      " [  4  98   2]\n",
      " [ 11  12 -13]]\n",
      "After Transpose\n",
      "[[  2   4  11]\n",
      " [  3  98  12]\n",
      " [  5   2 -13]]\n"
     ]
    }
   ],
   "source": [
    "# Transpose\n",
    "\n",
    "import numpy as np\n",
    "\n",
    "A = np.array([[2, 3, 5], [4, 98, 2], [11, 12, -13]])\n",
    "print(A)\n",
    "print(\"After Transpose\")\n",
    "print(np.transpose(A))"
   ]
  },
  {
   "cell_type": "code",
   "execution_count": 8,
   "id": "5f3a41e1",
   "metadata": {},
   "outputs": [
    {
     "name": "stdout",
     "output_type": "stream",
     "text": [
      "Norm of v is 5.0\n",
      "Norm of M is 100.47885349664377\n"
     ]
    }
   ],
   "source": [
    "\"\"\"\n",
    "Euclidean norm\n",
    "The norm() method from the linalg submodule is used to calculate the Euclidean norm of a matrix.\n",
    "\"\"\"\n",
    "\n",
    "import numpy as np\n",
    "\n",
    "v = np.array([0, 3, 4])\n",
    "M = np.array([[2, 3, 5], [4, 98, 2], [11, 12, -13]])\n",
    "\n",
    "print(\"Norm of v is\", np.linalg.norm(v))\n",
    "print(\"Norm of M is\", np.linalg.norm(M))"
   ]
  },
  {
   "cell_type": "code",
   "execution_count": 9,
   "id": "5ba991f2",
   "metadata": {},
   "outputs": [
    {
     "name": "stdout",
     "output_type": "stream",
     "text": [
      "[13.96427447 -1.71352338 -0.2507511 ]\n"
     ]
    }
   ],
   "source": [
    "# Eigen Values\n",
    "\n",
    "import numpy as np\n",
    "\n",
    "A = np.array([[1, 5, 8], [2, 2, 6], [2, 5, 9]])\n",
    "\n",
    "print(np.linalg.eigvals(A))"
   ]
  },
  {
   "cell_type": "code",
   "execution_count": 10,
   "id": "e59d11f8",
   "metadata": {
    "collapsed": true
   },
   "outputs": [
    {
     "name": "stdout",
     "output_type": "stream",
     "text": [
      "Eigenvalues [1. 2. 9.]\n",
      "Eigenvectors [[1. 0. 0.]\n",
      " [0. 1. 0.]\n",
      " [0. 0. 1.]]\n"
     ]
    },
    {
     "data": {
      "text/plain": [
       "'\\neig returns normalized eigenvectors.\\nThe eigenvectors corresponding to the n^{th}\\nn th eigenvalue, stored in evals[n], is the n^{th}\\nn th column in evecs, i.e., evecs[:,n].\\n'"
      ]
     },
     "execution_count": 10,
     "metadata": {},
     "output_type": "execute_result"
    }
   ],
   "source": [
    "# Both Eigen Values and Eigen Vectors\n",
    "\n",
    "import numpy as np\n",
    "\n",
    "A = np.array([[1, 0, 0], [0, 2, 0], [0, 0, 9]])\n",
    "\n",
    "evals, evecs = np.linalg.eig(A)\n",
    "\n",
    "print(\"Eigenvalues\", evals)\n",
    "print(\"Eigenvectors\", evecs)\n",
    "\n",
    "\"\"\"\n",
    "eig returns normalized eigenvectors.\n",
    "The eigenvectors corresponding to the n^{th}\n",
    "n th eigenvalue, stored in evals[n], is the n^{th}\n",
    "n th column in evecs, i.e., evecs[:,n].\n",
    "\"\"\""
   ]
  },
  {
   "cell_type": "code",
   "execution_count": 11,
   "id": "96f21aec",
   "metadata": {},
   "outputs": [
    {
     "name": "stdout",
     "output_type": "stream",
     "text": [
      "[[-1.+0.j  1.-2.j  0.+0.j]\n",
      " [ 1.+2.j  0.+0.j  0.-1.j]\n",
      " [ 0.+0.j  0.+1.j  1.+0.j]]\n",
      "Eigenvalues [-2.89510652  0.60270493  2.29240159]\n",
      "-----\n",
      "Eigenvectors [[-0.75257583+0.j         -0.45794385+0.j         -0.47319874+0.j        ]\n",
      " [ 0.28524227+0.57048455j -0.14678977-0.29357955j -0.31159205-0.62318411j]\n",
      " [ 0.14646186-0.07323093j -0.73894586+0.36947293j  0.48219076-0.24109538j]]\n"
     ]
    }
   ],
   "source": [
    "\"\"\"\n",
    "For hermitian matrices, we use the eigh() method. The eigenvalues returned\n",
    "here are sorted as well. It also uses a faster underlying algorithm that\n",
    "takes advantage of the fact that the matrix is symmetric. If we know that\n",
    "our matrix is symmetric, use this function.\n",
    "\n",
    "Note: eigh() doesn’t check if your matrix is symmetric. By default, it just\n",
    "takes the lower triangular part of the matrix and assumes that the upper\n",
    "triangular part is defined by the symmetry of the matrix.\n",
    "\n",
    "eig() works for general matrices and therefore uses a slower algorithm\n",
    "\"\"\"\n",
    "\n",
    "import numpy as np\n",
    "\n",
    "a = np.array([[-1, 1-2j, 0],[1+2j, 0, 0-1j],[0, 1j, 1]], dtype=complex) # Hermitian matrix\n",
    "evals, evecs = np.linalg.eigh(a)\n",
    "\n",
    "print(a)\n",
    "print(\"Eigenvalues\", evals)\n",
    "print(\"-----\")\n",
    "print(\"Eigenvectors\", evecs)"
   ]
  },
  {
   "cell_type": "code",
   "execution_count": 12,
   "id": "6081ed9d",
   "metadata": {},
   "outputs": [],
   "source": [
    "# Solving Equation with Sparse Matrices"
   ]
  },
  {
   "cell_type": "code",
   "execution_count": 13,
   "id": "9f04027d",
   "metadata": {},
   "outputs": [
    {
     "name": "stdout",
     "output_type": "stream",
     "text": [
      "[[2 3 0 0]\n",
      " [1 2 3 0]\n",
      " [0 1 2 3]\n",
      " [0 0 1 2]]\n",
      "Compressed Sparse Column\n",
      "  (0, 0)\t2\n",
      "  (1, 0)\t1\n",
      "  (0, 1)\t3\n",
      "  (1, 1)\t2\n",
      "  (2, 1)\t1\n",
      "  (1, 2)\t3\n",
      "  (2, 2)\t2\n",
      "  (3, 2)\t1\n",
      "  (2, 3)\t3\n",
      "  (3, 3)\t2\n"
     ]
    }
   ],
   "source": [
    "# Dense to sparse \n",
    "\n",
    "import scipy.sparse as sp\n",
    "import numpy as np\n",
    "\n",
    "M = np.array([[2, 3, 0, 0], [1, 2, 3, 0], [0, 1, 2, 3], [0, 0, 1, 2]])\n",
    "print(M)\n",
    "\n",
    "sparse_column = sp.csc_matrix(M) \n",
    "print(\"Compressed Sparse Column\")\n",
    "print(sparse_column)"
   ]
  },
  {
   "cell_type": "code",
   "execution_count": 14,
   "id": "92f80f4d",
   "metadata": {},
   "outputs": [
    {
     "name": "stdout",
     "output_type": "stream",
     "text": [
      "[[2 3 0 0]\n",
      " [1 2 3 0]\n",
      " [0 1 2 3]\n",
      " [0 0 1 2]]\n",
      "Compressed Sparse Row\n",
      "  (0, 0)\t2\n",
      "  (0, 1)\t3\n",
      "  (1, 0)\t1\n",
      "  (1, 1)\t2\n",
      "  (1, 2)\t3\n",
      "  (2, 1)\t1\n",
      "  (2, 2)\t2\n",
      "  (2, 3)\t3\n",
      "  (3, 2)\t1\n",
      "  (3, 3)\t2\n"
     ]
    }
   ],
   "source": [
    "import scipy.sparse as sp\n",
    "import numpy as np\n",
    "\n",
    "M = np.array([[2, 3, 0, 0], [1, 2, 3, 0], [0, 1, 2, 3], [0, 0, 1, 2]])\n",
    "print(M)\n",
    "\n",
    "sparse_row = sp.csr_matrix(M) \n",
    "print(\"Compressed Sparse Row\")\n",
    "print(sparse_row)"
   ]
  },
  {
   "cell_type": "code",
   "execution_count": 15,
   "id": "9c8cfc1b",
   "metadata": {},
   "outputs": [
    {
     "name": "stdout",
     "output_type": "stream",
     "text": [
      "[[2 3 0 0]\n",
      " [1 2 3 0]\n",
      " [0 1 2 3]\n",
      " [0 0 1 2]]\n",
      "Compressed Sparse Row\n",
      "  (0, 0)\t2\n",
      "  (0, 1)\t3\n",
      "  (1, 0)\t1\n",
      "  (1, 1)\t2\n",
      "  (1, 2)\t3\n",
      "  (2, 1)\t1\n",
      "  (2, 2)\t2\n",
      "  (2, 3)\t3\n",
      "  (3, 2)\t1\n",
      "  (3, 3)\t2\n",
      "Dense Matrix\n",
      "[[2 3 0 0]\n",
      " [1 2 3 0]\n",
      " [0 1 2 3]\n",
      " [0 0 1 2]]\n"
     ]
    }
   ],
   "source": [
    "# SParse to dense\n",
    "\n",
    "import scipy.sparse as sp\n",
    "import numpy as np\n",
    "\n",
    "M = np.array([[2, 3, 0, 0], [1, 2, 3, 0], [0, 1, 2, 3], [0, 0, 1, 2]])\n",
    "print(M)\n",
    "\n",
    "sparse_row = sp.csr_matrix(M) \n",
    "print(\"Compressed Sparse Row\")\n",
    "print(sparse_row)\n",
    "print(\"Dense Matrix\")\n",
    "print(sparse_row.todense())"
   ]
  },
  {
   "cell_type": "code",
   "execution_count": 16,
   "id": "9aa0162b",
   "metadata": {},
   "outputs": [
    {
     "name": "stdout",
     "output_type": "stream",
     "text": [
      "[[ 2  3  1]\n",
      " [ 3  4  2]\n",
      " [ 1  1 -1]]\n",
      "  (0, 0)\t2\n",
      "  (1, 0)\t3\n",
      "  (2, 0)\t1\n",
      "  (0, 1)\t3\n",
      "  (1, 1)\t4\n",
      "  (2, 1)\t1\n",
      "  (0, 2)\t1\n",
      "  (1, 2)\t2\n",
      "  (2, 2)\t-1\n",
      "[17 25  6]\n",
      "[5. 2. 1.]\n",
      "[17. 25.  6.]\n"
     ]
    }
   ],
   "source": [
    "# Solving equations iwth sparse matrices\n",
    "\n",
    "import numpy as np\n",
    "import scipy.sparse as sp\n",
    "from scipy.sparse.linalg import spsolve \n",
    "\n",
    "M = np.array([[2, 3, 1], [3, 4, 2], [1, 1, -1]])\n",
    "print(M)\n",
    "A = sp.csc_matrix(M)    # conversion to sparse matrix\n",
    "print(A)\n",
    "\n",
    "b = np.array([17, 25, 6])\n",
    "print(b)\n",
    "\n",
    "x = spsolve(A, b)       # solving the system of linear equation\n",
    "print(x)\n",
    "\n",
    "print(A * x)        # checking the solution"
   ]
  },
  {
   "cell_type": "markdown",
   "id": "a69f64d1",
   "metadata": {},
   "source": [
    "Task :\n",
    "\n",
    "In this exercise, you will fit a wave by finding the unknown parameters of the equation\n",
    "\n",
    "y=a\\space sin(\\pi t)+b\\space sin(2\\pi t)+c\\space sin(3\\pi t)+d\\space sin(4\\pi t)\n",
    "y=a sin(πt)+b sin(2πt)+c sin(3πt)+d sin(4πt)\n",
    "\n",
    "Use the given data.\n",
    "\n",
    "\n",
    "Problem statement\n",
    "By substituting the values given above, form a system of four linear equations and solve for the unknown parameters: a, b, c\n",
    "a,b,c and d\n",
    "\n",
    "Create a plot of the wave for t\n",
    "\n",
    "Show the four measurements given above with dots. Add legends to your graphs as well."
   ]
  },
  {
   "cell_type": "code",
   "execution_count": 17,
   "id": "2ead7777",
   "metadata": {},
   "outputs": [
    {
     "data": {
      "text/plain": [
       "'\\nIn lines 9 - 12, we are creating a 2-D matrix to solve the system of 4 linear equations. This matrix is formed using:\\n\\nWe are solving the equation in line 15 using the solve method from the linalg submodule in numpy.\\n\\nIn line 19, we create an equally spaced array for t ranging from 0 to 1, with length 100.\\n\\nIn lines 20 - 21, we use t and the solution of the equation sol to plot the wave.\\n\\nIn lines 27 - 28, we are plotting the initial points, tp and yp.\\n'"
      ]
     },
     "execution_count": 17,
     "metadata": {},
     "output_type": "execute_result"
    }
   ],
   "source": [
    "\"\"\"\n",
    "In lines 9 - 12, we are creating a 2-D matrix to solve the system of 4 linear equations. This matrix is formed using:\n",
    "\n",
    "We are solving the equation in line 15 using the solve method from the linalg submodule in numpy.\n",
    "\n",
    "In line 19, we create an equally spaced array for t ranging from 0 to 1, with length 100.\n",
    "\n",
    "In lines 20 - 21, we use t and the solution of the equation sol to plot the wave.\n",
    "\n",
    "In lines 27 - 28, we are plotting the initial points, tp and yp.\n",
    "\"\"\""
   ]
  },
  {
   "cell_type": "code",
   "execution_count": 18,
   "id": "e41c6322",
   "metadata": {},
   "outputs": [
    {
     "name": "stdout",
     "output_type": "stream",
     "text": [
      "a, b, c, d:  [ 1.  3. -1. -2.]\n"
     ]
    },
    {
     "data": {
      "image/png": "[encoded data removed]",
      "text/plain": [
       "<Figure size 640x480 with 1 Axes>"
      ]
     },
     "metadata": {},
     "output_type": "display_data"
    }
   ],
   "source": [
    "import numpy as np\n",
    "import matplotlib.pyplot as plt\n",
    "\n",
    "# setting up the equation\n",
    "tp = np.array([0.25, 0.5, 0.75, 1])\n",
    "yp = np.array([3, 2, -3, 0])\n",
    "A = np.zeros((4, 4))\n",
    "rhs = np.zeros(4)\n",
    "for i in range(4):\n",
    "  A[i] = np.sin(1 * np.pi * tp[i]), np.sin(2 * np.pi * tp[i]), \\\n",
    "      np.sin(3 * np.pi * tp[i]), np.sin(4 * np.pi * tp[i])  # Store one row at a time\n",
    "  rhs[i] = yp[i]\n",
    "\n",
    "# Solving the equation\n",
    "sol = np.linalg.solve(A, rhs)\n",
    "print('a, b, c, d: ', sol)\n",
    "\n",
    "# plotting the wave\n",
    "t = np.linspace(0, 1, 100)\n",
    "y = sol[0] * np.sin(1 * np.pi * t) + sol[1] * np.sin(2 * np.pi * t) + \\\n",
    "    sol[2] * np.sin(3 * np.pi * t) + sol[3] * np.sin(4 * np.pi * t)\n",
    "plt.plot(t, y, 'b', label='wave')\n",
    "plt.xlabel('t')\n",
    "plt.ylabel('y')\n",
    "\n",
    "# plotting the initial points\n",
    "plt.plot(tp, yp, 'ro', label='data')\n",
    "plt.legend(loc='best');\n",
    "\n",
    "# saving figure\n",
    "# plt.savefig('output/wave.png') # Have to fix an issue in Jupyter"
   ]
  },
  {
   "cell_type": "code",
   "execution_count": null,
   "id": "a2642491",
   "metadata": {},
   "outputs": [],
   "source": []
  }
 ],
 "metadata": {
  "kernelspec": {
   "display_name": "Python 3",
   "language": "python",
   "name": "python3"
  },
  "language_info": {
   "codemirror_mode": {
    "name": "ipython",
    "version": 3
   },
   "file_extension": ".py",
   "mimetype": "text/x-python",
   "name": "python",
   "nbconvert_exporter": "python",
   "pygments_lexer": "ipython3",
   "version": "3.10.7 (tags/v3.10.7:6cc6b13, Sep  5 2022, 14:08:36) [MSC v.1933 64 bit (AMD64)]"
  },
  "vscode": {
   "interpreter": {
    "hash": "ba8088891657b5efda0065fd47e9ddf95b93561eda1c2203a8e0bf6b7a7f7133"
   }
  }
 },
 "nbformat": 4,
 "nbformat_minor": 5
}
